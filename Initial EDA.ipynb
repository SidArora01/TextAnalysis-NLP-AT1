{
 "cells": [
  {
   "cell_type": "code",
   "execution_count": 130,
   "metadata": {},
   "outputs": [],
   "source": [
    "import pandas as pd\n",
    "import numpy as np\n",
    "import matplotlib.pyplot as plt\n",
    "import seaborn as sns\n",
    "import nltk\n",
    "import re\n",
    "import string\n",
    "\n",
    "from nltk.corpus import stopwords\n",
    "from nltk.tokenize import word_tokenize\n",
    "from nltk.stem import WordNetLemmatizer"
   ]
  },
  {
   "cell_type": "code",
   "execution_count": 131,
   "metadata": {},
   "outputs": [
    {
     "name": "stderr",
     "output_type": "stream",
     "text": [
      "<>:1: SyntaxWarning: invalid escape sequence '\\D'\n",
      "<>:1: SyntaxWarning: invalid escape sequence '\\D'\n",
      "C:\\Users\\Devika Arora\\AppData\\Local\\Temp\\ipykernel_12468\\2545082455.py:1: SyntaxWarning: invalid escape sequence '\\D'\n",
      "  file_path = \"D:\\Desktop\\Sem 3\\ANLP\\TextAnalysis\\Australian Skills Classification - December 2023.xlsx\"\n"
     ]
    }
   ],
   "source": [
    "\n",
    "file_path = \"D:\\Desktop\\Sem 3\\ANLP\\TextAnalysis\\Australian Skills Classification - December 2023.xlsx\"\n",
    "sheets = [\"Occupation descriptions\", \"Core competency descriptions\", \"Specialist tasks hierarchy\", \"Tech tools heirarchy\", \"Core competencies\", \"Specialist tasks data\", \"Technology tools\"]\n",
    "\n",
    "occupation_df = pd.read_excel(file_path, sheet_name=sheets[0])\n",
    "cc_desc_df = pd.read_excel(file_path, sheet_name=sheets[1])\n",
    "cc_df = pd.read_excel(file_path, sheet_name=sheets[4])\n",
    "st_hier_df = pd.read_excel(file_path, sheet_name=sheets[2])\n",
    "st_df = pd.read_excel(file_path, sheet_name=sheets[5])\n",
    "tt_hier_df = pd.read_excel(file_path, sheet_name=sheets[3])\n",
    "tt_df = pd.read_excel(file_path, sheet_name=sheets[6])\n"
   ]
  },
  {
   "cell_type": "code",
   "execution_count": 132,
   "metadata": {},
   "outputs": [
    {
     "name": "stdout",
     "output_type": "stream",
     "text": [
      "occupation_df columns: ['Occupation Type', 'ANZSCO Code', 'Sub-Profile Code', 'ANZSCO Title', 'ANZSCO Description']\n",
      "cc_desc_df columns: ['Core Competency', 'Core Competency Description', 'Score', 'Proficiency Level', 'Anchor Value']\n",
      "cc_df columns: ['Occupation Type', 'ANZSCO Code', 'Sub-Profile Code', 'ANZSCO Title', 'Core Competency', 'Score', 'Proficiency Level', 'Anchor Value']\n",
      "st_hier_df columns: ['Specialist Task', 'Specialist Cluster', 'Cluster Family', 'Skill Statement']\n",
      "st_df columns: ['Occupation Type', 'ANZSCO Code', 'Sub-Profile Code', 'ANZSCO Title', 'Specialist Task', '% of time spent on task', 'Emerging/\\nTrending Flag', 'Specialist Cluster', ' % of time spent on cluster', 'Cluster Family', '% of time spent on family', 'Skills Statement']\n",
      "tt_hier_df columns: ['Technology Tool Category', 'Technology Tool Category Description', 'Technology Tool', 'Technology Tool Description', 'Technology Tool Extended Description']\n",
      "tt_df columns: ['Occupation Type', 'ANZSCO Code', 'Sub-Profile Code', 'ANZSCO Title', 'Technology Tool', 'Emerging/Trending Flag']\n"
     ]
    }
   ],
   "source": [
    "df_list = [\n",
    "    (\"occupation_df\", occupation_df),\n",
    "    (\"cc_desc_df\", cc_desc_df),\n",
    "    (\"cc_df\", cc_df),\n",
    "    (\"st_hier_df\", st_hier_df),\n",
    "    (\"st_df\", st_df),\n",
    "    (\"tt_hier_df\", tt_hier_df),\n",
    "    (\"tt_df\", tt_df),\n",
    "]\n",
    "\n",
    "for name, df in df_list:\n",
    "    print(f\"{name} columns: {df.columns.tolist()}\")\n"
   ]
  },
  {
   "cell_type": "code",
   "execution_count": 133,
   "metadata": {},
   "outputs": [
    {
     "name": "stderr",
     "output_type": "stream",
     "text": [
      "C:\\Users\\Devika Arora\\AppData\\Local\\Temp\\ipykernel_12468\\202770300.py:6: FutureWarning: DataFrame.applymap has been deprecated. Use DataFrame.map instead.\n",
      "  df[:] = df.applymap(lambda x: x.lower() if isinstance(x, str) else x)\n"
     ]
    }
   ],
   "source": [
    "#cc_merged_df = cc_merged_df.applymap(lambda x: x.lower() if isinstance(x, str) else x)\n",
    "#st_merged_df = st_merged_df.applymap(lambda x: x.lower() if isinstance(x, str) else x)\n",
    "#tt_merged_df = tt_merged_df.applymap(lambda x: x.lower() if isinstance(x, str) else x)\n",
    "\n",
    "for name, df in df_list:\n",
    "    df[:] = df.applymap(lambda x: x.lower() if isinstance(x, str) else x)\n",
    "\n"
   ]
  },
  {
   "cell_type": "code",
   "execution_count": 134,
   "metadata": {},
   "outputs": [
    {
     "name": "stderr",
     "output_type": "stream",
     "text": [
      "C:\\Users\\Devika Arora\\AppData\\Local\\Temp\\ipykernel_12468\\835941706.py:10: FutureWarning: DataFrame.applymap has been deprecated. Use DataFrame.map instead.\n",
      "  df[:] = df.applymap(remove_stopwords)\n"
     ]
    }
   ],
   "source": [
    "stop_words = set(stopwords.words(\"english\"))\n",
    "\n",
    "def remove_stopwords(text):\n",
    "    if isinstance(text, str):  \n",
    "        return \" \".join(word for word in text.split() if word.lower() not in stop_words)\n",
    "    return text  \n",
    "\n",
    "\n",
    "for name, df in df_list:\n",
    "    df[:] = df.applymap(remove_stopwords)"
   ]
  },
  {
   "cell_type": "code",
   "execution_count": 135,
   "metadata": {},
   "outputs": [
    {
     "name": "stderr",
     "output_type": "stream",
     "text": [
      "C:\\Users\\Devika Arora\\AppData\\Local\\Temp\\ipykernel_12468\\3019749839.py:2: FutureWarning: DataFrame.applymap has been deprecated. Use DataFrame.map instead.\n",
      "  df.update(df.applymap(lambda x: x.replace(',', '') if isinstance(x, str) else x))\n",
      "C:\\Users\\Devika Arora\\AppData\\Local\\Temp\\ipykernel_12468\\3019749839.py:2: FutureWarning: DataFrame.applymap has been deprecated. Use DataFrame.map instead.\n",
      "  df.update(df.applymap(lambda x: x.replace(',', '') if isinstance(x, str) else x))\n",
      "C:\\Users\\Devika Arora\\AppData\\Local\\Temp\\ipykernel_12468\\3019749839.py:2: FutureWarning: DataFrame.applymap has been deprecated. Use DataFrame.map instead.\n",
      "  df.update(df.applymap(lambda x: x.replace(',', '') if isinstance(x, str) else x))\n",
      "C:\\Users\\Devika Arora\\AppData\\Local\\Temp\\ipykernel_12468\\3019749839.py:2: FutureWarning: DataFrame.applymap has been deprecated. Use DataFrame.map instead.\n",
      "  df.update(df.applymap(lambda x: x.replace(',', '') if isinstance(x, str) else x))\n",
      "C:\\Users\\Devika Arora\\AppData\\Local\\Temp\\ipykernel_12468\\3019749839.py:2: FutureWarning: DataFrame.applymap has been deprecated. Use DataFrame.map instead.\n",
      "  df.update(df.applymap(lambda x: x.replace(',', '') if isinstance(x, str) else x))\n",
      "C:\\Users\\Devika Arora\\AppData\\Local\\Temp\\ipykernel_12468\\3019749839.py:2: FutureWarning: DataFrame.applymap has been deprecated. Use DataFrame.map instead.\n",
      "  df.update(df.applymap(lambda x: x.replace(',', '') if isinstance(x, str) else x))\n",
      "C:\\Users\\Devika Arora\\AppData\\Local\\Temp\\ipykernel_12468\\3019749839.py:2: FutureWarning: DataFrame.applymap has been deprecated. Use DataFrame.map instead.\n",
      "  df.update(df.applymap(lambda x: x.replace(',', '') if isinstance(x, str) else x))\n"
     ]
    }
   ],
   "source": [
    "for name, df in df_list:\n",
    "    df.update(df.applymap(lambda x: x.replace(',', '') if isinstance(x, str) else x))\n"
   ]
  },
  {
   "cell_type": "code",
   "execution_count": 136,
   "metadata": {},
   "outputs": [
    {
     "name": "stderr",
     "output_type": "stream",
     "text": [
      "C:\\Users\\Devika Arora\\AppData\\Local\\Temp\\ipykernel_12468\\4139690721.py:2: FutureWarning: DataFrame.applymap has been deprecated. Use DataFrame.map instead.\n",
      "  df.update(df.applymap(lambda x: x.strip() if isinstance(x, str) else x))\n",
      "C:\\Users\\Devika Arora\\AppData\\Local\\Temp\\ipykernel_12468\\4139690721.py:2: FutureWarning: DataFrame.applymap has been deprecated. Use DataFrame.map instead.\n",
      "  df.update(df.applymap(lambda x: x.strip() if isinstance(x, str) else x))\n",
      "C:\\Users\\Devika Arora\\AppData\\Local\\Temp\\ipykernel_12468\\4139690721.py:2: FutureWarning: DataFrame.applymap has been deprecated. Use DataFrame.map instead.\n",
      "  df.update(df.applymap(lambda x: x.strip() if isinstance(x, str) else x))\n",
      "C:\\Users\\Devika Arora\\AppData\\Local\\Temp\\ipykernel_12468\\4139690721.py:2: FutureWarning: DataFrame.applymap has been deprecated. Use DataFrame.map instead.\n",
      "  df.update(df.applymap(lambda x: x.strip() if isinstance(x, str) else x))\n",
      "C:\\Users\\Devika Arora\\AppData\\Local\\Temp\\ipykernel_12468\\4139690721.py:2: FutureWarning: DataFrame.applymap has been deprecated. Use DataFrame.map instead.\n",
      "  df.update(df.applymap(lambda x: x.strip() if isinstance(x, str) else x))\n",
      "C:\\Users\\Devika Arora\\AppData\\Local\\Temp\\ipykernel_12468\\4139690721.py:2: FutureWarning: DataFrame.applymap has been deprecated. Use DataFrame.map instead.\n",
      "  df.update(df.applymap(lambda x: x.strip() if isinstance(x, str) else x))\n",
      "C:\\Users\\Devika Arora\\AppData\\Local\\Temp\\ipykernel_12468\\4139690721.py:2: FutureWarning: DataFrame.applymap has been deprecated. Use DataFrame.map instead.\n",
      "  df.update(df.applymap(lambda x: x.strip() if isinstance(x, str) else x))\n"
     ]
    }
   ],
   "source": [
    "for name, df in df_list:\n",
    "    df.update(df.applymap(lambda x: x.strip() if isinstance(x, str) else x))"
   ]
  },
  {
   "cell_type": "markdown",
   "metadata": {},
   "source": [
    "### Occupation Df"
   ]
  },
  {
   "cell_type": "code",
   "execution_count": 137,
   "metadata": {},
   "outputs": [
    {
     "name": "stdout",
     "output_type": "stream",
     "text": [
      "<class 'pandas.core.frame.DataFrame'>\n",
      "RangeIndex: 1650 entries, 0 to 1649\n",
      "Data columns (total 5 columns):\n",
      " #   Column              Non-Null Count  Dtype \n",
      "---  ------              --------------  ----- \n",
      " 0   Occupation Type     1650 non-null   object\n",
      " 1   ANZSCO Code         1650 non-null   int64 \n",
      " 2   Sub-Profile Code    472 non-null    object\n",
      " 3   ANZSCO Title        1650 non-null   object\n",
      " 4   ANZSCO Description  1650 non-null   object\n",
      "dtypes: int64(1), object(4)\n",
      "memory usage: 64.6+ KB\n"
     ]
    }
   ],
   "source": [
    "occupation_df.info()"
   ]
  },
  {
   "cell_type": "code",
   "execution_count": 138,
   "metadata": {},
   "outputs": [
    {
     "name": "stdout",
     "output_type": "stream",
     "text": [
      "There are 5 types of Occupations listed in ACS\n",
      "These occupations are: ['anzsco 4' 'anzsco 6' 'specialisation' 'nec category occupation'\n",
      " 'nec category']\n"
     ]
    }
   ],
   "source": [
    "print(\"There are\",occupation_df['Occupation Type'].nunique(), \"types of Occupations listed in ACS\")\n",
    "print('These occupations are:', occupation_df['Occupation Type'].unique())"
   ]
  },
  {
   "cell_type": "code",
   "execution_count": 139,
   "metadata": {},
   "outputs": [
    {
     "name": "stdout",
     "output_type": "stream",
     "text": [
      "There are 1178 different occupations listed\n"
     ]
    }
   ],
   "source": [
    "print(\"There are\",occupation_df['ANZSCO Code'].nunique(), \"different occupations listed\")"
   ]
  },
  {
   "cell_type": "code",
   "execution_count": null,
   "metadata": {},
   "outputs": [
    {
     "data": {
      "image/png": "[encoded data removed]",
      "text/plain": [
       "<Figure size 1200x600 with 1 Axes>"
      ]
     },
     "metadata": {},
     "output_type": "display_data"
    }
   ],
   "source": [
    "import matplotlib.pyplot as plt\n",
    "\n",
    "\n",
    "occupation_counts = occupation_df.groupby('Occupation Type')['ANZSCO Code'].nunique()\n",
    "\n",
    "\n",
    "occupation_counts = occupation_counts.sort_values()\n",
    "\n",
    "\n",
    "plt.figure(figsize=(12, 6))\n",
    "ax = occupation_counts.plot(kind='barh', color='skyblue')\n",
    "\n",
    "\n",
    "for index, value in enumerate(occupation_counts):\n",
    "    ax.text(value + 0.5, index, str(value), va='center', fontsize=10)\n",
    "\n",
    "plt.xlabel(\"Number of Unique ANZSCO Codes\")\n",
    "plt.ylabel(\"Occupation Type\")\n",
    "plt.title(\"Unique ANZSCO Codes per Occupation Type\")\n",
    "plt.show()\n"
   ]
  },
  {
   "cell_type": "markdown",
   "metadata": {},
   "source": [
    "### Core Competency"
   ]
  },
  {
   "cell_type": "code",
   "execution_count": 141,
   "metadata": {},
   "outputs": [
    {
     "name": "stdout",
     "output_type": "stream",
     "text": [
      "<class 'pandas.core.frame.DataFrame'>\n",
      "RangeIndex: 100 entries, 0 to 99\n",
      "Data columns (total 5 columns):\n",
      " #   Column                       Non-Null Count  Dtype \n",
      "---  ------                       --------------  ----- \n",
      " 0   Core Competency              100 non-null    object\n",
      " 1   Core Competency Description  100 non-null    object\n",
      " 2   Score                        100 non-null    int64 \n",
      " 3   Proficiency Level            100 non-null    object\n",
      " 4   Anchor Value                 100 non-null    object\n",
      "dtypes: int64(1), object(4)\n",
      "memory usage: 4.0+ KB\n"
     ]
    }
   ],
   "source": [
    "cc_desc_df.info()"
   ]
  },
  {
   "cell_type": "code",
   "execution_count": 142,
   "metadata": {},
   "outputs": [
    {
     "name": "stdout",
     "output_type": "stream",
     "text": [
      "10\n",
      "['digital engagement' 'initiative innovation' 'learning' 'numeracy'\n",
      " 'oral communication' 'planning organising' 'problem solving' 'reading'\n",
      " 'teamwork' 'writing']\n"
     ]
    }
   ],
   "source": [
    "print(cc_desc_df['Core Competency'].nunique())\n",
    "print(cc_desc_df['Core Competency'].unique())"
   ]
  },
  {
   "cell_type": "code",
   "execution_count": 143,
   "metadata": {},
   "outputs": [
    {
     "name": "stdout",
     "output_type": "stream",
     "text": [
      "<class 'pandas.core.frame.DataFrame'>\n",
      "RangeIndex: 11030 entries, 0 to 11029\n",
      "Data columns (total 8 columns):\n",
      " #   Column             Non-Null Count  Dtype  \n",
      "---  ------             --------------  -----  \n",
      " 0   Occupation Type    11030 non-null  object \n",
      " 1   ANZSCO Code        11030 non-null  int64  \n",
      " 2   Sub-Profile Code   0 non-null      float64\n",
      " 3   ANZSCO Title       11030 non-null  object \n",
      " 4   Core Competency    11030 non-null  object \n",
      " 5   Score              11030 non-null  int64  \n",
      " 6   Proficiency Level  11030 non-null  object \n",
      " 7   Anchor Value       11030 non-null  object \n",
      "dtypes: float64(1), int64(2), object(5)\n",
      "memory usage: 689.5+ KB\n"
     ]
    }
   ],
   "source": [
    "cc_df.info()"
   ]
  },
  {
   "cell_type": "code",
   "execution_count": 144,
   "metadata": {},
   "outputs": [
    {
     "name": "stdout",
     "output_type": "stream",
     "text": [
      "There are 2 types of Occupations listed in Core Competency Data\n",
      "These occupations are: ['anzsco 6' 'anzsco 4']\n",
      "There are 1101 different occupations listed\n"
     ]
    }
   ],
   "source": [
    "print(\"There are\",cc_df['Occupation Type'].nunique(), \"types of Occupations listed in Core Competency Data\")\n",
    "print('These occupations are:', cc_df['Occupation Type'].unique())\n",
    "print(\"There are\",cc_df['ANZSCO Code'].nunique(), \"different occupations listed\")"
   ]
  },
  {
   "cell_type": "code",
   "execution_count": 145,
   "metadata": {},
   "outputs": [
    {
     "name": "stdout",
     "output_type": "stream",
     "text": [
      "✅ All ANZSCO Codes have exactly 10 core competencies.\n"
     ]
    }
   ],
   "source": [
    "cc_counts = cc_df.groupby(\"ANZSCO Code\")[\"Core Competency\"].nunique().sort_values(ascending=False)\n",
    "\n",
    "\n",
    "if (cc_counts == 10).all():\n",
    "    print(\"✅ All ANZSCO Codes have exactly 10 core competencies.\")\n",
    "else:\n",
    "    print(\"❌ Some ANZSCO Codes have more or less than 10 core competencies.\")\n"
   ]
  },
  {
   "cell_type": "markdown",
   "metadata": {},
   "source": [
    "### ST"
   ]
  },
  {
   "cell_type": "code",
   "execution_count": 146,
   "metadata": {},
   "outputs": [
    {
     "name": "stdout",
     "output_type": "stream",
     "text": [
      "The number of Specialist Task in ASC data are: 1686\n",
      "The number of Specialist Clusters in ASC data are: 271\n",
      "The number of Cluster Families in ASC data are: 30\n"
     ]
    }
   ],
   "source": [
    "print(\"The number of Specialist Task in ASC data are:\", st_hier_df['Specialist Task'].nunique())\n",
    "print(\"The number of Specialist Clusters in ASC data are:\", st_hier_df['Specialist Cluster'].nunique())\n",
    "print(\"The number of Cluster Families in ASC data are:\", st_hier_df['Cluster Family'].nunique())\n",
    "\n"
   ]
  },
  {
   "cell_type": "code",
   "execution_count": 147,
   "metadata": {},
   "outputs": [
    {
     "name": "stdout",
     "output_type": "stream",
     "text": [
      "<class 'pandas.core.frame.DataFrame'>\n",
      "RangeIndex: 30450 entries, 0 to 30449\n",
      "Data columns (total 12 columns):\n",
      " #   Column                       Non-Null Count  Dtype  \n",
      "---  ------                       --------------  -----  \n",
      " 0   Occupation Type              30450 non-null  object \n",
      " 1   ANZSCO Code                  30450 non-null  int64  \n",
      " 2   Sub-Profile Code             6516 non-null   object \n",
      " 3   ANZSCO Title                 30450 non-null  object \n",
      " 4   Specialist Task              30450 non-null  object \n",
      " 5   % of time spent on task      23934 non-null  float64\n",
      " 6   Emerging/\n",
      "Trending Flag      1402 non-null   object \n",
      " 7   Specialist Cluster           30450 non-null  object \n",
      " 8    % of time spent on cluster  23934 non-null  float64\n",
      " 9   Cluster Family               30450 non-null  object \n",
      " 10  % of time spent on family    23934 non-null  float64\n",
      " 11  Skills Statement             30450 non-null  object \n",
      "dtypes: float64(3), int64(1), object(8)\n",
      "memory usage: 2.8+ MB\n"
     ]
    }
   ],
   "source": [
    "st_df.info()"
   ]
  },
  {
   "cell_type": "code",
   "execution_count": 148,
   "metadata": {},
   "outputs": [
    {
     "name": "stdout",
     "output_type": "stream",
     "text": [
      "There are 4 types of Occupations listed in Specialist Task Data\n",
      "These occupations are: ['anzsco 4' 'anzsco 6' 'specialisation' 'nec category occupation']\n",
      "There are 1177 different occupations listed\n"
     ]
    }
   ],
   "source": [
    "print(\"There are\",st_df['Occupation Type'].nunique(), \"types of Occupations listed in Specialist Task Data\")\n",
    "print('These occupations are:', st_df['Occupation Type'].unique())\n",
    "print(\"There are\",st_df['ANZSCO Code'].nunique(), \"different occupations listed\")"
   ]
  },
  {
   "cell_type": "code",
   "execution_count": 149,
   "metadata": {},
   "outputs": [
    {
     "data": {
      "image/png": "[encoded data removed]",
      "text/plain": [
       "<Figure size 800x500 with 1 Axes>"
      ]
     },
     "metadata": {},
     "output_type": "display_data"
    }
   ],
   "source": [
    "import matplotlib.pyplot as plt\n",
    "import seaborn as sns\n",
    "\n",
    "# Count unique specialist tasks for each ANZSCO Code\n",
    "st_counts = st_df.groupby(\"ANZSCO Code\")[\"Specialist Task\"].nunique()\n",
    "\n",
    "# Plot boxplot\n",
    "plt.figure(figsize=(8, 5))\n",
    "sns.boxplot(y=st_counts, color='lightblue')\n",
    "\n",
    "# Labels and title\n",
    "plt.ylabel(\"Number of Unique Specialist Tasks\")\n",
    "plt.title(\"Distribution of Unique Specialist Tasks per ANZSCO Code\")\n",
    "\n",
    "# Show plot\n",
    "plt.show()\n"
   ]
  },
  {
   "cell_type": "code",
   "execution_count": 150,
   "metadata": {},
   "outputs": [
    {
     "name": "stdout",
     "output_type": "stream",
     "text": [
      "   ANZSCO Code                                       ANZSCO Title  \\\n",
      "0       262113                              systems administrator   \n",
      "1       313113                                  web administrator   \n",
      "2       249212                    dance teacher (private tuition)   \n",
      "3         2412                            primary school teachers   \n",
      "4       241213                             primary school teacher   \n",
      "5       263111                  computer network systems engineer   \n",
      "6       322313                               welder (first class)   \n",
      "7         2413  middle school teachers / intermediate school t...   \n",
      "8       241311  middle school teacher / intermediate school te...   \n",
      "9       262111                             database administrator   \n",
      "\n",
      "   Specialist Task  \n",
      "0               45  \n",
      "1               45  \n",
      "2               44  \n",
      "3               43  \n",
      "4               43  \n",
      "5               41  \n",
      "6               41  \n",
      "7               40  \n",
      "8               40  \n",
      "9               40  \n"
     ]
    }
   ],
   "source": [
    "# Count unique specialist tasks for each ANZSCO Code\n",
    "st_counts = st_df.groupby([\"ANZSCO Code\", \"ANZSCO Title\"])[\"Specialist Task\"].nunique()\n",
    "\n",
    "# Get top 10 ANZSCO Codes with the highest number of specialist tasks\n",
    "top_10 = st_counts.nlargest(10).reset_index()\n",
    "\n",
    "# Display the result\n",
    "print(top_10)\n"
   ]
  },
  {
   "cell_type": "code",
   "execution_count": 151,
   "metadata": {},
   "outputs": [
    {
     "name": "stdout",
     "output_type": "stream",
     "text": [
      "     ANZSCO Code  Specialist Task  \\\n",
      "52        233999              104   \n",
      "53        233999              104   \n",
      "54        233999              104   \n",
      "50        233999              104   \n",
      "57        233999              104   \n",
      "56        233999              104   \n",
      "55        233999              104   \n",
      "51        233999              104   \n",
      "148       399999               99   \n",
      "145       399999               99   \n",
      "\n",
      "                                      ANZSCO Title  \n",
      "52                              corrosion engineer  \n",
      "53                            fire safety engineer  \n",
      "54                           mechatronics engineer  \n",
      "50                               acoustic engineer  \n",
      "57   test activation engineer (naval shipbuilding)  \n",
      "56                                 safety engineer  \n",
      "55                         product design engineer  \n",
      "51                            calibration engineer  \n",
      "148                                 ski technician  \n",
      "145                               parachute rigger  \n"
     ]
    }
   ],
   "source": [
    "import numpy as np\n",
    "\n",
    "# Get counts of unique specialist tasks per ANZSCO Code\n",
    "st_counts = st_df.groupby(\"ANZSCO Code\")[\"Specialist Task\"].nunique()\n",
    "\n",
    "# Calculate IQR (Interquartile Range) to detect outliers\n",
    "Q1 = np.percentile(st_counts, 25)  # First quartile (25th percentile)\n",
    "Q3 = np.percentile(st_counts, 75)  # Third quartile (75th percentile)\n",
    "IQR = Q3 - Q1  # Interquartile range\n",
    "\n",
    "# Define outliers as values greater than Q3 + 1.5 * IQR\n",
    "outlier_threshold = Q3 + 1.5 * IQR\n",
    "outliers = st_counts[st_counts > outlier_threshold].reset_index()\n",
    "\n",
    "# Merge with ANZSCO Title to show meaningful names\n",
    "top_outliers = outliers.merge(st_df[[\"ANZSCO Code\", \"ANZSCO Title\"]].drop_duplicates(), on=\"ANZSCO Code\")\n",
    "\n",
    "# Sort by number of specialist tasks and display top 10\n",
    "top_outliers = top_outliers.sort_values(by=\"Specialist Task\", ascending=False).head(10)\n",
    "print(top_outliers)\n"
   ]
  },
  {
   "cell_type": "markdown",
   "metadata": {},
   "source": [
    "### TT"
   ]
  },
  {
   "cell_type": "code",
   "execution_count": 152,
   "metadata": {},
   "outputs": [
    {
     "name": "stdout",
     "output_type": "stream",
     "text": [
      "<class 'pandas.core.frame.DataFrame'>\n",
      "RangeIndex: 94 entries, 0 to 93\n",
      "Data columns (total 5 columns):\n",
      " #   Column                                Non-Null Count  Dtype \n",
      "---  ------                                --------------  ----- \n",
      " 0   Technology Tool Category              94 non-null     object\n",
      " 1   Technology Tool Category Description  94 non-null     object\n",
      " 2   Technology Tool                       94 non-null     object\n",
      " 3   Technology Tool Description           94 non-null     object\n",
      " 4   Technology Tool Extended Description  94 non-null     object\n",
      "dtypes: object(5)\n",
      "memory usage: 3.8+ KB\n"
     ]
    }
   ],
   "source": [
    "tt_hier_df.info()"
   ]
  },
  {
   "cell_type": "code",
   "execution_count": 153,
   "metadata": {},
   "outputs": [
    {
     "name": "stdout",
     "output_type": "stream",
     "text": [
      "The number of Tech Tool Category in ASC data are: 27\n",
      "The number of Tech Tool in ASC data are: 94\n"
     ]
    }
   ],
   "source": [
    "print(\"The number of Tech Tool Category in ASC data are:\", tt_hier_df['Technology Tool Category'].nunique())\n",
    "print(\"The number of Tech Tool in ASC data are:\", tt_hier_df['Technology Tool'].nunique())\n",
    "#print(\"The number of Cluster Families in ASC data are:\", st_hier_df['Cluster Family'].nunique())\n",
    "\n"
   ]
  },
  {
   "cell_type": "code",
   "execution_count": 154,
   "metadata": {},
   "outputs": [
    {
     "name": "stdout",
     "output_type": "stream",
     "text": [
      "<class 'pandas.core.frame.DataFrame'>\n",
      "RangeIndex: 5761 entries, 0 to 5760\n",
      "Data columns (total 6 columns):\n",
      " #   Column                  Non-Null Count  Dtype \n",
      "---  ------                  --------------  ----- \n",
      " 0   Occupation Type         5761 non-null   object\n",
      " 1   ANZSCO Code             5761 non-null   int64 \n",
      " 2   Sub-Profile Code        1300 non-null   object\n",
      " 3   ANZSCO Title            5761 non-null   object\n",
      " 4   Technology Tool         5761 non-null   object\n",
      " 5   Emerging/Trending Flag  441 non-null    object\n",
      "dtypes: int64(1), object(5)\n",
      "memory usage: 270.2+ KB\n"
     ]
    }
   ],
   "source": [
    "tt_df.info()"
   ]
  },
  {
   "cell_type": "code",
   "execution_count": 155,
   "metadata": {},
   "outputs": [
    {
     "name": "stdout",
     "output_type": "stream",
     "text": [
      "There are 4 types of Occupations listed in Specialist Task Data\n",
      "These occupations are: ['anzsco 4' 'anzsco 6' 'nec category occupation' 'specialisation']\n",
      "There are 1042 different occupations listed\n"
     ]
    }
   ],
   "source": [
    "print(\"There are\",tt_df['Occupation Type'].nunique(), \"types of Occupations listed in Specialist Task Data\")\n",
    "print('These occupations are:', tt_df['Occupation Type'].unique())\n",
    "print(\"There are\",tt_df['ANZSCO Code'].nunique(), \"different occupations listed\")"
   ]
  },
  {
   "cell_type": "code",
   "execution_count": 156,
   "metadata": {},
   "outputs": [
    {
     "data": {
      "image/png": "[encoded data removed]",
      "text/plain": [
       "<Figure size 800x500 with 1 Axes>"
      ]
     },
     "metadata": {},
     "output_type": "display_data"
    }
   ],
   "source": [
    "import matplotlib.pyplot as plt\n",
    "import seaborn as sns\n",
    "\n",
    "# Count unique specialist tasks for each ANZSCO Code\n",
    "tt_counts = tt_df.groupby(\"ANZSCO Code\")[\"Technology Tool\"].nunique()\n",
    "\n",
    "# Plot boxplot\n",
    "plt.figure(figsize=(8, 5))\n",
    "sns.boxplot(y=tt_counts, color='lightblue')\n",
    "\n",
    "# Labels and title\n",
    "plt.ylabel(\"Number of Unique Technoogy Tools\")\n",
    "plt.title(\"Distribution of Unique Technology Tools per ANZSCO Code\")\n",
    "\n",
    "# Show plot\n",
    "plt.show()\n"
   ]
  },
  {
   "cell_type": "code",
   "execution_count": 157,
   "metadata": {},
   "outputs": [
    {
     "name": "stdout",
     "output_type": "stream",
     "text": [
      "   ANZSCO Code                                       ANZSCO Title  \\\n",
      "0       262111                             database administrator   \n",
      "1         2611                      ict business systems analysts   \n",
      "2       262113                              systems administrator   \n",
      "3       263111                  computer network systems engineer   \n",
      "4       263212                               ict support engineer   \n",
      "5         2621  database systems administrators ict security s...   \n",
      "6       135199                                    network manager   \n",
      "7       261111                               ict business analyst   \n",
      "8       263112                              network administrator   \n",
      "9       261313                                  software engineer   \n",
      "\n",
      "   Technology Tool  \n",
      "0               25  \n",
      "1               24  \n",
      "2               23  \n",
      "3               23  \n",
      "4               23  \n",
      "5               21  \n",
      "6               20  \n",
      "7               20  \n",
      "8               20  \n",
      "9               19  \n"
     ]
    }
   ],
   "source": [
    "# Count unique specialist tasks for each ANZSCO Code\n",
    "tt_counts = tt_df.groupby([\"ANZSCO Code\", \"ANZSCO Title\"])[\"Technology Tool\"].nunique()\n",
    "\n",
    "# Get top 10 ANZSCO Codes with the highest number of specialist tasks\n",
    "top_10 = tt_counts.nlargest(10).reset_index()\n",
    "\n",
    "# Display the result\n",
    "print(top_10)\n"
   ]
  },
  {
   "cell_type": "code",
   "execution_count": 158,
   "metadata": {},
   "outputs": [
    {
     "name": "stdout",
     "output_type": "stream",
     "text": [
      "    ANZSCO Code  Technology Tool  \\\n",
      "24       233999               25   \n",
      "25       233999               25   \n",
      "26       233999               25   \n",
      "23       233999               25   \n",
      "28       233999               25   \n",
      "29       233999               25   \n",
      "30       233999               25   \n",
      "27       233999               25   \n",
      "42       262111               25   \n",
      "2          2611               24   \n",
      "\n",
      "                                     ANZSCO Title  \n",
      "24                           calibration engineer  \n",
      "25                             corrosion engineer  \n",
      "26                           fire safety engineer  \n",
      "23                              acoustic engineer  \n",
      "28                        product design engineer  \n",
      "29                                safety engineer  \n",
      "30  test activation engineer (naval shipbuilding)  \n",
      "27                          mechatronics engineer  \n",
      "42                         database administrator  \n",
      "2                   ict business systems analysts  \n"
     ]
    }
   ],
   "source": [
    "import numpy as np\n",
    "\n",
    "# Get counts of unique specialist tasks per ANZSCO Code\n",
    "tt_counts = tt_df.groupby(\"ANZSCO Code\")[\"Technology Tool\"].nunique()\n",
    "\n",
    "# Calculate IQR (Interquartile Range) to detect outliers\n",
    "Q1 = np.percentile(tt_counts, 25)  # First quartile (25th percentile)\n",
    "Q3 = np.percentile(tt_counts, 75)  # Third quartile (75th percentile)\n",
    "IQR = Q3 - Q1  # Interquartile range\n",
    "\n",
    "# Define outliers as values greater than Q3 + 1.5 * IQR\n",
    "outlier_threshold = Q3 + 1.5 * IQR\n",
    "outliers = tt_counts[tt_counts > outlier_threshold].reset_index()\n",
    "\n",
    "# Merge with ANZSCO Title to show meaningful names\n",
    "top_outliers = outliers.merge(tt_df[[\"ANZSCO Code\", \"ANZSCO Title\"]].drop_duplicates(), on=\"ANZSCO Code\")\n",
    "\n",
    "# Sort by number of specialist tasks and display top 10\n",
    "top_outliers = top_outliers.sort_values(by=\"Technology Tool\", ascending=False).head(10)\n",
    "print(top_outliers)\n"
   ]
  },
  {
   "cell_type": "markdown",
   "metadata": {},
   "source": [
    "### Merging Datasets"
   ]
  },
  {
   "cell_type": "code",
   "execution_count": 159,
   "metadata": {},
   "outputs": [
    {
     "name": "stdout",
     "output_type": "stream",
     "text": [
      "\n",
      "Final Merged Dataset Sample:\n",
      "                            Technology Tool Category  \\\n",
      "0  broadcasting audio-visual production technologies   \n",
      "1  broadcasting audio-visual production technologies   \n",
      "2  broadcasting audio-visual production technologies   \n",
      "3  broadcasting audio-visual production technologies   \n",
      "4  broadcasting audio-visual production technologies   \n",
      "\n",
      "                Technology Tool Category Description  \\\n",
      "0  systems audio video multimedia news content pr...   \n",
      "1  systems audio video multimedia news content pr...   \n",
      "2  systems audio video multimedia news content pr...   \n",
      "3  systems audio video multimedia news content pr...   \n",
      "4  systems audio video multimedia news content pr...   \n",
      "\n",
      "                           Technology Tool  \\\n",
      "0  collaborative news production platforms   \n",
      "1  collaborative news production platforms   \n",
      "2  collaborative news production platforms   \n",
      "3  collaborative news production platforms   \n",
      "4  collaborative news production platforms   \n",
      "\n",
      "                         Technology Tool Description  \\\n",
      "0  software used create manage news content media...   \n",
      "1  software used create manage news content media...   \n",
      "2  software used create manage news content media...   \n",
      "3  software used create manage news content media...   \n",
      "4  software used create manage news content media...   \n",
      "\n",
      "                Technology Tool Extended Description Occupation Type_x  \\\n",
      "0  collaborative news production platforms encomp...          anzsco 4   \n",
      "1  collaborative news production platforms encomp...          anzsco 4   \n",
      "2  collaborative news production platforms encomp...          anzsco 6   \n",
      "3  collaborative news production platforms encomp...          anzsco 6   \n",
      "4  collaborative news production platforms encomp...          anzsco 6   \n",
      "\n",
      "   ANZSCO Code Sub-Profile Code_x                          ANZSCO Title_x  \\\n",
      "0         2123                NaN   film television radio stage directors   \n",
      "1         2124                NaN                     journalists writers   \n",
      "2       212113                NaN                         radio presenter   \n",
      "3       212312                NaN  director (film television radio stage)   \n",
      "4       212315                NaN     program director (television radio)   \n",
      "\n",
      "  Emerging/Trending Flag Occupation Type_y Sub-Profile Code_y  \\\n",
      "0                    NaN          anzsco 4                NaN   \n",
      "1                    NaN          anzsco 4                NaN   \n",
      "2                    NaN          anzsco 6                NaN   \n",
      "3                    NaN          anzsco 6                NaN   \n",
      "4                    NaN          anzsco 6                NaN   \n",
      "\n",
      "                           ANZSCO Title_y  \\\n",
      "0   film television radio stage directors   \n",
      "1                     journalists writers   \n",
      "2                         radio presenter   \n",
      "3  director (film television radio stage)   \n",
      "4     program director (television radio)   \n",
      "\n",
      "                                  ANZSCO Description  \n",
      "0  film television radio stage directors direct a...  \n",
      "1  journalists writers research compile news stor...  \n",
      "2  prepares presents news sports information cond...  \n",
      "3  interprets approves selection scripts directs ...  \n",
      "4        compiles directs programs television radio.  \n",
      "\n",
      "Final Merged Dataset Sample:\n",
      "  Occupation Type_x  ANZSCO Code Sub-Profile Code_x  \\\n",
      "0          anzsco 4         1111                NaN   \n",
      "1          anzsco 4         1111                NaN   \n",
      "2          anzsco 4         1111                NaN   \n",
      "3          anzsco 4         1111                NaN   \n",
      "4          anzsco 4         1111                NaN   \n",
      "\n",
      "                        ANZSCO Title_x  \\\n",
      "0  chief executives managing directors   \n",
      "1  chief executives managing directors   \n",
      "2  chief executives managing directors   \n",
      "3  chief executives managing directors   \n",
      "4  chief executives managing directors   \n",
      "\n",
      "                                     Specialist Task  % of time spent on task  \\\n",
      "0      direct manage financial activities operations                   0.1302   \n",
      "1        direct department organisational activities                   0.1117   \n",
      "2  direct sales marketing customer service activi...                   0.0808   \n",
      "3  communicate others arrange coordinate conduct ...                   0.0665   \n",
      "4  analyse data assess operational project effect...                   0.0651   \n",
      "\n",
      "  Emerging/\\nTrending Flag                           Specialist Cluster_x  \\\n",
      "0                      NaN  manage monitor undertake financial activities   \n",
      "1                 trending               manage services staff activities   \n",
      "2                      NaN               manage services staff activities   \n",
      "3                      NaN                 communicate collaborate others   \n",
      "4                      NaN          use data inform operational decisions   \n",
      "\n",
      "    % of time spent on cluster                          Cluster Family_x  \\\n",
      "0                       0.1644  business operations financial activities   \n",
      "1                       0.2128  business operations financial activities   \n",
      "2                       0.2128  business operations financial activities   \n",
      "3                       0.0750               communication collaboration   \n",
      "4                       0.1009                  data analytics databases   \n",
      "\n",
      "   % of time spent on family  \\\n",
      "0                     0.5322   \n",
      "1                     0.5322   \n",
      "2                     0.5322   \n",
      "3                     0.0890   \n",
      "4                     0.1370   \n",
      "\n",
      "                                    Skills Statement  \\\n",
      "0  direct oversee financial operations business o...   \n",
      "1  direct oversee activities work unit department...   \n",
      "2  direct oversee sales marketing customer servic...   \n",
      "3  coordinate others order plan organise coordina...   \n",
      "4  analyse qualitative quantitative data arising ...   \n",
      "\n",
      "                            Specialist Cluster_y  \\\n",
      "0  manage monitor undertake financial activities   \n",
      "1               manage services staff activities   \n",
      "2               manage services staff activities   \n",
      "3                 communicate collaborate others   \n",
      "4          use data inform operational decisions   \n",
      "\n",
      "                           Cluster Family_y  \\\n",
      "0  business operations financial activities   \n",
      "1  business operations financial activities   \n",
      "2  business operations financial activities   \n",
      "3               communication collaboration   \n",
      "4                  data analytics databases   \n",
      "\n",
      "                                     Skill Statement Occupation Type_y  \\\n",
      "0  direct oversee financial operations business o...          anzsco 4   \n",
      "1  direct oversee activities work unit department...          anzsco 4   \n",
      "2  direct oversee sales marketing customer servic...          anzsco 4   \n",
      "3  coordinate others order plan organise coordina...          anzsco 4   \n",
      "4  analyse qualitative quantitative data arising ...          anzsco 4   \n",
      "\n",
      "  Sub-Profile Code_y                       ANZSCO Title_y  \\\n",
      "0                NaN  chief executives managing directors   \n",
      "1                NaN  chief executives managing directors   \n",
      "2                NaN  chief executives managing directors   \n",
      "3                NaN  chief executives managing directors   \n",
      "4                NaN  chief executives managing directors   \n",
      "\n",
      "                                  ANZSCO Description  \n",
      "0  chief executives managing directors determine ...  \n",
      "1  chief executives managing directors determine ...  \n",
      "2  chief executives managing directors determine ...  \n",
      "3  chief executives managing directors determine ...  \n",
      "4  chief executives managing directors determine ...  \n"
     ]
    }
   ],
   "source": [
    "def merge_all_dataframes(df1, df2, df3, col_1, col_2):\n",
    "    merged_df = df3.merge(df1, on=col_1, how=\"left\")\n",
    "    merged_df = merged_df.merge(df2, on=col_2, how=\"left\")\n",
    "    print(\"\\nFinal Merged Dataset Sample:\") \n",
    "    print(merged_df.head())\n",
    "    return merged_df  \n",
    "\n",
    "\n",
    "#c_merged_df = merge_all_dataframes(cc_desc_df, occupation_df, cc_df, \"Core Competency\", \"ANZSCO Code\")\n",
    "tt_merged_df = merge_all_dataframes(tt_df, occupation_df, tt_hier_df, \"Technology Tool\", \"ANZSCO Code\")\n",
    "st_merged_df = merge_all_dataframes(st_hier_df, occupation_df, st_df, \"Specialist Task\", \"ANZSCO Code\")\n",
    "\n"
   ]
  },
  {
   "cell_type": "code",
   "execution_count": 160,
   "metadata": {},
   "outputs": [
    {
     "name": "stdout",
     "output_type": "stream",
     "text": [
      "<class 'pandas.core.frame.DataFrame'>\n",
      "RangeIndex: 12911 entries, 0 to 12910\n",
      "Data columns (total 14 columns):\n",
      " #   Column                                Non-Null Count  Dtype \n",
      "---  ------                                --------------  ----- \n",
      " 0   Technology Tool Category              12911 non-null  object\n",
      " 1   Technology Tool Category Description  12911 non-null  object\n",
      " 2   Technology Tool                       12911 non-null  object\n",
      " 3   Technology Tool Description           12911 non-null  object\n",
      " 4   Technology Tool Extended Description  12911 non-null  object\n",
      " 5   Occupation Type_x                     12911 non-null  object\n",
      " 6   ANZSCO Code                           12911 non-null  int64 \n",
      " 7   Sub-Profile Code_x                    7543 non-null   object\n",
      " 8   ANZSCO Title_x                        12911 non-null  object\n",
      " 9   Emerging/Trending Flag                556 non-null    object\n",
      " 10  Occupation Type_y                     12906 non-null  object\n",
      " 11  Sub-Profile Code_y                    7150 non-null   object\n",
      " 12  ANZSCO Title_y                        12906 non-null  object\n",
      " 13  ANZSCO Description                    12906 non-null  object\n",
      "dtypes: int64(1), object(13)\n",
      "memory usage: 1.4+ MB\n"
     ]
    }
   ],
   "source": [
    "tt_merged_df.info()"
   ]
  },
  {
   "cell_type": "code",
   "execution_count": 161,
   "metadata": {},
   "outputs": [
    {
     "name": "stdout",
     "output_type": "stream",
     "text": [
      "<class 'pandas.core.frame.DataFrame'>\n",
      "RangeIndex: 67772 entries, 0 to 67771\n",
      "Data columns (total 19 columns):\n",
      " #   Column                       Non-Null Count  Dtype  \n",
      "---  ------                       --------------  -----  \n",
      " 0   Occupation Type_x            67772 non-null  object \n",
      " 1   ANZSCO Code                  67772 non-null  int64  \n",
      " 2   Sub-Profile Code_x           39773 non-null  object \n",
      " 3   ANZSCO Title_x               67772 non-null  object \n",
      " 4   Specialist Task              67772 non-null  object \n",
      " 5   % of time spent on task      27999 non-null  float64\n",
      " 6   Emerging/\n",
      "Trending Flag      1700 non-null   object \n",
      " 7   Specialist Cluster_x         67772 non-null  object \n",
      " 8    % of time spent on cluster  27999 non-null  float64\n",
      " 9   Cluster Family_x             67772 non-null  object \n",
      " 10  % of time spent on family    27999 non-null  float64\n",
      " 11  Skills Statement             67772 non-null  object \n",
      " 12  Specialist Cluster_y         67772 non-null  object \n",
      " 13  Cluster Family_y             67772 non-null  object \n",
      " 14  Skill Statement              67772 non-null  object \n",
      " 15  Occupation Type_y            67772 non-null  object \n",
      " 16  Sub-Profile Code_y           37322 non-null  object \n",
      " 17  ANZSCO Title_y               67772 non-null  object \n",
      " 18  ANZSCO Description           67772 non-null  object \n",
      "dtypes: float64(3), int64(1), object(15)\n",
      "memory usage: 9.8+ MB\n"
     ]
    }
   ],
   "source": [
    "st_merged_df.info()"
   ]
  },
  {
   "cell_type": "code",
   "execution_count": 162,
   "metadata": {},
   "outputs": [
    {
     "name": "stdout",
     "output_type": "stream",
     "text": [
      "\n",
      "Step 1: Core Competencies merged with Occupation Data\n",
      "  Occupation Type_x  ANZSCO Code  Sub-Profile Code_x  \\\n",
      "0          anzsco 6       422111                 NaN   \n",
      "1          anzsco 6       422111                 NaN   \n",
      "2          anzsco 6       422111                 NaN   \n",
      "3          anzsco 6       422111                 NaN   \n",
      "4          anzsco 6       422111                 NaN   \n",
      "\n",
      "                                        ANZSCO Title        Core Competency  \\\n",
      "0  aboriginal torres strait islander education wo...     digital engagement   \n",
      "1  aboriginal torres strait islander education wo...  initiative innovation   \n",
      "2  aboriginal torres strait islander education wo...               learning   \n",
      "3  aboriginal torres strait islander education wo...               numeracy   \n",
      "4  aboriginal torres strait islander education wo...     oral communication   \n",
      "\n",
      "   Score Proficiency Level                                       Anchor Value  \\\n",
      "0      5      intermediate  build maintain effective online profile career...   \n",
      "1      8              high  negotiate price sales terms prepare contract h...   \n",
      "2      5      intermediate  learn new filing system groups documents type ...   \n",
      "3      4      intermediate  use blood pressure machine accurately record r...   \n",
      "4      7      intermediate  participate work meeting ask appropriate follo...   \n",
      "\n",
      "  Occupation Type_y Sub-Profile Code_y  \\\n",
      "0          anzsco 6                NaN   \n",
      "1          anzsco 6                NaN   \n",
      "2          anzsco 6                NaN   \n",
      "3          anzsco 6                NaN   \n",
      "4          anzsco 6                NaN   \n",
      "\n",
      "                                  ANZSCO Description  \n",
      "0  assists aboriginal torres strait islander stud...  \n",
      "1  assists aboriginal torres strait islander stud...  \n",
      "2  assists aboriginal torres strait islander stud...  \n",
      "3  assists aboriginal torres strait islander stud...  \n",
      "4  assists aboriginal torres strait islander stud...  \n",
      "\n",
      "Step 2: Final Merged Dataset with Descriptions\n",
      "  Occupation Type_x  ANZSCO Code  Sub-Profile Code_x  \\\n",
      "0          anzsco 6       422111                 NaN   \n",
      "1          anzsco 6       422111                 NaN   \n",
      "2          anzsco 6       422111                 NaN   \n",
      "3          anzsco 6       422111                 NaN   \n",
      "4          anzsco 6       422111                 NaN   \n",
      "\n",
      "                                        ANZSCO Title        Core Competency  \\\n",
      "0  aboriginal torres strait islander education wo...     digital engagement   \n",
      "1  aboriginal torres strait islander education wo...  initiative innovation   \n",
      "2  aboriginal torres strait islander education wo...               learning   \n",
      "3  aboriginal torres strait islander education wo...               numeracy   \n",
      "4  aboriginal torres strait islander education wo...     oral communication   \n",
      "\n",
      "   Score Proficiency Level                                       Anchor Value  \\\n",
      "0      5      intermediate  build maintain effective online profile career...   \n",
      "1      8              high  negotiate price sales terms prepare contract h...   \n",
      "2      5      intermediate  learn new filing system groups documents type ...   \n",
      "3      4      intermediate  use blood pressure machine accurately record r...   \n",
      "4      7      intermediate  participate work meeting ask appropriate follo...   \n",
      "\n",
      "  Occupation Type_y Sub-Profile Code_y  \\\n",
      "0          anzsco 6                NaN   \n",
      "1          anzsco 6                NaN   \n",
      "2          anzsco 6                NaN   \n",
      "3          anzsco 6                NaN   \n",
      "4          anzsco 6                NaN   \n",
      "\n",
      "                                  ANZSCO Description  \\\n",
      "0  assists aboriginal torres strait islander stud...   \n",
      "1  assists aboriginal torres strait islander stud...   \n",
      "2  assists aboriginal torres strait islander stud...   \n",
      "3  assists aboriginal torres strait islander stud...   \n",
      "4  assists aboriginal torres strait islander stud...   \n",
      "\n",
      "                         Core Competency Description Proficiency Level_desc  \\\n",
      "0  identifying using technology (including hardwa...           intermediate   \n",
      "1  taking responsibilities challenges able start ...                   high   \n",
      "2  understanding implications new information cur...           intermediate   \n",
      "3  using mathematics solve problems interpreting ...           intermediate   \n",
      "4  ability communicate information ideas speaking...           intermediate   \n",
      "\n",
      "                                   Anchor Value_desc  \n",
      "0  build maintain effective online profile career...  \n",
      "1  negotiate price sales terms prepare contract h...  \n",
      "2  learn new filing system groups documents type ...  \n",
      "3  use blood pressure machine accurately record r...  \n",
      "4  participate work meeting ask appropriate follo...  \n"
     ]
    }
   ],
   "source": [
    "def merge_cc_df(df1, df2, df3):\n",
    "    merged_df = pd.merge(df1, df3, on=[\"ANZSCO Code\", \"ANZSCO Title\"], how=\"left\")\n",
    "\n",
    "    print(\"\\nStep 1: Core Competencies merged with Occupation Data\")\n",
    "    print(merged_df.head())\n",
    "    merged_df = pd.merge(merged_df, df2, on=[\"Core Competency\", \"Score\"], how=\"left\", suffixes=(\"\", \"_desc\"))\n",
    "\n",
    "    print(\"\\nStep 2: Final Merged Dataset with Descriptions\")\n",
    "    print(merged_df.head())\n",
    "\n",
    "    return merged_df\n",
    "\n",
    "\n",
    "cc_merged_df = merge_cc_df(cc_df, cc_desc_df, occupation_df)"
   ]
  },
  {
   "cell_type": "code",
   "execution_count": 163,
   "metadata": {},
   "outputs": [
    {
     "name": "stdout",
     "output_type": "stream",
     "text": [
      "<class 'pandas.core.frame.DataFrame'>\n",
      "RangeIndex: 11030 entries, 0 to 11029\n",
      "Data columns (total 14 columns):\n",
      " #   Column                       Non-Null Count  Dtype  \n",
      "---  ------                       --------------  -----  \n",
      " 0   Occupation Type_x            11030 non-null  object \n",
      " 1   ANZSCO Code                  11030 non-null  int64  \n",
      " 2   Sub-Profile Code_x           0 non-null      float64\n",
      " 3   ANZSCO Title                 11030 non-null  object \n",
      " 4   Core Competency              11030 non-null  object \n",
      " 5   Score                        11030 non-null  int64  \n",
      " 6   Proficiency Level            11030 non-null  object \n",
      " 7   Anchor Value                 11030 non-null  object \n",
      " 8   Occupation Type_y            11030 non-null  object \n",
      " 9   Sub-Profile Code_y           0 non-null      object \n",
      " 10  ANZSCO Description           11030 non-null  object \n",
      " 11  Core Competency Description  11030 non-null  object \n",
      " 12  Proficiency Level_desc       11030 non-null  object \n",
      " 13  Anchor Value_desc            11030 non-null  object \n",
      "dtypes: float64(1), int64(2), object(11)\n",
      "memory usage: 1.2+ MB\n"
     ]
    }
   ],
   "source": [
    "cc_merged_df.info()"
   ]
  },
  {
   "cell_type": "markdown",
   "metadata": {},
   "source": [
    "### TT"
   ]
  },
  {
   "cell_type": "code",
   "execution_count": 164,
   "metadata": {},
   "outputs": [
    {
     "name": "stdout",
     "output_type": "stream",
     "text": [
      "<class 'pandas.core.frame.DataFrame'>\n",
      "RangeIndex: 12911 entries, 0 to 12910\n",
      "Data columns (total 14 columns):\n",
      " #   Column                                Non-Null Count  Dtype \n",
      "---  ------                                --------------  ----- \n",
      " 0   Technology Tool Category              12911 non-null  object\n",
      " 1   Technology Tool Category Description  12911 non-null  object\n",
      " 2   Technology Tool                       12911 non-null  object\n",
      " 3   Technology Tool Description           12911 non-null  object\n",
      " 4   Technology Tool Extended Description  12911 non-null  object\n",
      " 5   Occupation Type_x                     12911 non-null  object\n",
      " 6   ANZSCO Code                           12911 non-null  int64 \n",
      " 7   Sub-Profile Code_x                    7543 non-null   object\n",
      " 8   ANZSCO Title_x                        12911 non-null  object\n",
      " 9   Emerging/Trending Flag                556 non-null    object\n",
      " 10  Occupation Type_y                     12906 non-null  object\n",
      " 11  Sub-Profile Code_y                    7150 non-null   object\n",
      " 12  ANZSCO Title_y                        12906 non-null  object\n",
      " 13  ANZSCO Description                    12906 non-null  object\n",
      "dtypes: int64(1), object(13)\n",
      "memory usage: 1.4+ MB\n"
     ]
    }
   ],
   "source": [
    "tt_merged_df.info()"
   ]
  },
  {
   "cell_type": "code",
   "execution_count": 165,
   "metadata": {},
   "outputs": [
    {
     "data": {
      "text/plain": [
       "Index(['Technology Tool Category', 'Technology Tool Category Description',\n",
       "       'Technology Tool', 'Technology Tool Description',\n",
       "       'Technology Tool Extended Description', 'Occupation Type_x',\n",
       "       'ANZSCO Code', 'Sub-Profile Code_x', 'ANZSCO Title_x',\n",
       "       'Emerging/Trending Flag', 'ANZSCO Description'],\n",
       "      dtype='object')"
      ]
     },
     "execution_count": 165,
     "metadata": {},
     "output_type": "execute_result"
    }
   ],
   "source": [
    "tt_merged_df.drop(columns=[ \"Sub-Profile Code_y\", \"Occupation Type_y\" , \"ANZSCO Title_y\" ], inplace=True)\n",
    "tt_merged_df.columns"
   ]
  },
  {
   "cell_type": "code",
   "execution_count": 166,
   "metadata": {},
   "outputs": [
    {
     "name": "stdout",
     "output_type": "stream",
     "text": [
      "There are 4 types of Occupations listed in Specialist Task Data\n",
      "These occupations are: ['anzsco 4' 'anzsco 6' 'nec category occupation' 'specialisation']\n",
      "There are 1042 different occupations listed\n"
     ]
    }
   ],
   "source": [
    "print(\"There are\",tt_merged_df['Occupation Type_x'].nunique(), \"types of Occupations listed in Specialist Task Data\")\n",
    "print('These occupations are:', tt_merged_df['Occupation Type_x'].unique())\n",
    "print(\"There are\",tt_merged_df['ANZSCO Code'].nunique(), \"different occupations listed\")"
   ]
  },
  {
   "cell_type": "code",
   "execution_count": 167,
   "metadata": {},
   "outputs": [
    {
     "name": "stdout",
     "output_type": "stream",
     "text": [
      "The number of Tech Tool Category in ASC data are: 27\n",
      "The number of Tech Tool in ASC data are: 94\n"
     ]
    }
   ],
   "source": [
    "print(\"The number of Tech Tool Category in ASC data are:\", tt_merged_df['Technology Tool Category'].nunique())\n",
    "print(\"The number of Tech Tool in ASC data are:\", tt_merged_df['Technology Tool'].nunique())\n",
    "#print(\"The number of Cluster Families in ASC data are:\", st_hier_df['Cluster Family'].nunique())\n",
    "\n"
   ]
  },
  {
   "cell_type": "code",
   "execution_count": 168,
   "metadata": {},
   "outputs": [
    {
     "name": "stdout",
     "output_type": "stream",
     "text": [
      "<class 'pandas.core.frame.DataFrame'>\n",
      "RangeIndex: 12911 entries, 0 to 12910\n",
      "Data columns (total 11 columns):\n",
      " #   Column                                Non-Null Count  Dtype \n",
      "---  ------                                --------------  ----- \n",
      " 0   Technology Tool Category              12911 non-null  object\n",
      " 1   Technology Tool Category Description  12911 non-null  object\n",
      " 2   Technology Tool                       12911 non-null  object\n",
      " 3   Technology Tool Description           12911 non-null  object\n",
      " 4   Technology Tool Extended Description  12911 non-null  object\n",
      " 5   Occupation Type_x                     12911 non-null  object\n",
      " 6   ANZSCO Code                           12911 non-null  int64 \n",
      " 7   Sub-Profile Code_x                    7543 non-null   object\n",
      " 8   ANZSCO Title_x                        12911 non-null  object\n",
      " 9   Emerging/Trending Flag                556 non-null    object\n",
      " 10  ANZSCO Description                    12906 non-null  object\n",
      "dtypes: int64(1), object(10)\n",
      "memory usage: 1.1+ MB\n"
     ]
    }
   ],
   "source": [
    "tt_merged_df.info()"
   ]
  },
  {
   "cell_type": "code",
   "execution_count": 169,
   "metadata": {},
   "outputs": [
    {
     "data": {
      "text/html": [
       "<div>\n",
       "<style scoped>\n",
       "    .dataframe tbody tr th:only-of-type {\n",
       "        vertical-align: middle;\n",
       "    }\n",
       "\n",
       "    .dataframe tbody tr th {\n",
       "        vertical-align: top;\n",
       "    }\n",
       "\n",
       "    .dataframe thead th {\n",
       "        text-align: right;\n",
       "    }\n",
       "</style>\n",
       "<table border=\"1\" class=\"dataframe\">\n",
       "  <thead>\n",
       "    <tr style=\"text-align: right;\">\n",
       "      <th></th>\n",
       "      <th>Technology Tool Category</th>\n",
       "      <th>Technology Tool Category Description</th>\n",
       "      <th>Technology Tool</th>\n",
       "      <th>Technology Tool Description</th>\n",
       "      <th>Technology Tool Extended Description</th>\n",
       "      <th>Occupation Type_x</th>\n",
       "      <th>ANZSCO Code</th>\n",
       "      <th>Sub-Profile Code_x</th>\n",
       "      <th>ANZSCO Title_x</th>\n",
       "      <th>Emerging/Trending Flag</th>\n",
       "      <th>ANZSCO Description</th>\n",
       "    </tr>\n",
       "  </thead>\n",
       "  <tbody>\n",
       "    <tr>\n",
       "      <th>0</th>\n",
       "      <td>broadcasting audio-visual production technologies</td>\n",
       "      <td>systems audio video multimedia news content pr...</td>\n",
       "      <td>collaborative news production platforms</td>\n",
       "      <td>software used create manage news content media...</td>\n",
       "      <td>collaborative news production platforms encomp...</td>\n",
       "      <td>anzsco 4</td>\n",
       "      <td>2123</td>\n",
       "      <td>NaN</td>\n",
       "      <td>film television radio stage directors</td>\n",
       "      <td>NaN</td>\n",
       "      <td>film television radio stage directors direct a...</td>\n",
       "    </tr>\n",
       "    <tr>\n",
       "      <th>1</th>\n",
       "      <td>broadcasting audio-visual production technologies</td>\n",
       "      <td>systems audio video multimedia news content pr...</td>\n",
       "      <td>collaborative news production platforms</td>\n",
       "      <td>software used create manage news content media...</td>\n",
       "      <td>collaborative news production platforms encomp...</td>\n",
       "      <td>anzsco 4</td>\n",
       "      <td>2124</td>\n",
       "      <td>NaN</td>\n",
       "      <td>journalists writers</td>\n",
       "      <td>NaN</td>\n",
       "      <td>journalists writers research compile news stor...</td>\n",
       "    </tr>\n",
       "    <tr>\n",
       "      <th>2</th>\n",
       "      <td>broadcasting audio-visual production technologies</td>\n",
       "      <td>systems audio video multimedia news content pr...</td>\n",
       "      <td>collaborative news production platforms</td>\n",
       "      <td>software used create manage news content media...</td>\n",
       "      <td>collaborative news production platforms encomp...</td>\n",
       "      <td>anzsco 6</td>\n",
       "      <td>212113</td>\n",
       "      <td>NaN</td>\n",
       "      <td>radio presenter</td>\n",
       "      <td>NaN</td>\n",
       "      <td>prepares presents news sports information cond...</td>\n",
       "    </tr>\n",
       "    <tr>\n",
       "      <th>3</th>\n",
       "      <td>broadcasting audio-visual production technologies</td>\n",
       "      <td>systems audio video multimedia news content pr...</td>\n",
       "      <td>collaborative news production platforms</td>\n",
       "      <td>software used create manage news content media...</td>\n",
       "      <td>collaborative news production platforms encomp...</td>\n",
       "      <td>anzsco 6</td>\n",
       "      <td>212312</td>\n",
       "      <td>NaN</td>\n",
       "      <td>director (film television radio stage)</td>\n",
       "      <td>NaN</td>\n",
       "      <td>interprets approves selection scripts directs ...</td>\n",
       "    </tr>\n",
       "    <tr>\n",
       "      <th>4</th>\n",
       "      <td>broadcasting audio-visual production technologies</td>\n",
       "      <td>systems audio video multimedia news content pr...</td>\n",
       "      <td>collaborative news production platforms</td>\n",
       "      <td>software used create manage news content media...</td>\n",
       "      <td>collaborative news production platforms encomp...</td>\n",
       "      <td>anzsco 6</td>\n",
       "      <td>212315</td>\n",
       "      <td>NaN</td>\n",
       "      <td>program director (television radio)</td>\n",
       "      <td>NaN</td>\n",
       "      <td>compiles directs programs television radio.</td>\n",
       "    </tr>\n",
       "  </tbody>\n",
       "</table>\n",
       "</div>"
      ],
      "text/plain": [
       "                            Technology Tool Category  \\\n",
       "0  broadcasting audio-visual production technologies   \n",
       "1  broadcasting audio-visual production technologies   \n",
       "2  broadcasting audio-visual production technologies   \n",
       "3  broadcasting audio-visual production technologies   \n",
       "4  broadcasting audio-visual production technologies   \n",
       "\n",
       "                Technology Tool Category Description  \\\n",
       "0  systems audio video multimedia news content pr...   \n",
       "1  systems audio video multimedia news content pr...   \n",
       "2  systems audio video multimedia news content pr...   \n",
       "3  systems audio video multimedia news content pr...   \n",
       "4  systems audio video multimedia news content pr...   \n",
       "\n",
       "                           Technology Tool  \\\n",
       "0  collaborative news production platforms   \n",
       "1  collaborative news production platforms   \n",
       "2  collaborative news production platforms   \n",
       "3  collaborative news production platforms   \n",
       "4  collaborative news production platforms   \n",
       "\n",
       "                         Technology Tool Description  \\\n",
       "0  software used create manage news content media...   \n",
       "1  software used create manage news content media...   \n",
       "2  software used create manage news content media...   \n",
       "3  software used create manage news content media...   \n",
       "4  software used create manage news content media...   \n",
       "\n",
       "                Technology Tool Extended Description Occupation Type_x  \\\n",
       "0  collaborative news production platforms encomp...          anzsco 4   \n",
       "1  collaborative news production platforms encomp...          anzsco 4   \n",
       "2  collaborative news production platforms encomp...          anzsco 6   \n",
       "3  collaborative news production platforms encomp...          anzsco 6   \n",
       "4  collaborative news production platforms encomp...          anzsco 6   \n",
       "\n",
       "   ANZSCO Code Sub-Profile Code_x                          ANZSCO Title_x  \\\n",
       "0         2123                NaN   film television radio stage directors   \n",
       "1         2124                NaN                     journalists writers   \n",
       "2       212113                NaN                         radio presenter   \n",
       "3       212312                NaN  director (film television radio stage)   \n",
       "4       212315                NaN     program director (television radio)   \n",
       "\n",
       "  Emerging/Trending Flag                                 ANZSCO Description  \n",
       "0                    NaN  film television radio stage directors direct a...  \n",
       "1                    NaN  journalists writers research compile news stor...  \n",
       "2                    NaN  prepares presents news sports information cond...  \n",
       "3                    NaN  interprets approves selection scripts directs ...  \n",
       "4                    NaN        compiles directs programs television radio.  "
      ]
     },
     "execution_count": 169,
     "metadata": {},
     "output_type": "execute_result"
    }
   ],
   "source": [
    "tt_merged_df.head()"
   ]
  },
  {
   "cell_type": "code",
   "execution_count": 170,
   "metadata": {},
   "outputs": [
    {
     "data": {
      "text/html": [
       "<div>\n",
       "<style scoped>\n",
       "    .dataframe tbody tr th:only-of-type {\n",
       "        vertical-align: middle;\n",
       "    }\n",
       "\n",
       "    .dataframe tbody tr th {\n",
       "        vertical-align: top;\n",
       "    }\n",
       "\n",
       "    .dataframe thead th {\n",
       "        text-align: right;\n",
       "    }\n",
       "</style>\n",
       "<table border=\"1\" class=\"dataframe\">\n",
       "  <thead>\n",
       "    <tr style=\"text-align: right;\">\n",
       "      <th></th>\n",
       "      <th>Technology Tool Category</th>\n",
       "      <th>Technology Tool Category Description</th>\n",
       "      <th>Technology Tool</th>\n",
       "      <th>Technology Tool Description</th>\n",
       "      <th>Technology Tool Extended Description</th>\n",
       "      <th>Occupation Type_x</th>\n",
       "      <th>ANZSCO Code</th>\n",
       "      <th>Sub-Profile Code_x</th>\n",
       "      <th>ANZSCO Title_x</th>\n",
       "      <th>Emerging/Trending Flag</th>\n",
       "      <th>ANZSCO Description</th>\n",
       "    </tr>\n",
       "  </thead>\n",
       "  <tbody>\n",
       "    <tr>\n",
       "      <th>2017</th>\n",
       "      <td>data analysis reporting platforms</td>\n",
       "      <td>software data analysis produce electronic reports</td>\n",
       "      <td>statistical data analysis software</td>\n",
       "      <td>software used support process analysing modell...</td>\n",
       "      <td>statistical data analysis software encompasses...</td>\n",
       "      <td>anzsco 4</td>\n",
       "      <td>1111</td>\n",
       "      <td>NaN</td>\n",
       "      <td>chief executives managing directors</td>\n",
       "      <td>NaN</td>\n",
       "      <td>chief executives managing directors determine ...</td>\n",
       "    </tr>\n",
       "    <tr>\n",
       "      <th>447</th>\n",
       "      <td>communication technologies</td>\n",
       "      <td>data voice and/or video communication platforms</td>\n",
       "      <td>audio/video conferencing software</td>\n",
       "      <td>software collaboration using video audio confe...</td>\n",
       "      <td>audio/video conferencing software enables peop...</td>\n",
       "      <td>anzsco 4</td>\n",
       "      <td>1111</td>\n",
       "      <td>NaN</td>\n",
       "      <td>chief executives managing directors</td>\n",
       "      <td>NaN</td>\n",
       "      <td>chief executives managing directors determine ...</td>\n",
       "    </tr>\n",
       "    <tr>\n",
       "      <th>8663</th>\n",
       "      <td>logistics fleet management systems</td>\n",
       "      <td>systems logistics vehicle despatch fleet manag...</td>\n",
       "      <td>procurement supply chain management systems</td>\n",
       "      <td>software used help manage production-to-custom...</td>\n",
       "      <td>procurement supply chain management encompasse...</td>\n",
       "      <td>anzsco 4</td>\n",
       "      <td>1111</td>\n",
       "      <td>NaN</td>\n",
       "      <td>chief executives managing directors</td>\n",
       "      <td>NaN</td>\n",
       "      <td>chief executives managing directors determine ...</td>\n",
       "    </tr>\n",
       "    <tr>\n",
       "      <th>9153</th>\n",
       "      <td>payroll human resource management platforms</td>\n",
       "      <td>systems undertake human resource management pe...</td>\n",
       "      <td>human resources software</td>\n",
       "      <td>software systems used manage employee human re...</td>\n",
       "      <td>human resources software encompasses software ...</td>\n",
       "      <td>anzsco 4</td>\n",
       "      <td>1111</td>\n",
       "      <td>NaN</td>\n",
       "      <td>chief executives managing directors</td>\n",
       "      <td>NaN</td>\n",
       "      <td>chief executives managing directors determine ...</td>\n",
       "    </tr>\n",
       "    <tr>\n",
       "      <th>3497</th>\n",
       "      <td>financial management service delivery platforms</td>\n",
       "      <td>systems undertake financial management reporti...</td>\n",
       "      <td>accounting financial management systems</td>\n",
       "      <td>software managing accounts inventory financial...</td>\n",
       "      <td>accounting financial management systems encomp...</td>\n",
       "      <td>anzsco 4</td>\n",
       "      <td>1111</td>\n",
       "      <td>NaN</td>\n",
       "      <td>chief executives managing directors</td>\n",
       "      <td>NaN</td>\n",
       "      <td>chief executives managing directors determine ...</td>\n",
       "    </tr>\n",
       "  </tbody>\n",
       "</table>\n",
       "</div>"
      ],
      "text/plain": [
       "                             Technology Tool Category  \\\n",
       "2017                data analysis reporting platforms   \n",
       "447                        communication technologies   \n",
       "8663               logistics fleet management systems   \n",
       "9153      payroll human resource management platforms   \n",
       "3497  financial management service delivery platforms   \n",
       "\n",
       "                   Technology Tool Category Description  \\\n",
       "2017  software data analysis produce electronic reports   \n",
       "447     data voice and/or video communication platforms   \n",
       "8663  systems logistics vehicle despatch fleet manag...   \n",
       "9153  systems undertake human resource management pe...   \n",
       "3497  systems undertake financial management reporti...   \n",
       "\n",
       "                                  Technology Tool  \\\n",
       "2017           statistical data analysis software   \n",
       "447             audio/video conferencing software   \n",
       "8663  procurement supply chain management systems   \n",
       "9153                     human resources software   \n",
       "3497      accounting financial management systems   \n",
       "\n",
       "                            Technology Tool Description  \\\n",
       "2017  software used support process analysing modell...   \n",
       "447   software collaboration using video audio confe...   \n",
       "8663  software used help manage production-to-custom...   \n",
       "9153  software systems used manage employee human re...   \n",
       "3497  software managing accounts inventory financial...   \n",
       "\n",
       "                   Technology Tool Extended Description Occupation Type_x  \\\n",
       "2017  statistical data analysis software encompasses...          anzsco 4   \n",
       "447   audio/video conferencing software enables peop...          anzsco 4   \n",
       "8663  procurement supply chain management encompasse...          anzsco 4   \n",
       "9153  human resources software encompasses software ...          anzsco 4   \n",
       "3497  accounting financial management systems encomp...          anzsco 4   \n",
       "\n",
       "      ANZSCO Code Sub-Profile Code_x                       ANZSCO Title_x  \\\n",
       "2017         1111                NaN  chief executives managing directors   \n",
       "447          1111                NaN  chief executives managing directors   \n",
       "8663         1111                NaN  chief executives managing directors   \n",
       "9153         1111                NaN  chief executives managing directors   \n",
       "3497         1111                NaN  chief executives managing directors   \n",
       "\n",
       "     Emerging/Trending Flag                                 ANZSCO Description  \n",
       "2017                    NaN  chief executives managing directors determine ...  \n",
       "447                     NaN  chief executives managing directors determine ...  \n",
       "8663                    NaN  chief executives managing directors determine ...  \n",
       "9153                    NaN  chief executives managing directors determine ...  \n",
       "3497                    NaN  chief executives managing directors determine ...  "
      ]
     },
     "execution_count": 170,
     "metadata": {},
     "output_type": "execute_result"
    }
   ],
   "source": [
    "tt_merged_df.sort_values(by=\"ANZSCO Code\", inplace=True)\n",
    "tt_merged_df.head()"
   ]
  },
  {
   "cell_type": "markdown",
   "metadata": {},
   "source": [
    "### ST"
   ]
  },
  {
   "cell_type": "code",
   "execution_count": 171,
   "metadata": {},
   "outputs": [
    {
     "name": "stdout",
     "output_type": "stream",
     "text": [
      "<class 'pandas.core.frame.DataFrame'>\n",
      "RangeIndex: 67772 entries, 0 to 67771\n",
      "Data columns (total 19 columns):\n",
      " #   Column                       Non-Null Count  Dtype  \n",
      "---  ------                       --------------  -----  \n",
      " 0   Occupation Type_x            67772 non-null  object \n",
      " 1   ANZSCO Code                  67772 non-null  int64  \n",
      " 2   Sub-Profile Code_x           39773 non-null  object \n",
      " 3   ANZSCO Title_x               67772 non-null  object \n",
      " 4   Specialist Task              67772 non-null  object \n",
      " 5   % of time spent on task      27999 non-null  float64\n",
      " 6   Emerging/\n",
      "Trending Flag      1700 non-null   object \n",
      " 7   Specialist Cluster_x         67772 non-null  object \n",
      " 8    % of time spent on cluster  27999 non-null  float64\n",
      " 9   Cluster Family_x             67772 non-null  object \n",
      " 10  % of time spent on family    27999 non-null  float64\n",
      " 11  Skills Statement             67772 non-null  object \n",
      " 12  Specialist Cluster_y         67772 non-null  object \n",
      " 13  Cluster Family_y             67772 non-null  object \n",
      " 14  Skill Statement              67772 non-null  object \n",
      " 15  Occupation Type_y            67772 non-null  object \n",
      " 16  Sub-Profile Code_y           37322 non-null  object \n",
      " 17  ANZSCO Title_y               67772 non-null  object \n",
      " 18  ANZSCO Description           67772 non-null  object \n",
      "dtypes: float64(3), int64(1), object(15)\n",
      "memory usage: 9.8+ MB\n"
     ]
    }
   ],
   "source": [
    "st_merged_df.info()"
   ]
  },
  {
   "cell_type": "code",
   "execution_count": 172,
   "metadata": {},
   "outputs": [
    {
     "data": {
      "text/plain": [
       "Index(['Occupation Type_x', 'ANZSCO Code', 'Sub-Profile Code_x',\n",
       "       'ANZSCO Title_x', 'Specialist Task', '% of time spent on task',\n",
       "       'Emerging/\\nTrending Flag', 'Specialist Cluster_x',\n",
       "       ' % of time spent on cluster', 'Cluster Family_x',\n",
       "       '% of time spent on family', 'Skills Statement', 'ANZSCO Description'],\n",
       "      dtype='object')"
      ]
     },
     "execution_count": 172,
     "metadata": {},
     "output_type": "execute_result"
    }
   ],
   "source": [
    "st_merged_df.drop(columns=[ \"Sub-Profile Code_y\", \"Specialist Cluster_y\", \"Cluster Family_y\" , \"ANZSCO Title_y\", \"Occupation Type_y\", \"Skill Statement\" ], inplace=True)\n",
    "st_merged_df.columns"
   ]
  },
  {
   "cell_type": "code",
   "execution_count": 173,
   "metadata": {},
   "outputs": [
    {
     "name": "stdout",
     "output_type": "stream",
     "text": [
      "The number of Specialist Task in ASC data are: 1686\n",
      "The number of Specialist Clusters in ASC data are: 271\n",
      "The number of Cluster Families in ASC data are: 30\n"
     ]
    }
   ],
   "source": [
    "print(\"The number of Specialist Task in ASC data are:\", st_merged_df['Specialist Task'].nunique())\n",
    "print(\"The number of Specialist Clusters in ASC data are:\", st_merged_df['Specialist Cluster_x'].nunique())\n",
    "print(\"The number of Cluster Families in ASC data are:\", st_merged_df['Cluster Family_x'].nunique())\n",
    "\n"
   ]
  },
  {
   "cell_type": "code",
   "execution_count": 174,
   "metadata": {},
   "outputs": [
    {
     "name": "stdout",
     "output_type": "stream",
     "text": [
      "There are 4 types of Occupations listed in Specialist Task Data\n",
      "These occupations are: ['anzsco 4' 'anzsco 6' 'specialisation' 'nec category occupation']\n",
      "There are 1177 different occupations listed\n"
     ]
    }
   ],
   "source": [
    "print(\"There are\",st_merged_df['Occupation Type_x'].nunique(), \"types of Occupations listed in Specialist Task Data\")\n",
    "print('These occupations are:', st_merged_df['Occupation Type_x'].unique())\n",
    "print(\"There are\",st_merged_df['ANZSCO Code'].nunique(), \"different occupations listed\")"
   ]
  },
  {
   "cell_type": "code",
   "execution_count": 175,
   "metadata": {},
   "outputs": [
    {
     "name": "stdout",
     "output_type": "stream",
     "text": [
      "<class 'pandas.core.frame.DataFrame'>\n",
      "RangeIndex: 67772 entries, 0 to 67771\n",
      "Data columns (total 13 columns):\n",
      " #   Column                       Non-Null Count  Dtype  \n",
      "---  ------                       --------------  -----  \n",
      " 0   Occupation Type_x            67772 non-null  object \n",
      " 1   ANZSCO Code                  67772 non-null  int64  \n",
      " 2   Sub-Profile Code_x           39773 non-null  object \n",
      " 3   ANZSCO Title_x               67772 non-null  object \n",
      " 4   Specialist Task              67772 non-null  object \n",
      " 5   % of time spent on task      27999 non-null  float64\n",
      " 6   Emerging/\n",
      "Trending Flag      1700 non-null   object \n",
      " 7   Specialist Cluster_x         67772 non-null  object \n",
      " 8    % of time spent on cluster  27999 non-null  float64\n",
      " 9   Cluster Family_x             67772 non-null  object \n",
      " 10  % of time spent on family    27999 non-null  float64\n",
      " 11  Skills Statement             67772 non-null  object \n",
      " 12  ANZSCO Description           67772 non-null  object \n",
      "dtypes: float64(3), int64(1), object(9)\n",
      "memory usage: 6.7+ MB\n"
     ]
    }
   ],
   "source": [
    "st_merged_df.info()"
   ]
  },
  {
   "cell_type": "code",
   "execution_count": 176,
   "metadata": {},
   "outputs": [
    {
     "data": {
      "text/html": [
       "<div>\n",
       "<style scoped>\n",
       "    .dataframe tbody tr th:only-of-type {\n",
       "        vertical-align: middle;\n",
       "    }\n",
       "\n",
       "    .dataframe tbody tr th {\n",
       "        vertical-align: top;\n",
       "    }\n",
       "\n",
       "    .dataframe thead th {\n",
       "        text-align: right;\n",
       "    }\n",
       "</style>\n",
       "<table border=\"1\" class=\"dataframe\">\n",
       "  <thead>\n",
       "    <tr style=\"text-align: right;\">\n",
       "      <th></th>\n",
       "      <th>Occupation Type_x</th>\n",
       "      <th>ANZSCO Code</th>\n",
       "      <th>Sub-Profile Code_x</th>\n",
       "      <th>ANZSCO Title_x</th>\n",
       "      <th>Specialist Task</th>\n",
       "      <th>% of time spent on task</th>\n",
       "      <th>Emerging/\\nTrending Flag</th>\n",
       "      <th>Specialist Cluster_x</th>\n",
       "      <th>% of time spent on cluster</th>\n",
       "      <th>Cluster Family_x</th>\n",
       "      <th>% of time spent on family</th>\n",
       "      <th>Skills Statement</th>\n",
       "      <th>ANZSCO Description</th>\n",
       "    </tr>\n",
       "  </thead>\n",
       "  <tbody>\n",
       "    <tr>\n",
       "      <th>0</th>\n",
       "      <td>anzsco 4</td>\n",
       "      <td>1111</td>\n",
       "      <td>NaN</td>\n",
       "      <td>chief executives managing directors</td>\n",
       "      <td>direct manage financial activities operations</td>\n",
       "      <td>0.1302</td>\n",
       "      <td>NaN</td>\n",
       "      <td>manage monitor undertake financial activities</td>\n",
       "      <td>0.1644</td>\n",
       "      <td>business operations financial activities</td>\n",
       "      <td>0.5322</td>\n",
       "      <td>direct oversee financial operations business o...</td>\n",
       "      <td>chief executives managing directors determine ...</td>\n",
       "    </tr>\n",
       "    <tr>\n",
       "      <th>1</th>\n",
       "      <td>anzsco 4</td>\n",
       "      <td>1111</td>\n",
       "      <td>NaN</td>\n",
       "      <td>chief executives managing directors</td>\n",
       "      <td>direct department organisational activities</td>\n",
       "      <td>0.1117</td>\n",
       "      <td>trending</td>\n",
       "      <td>manage services staff activities</td>\n",
       "      <td>0.2128</td>\n",
       "      <td>business operations financial activities</td>\n",
       "      <td>0.5322</td>\n",
       "      <td>direct oversee activities work unit department...</td>\n",
       "      <td>chief executives managing directors determine ...</td>\n",
       "    </tr>\n",
       "    <tr>\n",
       "      <th>2</th>\n",
       "      <td>anzsco 4</td>\n",
       "      <td>1111</td>\n",
       "      <td>NaN</td>\n",
       "      <td>chief executives managing directors</td>\n",
       "      <td>direct sales marketing customer service activi...</td>\n",
       "      <td>0.0808</td>\n",
       "      <td>NaN</td>\n",
       "      <td>manage services staff activities</td>\n",
       "      <td>0.2128</td>\n",
       "      <td>business operations financial activities</td>\n",
       "      <td>0.5322</td>\n",
       "      <td>direct oversee sales marketing customer servic...</td>\n",
       "      <td>chief executives managing directors determine ...</td>\n",
       "    </tr>\n",
       "    <tr>\n",
       "      <th>3</th>\n",
       "      <td>anzsco 4</td>\n",
       "      <td>1111</td>\n",
       "      <td>NaN</td>\n",
       "      <td>chief executives managing directors</td>\n",
       "      <td>communicate others arrange coordinate conduct ...</td>\n",
       "      <td>0.0665</td>\n",
       "      <td>NaN</td>\n",
       "      <td>communicate collaborate others</td>\n",
       "      <td>0.0750</td>\n",
       "      <td>communication collaboration</td>\n",
       "      <td>0.0890</td>\n",
       "      <td>coordinate others order plan organise coordina...</td>\n",
       "      <td>chief executives managing directors determine ...</td>\n",
       "    </tr>\n",
       "    <tr>\n",
       "      <th>4</th>\n",
       "      <td>anzsco 4</td>\n",
       "      <td>1111</td>\n",
       "      <td>NaN</td>\n",
       "      <td>chief executives managing directors</td>\n",
       "      <td>analyse data assess operational project effect...</td>\n",
       "      <td>0.0651</td>\n",
       "      <td>NaN</td>\n",
       "      <td>use data inform operational decisions</td>\n",
       "      <td>0.1009</td>\n",
       "      <td>data analytics databases</td>\n",
       "      <td>0.1370</td>\n",
       "      <td>analyse qualitative quantitative data arising ...</td>\n",
       "      <td>chief executives managing directors determine ...</td>\n",
       "    </tr>\n",
       "  </tbody>\n",
       "</table>\n",
       "</div>"
      ],
      "text/plain": [
       "  Occupation Type_x  ANZSCO Code Sub-Profile Code_x  \\\n",
       "0          anzsco 4         1111                NaN   \n",
       "1          anzsco 4         1111                NaN   \n",
       "2          anzsco 4         1111                NaN   \n",
       "3          anzsco 4         1111                NaN   \n",
       "4          anzsco 4         1111                NaN   \n",
       "\n",
       "                        ANZSCO Title_x  \\\n",
       "0  chief executives managing directors   \n",
       "1  chief executives managing directors   \n",
       "2  chief executives managing directors   \n",
       "3  chief executives managing directors   \n",
       "4  chief executives managing directors   \n",
       "\n",
       "                                     Specialist Task  % of time spent on task  \\\n",
       "0      direct manage financial activities operations                   0.1302   \n",
       "1        direct department organisational activities                   0.1117   \n",
       "2  direct sales marketing customer service activi...                   0.0808   \n",
       "3  communicate others arrange coordinate conduct ...                   0.0665   \n",
       "4  analyse data assess operational project effect...                   0.0651   \n",
       "\n",
       "  Emerging/\\nTrending Flag                           Specialist Cluster_x  \\\n",
       "0                      NaN  manage monitor undertake financial activities   \n",
       "1                 trending               manage services staff activities   \n",
       "2                      NaN               manage services staff activities   \n",
       "3                      NaN                 communicate collaborate others   \n",
       "4                      NaN          use data inform operational decisions   \n",
       "\n",
       "    % of time spent on cluster                          Cluster Family_x  \\\n",
       "0                       0.1644  business operations financial activities   \n",
       "1                       0.2128  business operations financial activities   \n",
       "2                       0.2128  business operations financial activities   \n",
       "3                       0.0750               communication collaboration   \n",
       "4                       0.1009                  data analytics databases   \n",
       "\n",
       "   % of time spent on family  \\\n",
       "0                     0.5322   \n",
       "1                     0.5322   \n",
       "2                     0.5322   \n",
       "3                     0.0890   \n",
       "4                     0.1370   \n",
       "\n",
       "                                    Skills Statement  \\\n",
       "0  direct oversee financial operations business o...   \n",
       "1  direct oversee activities work unit department...   \n",
       "2  direct oversee sales marketing customer servic...   \n",
       "3  coordinate others order plan organise coordina...   \n",
       "4  analyse qualitative quantitative data arising ...   \n",
       "\n",
       "                                  ANZSCO Description  \n",
       "0  chief executives managing directors determine ...  \n",
       "1  chief executives managing directors determine ...  \n",
       "2  chief executives managing directors determine ...  \n",
       "3  chief executives managing directors determine ...  \n",
       "4  chief executives managing directors determine ...  "
      ]
     },
     "execution_count": 176,
     "metadata": {},
     "output_type": "execute_result"
    }
   ],
   "source": [
    "st_merged_df.head()"
   ]
  },
  {
   "cell_type": "markdown",
   "metadata": {},
   "source": [
    "### CC"
   ]
  },
  {
   "cell_type": "code",
   "execution_count": 177,
   "metadata": {},
   "outputs": [
    {
     "name": "stdout",
     "output_type": "stream",
     "text": [
      "<class 'pandas.core.frame.DataFrame'>\n",
      "RangeIndex: 11030 entries, 0 to 11029\n",
      "Data columns (total 14 columns):\n",
      " #   Column                       Non-Null Count  Dtype  \n",
      "---  ------                       --------------  -----  \n",
      " 0   Occupation Type_x            11030 non-null  object \n",
      " 1   ANZSCO Code                  11030 non-null  int64  \n",
      " 2   Sub-Profile Code_x           0 non-null      float64\n",
      " 3   ANZSCO Title                 11030 non-null  object \n",
      " 4   Core Competency              11030 non-null  object \n",
      " 5   Score                        11030 non-null  int64  \n",
      " 6   Proficiency Level            11030 non-null  object \n",
      " 7   Anchor Value                 11030 non-null  object \n",
      " 8   Occupation Type_y            11030 non-null  object \n",
      " 9   Sub-Profile Code_y           0 non-null      object \n",
      " 10  ANZSCO Description           11030 non-null  object \n",
      " 11  Core Competency Description  11030 non-null  object \n",
      " 12  Proficiency Level_desc       11030 non-null  object \n",
      " 13  Anchor Value_desc            11030 non-null  object \n",
      "dtypes: float64(1), int64(2), object(11)\n",
      "memory usage: 1.2+ MB\n"
     ]
    }
   ],
   "source": [
    "cc_merged_df.info()"
   ]
  },
  {
   "cell_type": "code",
   "execution_count": 178,
   "metadata": {},
   "outputs": [
    {
     "data": {
      "text/plain": [
       "Index(['Occupation Type_x', 'ANZSCO Code', 'Sub-Profile Code_x',\n",
       "       'ANZSCO Title', 'Core Competency', 'Score', 'Proficiency Level',\n",
       "       'Anchor Value', 'ANZSCO Description', 'Core Competency Description',\n",
       "       'Proficiency Level_desc', 'Anchor Value_desc'],\n",
       "      dtype='object')"
      ]
     },
     "execution_count": 178,
     "metadata": {},
     "output_type": "execute_result"
    }
   ],
   "source": [
    "cc_merged_df.drop(columns=[ \"Sub-Profile Code_y\" , \"Occupation Type_y\"], inplace=True)\n",
    "cc_merged_df.columns"
   ]
  },
  {
   "cell_type": "code",
   "execution_count": 179,
   "metadata": {},
   "outputs": [
    {
     "data": {
      "text/html": [
       "<div>\n",
       "<style scoped>\n",
       "    .dataframe tbody tr th:only-of-type {\n",
       "        vertical-align: middle;\n",
       "    }\n",
       "\n",
       "    .dataframe tbody tr th {\n",
       "        vertical-align: top;\n",
       "    }\n",
       "\n",
       "    .dataframe thead th {\n",
       "        text-align: right;\n",
       "    }\n",
       "</style>\n",
       "<table border=\"1\" class=\"dataframe\">\n",
       "  <thead>\n",
       "    <tr style=\"text-align: right;\">\n",
       "      <th></th>\n",
       "      <th>Occupation Type_x</th>\n",
       "      <th>ANZSCO Code</th>\n",
       "      <th>Sub-Profile Code_x</th>\n",
       "      <th>ANZSCO Title</th>\n",
       "      <th>Core Competency</th>\n",
       "      <th>Score</th>\n",
       "      <th>Proficiency Level</th>\n",
       "      <th>Anchor Value</th>\n",
       "      <th>ANZSCO Description</th>\n",
       "      <th>Core Competency Description</th>\n",
       "      <th>Proficiency Level_desc</th>\n",
       "      <th>Anchor Value_desc</th>\n",
       "    </tr>\n",
       "  </thead>\n",
       "  <tbody>\n",
       "    <tr>\n",
       "      <th>0</th>\n",
       "      <td>anzsco 6</td>\n",
       "      <td>422111</td>\n",
       "      <td>NaN</td>\n",
       "      <td>aboriginal torres strait islander education wo...</td>\n",
       "      <td>digital engagement</td>\n",
       "      <td>5</td>\n",
       "      <td>intermediate</td>\n",
       "      <td>build maintain effective online profile career...</td>\n",
       "      <td>assists aboriginal torres strait islander stud...</td>\n",
       "      <td>identifying using technology (including hardwa...</td>\n",
       "      <td>intermediate</td>\n",
       "      <td>build maintain effective online profile career...</td>\n",
       "    </tr>\n",
       "    <tr>\n",
       "      <th>1</th>\n",
       "      <td>anzsco 6</td>\n",
       "      <td>422111</td>\n",
       "      <td>NaN</td>\n",
       "      <td>aboriginal torres strait islander education wo...</td>\n",
       "      <td>initiative innovation</td>\n",
       "      <td>8</td>\n",
       "      <td>high</td>\n",
       "      <td>negotiate price sales terms prepare contract h...</td>\n",
       "      <td>assists aboriginal torres strait islander stud...</td>\n",
       "      <td>taking responsibilities challenges able start ...</td>\n",
       "      <td>high</td>\n",
       "      <td>negotiate price sales terms prepare contract h...</td>\n",
       "    </tr>\n",
       "    <tr>\n",
       "      <th>2</th>\n",
       "      <td>anzsco 6</td>\n",
       "      <td>422111</td>\n",
       "      <td>NaN</td>\n",
       "      <td>aboriginal torres strait islander education wo...</td>\n",
       "      <td>learning</td>\n",
       "      <td>5</td>\n",
       "      <td>intermediate</td>\n",
       "      <td>learn new filing system groups documents type ...</td>\n",
       "      <td>assists aboriginal torres strait islander stud...</td>\n",
       "      <td>understanding implications new information cur...</td>\n",
       "      <td>intermediate</td>\n",
       "      <td>learn new filing system groups documents type ...</td>\n",
       "    </tr>\n",
       "    <tr>\n",
       "      <th>3</th>\n",
       "      <td>anzsco 6</td>\n",
       "      <td>422111</td>\n",
       "      <td>NaN</td>\n",
       "      <td>aboriginal torres strait islander education wo...</td>\n",
       "      <td>numeracy</td>\n",
       "      <td>4</td>\n",
       "      <td>intermediate</td>\n",
       "      <td>use blood pressure machine accurately record r...</td>\n",
       "      <td>assists aboriginal torres strait islander stud...</td>\n",
       "      <td>using mathematics solve problems interpreting ...</td>\n",
       "      <td>intermediate</td>\n",
       "      <td>use blood pressure machine accurately record r...</td>\n",
       "    </tr>\n",
       "    <tr>\n",
       "      <th>4</th>\n",
       "      <td>anzsco 6</td>\n",
       "      <td>422111</td>\n",
       "      <td>NaN</td>\n",
       "      <td>aboriginal torres strait islander education wo...</td>\n",
       "      <td>oral communication</td>\n",
       "      <td>7</td>\n",
       "      <td>intermediate</td>\n",
       "      <td>participate work meeting ask appropriate follo...</td>\n",
       "      <td>assists aboriginal torres strait islander stud...</td>\n",
       "      <td>ability communicate information ideas speaking...</td>\n",
       "      <td>intermediate</td>\n",
       "      <td>participate work meeting ask appropriate follo...</td>\n",
       "    </tr>\n",
       "  </tbody>\n",
       "</table>\n",
       "</div>"
      ],
      "text/plain": [
       "  Occupation Type_x  ANZSCO Code  Sub-Profile Code_x  \\\n",
       "0          anzsco 6       422111                 NaN   \n",
       "1          anzsco 6       422111                 NaN   \n",
       "2          anzsco 6       422111                 NaN   \n",
       "3          anzsco 6       422111                 NaN   \n",
       "4          anzsco 6       422111                 NaN   \n",
       "\n",
       "                                        ANZSCO Title        Core Competency  \\\n",
       "0  aboriginal torres strait islander education wo...     digital engagement   \n",
       "1  aboriginal torres strait islander education wo...  initiative innovation   \n",
       "2  aboriginal torres strait islander education wo...               learning   \n",
       "3  aboriginal torres strait islander education wo...               numeracy   \n",
       "4  aboriginal torres strait islander education wo...     oral communication   \n",
       "\n",
       "   Score Proficiency Level                                       Anchor Value  \\\n",
       "0      5      intermediate  build maintain effective online profile career...   \n",
       "1      8              high  negotiate price sales terms prepare contract h...   \n",
       "2      5      intermediate  learn new filing system groups documents type ...   \n",
       "3      4      intermediate  use blood pressure machine accurately record r...   \n",
       "4      7      intermediate  participate work meeting ask appropriate follo...   \n",
       "\n",
       "                                  ANZSCO Description  \\\n",
       "0  assists aboriginal torres strait islander stud...   \n",
       "1  assists aboriginal torres strait islander stud...   \n",
       "2  assists aboriginal torres strait islander stud...   \n",
       "3  assists aboriginal torres strait islander stud...   \n",
       "4  assists aboriginal torres strait islander stud...   \n",
       "\n",
       "                         Core Competency Description Proficiency Level_desc  \\\n",
       "0  identifying using technology (including hardwa...           intermediate   \n",
       "1  taking responsibilities challenges able start ...                   high   \n",
       "2  understanding implications new information cur...           intermediate   \n",
       "3  using mathematics solve problems interpreting ...           intermediate   \n",
       "4  ability communicate information ideas speaking...           intermediate   \n",
       "\n",
       "                                   Anchor Value_desc  \n",
       "0  build maintain effective online profile career...  \n",
       "1  negotiate price sales terms prepare contract h...  \n",
       "2  learn new filing system groups documents type ...  \n",
       "3  use blood pressure machine accurately record r...  \n",
       "4  participate work meeting ask appropriate follo...  "
      ]
     },
     "execution_count": 179,
     "metadata": {},
     "output_type": "execute_result"
    }
   ],
   "source": [
    "cc_merged_df.head()"
   ]
  },
  {
   "cell_type": "code",
   "execution_count": 180,
   "metadata": {},
   "outputs": [
    {
     "name": "stdout",
     "output_type": "stream",
     "text": [
      "10\n",
      "['digital engagement' 'initiative innovation' 'learning' 'numeracy'\n",
      " 'oral communication' 'planning organising' 'problem solving' 'reading'\n",
      " 'teamwork' 'writing']\n"
     ]
    }
   ],
   "source": [
    "print(cc_merged_df['Core Competency'].nunique())\n",
    "print(cc_merged_df['Core Competency'].unique())"
   ]
  },
  {
   "cell_type": "code",
   "execution_count": 181,
   "metadata": {},
   "outputs": [
    {
     "name": "stdout",
     "output_type": "stream",
     "text": [
      "There are 2 types of Occupations listed in Core Competency Data\n",
      "These occupations are: ['anzsco 6' 'anzsco 4']\n",
      "There are 1101 different occupations listed\n"
     ]
    }
   ],
   "source": [
    "print(\"There are\",cc_merged_df['Occupation Type_x'].nunique(), \"types of Occupations listed in Core Competency Data\")\n",
    "print('These occupations are:', cc_merged_df['Occupation Type_x'].unique())\n",
    "print(\"There are\",cc_merged_df['ANZSCO Code'].nunique(), \"different occupations listed\")"
   ]
  },
  {
   "cell_type": "code",
   "execution_count": 182,
   "metadata": {},
   "outputs": [
    {
     "name": "stdout",
     "output_type": "stream",
     "text": [
      "✅ All ANZSCO Codes have exactly 10 core competencies.\n"
     ]
    }
   ],
   "source": [
    "cc_counts = cc_merged_df.groupby(\"ANZSCO Code\")[\"Core Competency\"].nunique().sort_values(ascending=False)\n",
    "\n",
    "\n",
    "if (cc_counts == 10).all():\n",
    "    print(\"✅ All ANZSCO Codes have exactly 10 core competencies.\")\n",
    "else:\n",
    "    print(\"❌ Some ANZSCO Codes have more or less than 10 core competencies.\")\n"
   ]
  },
  {
   "cell_type": "markdown",
   "metadata": {},
   "source": [
    "### TT"
   ]
  },
  {
   "cell_type": "code",
   "execution_count": 183,
   "metadata": {},
   "outputs": [
    {
     "name": "stdout",
     "output_type": "stream",
     "text": [
      "<class 'pandas.core.frame.DataFrame'>\n",
      "Index: 12911 entries, 2017 to 210\n",
      "Data columns (total 11 columns):\n",
      " #   Column                                Non-Null Count  Dtype \n",
      "---  ------                                --------------  ----- \n",
      " 0   Technology Tool Category              12911 non-null  object\n",
      " 1   Technology Tool Category Description  12911 non-null  object\n",
      " 2   Technology Tool                       12911 non-null  object\n",
      " 3   Technology Tool Description           12911 non-null  object\n",
      " 4   Technology Tool Extended Description  12911 non-null  object\n",
      " 5   Occupation Type_x                     12911 non-null  object\n",
      " 6   ANZSCO Code                           12911 non-null  int64 \n",
      " 7   Sub-Profile Code_x                    7543 non-null   object\n",
      " 8   ANZSCO Title_x                        12911 non-null  object\n",
      " 9   Emerging/Trending Flag                556 non-null    object\n",
      " 10  ANZSCO Description                    12906 non-null  object\n",
      "dtypes: int64(1), object(10)\n",
      "memory usage: 1.2+ MB\n"
     ]
    }
   ],
   "source": [
    "tt_merged_df.info()"
   ]
  },
  {
   "cell_type": "markdown",
   "metadata": {},
   "source": [
    "\"\"\"Technology Tool Category → Category of technology tools\n",
    "Technology Tool Category Description → Describes tool category\n",
    "Technology Tool → Actual tool name\n",
    "Technology Tool Description → Short description\n",
    "Technology Tool Extended Description → More details on tool\n",
    "ANZSCO Title_x → Occupation title\n",
    "ANZSCO Description → Description of the occupation\"\"\""
   ]
  },
  {
   "cell_type": "code",
   "execution_count": 185,
   "metadata": {},
   "outputs": [
    {
     "name": "stdout",
     "output_type": "stream",
     "text": [
      "<class 'pandas.core.frame.DataFrame'>\n",
      "Index: 12911 entries, 2017 to 210\n",
      "Data columns (total 11 columns):\n",
      " #   Column                                Non-Null Count  Dtype \n",
      "---  ------                                --------------  ----- \n",
      " 0   Technology Tool Category              12911 non-null  object\n",
      " 1   Technology Tool Category Description  12911 non-null  object\n",
      " 2   Technology Tool                       12911 non-null  object\n",
      " 3   Technology Tool Description           12911 non-null  object\n",
      " 4   Technology Tool Extended Description  12911 non-null  object\n",
      " 5   Occupation Type_x                     12911 non-null  object\n",
      " 6   ANZSCO Code                           12911 non-null  int64 \n",
      " 7   Sub-Profile Code_x                    7543 non-null   object\n",
      " 8   ANZSCO Title_x                        12911 non-null  object\n",
      " 9   Emerging/Trending Flag                556 non-null    object\n",
      " 10  ANZSCO Description                    12906 non-null  object\n",
      "dtypes: int64(1), object(10)\n",
      "memory usage: 1.2+ MB\n"
     ]
    }
   ],
   "source": [
    "tt_merged_df.info()"
   ]
  },
  {
   "cell_type": "code",
   "execution_count": null,
   "metadata": {},
   "outputs": [
    {
     "ename": "KeyError",
     "evalue": "'Technology Tool Category'",
     "output_type": "error",
     "traceback": [
      "\u001b[31m---------------------------------------------------------------------------\u001b[39m",
      "\u001b[31mKeyError\u001b[39m                                  Traceback (most recent call last)",
      "\u001b[36mFile \u001b[39m\u001b[32md:\\Desktop\\Sem 3\\ANLP\\TextAnalysis\\.venv\\Lib\\site-packages\\pandas\\core\\indexes\\base.py:3805\u001b[39m, in \u001b[36mIndex.get_loc\u001b[39m\u001b[34m(self, key)\u001b[39m\n\u001b[32m   3804\u001b[39m \u001b[38;5;28;01mtry\u001b[39;00m:\n\u001b[32m-> \u001b[39m\u001b[32m3805\u001b[39m     \u001b[38;5;28;01mreturn\u001b[39;00m \u001b[38;5;28;43mself\u001b[39;49m\u001b[43m.\u001b[49m\u001b[43m_engine\u001b[49m\u001b[43m.\u001b[49m\u001b[43mget_loc\u001b[49m\u001b[43m(\u001b[49m\u001b[43mcasted_key\u001b[49m\u001b[43m)\u001b[49m\n\u001b[32m   3806\u001b[39m \u001b[38;5;28;01mexcept\u001b[39;00m \u001b[38;5;167;01mKeyError\u001b[39;00m \u001b[38;5;28;01mas\u001b[39;00m err:\n",
      "\u001b[36mFile \u001b[39m\u001b[32mindex.pyx:167\u001b[39m, in \u001b[36mpandas._libs.index.IndexEngine.get_loc\u001b[39m\u001b[34m()\u001b[39m\n",
      "\u001b[36mFile \u001b[39m\u001b[32mindex.pyx:196\u001b[39m, in \u001b[36mpandas._libs.index.IndexEngine.get_loc\u001b[39m\u001b[34m()\u001b[39m\n",
      "\u001b[36mFile \u001b[39m\u001b[32mpandas\\\\_libs\\\\hashtable_class_helper.pxi:7081\u001b[39m, in \u001b[36mpandas._libs.hashtable.PyObjectHashTable.get_item\u001b[39m\u001b[34m()\u001b[39m\n",
      "\u001b[36mFile \u001b[39m\u001b[32mpandas\\\\_libs\\\\hashtable_class_helper.pxi:7089\u001b[39m, in \u001b[36mpandas._libs.hashtable.PyObjectHashTable.get_item\u001b[39m\u001b[34m()\u001b[39m\n",
      "\u001b[31mKeyError\u001b[39m: 'Technology Tool Category'",
      "\nThe above exception was the direct cause of the following exception:\n",
      "\u001b[31mKeyError\u001b[39m                                  Traceback (most recent call last)",
      "\u001b[36mCell\u001b[39m\u001b[36m \u001b[39m\u001b[32mIn[186]\u001b[39m\u001b[32m, line 18\u001b[39m\n\u001b[32m     16\u001b[39m \u001b[38;5;66;03m# Apply tokenization to selected columns\u001b[39;00m\n\u001b[32m     17\u001b[39m \u001b[38;5;28;01mfor\u001b[39;00m col \u001b[38;5;129;01min\u001b[39;00m text_columns:\n\u001b[32m---> \u001b[39m\u001b[32m18\u001b[39m     tt_merged_df[col + \u001b[33m\"\u001b[39m\u001b[33m_tokens\u001b[39m\u001b[33m\"\u001b[39m] = \u001b[43mdf\u001b[49m\u001b[43m[\u001b[49m\u001b[43mcol\u001b[49m\u001b[43m]\u001b[49m.apply(tokenize)\n\u001b[32m     20\u001b[39m \u001b[38;5;66;03m# Display first few rows of tokenized DataFrame\u001b[39;00m\n\u001b[32m     21\u001b[39m \u001b[38;5;28mprint\u001b[39m(tt_merged_df.head())\n",
      "\u001b[36mFile \u001b[39m\u001b[32md:\\Desktop\\Sem 3\\ANLP\\TextAnalysis\\.venv\\Lib\\site-packages\\pandas\\core\\frame.py:4102\u001b[39m, in \u001b[36mDataFrame.__getitem__\u001b[39m\u001b[34m(self, key)\u001b[39m\n\u001b[32m   4100\u001b[39m \u001b[38;5;28;01mif\u001b[39;00m \u001b[38;5;28mself\u001b[39m.columns.nlevels > \u001b[32m1\u001b[39m:\n\u001b[32m   4101\u001b[39m     \u001b[38;5;28;01mreturn\u001b[39;00m \u001b[38;5;28mself\u001b[39m._getitem_multilevel(key)\n\u001b[32m-> \u001b[39m\u001b[32m4102\u001b[39m indexer = \u001b[38;5;28;43mself\u001b[39;49m\u001b[43m.\u001b[49m\u001b[43mcolumns\u001b[49m\u001b[43m.\u001b[49m\u001b[43mget_loc\u001b[49m\u001b[43m(\u001b[49m\u001b[43mkey\u001b[49m\u001b[43m)\u001b[49m\n\u001b[32m   4103\u001b[39m \u001b[38;5;28;01mif\u001b[39;00m is_integer(indexer):\n\u001b[32m   4104\u001b[39m     indexer = [indexer]\n",
      "\u001b[36mFile \u001b[39m\u001b[32md:\\Desktop\\Sem 3\\ANLP\\TextAnalysis\\.venv\\Lib\\site-packages\\pandas\\core\\indexes\\base.py:3812\u001b[39m, in \u001b[36mIndex.get_loc\u001b[39m\u001b[34m(self, key)\u001b[39m\n\u001b[32m   3807\u001b[39m     \u001b[38;5;28;01mif\u001b[39;00m \u001b[38;5;28misinstance\u001b[39m(casted_key, \u001b[38;5;28mslice\u001b[39m) \u001b[38;5;129;01mor\u001b[39;00m (\n\u001b[32m   3808\u001b[39m         \u001b[38;5;28misinstance\u001b[39m(casted_key, abc.Iterable)\n\u001b[32m   3809\u001b[39m         \u001b[38;5;129;01mand\u001b[39;00m \u001b[38;5;28many\u001b[39m(\u001b[38;5;28misinstance\u001b[39m(x, \u001b[38;5;28mslice\u001b[39m) \u001b[38;5;28;01mfor\u001b[39;00m x \u001b[38;5;129;01min\u001b[39;00m casted_key)\n\u001b[32m   3810\u001b[39m     ):\n\u001b[32m   3811\u001b[39m         \u001b[38;5;28;01mraise\u001b[39;00m InvalidIndexError(key)\n\u001b[32m-> \u001b[39m\u001b[32m3812\u001b[39m     \u001b[38;5;28;01mraise\u001b[39;00m \u001b[38;5;167;01mKeyError\u001b[39;00m(key) \u001b[38;5;28;01mfrom\u001b[39;00m\u001b[38;5;250m \u001b[39m\u001b[34;01merr\u001b[39;00m\n\u001b[32m   3813\u001b[39m \u001b[38;5;28;01mexcept\u001b[39;00m \u001b[38;5;167;01mTypeError\u001b[39;00m:\n\u001b[32m   3814\u001b[39m     \u001b[38;5;66;03m# If we have a listlike key, _check_indexing_error will raise\u001b[39;00m\n\u001b[32m   3815\u001b[39m     \u001b[38;5;66;03m#  InvalidIndexError. Otherwise we fall through and re-raise\u001b[39;00m\n\u001b[32m   3816\u001b[39m     \u001b[38;5;66;03m#  the TypeError.\u001b[39;00m\n\u001b[32m   3817\u001b[39m     \u001b[38;5;28mself\u001b[39m._check_indexing_error(key)\n",
      "\u001b[31mKeyError\u001b[39m: 'Technology Tool Category'"
     ]
    }
   ],
   "source": [
    "text_columns = [\n",
    "    \"Technology Tool Category\",\n",
    "    \"Technology Tool Category Description\",\n",
    "    \"Technology Tool\",\n",
    "    \"Technology Tool Description\",\n",
    "    \"Technology Tool Extended Description\",\n",
    "    \"ANZSCO Title_x\",\n",
    "    \"ANZSCO Description\"\n",
    "]\n",
    "\n",
    "\n",
    "def tokenize(text):\n",
    "    tokens = word_tokenize(text)  # Tokenize\n",
    "    return tokens\n",
    "\n",
    "# Apply tokenization to selected columns\n",
    "for col in text_columns:\n",
    "    tt_merged_df[col + \"_tokens\"] = df[col].apply(tokenize)\n",
    "\n",
    "# Display first few rows of tokenized DataFrame\n",
    "print(tt_merged_df.head())\n"
   ]
  }
 ],
 "metadata": {
  "kernelspec": {
   "display_name": ".venv",
   "language": "python",
   "name": "python3"
  },
  "language_info": {
   "codemirror_mode": {
    "name": "ipython",
    "version": 3
   },
   "file_extension": ".py",
   "mimetype": "text/x-python",
   "name": "python",
   "nbconvert_exporter": "python",
   "pygments_lexer": "ipython3",
   "version": "3.12.9"
  }
 },
 "nbformat": 4,
 "nbformat_minor": 2
}
