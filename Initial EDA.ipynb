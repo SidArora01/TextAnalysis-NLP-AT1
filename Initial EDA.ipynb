{
 "cells": [
  {
   "cell_type": "markdown",
   "metadata": {},
   "source": [
    "# Assignment 1 Text Analysis\n"
   ]
  },
  {
   "cell_type": "markdown",
   "metadata": {},
   "source": [
    "## Setting up the project"
   ]
  },
  {
   "cell_type": "markdown",
   "metadata": {},
   "source": [
    "### Importing Libraries"
   ]
  },
  {
   "cell_type": "code",
   "execution_count": 311,
   "metadata": {},
   "outputs": [],
   "source": [
    "import pandas as pd\n",
    "import numpy as np\n",
    "import matplotlib.pyplot as plt\n",
    "import seaborn as sns\n",
    "import nltk\n",
    "import re\n",
    "import string\n",
    "\n"
   ]
  },
  {
   "cell_type": "code",
   "execution_count": 312,
   "metadata": {},
   "outputs": [
    {
     "name": "stderr",
     "output_type": "stream",
     "text": [
      "[nltk_data] Downloading package punkt_tab to C:\\Users\\Devika\n",
      "[nltk_data]     Arora\\AppData\\Roaming\\nltk_data...\n",
      "[nltk_data]   Package punkt_tab is already up-to-date!\n"
     ]
    }
   ],
   "source": [
    "nltk.download('punkt_tab')\n",
    "\n",
    "\n",
    "from nltk.corpus import stopwords\n",
    "from nltk.tokenize import word_tokenize\n",
    "from nltk.stem import WordNetLemmatizer"
   ]
  },
  {
   "cell_type": "markdown",
   "metadata": {},
   "source": [
    "### Accessing the data"
   ]
  },
  {
   "cell_type": "code",
   "execution_count": 313,
   "metadata": {},
   "outputs": [
    {
     "name": "stderr",
     "output_type": "stream",
     "text": [
      "<>:1: SyntaxWarning: invalid escape sequence '\\D'\n",
      "<>:1: SyntaxWarning: invalid escape sequence '\\D'\n",
      "C:\\Users\\Devika Arora\\AppData\\Local\\Temp\\ipykernel_17288\\2545082455.py:1: SyntaxWarning: invalid escape sequence '\\D'\n",
      "  file_path = \"D:\\Desktop\\Sem 3\\ANLP\\TextAnalysis\\Australian Skills Classification - December 2023.xlsx\"\n"
     ]
    }
   ],
   "source": [
    "\n",
    "file_path = \"D:\\Desktop\\Sem 3\\ANLP\\TextAnalysis\\Australian Skills Classification - December 2023.xlsx\"\n",
    "sheets = [\"Occupation descriptions\", \"Core competency descriptions\", \"Specialist tasks hierarchy\", \"Tech tools heirarchy\", \"Core competencies\", \"Specialist tasks data\", \"Technology tools\"]\n",
    "\n",
    "occupation_df = pd.read_excel(file_path, sheet_name=sheets[0])\n",
    "cc_desc_df = pd.read_excel(file_path, sheet_name=sheets[1])\n",
    "cc_df = pd.read_excel(file_path, sheet_name=sheets[4])\n",
    "st_hier_df = pd.read_excel(file_path, sheet_name=sheets[2])\n",
    "st_df = pd.read_excel(file_path, sheet_name=sheets[5])\n",
    "tt_hier_df = pd.read_excel(file_path, sheet_name=sheets[3])\n",
    "tt_df = pd.read_excel(file_path, sheet_name=sheets[6])\n"
   ]
  },
  {
   "cell_type": "code",
   "execution_count": 314,
   "metadata": {},
   "outputs": [
    {
     "name": "stdout",
     "output_type": "stream",
     "text": [
      "occupation_df columns: ['Occupation Type', 'ANZSCO Code', 'Sub-Profile Code', 'ANZSCO Title', 'ANZSCO Description']\n",
      "cc_desc_df columns: ['Core Competency', 'Core Competency Description', 'Score', 'Proficiency Level', 'Anchor Value']\n",
      "cc_df columns: ['Occupation Type', 'ANZSCO Code', 'Sub-Profile Code', 'ANZSCO Title', 'Core Competency', 'Score', 'Proficiency Level', 'Anchor Value']\n",
      "st_hier_df columns: ['Specialist Task', 'Specialist Cluster', 'Cluster Family', 'Skill Statement']\n",
      "st_df columns: ['Occupation Type', 'ANZSCO Code', 'Sub-Profile Code', 'ANZSCO Title', 'Specialist Task', '% of time spent on task', 'Emerging/\\nTrending Flag', 'Specialist Cluster', ' % of time spent on cluster', 'Cluster Family', '% of time spent on family', 'Skills Statement']\n",
      "tt_hier_df columns: ['Technology Tool Category', 'Technology Tool Category Description', 'Technology Tool', 'Technology Tool Description', 'Technology Tool Extended Description']\n",
      "tt_df columns: ['Occupation Type', 'ANZSCO Code', 'Sub-Profile Code', 'ANZSCO Title', 'Technology Tool', 'Emerging/Trending Flag']\n"
     ]
    }
   ],
   "source": [
    "df_list = [\n",
    "    (\"occupation_df\", occupation_df),\n",
    "    (\"cc_desc_df\", cc_desc_df),\n",
    "    (\"cc_df\", cc_df),\n",
    "    (\"st_hier_df\", st_hier_df),\n",
    "    (\"st_df\", st_df),\n",
    "    (\"tt_hier_df\", tt_hier_df),\n",
    "    (\"tt_df\", tt_df),\n",
    "]\n",
    "\n",
    "for name, df in df_list:\n",
    "    print(f\"{name} columns: {df.columns.tolist()}\")\n"
   ]
  },
  {
   "cell_type": "markdown",
   "metadata": {},
   "source": [
    "### Basic Data Pre-processing for NLP project"
   ]
  },
  {
   "cell_type": "code",
   "execution_count": 315,
   "metadata": {},
   "outputs": [
    {
     "name": "stderr",
     "output_type": "stream",
     "text": [
      "C:\\Users\\Devika Arora\\AppData\\Local\\Temp\\ipykernel_17288\\4092267896.py:2: FutureWarning: DataFrame.applymap has been deprecated. Use DataFrame.map instead.\n",
      "  df[:] = df.applymap(lambda x: x.lower() if isinstance(x, str) else x)\n"
     ]
    }
   ],
   "source": [
    "for name, df in df_list:\n",
    "    df[:] = df.applymap(lambda x: x.lower() if isinstance(x, str) else x)\n",
    "\n"
   ]
  },
  {
   "cell_type": "code",
   "execution_count": 316,
   "metadata": {},
   "outputs": [
    {
     "name": "stderr",
     "output_type": "stream",
     "text": [
      "C:\\Users\\Devika Arora\\AppData\\Local\\Temp\\ipykernel_17288\\835941706.py:10: FutureWarning: DataFrame.applymap has been deprecated. Use DataFrame.map instead.\n",
      "  df[:] = df.applymap(remove_stopwords)\n"
     ]
    }
   ],
   "source": [
    "stop_words = set(stopwords.words(\"english\"))\n",
    "\n",
    "def remove_stopwords(text):\n",
    "    if isinstance(text, str):  \n",
    "        return \" \".join(word for word in text.split() if word.lower() not in stop_words)\n",
    "    return text  \n",
    "\n",
    "\n",
    "for name, df in df_list:\n",
    "    df[:] = df.applymap(remove_stopwords)"
   ]
  },
  {
   "cell_type": "code",
   "execution_count": 317,
   "metadata": {},
   "outputs": [
    {
     "name": "stderr",
     "output_type": "stream",
     "text": [
      "C:\\Users\\Devika Arora\\AppData\\Local\\Temp\\ipykernel_17288\\421716565.py:10: FutureWarning: DataFrame.applymap has been deprecated. Use DataFrame.map instead.\n",
      "  df.update(df.applymap(lambda x: re.sub(r'[^A-Za-z0-9\\s]', '', x) if isinstance(x, str) else x))\n",
      "C:\\Users\\Devika Arora\\AppData\\Local\\Temp\\ipykernel_17288\\421716565.py:10: FutureWarning: DataFrame.applymap has been deprecated. Use DataFrame.map instead.\n",
      "  df.update(df.applymap(lambda x: re.sub(r'[^A-Za-z0-9\\s]', '', x) if isinstance(x, str) else x))\n",
      "C:\\Users\\Devika Arora\\AppData\\Local\\Temp\\ipykernel_17288\\421716565.py:10: FutureWarning: DataFrame.applymap has been deprecated. Use DataFrame.map instead.\n",
      "  df.update(df.applymap(lambda x: re.sub(r'[^A-Za-z0-9\\s]', '', x) if isinstance(x, str) else x))\n",
      "C:\\Users\\Devika Arora\\AppData\\Local\\Temp\\ipykernel_17288\\421716565.py:10: FutureWarning: DataFrame.applymap has been deprecated. Use DataFrame.map instead.\n",
      "  df.update(df.applymap(lambda x: re.sub(r'[^A-Za-z0-9\\s]', '', x) if isinstance(x, str) else x))\n",
      "C:\\Users\\Devika Arora\\AppData\\Local\\Temp\\ipykernel_17288\\421716565.py:10: FutureWarning: DataFrame.applymap has been deprecated. Use DataFrame.map instead.\n",
      "  df.update(df.applymap(lambda x: re.sub(r'[^A-Za-z0-9\\s]', '', x) if isinstance(x, str) else x))\n",
      "C:\\Users\\Devika Arora\\AppData\\Local\\Temp\\ipykernel_17288\\421716565.py:10: FutureWarning: DataFrame.applymap has been deprecated. Use DataFrame.map instead.\n",
      "  df.update(df.applymap(lambda x: re.sub(r'[^A-Za-z0-9\\s]', '', x) if isinstance(x, str) else x))\n",
      "C:\\Users\\Devika Arora\\AppData\\Local\\Temp\\ipykernel_17288\\421716565.py:10: FutureWarning: DataFrame.applymap has been deprecated. Use DataFrame.map instead.\n",
      "  df.update(df.applymap(lambda x: re.sub(r'[^A-Za-z0-9\\s]', '', x) if isinstance(x, str) else x))\n"
     ]
    }
   ],
   "source": [
    "\"\"\"for name, df in df_list:\n",
    "    df.update(df.applymap(lambda x: x.replace(',', '') if isinstance(x, str) else x))\n",
    "\"\"\"\n",
    "\n",
    "\n",
    "import re\n",
    "\n",
    "# Iterate through each DataFrame in df_list\n",
    "for name, df in df_list:\n",
    "    df.update(df.applymap(lambda x: re.sub(r'[^A-Za-z0-9\\s]', '', x) if isinstance(x, str) else x))\n"
   ]
  },
  {
   "cell_type": "code",
   "execution_count": 318,
   "metadata": {},
   "outputs": [
    {
     "name": "stderr",
     "output_type": "stream",
     "text": [
      "C:\\Users\\Devika Arora\\AppData\\Local\\Temp\\ipykernel_17288\\4139690721.py:2: FutureWarning: DataFrame.applymap has been deprecated. Use DataFrame.map instead.\n",
      "  df.update(df.applymap(lambda x: x.strip() if isinstance(x, str) else x))\n",
      "C:\\Users\\Devika Arora\\AppData\\Local\\Temp\\ipykernel_17288\\4139690721.py:2: FutureWarning: DataFrame.applymap has been deprecated. Use DataFrame.map instead.\n",
      "  df.update(df.applymap(lambda x: x.strip() if isinstance(x, str) else x))\n",
      "C:\\Users\\Devika Arora\\AppData\\Local\\Temp\\ipykernel_17288\\4139690721.py:2: FutureWarning: DataFrame.applymap has been deprecated. Use DataFrame.map instead.\n",
      "  df.update(df.applymap(lambda x: x.strip() if isinstance(x, str) else x))\n",
      "C:\\Users\\Devika Arora\\AppData\\Local\\Temp\\ipykernel_17288\\4139690721.py:2: FutureWarning: DataFrame.applymap has been deprecated. Use DataFrame.map instead.\n",
      "  df.update(df.applymap(lambda x: x.strip() if isinstance(x, str) else x))\n",
      "C:\\Users\\Devika Arora\\AppData\\Local\\Temp\\ipykernel_17288\\4139690721.py:2: FutureWarning: DataFrame.applymap has been deprecated. Use DataFrame.map instead.\n",
      "  df.update(df.applymap(lambda x: x.strip() if isinstance(x, str) else x))\n",
      "C:\\Users\\Devika Arora\\AppData\\Local\\Temp\\ipykernel_17288\\4139690721.py:2: FutureWarning: DataFrame.applymap has been deprecated. Use DataFrame.map instead.\n",
      "  df.update(df.applymap(lambda x: x.strip() if isinstance(x, str) else x))\n",
      "C:\\Users\\Devika Arora\\AppData\\Local\\Temp\\ipykernel_17288\\4139690721.py:2: FutureWarning: DataFrame.applymap has been deprecated. Use DataFrame.map instead.\n",
      "  df.update(df.applymap(lambda x: x.strip() if isinstance(x, str) else x))\n"
     ]
    }
   ],
   "source": [
    "for name, df in df_list:\n",
    "    df.update(df.applymap(lambda x: x.strip() if isinstance(x, str) else x))"
   ]
  },
  {
   "cell_type": "markdown",
   "metadata": {},
   "source": [
    "## Initial Exploratory Data Analysis"
   ]
  },
  {
   "cell_type": "markdown",
   "metadata": {},
   "source": [
    "### EDA - Occupation List Dataframe"
   ]
  },
  {
   "cell_type": "code",
   "execution_count": 319,
   "metadata": {},
   "outputs": [
    {
     "name": "stdout",
     "output_type": "stream",
     "text": [
      "<class 'pandas.core.frame.DataFrame'>\n",
      "RangeIndex: 1650 entries, 0 to 1649\n",
      "Data columns (total 5 columns):\n",
      " #   Column              Non-Null Count  Dtype \n",
      "---  ------              --------------  ----- \n",
      " 0   Occupation Type     1650 non-null   object\n",
      " 1   ANZSCO Code         1650 non-null   int64 \n",
      " 2   Sub-Profile Code    472 non-null    object\n",
      " 3   ANZSCO Title        1650 non-null   object\n",
      " 4   ANZSCO Description  1650 non-null   object\n",
      "dtypes: int64(1), object(4)\n",
      "memory usage: 64.6+ KB\n"
     ]
    }
   ],
   "source": [
    "occupation_df.info()"
   ]
  },
  {
   "cell_type": "code",
   "execution_count": 320,
   "metadata": {},
   "outputs": [
    {
     "name": "stdout",
     "output_type": "stream",
     "text": [
      "There are 5 types of Occupations listed in ACS\n",
      "These occupations are: ['anzsco 4' 'anzsco 6' 'specialisation' 'nec category occupation'\n",
      " 'nec category']\n"
     ]
    }
   ],
   "source": [
    "print(\"There are\",occupation_df['Occupation Type'].nunique(), \"types of Occupations listed in ACS\")\n",
    "print('These occupations are:', occupation_df['Occupation Type'].unique())"
   ]
  },
  {
   "cell_type": "code",
   "execution_count": 321,
   "metadata": {},
   "outputs": [
    {
     "name": "stdout",
     "output_type": "stream",
     "text": [
      "There are 1178 different occupations listed\n"
     ]
    }
   ],
   "source": [
    "print(\"There are\",occupation_df['ANZSCO Code'].nunique(), \"different occupations listed\")"
   ]
  },
  {
   "cell_type": "code",
   "execution_count": 322,
   "metadata": {},
   "outputs": [
    {
     "data": {
      "image/png": "[encoded data removed]",
      "text/plain": [
       "<Figure size 1200x600 with 1 Axes>"
      ]
     },
     "metadata": {},
     "output_type": "display_data"
    }
   ],
   "source": [
    "import matplotlib.pyplot as plt\n",
    "\n",
    "\n",
    "occupation_counts = occupation_df.groupby('Occupation Type')['ANZSCO Code'].nunique()\n",
    "\n",
    "\n",
    "occupation_counts = occupation_counts.sort_values()\n",
    "\n",
    "\n",
    "plt.figure(figsize=(12, 6))\n",
    "ax = occupation_counts.plot(kind='barh', color='skyblue')\n",
    "\n",
    "\n",
    "for index, value in enumerate(occupation_counts):\n",
    "    ax.text(value + 0.5, index, str(value), va='center', fontsize=10)\n",
    "\n",
    "plt.xlabel(\"Number of Unique ANZSCO Codes\")\n",
    "plt.ylabel(\"Occupation Type\")\n",
    "plt.title(\"Unique ANZSCO Codes per Occupation Type\")\n",
    "plt.show()\n"
   ]
  },
  {
   "cell_type": "markdown",
   "metadata": {},
   "source": [
    "### EDA - Core Competency Dataframes\n",
    "1. Core Competency Description\n",
    "2. Core Competency Data"
   ]
  },
  {
   "cell_type": "code",
   "execution_count": 323,
   "metadata": {},
   "outputs": [
    {
     "name": "stdout",
     "output_type": "stream",
     "text": [
      "<class 'pandas.core.frame.DataFrame'>\n",
      "RangeIndex: 100 entries, 0 to 99\n",
      "Data columns (total 5 columns):\n",
      " #   Column                       Non-Null Count  Dtype \n",
      "---  ------                       --------------  ----- \n",
      " 0   Core Competency              100 non-null    object\n",
      " 1   Core Competency Description  100 non-null    object\n",
      " 2   Score                        100 non-null    int64 \n",
      " 3   Proficiency Level            100 non-null    object\n",
      " 4   Anchor Value                 100 non-null    object\n",
      "dtypes: int64(1), object(4)\n",
      "memory usage: 4.0+ KB\n"
     ]
    }
   ],
   "source": [
    "cc_desc_df.info()"
   ]
  },
  {
   "cell_type": "code",
   "execution_count": 324,
   "metadata": {},
   "outputs": [
    {
     "name": "stdout",
     "output_type": "stream",
     "text": [
      "10\n",
      "['digital engagement' 'initiative innovation' 'learning' 'numeracy'\n",
      " 'oral communication' 'planning organising' 'problem solving' 'reading'\n",
      " 'teamwork' 'writing']\n"
     ]
    }
   ],
   "source": [
    "print(cc_desc_df['Core Competency'].nunique())\n",
    "print(cc_desc_df['Core Competency'].unique())"
   ]
  },
  {
   "cell_type": "code",
   "execution_count": 325,
   "metadata": {},
   "outputs": [
    {
     "name": "stdout",
     "output_type": "stream",
     "text": [
      "<class 'pandas.core.frame.DataFrame'>\n",
      "RangeIndex: 11030 entries, 0 to 11029\n",
      "Data columns (total 8 columns):\n",
      " #   Column             Non-Null Count  Dtype  \n",
      "---  ------             --------------  -----  \n",
      " 0   Occupation Type    11030 non-null  object \n",
      " 1   ANZSCO Code        11030 non-null  int64  \n",
      " 2   Sub-Profile Code   0 non-null      float64\n",
      " 3   ANZSCO Title       11030 non-null  object \n",
      " 4   Core Competency    11030 non-null  object \n",
      " 5   Score              11030 non-null  int64  \n",
      " 6   Proficiency Level  11030 non-null  object \n",
      " 7   Anchor Value       11030 non-null  object \n",
      "dtypes: float64(1), int64(2), object(5)\n",
      "memory usage: 689.5+ KB\n"
     ]
    }
   ],
   "source": [
    "cc_df.info()"
   ]
  },
  {
   "cell_type": "code",
   "execution_count": 326,
   "metadata": {},
   "outputs": [
    {
     "name": "stdout",
     "output_type": "stream",
     "text": [
      "There are 2 types of Occupations listed in Core Competency Data\n",
      "These occupations are: ['anzsco 6' 'anzsco 4']\n",
      "There are 1101 different occupations listed\n"
     ]
    }
   ],
   "source": [
    "print(\"There are\",cc_df['Occupation Type'].nunique(), \"types of Occupations listed in Core Competency Data\")\n",
    "print('These occupations are:', cc_df['Occupation Type'].unique())\n",
    "print(\"There are\",cc_df['ANZSCO Code'].nunique(), \"different occupations listed\")"
   ]
  },
  {
   "cell_type": "code",
   "execution_count": 327,
   "metadata": {},
   "outputs": [
    {
     "name": "stdout",
     "output_type": "stream",
     "text": [
      "✅ All ANZSCO Codes have exactly 10 core competencies.\n"
     ]
    }
   ],
   "source": [
    "cc_counts = cc_df.groupby(\"ANZSCO Code\")[\"Core Competency\"].nunique().sort_values(ascending=False)\n",
    "\n",
    "\n",
    "if (cc_counts == 10).all():\n",
    "    print(\"✅ All ANZSCO Codes have exactly 10 core competencies.\")\n",
    "else:\n",
    "    print(\"❌ Some ANZSCO Codes have more or less than 10 core competencies.\")\n"
   ]
  },
  {
   "cell_type": "markdown",
   "metadata": {},
   "source": [
    "### EDA - Specialist Task Dataframes\n",
    "1. Specialist Task Hierarchy\n",
    "2. Specialist Task Data"
   ]
  },
  {
   "cell_type": "code",
   "execution_count": 328,
   "metadata": {},
   "outputs": [
    {
     "name": "stdout",
     "output_type": "stream",
     "text": [
      "The number of Specialist Task in ASC data are: 1686\n",
      "The number of Specialist Clusters in ASC data are: 271\n",
      "The number of Cluster Families in ASC data are: 30\n"
     ]
    }
   ],
   "source": [
    "print(\"The number of Specialist Task in ASC data are:\", st_hier_df['Specialist Task'].nunique())\n",
    "print(\"The number of Specialist Clusters in ASC data are:\", st_hier_df['Specialist Cluster'].nunique())\n",
    "print(\"The number of Cluster Families in ASC data are:\", st_hier_df['Cluster Family'].nunique())\n",
    "\n"
   ]
  },
  {
   "cell_type": "code",
   "execution_count": 329,
   "metadata": {},
   "outputs": [
    {
     "name": "stdout",
     "output_type": "stream",
     "text": [
      "<class 'pandas.core.frame.DataFrame'>\n",
      "RangeIndex: 30450 entries, 0 to 30449\n",
      "Data columns (total 12 columns):\n",
      " #   Column                       Non-Null Count  Dtype  \n",
      "---  ------                       --------------  -----  \n",
      " 0   Occupation Type              30450 non-null  object \n",
      " 1   ANZSCO Code                  30450 non-null  int64  \n",
      " 2   Sub-Profile Code             6516 non-null   object \n",
      " 3   ANZSCO Title                 30450 non-null  object \n",
      " 4   Specialist Task              30450 non-null  object \n",
      " 5   % of time spent on task      23934 non-null  float64\n",
      " 6   Emerging/\n",
      "Trending Flag      1402 non-null   object \n",
      " 7   Specialist Cluster           30450 non-null  object \n",
      " 8    % of time spent on cluster  23934 non-null  float64\n",
      " 9   Cluster Family               30450 non-null  object \n",
      " 10  % of time spent on family    23934 non-null  float64\n",
      " 11  Skills Statement             30450 non-null  object \n",
      "dtypes: float64(3), int64(1), object(8)\n",
      "memory usage: 2.8+ MB\n"
     ]
    }
   ],
   "source": [
    "st_df.info()"
   ]
  },
  {
   "cell_type": "code",
   "execution_count": 330,
   "metadata": {},
   "outputs": [
    {
     "name": "stdout",
     "output_type": "stream",
     "text": [
      "There are 4 types of Occupations listed in Specialist Task Data\n",
      "These occupations are: ['anzsco 4' 'anzsco 6' 'specialisation' 'nec category occupation']\n",
      "There are 1177 different occupations listed\n"
     ]
    }
   ],
   "source": [
    "print(\"There are\",st_df['Occupation Type'].nunique(), \"types of Occupations listed in Specialist Task Data\")\n",
    "print('These occupations are:', st_df['Occupation Type'].unique())\n",
    "print(\"There are\",st_df['ANZSCO Code'].nunique(), \"different occupations listed\")"
   ]
  },
  {
   "cell_type": "code",
   "execution_count": 331,
   "metadata": {},
   "outputs": [
    {
     "data": {
      "image/png": "[encoded data removed]",
      "text/plain": [
       "<Figure size 800x500 with 1 Axes>"
      ]
     },
     "metadata": {},
     "output_type": "display_data"
    }
   ],
   "source": [
    "import matplotlib.pyplot as plt\n",
    "import seaborn as sns\n",
    "\n",
    "# Count unique specialist tasks for each ANZSCO Code\n",
    "st_counts = st_df.groupby(\"ANZSCO Code\")[\"Specialist Task\"].nunique()\n",
    "\n",
    "# Plot boxplot\n",
    "plt.figure(figsize=(8, 5))\n",
    "sns.boxplot(y=st_counts, color='lightblue')\n",
    "\n",
    "# Labels and title\n",
    "plt.ylabel(\"Number of Unique Specialist Tasks\")\n",
    "plt.title(\"Distribution of Unique Specialist Tasks per ANZSCO Code\")\n",
    "\n",
    "# Show plot\n",
    "plt.show()\n"
   ]
  },
  {
   "cell_type": "code",
   "execution_count": 332,
   "metadata": {},
   "outputs": [
    {
     "name": "stdout",
     "output_type": "stream",
     "text": [
      "   ANZSCO Code                                       ANZSCO Title  \\\n",
      "0       262113                              systems administrator   \n",
      "1       313113                                  web administrator   \n",
      "2       249212                      dance teacher private tuition   \n",
      "3         2412                            primary school teachers   \n",
      "4       241213                             primary school teacher   \n",
      "5       263111                  computer network systems engineer   \n",
      "6       322313                                 welder first class   \n",
      "7         2413  middle school teachers  intermediate school te...   \n",
      "8       241311  middle school teacher  intermediate school tea...   \n",
      "9       262111                             database administrator   \n",
      "\n",
      "   Specialist Task  \n",
      "0               45  \n",
      "1               45  \n",
      "2               44  \n",
      "3               43  \n",
      "4               43  \n",
      "5               41  \n",
      "6               41  \n",
      "7               40  \n",
      "8               40  \n",
      "9               40  \n"
     ]
    }
   ],
   "source": [
    "# Count unique specialist tasks for each ANZSCO Code\n",
    "st_counts = st_df.groupby([\"ANZSCO Code\", \"ANZSCO Title\"])[\"Specialist Task\"].nunique()\n",
    "\n",
    "# Get top 10 ANZSCO Codes with the highest number of specialist tasks\n",
    "top_10 = st_counts.nlargest(10).reset_index()\n",
    "\n",
    "# Display the result\n",
    "print(top_10)\n"
   ]
  },
  {
   "cell_type": "code",
   "execution_count": 333,
   "metadata": {},
   "outputs": [
    {
     "name": "stdout",
     "output_type": "stream",
     "text": [
      "     ANZSCO Code  Specialist Task                                 ANZSCO Title\n",
      "52        233999              104                           corrosion engineer\n",
      "53        233999              104                         fire safety engineer\n",
      "54        233999              104                        mechatronics engineer\n",
      "50        233999              104                            acoustic engineer\n",
      "57        233999              104  test activation engineer naval shipbuilding\n",
      "56        233999              104                              safety engineer\n",
      "55        233999              104                      product design engineer\n",
      "51        233999              104                         calibration engineer\n",
      "148       399999               99                               ski technician\n",
      "145       399999               99                             parachute rigger\n"
     ]
    }
   ],
   "source": [
    "import numpy as np\n",
    "\n",
    "# Get counts of unique specialist tasks per ANZSCO Code\n",
    "st_counts = st_df.groupby(\"ANZSCO Code\")[\"Specialist Task\"].nunique()\n",
    "\n",
    "# Calculate IQR (Interquartile Range) to detect outliers\n",
    "Q1 = np.percentile(st_counts, 25)  # First quartile (25th percentile)\n",
    "Q3 = np.percentile(st_counts, 75)  # Third quartile (75th percentile)\n",
    "IQR = Q3 - Q1  # Interquartile range\n",
    "\n",
    "# Define outliers as values greater than Q3 + 1.5 * IQR\n",
    "outlier_threshold = Q3 + 1.5 * IQR\n",
    "outliers = st_counts[st_counts > outlier_threshold].reset_index()\n",
    "\n",
    "# Merge with ANZSCO Title to show meaningful names\n",
    "top_outliers = outliers.merge(st_df[[\"ANZSCO Code\", \"ANZSCO Title\"]].drop_duplicates(), on=\"ANZSCO Code\")\n",
    "\n",
    "# Sort by number of specialist tasks and display top 10\n",
    "top_outliers = top_outliers.sort_values(by=\"Specialist Task\", ascending=False).head(10)\n",
    "print(top_outliers)\n"
   ]
  },
  {
   "cell_type": "markdown",
   "metadata": {},
   "source": [
    "### EDA - Technology Tools Dataframes\n",
    "1. Technology Tools Hierarchy\n",
    "2. Technology Tools Data"
   ]
  },
  {
   "cell_type": "code",
   "execution_count": 334,
   "metadata": {},
   "outputs": [
    {
     "name": "stdout",
     "output_type": "stream",
     "text": [
      "<class 'pandas.core.frame.DataFrame'>\n",
      "RangeIndex: 94 entries, 0 to 93\n",
      "Data columns (total 5 columns):\n",
      " #   Column                                Non-Null Count  Dtype \n",
      "---  ------                                --------------  ----- \n",
      " 0   Technology Tool Category              94 non-null     object\n",
      " 1   Technology Tool Category Description  94 non-null     object\n",
      " 2   Technology Tool                       94 non-null     object\n",
      " 3   Technology Tool Description           94 non-null     object\n",
      " 4   Technology Tool Extended Description  94 non-null     object\n",
      "dtypes: object(5)\n",
      "memory usage: 3.8+ KB\n"
     ]
    }
   ],
   "source": [
    "tt_hier_df.info()"
   ]
  },
  {
   "cell_type": "code",
   "execution_count": 335,
   "metadata": {},
   "outputs": [
    {
     "name": "stdout",
     "output_type": "stream",
     "text": [
      "The number of Tech Tool Category in ASC data are: 27\n",
      "The number of Tech Tool in ASC data are: 94\n"
     ]
    }
   ],
   "source": [
    "print(\"The number of Tech Tool Category in ASC data are:\", tt_hier_df['Technology Tool Category'].nunique())\n",
    "print(\"The number of Tech Tool in ASC data are:\", tt_hier_df['Technology Tool'].nunique())\n",
    "#print(\"The number of Cluster Families in ASC data are:\", st_hier_df['Cluster Family'].nunique())\n",
    "\n"
   ]
  },
  {
   "cell_type": "code",
   "execution_count": 336,
   "metadata": {},
   "outputs": [
    {
     "name": "stdout",
     "output_type": "stream",
     "text": [
      "<class 'pandas.core.frame.DataFrame'>\n",
      "RangeIndex: 5761 entries, 0 to 5760\n",
      "Data columns (total 6 columns):\n",
      " #   Column                  Non-Null Count  Dtype \n",
      "---  ------                  --------------  ----- \n",
      " 0   Occupation Type         5761 non-null   object\n",
      " 1   ANZSCO Code             5761 non-null   int64 \n",
      " 2   Sub-Profile Code        1300 non-null   object\n",
      " 3   ANZSCO Title            5761 non-null   object\n",
      " 4   Technology Tool         5761 non-null   object\n",
      " 5   Emerging/Trending Flag  441 non-null    object\n",
      "dtypes: int64(1), object(5)\n",
      "memory usage: 270.2+ KB\n"
     ]
    }
   ],
   "source": [
    "tt_df.info()"
   ]
  },
  {
   "cell_type": "code",
   "execution_count": 337,
   "metadata": {},
   "outputs": [
    {
     "name": "stdout",
     "output_type": "stream",
     "text": [
      "There are 4 types of Occupations listed in Specialist Task Data\n",
      "These occupations are: ['anzsco 4' 'anzsco 6' 'nec category occupation' 'specialisation']\n",
      "There are 1042 different occupations listed\n"
     ]
    }
   ],
   "source": [
    "print(\"There are\",tt_df['Occupation Type'].nunique(), \"types of Occupations listed in Specialist Task Data\")\n",
    "print('These occupations are:', tt_df['Occupation Type'].unique())\n",
    "print(\"There are\",tt_df['ANZSCO Code'].nunique(), \"different occupations listed\")"
   ]
  },
  {
   "cell_type": "code",
   "execution_count": 338,
   "metadata": {},
   "outputs": [
    {
     "data": {
      "image/png": "[encoded data removed]",
      "text/plain": [
       "<Figure size 800x500 with 1 Axes>"
      ]
     },
     "metadata": {},
     "output_type": "display_data"
    }
   ],
   "source": [
    "import matplotlib.pyplot as plt\n",
    "import seaborn as sns\n",
    "\n",
    "# Count unique specialist tasks for each ANZSCO Code\n",
    "tt_counts = tt_df.groupby(\"ANZSCO Code\")[\"Technology Tool\"].nunique()\n",
    "\n",
    "# Plot boxplot\n",
    "plt.figure(figsize=(8, 5))\n",
    "sns.boxplot(y=tt_counts, color='lightblue')\n",
    "\n",
    "# Labels and title\n",
    "plt.ylabel(\"Number of Unique Technoogy Tools\")\n",
    "plt.title(\"Distribution of Unique Technology Tools per ANZSCO Code\")\n",
    "\n",
    "# Show plot\n",
    "plt.show()\n"
   ]
  },
  {
   "cell_type": "code",
   "execution_count": 339,
   "metadata": {},
   "outputs": [
    {
     "name": "stdout",
     "output_type": "stream",
     "text": [
      "   ANZSCO Code                                       ANZSCO Title  \\\n",
      "0       262111                             database administrator   \n",
      "1         2611                      ict business systems analysts   \n",
      "2       262113                              systems administrator   \n",
      "3       263111                  computer network systems engineer   \n",
      "4       263212                               ict support engineer   \n",
      "5         2621  database systems administrators ict security s...   \n",
      "6       135199                                    network manager   \n",
      "7       261111                               ict business analyst   \n",
      "8       263112                              network administrator   \n",
      "9       261313                                  software engineer   \n",
      "\n",
      "   Technology Tool  \n",
      "0               25  \n",
      "1               24  \n",
      "2               23  \n",
      "3               23  \n",
      "4               23  \n",
      "5               21  \n",
      "6               20  \n",
      "7               20  \n",
      "8               20  \n",
      "9               19  \n"
     ]
    }
   ],
   "source": [
    "# Count unique specialist tasks for each ANZSCO Code\n",
    "tt_counts = tt_df.groupby([\"ANZSCO Code\", \"ANZSCO Title\"])[\"Technology Tool\"].nunique()\n",
    "\n",
    "# Get top 10 ANZSCO Codes with the highest number of specialist tasks\n",
    "top_10 = tt_counts.nlargest(10).reset_index()\n",
    "\n",
    "# Display the result\n",
    "print(top_10)\n"
   ]
  },
  {
   "cell_type": "code",
   "execution_count": 340,
   "metadata": {},
   "outputs": [
    {
     "name": "stdout",
     "output_type": "stream",
     "text": [
      "    ANZSCO Code  Technology Tool                                 ANZSCO Title\n",
      "24       233999               25                         calibration engineer\n",
      "25       233999               25                           corrosion engineer\n",
      "26       233999               25                         fire safety engineer\n",
      "23       233999               25                            acoustic engineer\n",
      "28       233999               25                      product design engineer\n",
      "29       233999               25                              safety engineer\n",
      "30       233999               25  test activation engineer naval shipbuilding\n",
      "27       233999               25                        mechatronics engineer\n",
      "42       262111               25                       database administrator\n",
      "2          2611               24                ict business systems analysts\n"
     ]
    }
   ],
   "source": [
    "import numpy as np\n",
    "\n",
    "# Get counts of unique specialist tasks per ANZSCO Code\n",
    "tt_counts = tt_df.groupby(\"ANZSCO Code\")[\"Technology Tool\"].nunique()\n",
    "\n",
    "# Calculate IQR (Interquartile Range) to detect outliers\n",
    "Q1 = np.percentile(tt_counts, 25)  # First quartile (25th percentile)\n",
    "Q3 = np.percentile(tt_counts, 75)  # Third quartile (75th percentile)\n",
    "IQR = Q3 - Q1  # Interquartile range\n",
    "\n",
    "# Define outliers as values greater than Q3 + 1.5 * IQR\n",
    "outlier_threshold = Q3 + 1.5 * IQR\n",
    "outliers = tt_counts[tt_counts > outlier_threshold].reset_index()\n",
    "\n",
    "# Merge with ANZSCO Title to show meaningful names\n",
    "top_outliers = outliers.merge(tt_df[[\"ANZSCO Code\", \"ANZSCO Title\"]].drop_duplicates(), on=\"ANZSCO Code\")\n",
    "\n",
    "# Sort by number of specialist tasks and display top 10\n",
    "top_outliers = top_outliers.sort_values(by=\"Technology Tool\", ascending=False).head(10)\n",
    "print(top_outliers)\n"
   ]
  },
  {
   "cell_type": "markdown",
   "metadata": {},
   "source": [
    "## Merging Relevent Dataframes \n",
    "1. This helps segmentise the project into 3 different approaches to answer multiple ASC related question"
   ]
  },
  {
   "cell_type": "code",
   "execution_count": 341,
   "metadata": {},
   "outputs": [
    {
     "name": "stdout",
     "output_type": "stream",
     "text": [
      "\n",
      "Final Merged Dataset Sample:\n",
      "                           Technology Tool Category  \\\n",
      "0  broadcasting audiovisual production technologies   \n",
      "1  broadcasting audiovisual production technologies   \n",
      "2  broadcasting audiovisual production technologies   \n",
      "3  broadcasting audiovisual production technologies   \n",
      "4  broadcasting audiovisual production technologies   \n",
      "\n",
      "                Technology Tool Category Description  \\\n",
      "0  systems audio video multimedia news content pr...   \n",
      "1  systems audio video multimedia news content pr...   \n",
      "2  systems audio video multimedia news content pr...   \n",
      "3  systems audio video multimedia news content pr...   \n",
      "4  systems audio video multimedia news content pr...   \n",
      "\n",
      "                           Technology Tool  \\\n",
      "0  collaborative news production platforms   \n",
      "1  collaborative news production platforms   \n",
      "2  collaborative news production platforms   \n",
      "3  collaborative news production platforms   \n",
      "4  collaborative news production platforms   \n",
      "\n",
      "                         Technology Tool Description  \\\n",
      "0  software used create manage news content media...   \n",
      "1  software used create manage news content media...   \n",
      "2  software used create manage news content media...   \n",
      "3  software used create manage news content media...   \n",
      "4  software used create manage news content media...   \n",
      "\n",
      "                Technology Tool Extended Description Occupation Type_x  \\\n",
      "0  collaborative news production platforms encomp...          anzsco 4   \n",
      "1  collaborative news production platforms encomp...          anzsco 4   \n",
      "2  collaborative news production platforms encomp...          anzsco 6   \n",
      "3  collaborative news production platforms encomp...          anzsco 6   \n",
      "4  collaborative news production platforms encomp...          anzsco 6   \n",
      "\n",
      "   ANZSCO Code Sub-Profile Code_x                         ANZSCO Title_x  \\\n",
      "0         2123                NaN  film television radio stage directors   \n",
      "1         2124                NaN                    journalists writers   \n",
      "2       212113                NaN                        radio presenter   \n",
      "3       212312                NaN   director film television radio stage   \n",
      "4       212315                NaN      program director television radio   \n",
      "\n",
      "  Emerging/Trending Flag Occupation Type_y Sub-Profile Code_y  \\\n",
      "0                    NaN          anzsco 4                NaN   \n",
      "1                    NaN          anzsco 4                NaN   \n",
      "2                    NaN          anzsco 6                NaN   \n",
      "3                    NaN          anzsco 6                NaN   \n",
      "4                    NaN          anzsco 6                NaN   \n",
      "\n",
      "                          ANZSCO Title_y  \\\n",
      "0  film television radio stage directors   \n",
      "1                    journalists writers   \n",
      "2                        radio presenter   \n",
      "3   director film television radio stage   \n",
      "4      program director television radio   \n",
      "\n",
      "                                  ANZSCO Description  \n",
      "0  film television radio stage directors direct a...  \n",
      "1  journalists writers research compile news stor...  \n",
      "2  prepares presents news sports information cond...  \n",
      "3  interprets approves selection scripts directs ...  \n",
      "4         compiles directs programs television radio  \n",
      "\n",
      "Final Merged Dataset Sample:\n",
      "  Occupation Type_x  ANZSCO Code Sub-Profile Code_x  \\\n",
      "0          anzsco 4         1111                NaN   \n",
      "1          anzsco 4         1111                NaN   \n",
      "2          anzsco 4         1111                NaN   \n",
      "3          anzsco 4         1111                NaN   \n",
      "4          anzsco 4         1111                NaN   \n",
      "\n",
      "                        ANZSCO Title_x  \\\n",
      "0  chief executives managing directors   \n",
      "1  chief executives managing directors   \n",
      "2  chief executives managing directors   \n",
      "3  chief executives managing directors   \n",
      "4  chief executives managing directors   \n",
      "\n",
      "                                     Specialist Task  % of time spent on task  \\\n",
      "0      direct manage financial activities operations                   0.1302   \n",
      "1        direct department organisational activities                   0.1117   \n",
      "2  direct sales marketing customer service activi...                   0.0808   \n",
      "3  communicate others arrange coordinate conduct ...                   0.0665   \n",
      "4  analyse data assess operational project effect...                   0.0651   \n",
      "\n",
      "  Emerging/\\nTrending Flag                           Specialist Cluster_x  \\\n",
      "0                      NaN  manage monitor undertake financial activities   \n",
      "1                 trending               manage services staff activities   \n",
      "2                      NaN               manage services staff activities   \n",
      "3                      NaN                 communicate collaborate others   \n",
      "4                      NaN          use data inform operational decisions   \n",
      "\n",
      "    % of time spent on cluster                          Cluster Family_x  \\\n",
      "0                       0.1644  business operations financial activities   \n",
      "1                       0.2128  business operations financial activities   \n",
      "2                       0.2128  business operations financial activities   \n",
      "3                       0.0750               communication collaboration   \n",
      "4                       0.1009                  data analytics databases   \n",
      "\n",
      "   % of time spent on family  \\\n",
      "0                     0.5322   \n",
      "1                     0.5322   \n",
      "2                     0.5322   \n",
      "3                     0.0890   \n",
      "4                     0.1370   \n",
      "\n",
      "                                    Skills Statement  \\\n",
      "0  direct oversee financial operations business o...   \n",
      "1  direct oversee activities work unit department...   \n",
      "2  direct oversee sales marketing customer servic...   \n",
      "3  coordinate others order plan organise coordina...   \n",
      "4  analyse qualitative quantitative data arising ...   \n",
      "\n",
      "                            Specialist Cluster_y  \\\n",
      "0  manage monitor undertake financial activities   \n",
      "1               manage services staff activities   \n",
      "2               manage services staff activities   \n",
      "3                 communicate collaborate others   \n",
      "4          use data inform operational decisions   \n",
      "\n",
      "                           Cluster Family_y  \\\n",
      "0  business operations financial activities   \n",
      "1  business operations financial activities   \n",
      "2  business operations financial activities   \n",
      "3               communication collaboration   \n",
      "4                  data analytics databases   \n",
      "\n",
      "                                     Skill Statement Occupation Type_y  \\\n",
      "0  direct oversee financial operations business o...          anzsco 4   \n",
      "1  direct oversee activities work unit department...          anzsco 4   \n",
      "2  direct oversee sales marketing customer servic...          anzsco 4   \n",
      "3  coordinate others order plan organise coordina...          anzsco 4   \n",
      "4  analyse qualitative quantitative data arising ...          anzsco 4   \n",
      "\n",
      "  Sub-Profile Code_y                       ANZSCO Title_y  \\\n",
      "0                NaN  chief executives managing directors   \n",
      "1                NaN  chief executives managing directors   \n",
      "2                NaN  chief executives managing directors   \n",
      "3                NaN  chief executives managing directors   \n",
      "4                NaN  chief executives managing directors   \n",
      "\n",
      "                                  ANZSCO Description  \n",
      "0  chief executives managing directors determine ...  \n",
      "1  chief executives managing directors determine ...  \n",
      "2  chief executives managing directors determine ...  \n",
      "3  chief executives managing directors determine ...  \n",
      "4  chief executives managing directors determine ...  \n"
     ]
    }
   ],
   "source": [
    "def merge_all_dataframes(df1, df2, df3, col_1, col_2):\n",
    "    merged_df = df3.merge(df1, on=col_1, how=\"left\")\n",
    "    merged_df = merged_df.merge(df2, on=col_2, how=\"left\")\n",
    "    print(\"\\nFinal Merged Dataset Sample:\") \n",
    "    print(merged_df.head())\n",
    "    return merged_df  \n",
    "\n",
    "\n",
    "#c_merged_df = merge_all_dataframes(cc_desc_df, occupation_df, cc_df, \"Core Competency\", \"ANZSCO Code\")\n",
    "tt_merged_df = merge_all_dataframes(tt_df, occupation_df, tt_hier_df, \"Technology Tool\", \"ANZSCO Code\")\n",
    "st_merged_df = merge_all_dataframes(st_hier_df, occupation_df, st_df, \"Specialist Task\", \"ANZSCO Code\")\n",
    "\n"
   ]
  },
  {
   "cell_type": "code",
   "execution_count": 342,
   "metadata": {},
   "outputs": [
    {
     "name": "stdout",
     "output_type": "stream",
     "text": [
      "<class 'pandas.core.frame.DataFrame'>\n",
      "RangeIndex: 12911 entries, 0 to 12910\n",
      "Data columns (total 14 columns):\n",
      " #   Column                                Non-Null Count  Dtype \n",
      "---  ------                                --------------  ----- \n",
      " 0   Technology Tool Category              12911 non-null  object\n",
      " 1   Technology Tool Category Description  12911 non-null  object\n",
      " 2   Technology Tool                       12911 non-null  object\n",
      " 3   Technology Tool Description           12911 non-null  object\n",
      " 4   Technology Tool Extended Description  12911 non-null  object\n",
      " 5   Occupation Type_x                     12911 non-null  object\n",
      " 6   ANZSCO Code                           12911 non-null  int64 \n",
      " 7   Sub-Profile Code_x                    7543 non-null   object\n",
      " 8   ANZSCO Title_x                        12911 non-null  object\n",
      " 9   Emerging/Trending Flag                556 non-null    object\n",
      " 10  Occupation Type_y                     12906 non-null  object\n",
      " 11  Sub-Profile Code_y                    7150 non-null   object\n",
      " 12  ANZSCO Title_y                        12906 non-null  object\n",
      " 13  ANZSCO Description                    12906 non-null  object\n",
      "dtypes: int64(1), object(13)\n",
      "memory usage: 1.4+ MB\n"
     ]
    }
   ],
   "source": [
    "tt_merged_df.info()"
   ]
  },
  {
   "cell_type": "code",
   "execution_count": 343,
   "metadata": {},
   "outputs": [
    {
     "name": "stdout",
     "output_type": "stream",
     "text": [
      "<class 'pandas.core.frame.DataFrame'>\n",
      "RangeIndex: 67772 entries, 0 to 67771\n",
      "Data columns (total 19 columns):\n",
      " #   Column                       Non-Null Count  Dtype  \n",
      "---  ------                       --------------  -----  \n",
      " 0   Occupation Type_x            67772 non-null  object \n",
      " 1   ANZSCO Code                  67772 non-null  int64  \n",
      " 2   Sub-Profile Code_x           39773 non-null  object \n",
      " 3   ANZSCO Title_x               67772 non-null  object \n",
      " 4   Specialist Task              67772 non-null  object \n",
      " 5   % of time spent on task      27999 non-null  float64\n",
      " 6   Emerging/\n",
      "Trending Flag      1700 non-null   object \n",
      " 7   Specialist Cluster_x         67772 non-null  object \n",
      " 8    % of time spent on cluster  27999 non-null  float64\n",
      " 9   Cluster Family_x             67772 non-null  object \n",
      " 10  % of time spent on family    27999 non-null  float64\n",
      " 11  Skills Statement             67772 non-null  object \n",
      " 12  Specialist Cluster_y         67772 non-null  object \n",
      " 13  Cluster Family_y             67772 non-null  object \n",
      " 14  Skill Statement              67772 non-null  object \n",
      " 15  Occupation Type_y            67772 non-null  object \n",
      " 16  Sub-Profile Code_y           37322 non-null  object \n",
      " 17  ANZSCO Title_y               67772 non-null  object \n",
      " 18  ANZSCO Description           67772 non-null  object \n",
      "dtypes: float64(3), int64(1), object(15)\n",
      "memory usage: 9.8+ MB\n"
     ]
    }
   ],
   "source": [
    "st_merged_df.info()"
   ]
  },
  {
   "cell_type": "code",
   "execution_count": 344,
   "metadata": {},
   "outputs": [
    {
     "name": "stdout",
     "output_type": "stream",
     "text": [
      "\n",
      "Step 1: Core Competencies merged with Occupation Data\n",
      "  Occupation Type_x  ANZSCO Code  Sub-Profile Code_x  \\\n",
      "0          anzsco 6       422111                 NaN   \n",
      "1          anzsco 6       422111                 NaN   \n",
      "2          anzsco 6       422111                 NaN   \n",
      "3          anzsco 6       422111                 NaN   \n",
      "4          anzsco 6       422111                 NaN   \n",
      "\n",
      "                                        ANZSCO Title        Core Competency  \\\n",
      "0  aboriginal torres strait islander education wo...     digital engagement   \n",
      "1  aboriginal torres strait islander education wo...  initiative innovation   \n",
      "2  aboriginal torres strait islander education wo...               learning   \n",
      "3  aboriginal torres strait islander education wo...               numeracy   \n",
      "4  aboriginal torres strait islander education wo...     oral communication   \n",
      "\n",
      "   Score Proficiency Level                                       Anchor Value  \\\n",
      "0      5      intermediate  build maintain effective online profile career...   \n",
      "1      8              high  negotiate price sales terms prepare contract h...   \n",
      "2      5      intermediate  learn new filing system groups documents type ...   \n",
      "3      4      intermediate  use blood pressure machine accurately record r...   \n",
      "4      7      intermediate  participate work meeting ask appropriate follo...   \n",
      "\n",
      "  Occupation Type_y Sub-Profile Code_y  \\\n",
      "0          anzsco 6                NaN   \n",
      "1          anzsco 6                NaN   \n",
      "2          anzsco 6                NaN   \n",
      "3          anzsco 6                NaN   \n",
      "4          anzsco 6                NaN   \n",
      "\n",
      "                                  ANZSCO Description  \n",
      "0  assists aboriginal torres strait islander stud...  \n",
      "1  assists aboriginal torres strait islander stud...  \n",
      "2  assists aboriginal torres strait islander stud...  \n",
      "3  assists aboriginal torres strait islander stud...  \n",
      "4  assists aboriginal torres strait islander stud...  \n",
      "\n",
      "Step 2: Final Merged Dataset with Descriptions\n",
      "  Occupation Type_x  ANZSCO Code  Sub-Profile Code_x  \\\n",
      "0          anzsco 6       422111                 NaN   \n",
      "1          anzsco 6       422111                 NaN   \n",
      "2          anzsco 6       422111                 NaN   \n",
      "3          anzsco 6       422111                 NaN   \n",
      "4          anzsco 6       422111                 NaN   \n",
      "\n",
      "                                        ANZSCO Title        Core Competency  \\\n",
      "0  aboriginal torres strait islander education wo...     digital engagement   \n",
      "1  aboriginal torres strait islander education wo...  initiative innovation   \n",
      "2  aboriginal torres strait islander education wo...               learning   \n",
      "3  aboriginal torres strait islander education wo...               numeracy   \n",
      "4  aboriginal torres strait islander education wo...     oral communication   \n",
      "\n",
      "   Score Proficiency Level                                       Anchor Value  \\\n",
      "0      5      intermediate  build maintain effective online profile career...   \n",
      "1      8              high  negotiate price sales terms prepare contract h...   \n",
      "2      5      intermediate  learn new filing system groups documents type ...   \n",
      "3      4      intermediate  use blood pressure machine accurately record r...   \n",
      "4      7      intermediate  participate work meeting ask appropriate follo...   \n",
      "\n",
      "  Occupation Type_y Sub-Profile Code_y  \\\n",
      "0          anzsco 6                NaN   \n",
      "1          anzsco 6                NaN   \n",
      "2          anzsco 6                NaN   \n",
      "3          anzsco 6                NaN   \n",
      "4          anzsco 6                NaN   \n",
      "\n",
      "                                  ANZSCO Description  \\\n",
      "0  assists aboriginal torres strait islander stud...   \n",
      "1  assists aboriginal torres strait islander stud...   \n",
      "2  assists aboriginal torres strait islander stud...   \n",
      "3  assists aboriginal torres strait islander stud...   \n",
      "4  assists aboriginal torres strait islander stud...   \n",
      "\n",
      "                         Core Competency Description Proficiency Level_desc  \\\n",
      "0  identifying using technology including hardwar...           intermediate   \n",
      "1  taking responsibilities challenges able start ...                   high   \n",
      "2  understanding implications new information cur...           intermediate   \n",
      "3  using mathematics solve problems interpreting ...           intermediate   \n",
      "4  ability communicate information ideas speaking...           intermediate   \n",
      "\n",
      "                                   Anchor Value_desc  \n",
      "0  build maintain effective online profile career...  \n",
      "1  negotiate price sales terms prepare contract h...  \n",
      "2  learn new filing system groups documents type ...  \n",
      "3  use blood pressure machine accurately record r...  \n",
      "4  participate work meeting ask appropriate follo...  \n"
     ]
    }
   ],
   "source": [
    "def merge_cc_df(df1, df2, df3):\n",
    "    merged_df = pd.merge(df1, df3, on=[\"ANZSCO Code\", \"ANZSCO Title\"], how=\"left\")\n",
    "\n",
    "    print(\"\\nStep 1: Core Competencies merged with Occupation Data\")\n",
    "    print(merged_df.head())\n",
    "    merged_df = pd.merge(merged_df, df2, on=[\"Core Competency\", \"Score\"], how=\"left\", suffixes=(\"\", \"_desc\"))\n",
    "\n",
    "    print(\"\\nStep 2: Final Merged Dataset with Descriptions\")\n",
    "    print(merged_df.head())\n",
    "\n",
    "    return merged_df\n",
    "\n",
    "\n",
    "cc_merged_df = merge_cc_df(cc_df, cc_desc_df, occupation_df)"
   ]
  },
  {
   "cell_type": "code",
   "execution_count": 345,
   "metadata": {},
   "outputs": [
    {
     "name": "stdout",
     "output_type": "stream",
     "text": [
      "<class 'pandas.core.frame.DataFrame'>\n",
      "RangeIndex: 11030 entries, 0 to 11029\n",
      "Data columns (total 14 columns):\n",
      " #   Column                       Non-Null Count  Dtype  \n",
      "---  ------                       --------------  -----  \n",
      " 0   Occupation Type_x            11030 non-null  object \n",
      " 1   ANZSCO Code                  11030 non-null  int64  \n",
      " 2   Sub-Profile Code_x           0 non-null      float64\n",
      " 3   ANZSCO Title                 11030 non-null  object \n",
      " 4   Core Competency              11030 non-null  object \n",
      " 5   Score                        11030 non-null  int64  \n",
      " 6   Proficiency Level            11030 non-null  object \n",
      " 7   Anchor Value                 11030 non-null  object \n",
      " 8   Occupation Type_y            11030 non-null  object \n",
      " 9   Sub-Profile Code_y           0 non-null      object \n",
      " 10  ANZSCO Description           11030 non-null  object \n",
      " 11  Core Competency Description  11030 non-null  object \n",
      " 12  Proficiency Level_desc       11030 non-null  object \n",
      " 13  Anchor Value_desc            11030 non-null  object \n",
      "dtypes: float64(1), int64(2), object(11)\n",
      "memory usage: 1.2+ MB\n"
     ]
    }
   ],
   "source": [
    "cc_merged_df.info()"
   ]
  },
  {
   "cell_type": "markdown",
   "metadata": {},
   "source": [
    "### Tech Tools Merged Analysis"
   ]
  },
  {
   "cell_type": "code",
   "execution_count": 346,
   "metadata": {},
   "outputs": [
    {
     "name": "stdout",
     "output_type": "stream",
     "text": [
      "<class 'pandas.core.frame.DataFrame'>\n",
      "RangeIndex: 12911 entries, 0 to 12910\n",
      "Data columns (total 14 columns):\n",
      " #   Column                                Non-Null Count  Dtype \n",
      "---  ------                                --------------  ----- \n",
      " 0   Technology Tool Category              12911 non-null  object\n",
      " 1   Technology Tool Category Description  12911 non-null  object\n",
      " 2   Technology Tool                       12911 non-null  object\n",
      " 3   Technology Tool Description           12911 non-null  object\n",
      " 4   Technology Tool Extended Description  12911 non-null  object\n",
      " 5   Occupation Type_x                     12911 non-null  object\n",
      " 6   ANZSCO Code                           12911 non-null  int64 \n",
      " 7   Sub-Profile Code_x                    7543 non-null   object\n",
      " 8   ANZSCO Title_x                        12911 non-null  object\n",
      " 9   Emerging/Trending Flag                556 non-null    object\n",
      " 10  Occupation Type_y                     12906 non-null  object\n",
      " 11  Sub-Profile Code_y                    7150 non-null   object\n",
      " 12  ANZSCO Title_y                        12906 non-null  object\n",
      " 13  ANZSCO Description                    12906 non-null  object\n",
      "dtypes: int64(1), object(13)\n",
      "memory usage: 1.4+ MB\n"
     ]
    }
   ],
   "source": [
    "tt_merged_df.info()"
   ]
  },
  {
   "cell_type": "code",
   "execution_count": 347,
   "metadata": {},
   "outputs": [
    {
     "data": {
      "text/plain": [
       "Index(['Technology Tool Category', 'Technology Tool Category Description',\n",
       "       'Technology Tool', 'Technology Tool Description',\n",
       "       'Technology Tool Extended Description', 'Occupation Type_x',\n",
       "       'ANZSCO Code', 'Sub-Profile Code_x', 'ANZSCO Title_x',\n",
       "       'Emerging/Trending Flag', 'ANZSCO Description'],\n",
       "      dtype='object')"
      ]
     },
     "execution_count": 347,
     "metadata": {},
     "output_type": "execute_result"
    }
   ],
   "source": [
    "tt_merged_df.drop(columns=[ \"Sub-Profile Code_y\", \"Occupation Type_y\" , \"ANZSCO Title_y\" ], inplace=True)\n",
    "tt_merged_df.columns"
   ]
  },
  {
   "cell_type": "code",
   "execution_count": 348,
   "metadata": {},
   "outputs": [
    {
     "name": "stdout",
     "output_type": "stream",
     "text": [
      "There are 4 types of Occupations listed in Specialist Task Data\n",
      "These occupations are: ['anzsco 4' 'anzsco 6' 'nec category occupation' 'specialisation']\n",
      "There are 1042 different occupations listed\n"
     ]
    }
   ],
   "source": [
    "print(\"There are\",tt_merged_df['Occupation Type_x'].nunique(), \"types of Occupations listed in Specialist Task Data\")\n",
    "print('These occupations are:', tt_merged_df['Occupation Type_x'].unique())\n",
    "print(\"There are\",tt_merged_df['ANZSCO Code'].nunique(), \"different occupations listed\")"
   ]
  },
  {
   "cell_type": "code",
   "execution_count": 349,
   "metadata": {},
   "outputs": [
    {
     "name": "stdout",
     "output_type": "stream",
     "text": [
      "The number of Tech Tool Category in ASC data are: 27\n",
      "The number of Tech Tool in ASC data are: 94\n"
     ]
    }
   ],
   "source": [
    "print(\"The number of Tech Tool Category in ASC data are:\", tt_merged_df['Technology Tool Category'].nunique())\n",
    "print(\"The number of Tech Tool in ASC data are:\", tt_merged_df['Technology Tool'].nunique())\n",
    "#print(\"The number of Cluster Families in ASC data are:\", st_hier_df['Cluster Family'].nunique())\n",
    "\n"
   ]
  },
  {
   "cell_type": "code",
   "execution_count": 350,
   "metadata": {},
   "outputs": [
    {
     "name": "stdout",
     "output_type": "stream",
     "text": [
      "<class 'pandas.core.frame.DataFrame'>\n",
      "RangeIndex: 12911 entries, 0 to 12910\n",
      "Data columns (total 11 columns):\n",
      " #   Column                                Non-Null Count  Dtype \n",
      "---  ------                                --------------  ----- \n",
      " 0   Technology Tool Category              12911 non-null  object\n",
      " 1   Technology Tool Category Description  12911 non-null  object\n",
      " 2   Technology Tool                       12911 non-null  object\n",
      " 3   Technology Tool Description           12911 non-null  object\n",
      " 4   Technology Tool Extended Description  12911 non-null  object\n",
      " 5   Occupation Type_x                     12911 non-null  object\n",
      " 6   ANZSCO Code                           12911 non-null  int64 \n",
      " 7   Sub-Profile Code_x                    7543 non-null   object\n",
      " 8   ANZSCO Title_x                        12911 non-null  object\n",
      " 9   Emerging/Trending Flag                556 non-null    object\n",
      " 10  ANZSCO Description                    12906 non-null  object\n",
      "dtypes: int64(1), object(10)\n",
      "memory usage: 1.1+ MB\n"
     ]
    }
   ],
   "source": [
    "tt_merged_df.info()"
   ]
  },
  {
   "cell_type": "code",
   "execution_count": 351,
   "metadata": {},
   "outputs": [
    {
     "data": {
      "text/html": [
       "<div>\n",
       "<style scoped>\n",
       "    .dataframe tbody tr th:only-of-type {\n",
       "        vertical-align: middle;\n",
       "    }\n",
       "\n",
       "    .dataframe tbody tr th {\n",
       "        vertical-align: top;\n",
       "    }\n",
       "\n",
       "    .dataframe thead th {\n",
       "        text-align: right;\n",
       "    }\n",
       "</style>\n",
       "<table border=\"1\" class=\"dataframe\">\n",
       "  <thead>\n",
       "    <tr style=\"text-align: right;\">\n",
       "      <th></th>\n",
       "      <th>Technology Tool Category</th>\n",
       "      <th>Technology Tool Category Description</th>\n",
       "      <th>Technology Tool</th>\n",
       "      <th>Technology Tool Description</th>\n",
       "      <th>Technology Tool Extended Description</th>\n",
       "      <th>Occupation Type_x</th>\n",
       "      <th>ANZSCO Code</th>\n",
       "      <th>Sub-Profile Code_x</th>\n",
       "      <th>ANZSCO Title_x</th>\n",
       "      <th>Emerging/Trending Flag</th>\n",
       "      <th>ANZSCO Description</th>\n",
       "    </tr>\n",
       "  </thead>\n",
       "  <tbody>\n",
       "    <tr>\n",
       "      <th>0</th>\n",
       "      <td>broadcasting audiovisual production technologies</td>\n",
       "      <td>systems audio video multimedia news content pr...</td>\n",
       "      <td>collaborative news production platforms</td>\n",
       "      <td>software used create manage news content media...</td>\n",
       "      <td>collaborative news production platforms encomp...</td>\n",
       "      <td>anzsco 4</td>\n",
       "      <td>2123</td>\n",
       "      <td>NaN</td>\n",
       "      <td>film television radio stage directors</td>\n",
       "      <td>NaN</td>\n",
       "      <td>film television radio stage directors direct a...</td>\n",
       "    </tr>\n",
       "    <tr>\n",
       "      <th>1</th>\n",
       "      <td>broadcasting audiovisual production technologies</td>\n",
       "      <td>systems audio video multimedia news content pr...</td>\n",
       "      <td>collaborative news production platforms</td>\n",
       "      <td>software used create manage news content media...</td>\n",
       "      <td>collaborative news production platforms encomp...</td>\n",
       "      <td>anzsco 4</td>\n",
       "      <td>2124</td>\n",
       "      <td>NaN</td>\n",
       "      <td>journalists writers</td>\n",
       "      <td>NaN</td>\n",
       "      <td>journalists writers research compile news stor...</td>\n",
       "    </tr>\n",
       "    <tr>\n",
       "      <th>2</th>\n",
       "      <td>broadcasting audiovisual production technologies</td>\n",
       "      <td>systems audio video multimedia news content pr...</td>\n",
       "      <td>collaborative news production platforms</td>\n",
       "      <td>software used create manage news content media...</td>\n",
       "      <td>collaborative news production platforms encomp...</td>\n",
       "      <td>anzsco 6</td>\n",
       "      <td>212113</td>\n",
       "      <td>NaN</td>\n",
       "      <td>radio presenter</td>\n",
       "      <td>NaN</td>\n",
       "      <td>prepares presents news sports information cond...</td>\n",
       "    </tr>\n",
       "    <tr>\n",
       "      <th>3</th>\n",
       "      <td>broadcasting audiovisual production technologies</td>\n",
       "      <td>systems audio video multimedia news content pr...</td>\n",
       "      <td>collaborative news production platforms</td>\n",
       "      <td>software used create manage news content media...</td>\n",
       "      <td>collaborative news production platforms encomp...</td>\n",
       "      <td>anzsco 6</td>\n",
       "      <td>212312</td>\n",
       "      <td>NaN</td>\n",
       "      <td>director film television radio stage</td>\n",
       "      <td>NaN</td>\n",
       "      <td>interprets approves selection scripts directs ...</td>\n",
       "    </tr>\n",
       "    <tr>\n",
       "      <th>4</th>\n",
       "      <td>broadcasting audiovisual production technologies</td>\n",
       "      <td>systems audio video multimedia news content pr...</td>\n",
       "      <td>collaborative news production platforms</td>\n",
       "      <td>software used create manage news content media...</td>\n",
       "      <td>collaborative news production platforms encomp...</td>\n",
       "      <td>anzsco 6</td>\n",
       "      <td>212315</td>\n",
       "      <td>NaN</td>\n",
       "      <td>program director television radio</td>\n",
       "      <td>NaN</td>\n",
       "      <td>compiles directs programs television radio</td>\n",
       "    </tr>\n",
       "  </tbody>\n",
       "</table>\n",
       "</div>"
      ],
      "text/plain": [
       "                           Technology Tool Category  \\\n",
       "0  broadcasting audiovisual production technologies   \n",
       "1  broadcasting audiovisual production technologies   \n",
       "2  broadcasting audiovisual production technologies   \n",
       "3  broadcasting audiovisual production technologies   \n",
       "4  broadcasting audiovisual production technologies   \n",
       "\n",
       "                Technology Tool Category Description  \\\n",
       "0  systems audio video multimedia news content pr...   \n",
       "1  systems audio video multimedia news content pr...   \n",
       "2  systems audio video multimedia news content pr...   \n",
       "3  systems audio video multimedia news content pr...   \n",
       "4  systems audio video multimedia news content pr...   \n",
       "\n",
       "                           Technology Tool  \\\n",
       "0  collaborative news production platforms   \n",
       "1  collaborative news production platforms   \n",
       "2  collaborative news production platforms   \n",
       "3  collaborative news production platforms   \n",
       "4  collaborative news production platforms   \n",
       "\n",
       "                         Technology Tool Description  \\\n",
       "0  software used create manage news content media...   \n",
       "1  software used create manage news content media...   \n",
       "2  software used create manage news content media...   \n",
       "3  software used create manage news content media...   \n",
       "4  software used create manage news content media...   \n",
       "\n",
       "                Technology Tool Extended Description Occupation Type_x  \\\n",
       "0  collaborative news production platforms encomp...          anzsco 4   \n",
       "1  collaborative news production platforms encomp...          anzsco 4   \n",
       "2  collaborative news production platforms encomp...          anzsco 6   \n",
       "3  collaborative news production platforms encomp...          anzsco 6   \n",
       "4  collaborative news production platforms encomp...          anzsco 6   \n",
       "\n",
       "   ANZSCO Code Sub-Profile Code_x                         ANZSCO Title_x  \\\n",
       "0         2123                NaN  film television radio stage directors   \n",
       "1         2124                NaN                    journalists writers   \n",
       "2       212113                NaN                        radio presenter   \n",
       "3       212312                NaN   director film television radio stage   \n",
       "4       212315                NaN      program director television radio   \n",
       "\n",
       "  Emerging/Trending Flag                                 ANZSCO Description  \n",
       "0                    NaN  film television radio stage directors direct a...  \n",
       "1                    NaN  journalists writers research compile news stor...  \n",
       "2                    NaN  prepares presents news sports information cond...  \n",
       "3                    NaN  interprets approves selection scripts directs ...  \n",
       "4                    NaN         compiles directs programs television radio  "
      ]
     },
     "execution_count": 351,
     "metadata": {},
     "output_type": "execute_result"
    }
   ],
   "source": [
    "tt_merged_df.head()"
   ]
  },
  {
   "cell_type": "code",
   "execution_count": 352,
   "metadata": {},
   "outputs": [
    {
     "data": {
      "text/html": [
       "<div>\n",
       "<style scoped>\n",
       "    .dataframe tbody tr th:only-of-type {\n",
       "        vertical-align: middle;\n",
       "    }\n",
       "\n",
       "    .dataframe tbody tr th {\n",
       "        vertical-align: top;\n",
       "    }\n",
       "\n",
       "    .dataframe thead th {\n",
       "        text-align: right;\n",
       "    }\n",
       "</style>\n",
       "<table border=\"1\" class=\"dataframe\">\n",
       "  <thead>\n",
       "    <tr style=\"text-align: right;\">\n",
       "      <th></th>\n",
       "      <th>Technology Tool Category</th>\n",
       "      <th>Technology Tool Category Description</th>\n",
       "      <th>Technology Tool</th>\n",
       "      <th>Technology Tool Description</th>\n",
       "      <th>Technology Tool Extended Description</th>\n",
       "      <th>Occupation Type_x</th>\n",
       "      <th>ANZSCO Code</th>\n",
       "      <th>Sub-Profile Code_x</th>\n",
       "      <th>ANZSCO Title_x</th>\n",
       "      <th>Emerging/Trending Flag</th>\n",
       "      <th>ANZSCO Description</th>\n",
       "    </tr>\n",
       "  </thead>\n",
       "  <tbody>\n",
       "    <tr>\n",
       "      <th>2017</th>\n",
       "      <td>data analysis reporting platforms</td>\n",
       "      <td>software data analysis produce electronic reports</td>\n",
       "      <td>statistical data analysis software</td>\n",
       "      <td>software used support process analysing modell...</td>\n",
       "      <td>statistical data analysis software encompasses...</td>\n",
       "      <td>anzsco 4</td>\n",
       "      <td>1111</td>\n",
       "      <td>NaN</td>\n",
       "      <td>chief executives managing directors</td>\n",
       "      <td>NaN</td>\n",
       "      <td>chief executives managing directors determine ...</td>\n",
       "    </tr>\n",
       "    <tr>\n",
       "      <th>447</th>\n",
       "      <td>communication technologies</td>\n",
       "      <td>data voice andor video communication platforms</td>\n",
       "      <td>audiovideo conferencing software</td>\n",
       "      <td>software collaboration using video audio confe...</td>\n",
       "      <td>audiovideo conferencing software enables peopl...</td>\n",
       "      <td>anzsco 4</td>\n",
       "      <td>1111</td>\n",
       "      <td>NaN</td>\n",
       "      <td>chief executives managing directors</td>\n",
       "      <td>NaN</td>\n",
       "      <td>chief executives managing directors determine ...</td>\n",
       "    </tr>\n",
       "    <tr>\n",
       "      <th>8663</th>\n",
       "      <td>logistics fleet management systems</td>\n",
       "      <td>systems logistics vehicle despatch fleet manag...</td>\n",
       "      <td>procurement supply chain management systems</td>\n",
       "      <td>software used help manage productiontocustomer...</td>\n",
       "      <td>procurement supply chain management encompasse...</td>\n",
       "      <td>anzsco 4</td>\n",
       "      <td>1111</td>\n",
       "      <td>NaN</td>\n",
       "      <td>chief executives managing directors</td>\n",
       "      <td>NaN</td>\n",
       "      <td>chief executives managing directors determine ...</td>\n",
       "    </tr>\n",
       "    <tr>\n",
       "      <th>9153</th>\n",
       "      <td>payroll human resource management platforms</td>\n",
       "      <td>systems undertake human resource management pe...</td>\n",
       "      <td>human resources software</td>\n",
       "      <td>software systems used manage employee human re...</td>\n",
       "      <td>human resources software encompasses software ...</td>\n",
       "      <td>anzsco 4</td>\n",
       "      <td>1111</td>\n",
       "      <td>NaN</td>\n",
       "      <td>chief executives managing directors</td>\n",
       "      <td>NaN</td>\n",
       "      <td>chief executives managing directors determine ...</td>\n",
       "    </tr>\n",
       "    <tr>\n",
       "      <th>3497</th>\n",
       "      <td>financial management service delivery platforms</td>\n",
       "      <td>systems undertake financial management reporti...</td>\n",
       "      <td>accounting financial management systems</td>\n",
       "      <td>software managing accounts inventory financial...</td>\n",
       "      <td>accounting financial management systems encomp...</td>\n",
       "      <td>anzsco 4</td>\n",
       "      <td>1111</td>\n",
       "      <td>NaN</td>\n",
       "      <td>chief executives managing directors</td>\n",
       "      <td>NaN</td>\n",
       "      <td>chief executives managing directors determine ...</td>\n",
       "    </tr>\n",
       "  </tbody>\n",
       "</table>\n",
       "</div>"
      ],
      "text/plain": [
       "                             Technology Tool Category  \\\n",
       "2017                data analysis reporting platforms   \n",
       "447                        communication technologies   \n",
       "8663               logistics fleet management systems   \n",
       "9153      payroll human resource management platforms   \n",
       "3497  financial management service delivery platforms   \n",
       "\n",
       "                   Technology Tool Category Description  \\\n",
       "2017  software data analysis produce electronic reports   \n",
       "447      data voice andor video communication platforms   \n",
       "8663  systems logistics vehicle despatch fleet manag...   \n",
       "9153  systems undertake human resource management pe...   \n",
       "3497  systems undertake financial management reporti...   \n",
       "\n",
       "                                  Technology Tool  \\\n",
       "2017           statistical data analysis software   \n",
       "447              audiovideo conferencing software   \n",
       "8663  procurement supply chain management systems   \n",
       "9153                     human resources software   \n",
       "3497      accounting financial management systems   \n",
       "\n",
       "                            Technology Tool Description  \\\n",
       "2017  software used support process analysing modell...   \n",
       "447   software collaboration using video audio confe...   \n",
       "8663  software used help manage productiontocustomer...   \n",
       "9153  software systems used manage employee human re...   \n",
       "3497  software managing accounts inventory financial...   \n",
       "\n",
       "                   Technology Tool Extended Description Occupation Type_x  \\\n",
       "2017  statistical data analysis software encompasses...          anzsco 4   \n",
       "447   audiovideo conferencing software enables peopl...          anzsco 4   \n",
       "8663  procurement supply chain management encompasse...          anzsco 4   \n",
       "9153  human resources software encompasses software ...          anzsco 4   \n",
       "3497  accounting financial management systems encomp...          anzsco 4   \n",
       "\n",
       "      ANZSCO Code Sub-Profile Code_x                       ANZSCO Title_x  \\\n",
       "2017         1111                NaN  chief executives managing directors   \n",
       "447          1111                NaN  chief executives managing directors   \n",
       "8663         1111                NaN  chief executives managing directors   \n",
       "9153         1111                NaN  chief executives managing directors   \n",
       "3497         1111                NaN  chief executives managing directors   \n",
       "\n",
       "     Emerging/Trending Flag                                 ANZSCO Description  \n",
       "2017                    NaN  chief executives managing directors determine ...  \n",
       "447                     NaN  chief executives managing directors determine ...  \n",
       "8663                    NaN  chief executives managing directors determine ...  \n",
       "9153                    NaN  chief executives managing directors determine ...  \n",
       "3497                    NaN  chief executives managing directors determine ...  "
      ]
     },
     "execution_count": 352,
     "metadata": {},
     "output_type": "execute_result"
    }
   ],
   "source": [
    "tt_merged_df.sort_values(by=\"ANZSCO Code\", inplace=True)\n",
    "tt_merged_df.head()"
   ]
  },
  {
   "cell_type": "markdown",
   "metadata": {},
   "source": [
    "### Specialised Task Merged Analysis"
   ]
  },
  {
   "cell_type": "code",
   "execution_count": 353,
   "metadata": {},
   "outputs": [
    {
     "name": "stdout",
     "output_type": "stream",
     "text": [
      "<class 'pandas.core.frame.DataFrame'>\n",
      "RangeIndex: 67772 entries, 0 to 67771\n",
      "Data columns (total 19 columns):\n",
      " #   Column                       Non-Null Count  Dtype  \n",
      "---  ------                       --------------  -----  \n",
      " 0   Occupation Type_x            67772 non-null  object \n",
      " 1   ANZSCO Code                  67772 non-null  int64  \n",
      " 2   Sub-Profile Code_x           39773 non-null  object \n",
      " 3   ANZSCO Title_x               67772 non-null  object \n",
      " 4   Specialist Task              67772 non-null  object \n",
      " 5   % of time spent on task      27999 non-null  float64\n",
      " 6   Emerging/\n",
      "Trending Flag      1700 non-null   object \n",
      " 7   Specialist Cluster_x         67772 non-null  object \n",
      " 8    % of time spent on cluster  27999 non-null  float64\n",
      " 9   Cluster Family_x             67772 non-null  object \n",
      " 10  % of time spent on family    27999 non-null  float64\n",
      " 11  Skills Statement             67772 non-null  object \n",
      " 12  Specialist Cluster_y         67772 non-null  object \n",
      " 13  Cluster Family_y             67772 non-null  object \n",
      " 14  Skill Statement              67772 non-null  object \n",
      " 15  Occupation Type_y            67772 non-null  object \n",
      " 16  Sub-Profile Code_y           37322 non-null  object \n",
      " 17  ANZSCO Title_y               67772 non-null  object \n",
      " 18  ANZSCO Description           67772 non-null  object \n",
      "dtypes: float64(3), int64(1), object(15)\n",
      "memory usage: 9.8+ MB\n"
     ]
    }
   ],
   "source": [
    "st_merged_df.info()"
   ]
  },
  {
   "cell_type": "code",
   "execution_count": 354,
   "metadata": {},
   "outputs": [
    {
     "data": {
      "text/plain": [
       "Index(['Occupation Type_x', 'ANZSCO Code', 'Sub-Profile Code_x',\n",
       "       'ANZSCO Title_x', 'Specialist Task', '% of time spent on task',\n",
       "       'Emerging/\\nTrending Flag', 'Specialist Cluster_x',\n",
       "       ' % of time spent on cluster', 'Cluster Family_x',\n",
       "       '% of time spent on family', 'Skills Statement', 'ANZSCO Description'],\n",
       "      dtype='object')"
      ]
     },
     "execution_count": 354,
     "metadata": {},
     "output_type": "execute_result"
    }
   ],
   "source": [
    "st_merged_df.drop(columns=[ \"Sub-Profile Code_y\", \"Specialist Cluster_y\", \"Cluster Family_y\" , \"ANZSCO Title_y\", \"Occupation Type_y\", \"Skill Statement\" ], inplace=True)\n",
    "st_merged_df.columns"
   ]
  },
  {
   "cell_type": "code",
   "execution_count": 355,
   "metadata": {},
   "outputs": [
    {
     "name": "stdout",
     "output_type": "stream",
     "text": [
      "The number of Specialist Task in ASC data are: 1686\n",
      "The number of Specialist Clusters in ASC data are: 271\n",
      "The number of Cluster Families in ASC data are: 30\n"
     ]
    }
   ],
   "source": [
    "print(\"The number of Specialist Task in ASC data are:\", st_merged_df['Specialist Task'].nunique())\n",
    "print(\"The number of Specialist Clusters in ASC data are:\", st_merged_df['Specialist Cluster_x'].nunique())\n",
    "print(\"The number of Cluster Families in ASC data are:\", st_merged_df['Cluster Family_x'].nunique())\n",
    "\n"
   ]
  },
  {
   "cell_type": "code",
   "execution_count": 356,
   "metadata": {},
   "outputs": [
    {
     "name": "stdout",
     "output_type": "stream",
     "text": [
      "There are 4 types of Occupations listed in Specialist Task Data\n",
      "These occupations are: ['anzsco 4' 'anzsco 6' 'specialisation' 'nec category occupation']\n",
      "There are 1177 different occupations listed\n"
     ]
    }
   ],
   "source": [
    "print(\"There are\",st_merged_df['Occupation Type_x'].nunique(), \"types of Occupations listed in Specialist Task Data\")\n",
    "print('These occupations are:', st_merged_df['Occupation Type_x'].unique())\n",
    "print(\"There are\",st_merged_df['ANZSCO Code'].nunique(), \"different occupations listed\")"
   ]
  },
  {
   "cell_type": "code",
   "execution_count": 357,
   "metadata": {},
   "outputs": [
    {
     "name": "stdout",
     "output_type": "stream",
     "text": [
      "<class 'pandas.core.frame.DataFrame'>\n",
      "RangeIndex: 67772 entries, 0 to 67771\n",
      "Data columns (total 13 columns):\n",
      " #   Column                       Non-Null Count  Dtype  \n",
      "---  ------                       --------------  -----  \n",
      " 0   Occupation Type_x            67772 non-null  object \n",
      " 1   ANZSCO Code                  67772 non-null  int64  \n",
      " 2   Sub-Profile Code_x           39773 non-null  object \n",
      " 3   ANZSCO Title_x               67772 non-null  object \n",
      " 4   Specialist Task              67772 non-null  object \n",
      " 5   % of time spent on task      27999 non-null  float64\n",
      " 6   Emerging/\n",
      "Trending Flag      1700 non-null   object \n",
      " 7   Specialist Cluster_x         67772 non-null  object \n",
      " 8    % of time spent on cluster  27999 non-null  float64\n",
      " 9   Cluster Family_x             67772 non-null  object \n",
      " 10  % of time spent on family    27999 non-null  float64\n",
      " 11  Skills Statement             67772 non-null  object \n",
      " 12  ANZSCO Description           67772 non-null  object \n",
      "dtypes: float64(3), int64(1), object(9)\n",
      "memory usage: 6.7+ MB\n"
     ]
    }
   ],
   "source": [
    "st_merged_df.info()"
   ]
  },
  {
   "cell_type": "code",
   "execution_count": 358,
   "metadata": {},
   "outputs": [
    {
     "data": {
      "text/html": [
       "<div>\n",
       "<style scoped>\n",
       "    .dataframe tbody tr th:only-of-type {\n",
       "        vertical-align: middle;\n",
       "    }\n",
       "\n",
       "    .dataframe tbody tr th {\n",
       "        vertical-align: top;\n",
       "    }\n",
       "\n",
       "    .dataframe thead th {\n",
       "        text-align: right;\n",
       "    }\n",
       "</style>\n",
       "<table border=\"1\" class=\"dataframe\">\n",
       "  <thead>\n",
       "    <tr style=\"text-align: right;\">\n",
       "      <th></th>\n",
       "      <th>Occupation Type_x</th>\n",
       "      <th>ANZSCO Code</th>\n",
       "      <th>Sub-Profile Code_x</th>\n",
       "      <th>ANZSCO Title_x</th>\n",
       "      <th>Specialist Task</th>\n",
       "      <th>% of time spent on task</th>\n",
       "      <th>Emerging/\\nTrending Flag</th>\n",
       "      <th>Specialist Cluster_x</th>\n",
       "      <th>% of time spent on cluster</th>\n",
       "      <th>Cluster Family_x</th>\n",
       "      <th>% of time spent on family</th>\n",
       "      <th>Skills Statement</th>\n",
       "      <th>ANZSCO Description</th>\n",
       "    </tr>\n",
       "  </thead>\n",
       "  <tbody>\n",
       "    <tr>\n",
       "      <th>0</th>\n",
       "      <td>anzsco 4</td>\n",
       "      <td>1111</td>\n",
       "      <td>NaN</td>\n",
       "      <td>chief executives managing directors</td>\n",
       "      <td>direct manage financial activities operations</td>\n",
       "      <td>0.1302</td>\n",
       "      <td>NaN</td>\n",
       "      <td>manage monitor undertake financial activities</td>\n",
       "      <td>0.1644</td>\n",
       "      <td>business operations financial activities</td>\n",
       "      <td>0.5322</td>\n",
       "      <td>direct oversee financial operations business o...</td>\n",
       "      <td>chief executives managing directors determine ...</td>\n",
       "    </tr>\n",
       "    <tr>\n",
       "      <th>1</th>\n",
       "      <td>anzsco 4</td>\n",
       "      <td>1111</td>\n",
       "      <td>NaN</td>\n",
       "      <td>chief executives managing directors</td>\n",
       "      <td>direct department organisational activities</td>\n",
       "      <td>0.1117</td>\n",
       "      <td>trending</td>\n",
       "      <td>manage services staff activities</td>\n",
       "      <td>0.2128</td>\n",
       "      <td>business operations financial activities</td>\n",
       "      <td>0.5322</td>\n",
       "      <td>direct oversee activities work unit department...</td>\n",
       "      <td>chief executives managing directors determine ...</td>\n",
       "    </tr>\n",
       "    <tr>\n",
       "      <th>2</th>\n",
       "      <td>anzsco 4</td>\n",
       "      <td>1111</td>\n",
       "      <td>NaN</td>\n",
       "      <td>chief executives managing directors</td>\n",
       "      <td>direct sales marketing customer service activi...</td>\n",
       "      <td>0.0808</td>\n",
       "      <td>NaN</td>\n",
       "      <td>manage services staff activities</td>\n",
       "      <td>0.2128</td>\n",
       "      <td>business operations financial activities</td>\n",
       "      <td>0.5322</td>\n",
       "      <td>direct oversee sales marketing customer servic...</td>\n",
       "      <td>chief executives managing directors determine ...</td>\n",
       "    </tr>\n",
       "    <tr>\n",
       "      <th>3</th>\n",
       "      <td>anzsco 4</td>\n",
       "      <td>1111</td>\n",
       "      <td>NaN</td>\n",
       "      <td>chief executives managing directors</td>\n",
       "      <td>communicate others arrange coordinate conduct ...</td>\n",
       "      <td>0.0665</td>\n",
       "      <td>NaN</td>\n",
       "      <td>communicate collaborate others</td>\n",
       "      <td>0.0750</td>\n",
       "      <td>communication collaboration</td>\n",
       "      <td>0.0890</td>\n",
       "      <td>coordinate others order plan organise coordina...</td>\n",
       "      <td>chief executives managing directors determine ...</td>\n",
       "    </tr>\n",
       "    <tr>\n",
       "      <th>4</th>\n",
       "      <td>anzsco 4</td>\n",
       "      <td>1111</td>\n",
       "      <td>NaN</td>\n",
       "      <td>chief executives managing directors</td>\n",
       "      <td>analyse data assess operational project effect...</td>\n",
       "      <td>0.0651</td>\n",
       "      <td>NaN</td>\n",
       "      <td>use data inform operational decisions</td>\n",
       "      <td>0.1009</td>\n",
       "      <td>data analytics databases</td>\n",
       "      <td>0.1370</td>\n",
       "      <td>analyse qualitative quantitative data arising ...</td>\n",
       "      <td>chief executives managing directors determine ...</td>\n",
       "    </tr>\n",
       "  </tbody>\n",
       "</table>\n",
       "</div>"
      ],
      "text/plain": [
       "  Occupation Type_x  ANZSCO Code Sub-Profile Code_x  \\\n",
       "0          anzsco 4         1111                NaN   \n",
       "1          anzsco 4         1111                NaN   \n",
       "2          anzsco 4         1111                NaN   \n",
       "3          anzsco 4         1111                NaN   \n",
       "4          anzsco 4         1111                NaN   \n",
       "\n",
       "                        ANZSCO Title_x  \\\n",
       "0  chief executives managing directors   \n",
       "1  chief executives managing directors   \n",
       "2  chief executives managing directors   \n",
       "3  chief executives managing directors   \n",
       "4  chief executives managing directors   \n",
       "\n",
       "                                     Specialist Task  % of time spent on task  \\\n",
       "0      direct manage financial activities operations                   0.1302   \n",
       "1        direct department organisational activities                   0.1117   \n",
       "2  direct sales marketing customer service activi...                   0.0808   \n",
       "3  communicate others arrange coordinate conduct ...                   0.0665   \n",
       "4  analyse data assess operational project effect...                   0.0651   \n",
       "\n",
       "  Emerging/\\nTrending Flag                           Specialist Cluster_x  \\\n",
       "0                      NaN  manage monitor undertake financial activities   \n",
       "1                 trending               manage services staff activities   \n",
       "2                      NaN               manage services staff activities   \n",
       "3                      NaN                 communicate collaborate others   \n",
       "4                      NaN          use data inform operational decisions   \n",
       "\n",
       "    % of time spent on cluster                          Cluster Family_x  \\\n",
       "0                       0.1644  business operations financial activities   \n",
       "1                       0.2128  business operations financial activities   \n",
       "2                       0.2128  business operations financial activities   \n",
       "3                       0.0750               communication collaboration   \n",
       "4                       0.1009                  data analytics databases   \n",
       "\n",
       "   % of time spent on family  \\\n",
       "0                     0.5322   \n",
       "1                     0.5322   \n",
       "2                     0.5322   \n",
       "3                     0.0890   \n",
       "4                     0.1370   \n",
       "\n",
       "                                    Skills Statement  \\\n",
       "0  direct oversee financial operations business o...   \n",
       "1  direct oversee activities work unit department...   \n",
       "2  direct oversee sales marketing customer servic...   \n",
       "3  coordinate others order plan organise coordina...   \n",
       "4  analyse qualitative quantitative data arising ...   \n",
       "\n",
       "                                  ANZSCO Description  \n",
       "0  chief executives managing directors determine ...  \n",
       "1  chief executives managing directors determine ...  \n",
       "2  chief executives managing directors determine ...  \n",
       "3  chief executives managing directors determine ...  \n",
       "4  chief executives managing directors determine ...  "
      ]
     },
     "execution_count": 358,
     "metadata": {},
     "output_type": "execute_result"
    }
   ],
   "source": [
    "st_merged_df.head()"
   ]
  },
  {
   "cell_type": "markdown",
   "metadata": {},
   "source": [
    "### Core Competencies Merged Analysis"
   ]
  },
  {
   "cell_type": "code",
   "execution_count": 359,
   "metadata": {},
   "outputs": [
    {
     "name": "stdout",
     "output_type": "stream",
     "text": [
      "<class 'pandas.core.frame.DataFrame'>\n",
      "RangeIndex: 11030 entries, 0 to 11029\n",
      "Data columns (total 14 columns):\n",
      " #   Column                       Non-Null Count  Dtype  \n",
      "---  ------                       --------------  -----  \n",
      " 0   Occupation Type_x            11030 non-null  object \n",
      " 1   ANZSCO Code                  11030 non-null  int64  \n",
      " 2   Sub-Profile Code_x           0 non-null      float64\n",
      " 3   ANZSCO Title                 11030 non-null  object \n",
      " 4   Core Competency              11030 non-null  object \n",
      " 5   Score                        11030 non-null  int64  \n",
      " 6   Proficiency Level            11030 non-null  object \n",
      " 7   Anchor Value                 11030 non-null  object \n",
      " 8   Occupation Type_y            11030 non-null  object \n",
      " 9   Sub-Profile Code_y           0 non-null      object \n",
      " 10  ANZSCO Description           11030 non-null  object \n",
      " 11  Core Competency Description  11030 non-null  object \n",
      " 12  Proficiency Level_desc       11030 non-null  object \n",
      " 13  Anchor Value_desc            11030 non-null  object \n",
      "dtypes: float64(1), int64(2), object(11)\n",
      "memory usage: 1.2+ MB\n"
     ]
    }
   ],
   "source": [
    "cc_merged_df.info()"
   ]
  },
  {
   "cell_type": "code",
   "execution_count": 360,
   "metadata": {},
   "outputs": [
    {
     "data": {
      "text/plain": [
       "Index(['Occupation Type_x', 'ANZSCO Code', 'Sub-Profile Code_x',\n",
       "       'ANZSCO Title', 'Core Competency', 'Score', 'Proficiency Level',\n",
       "       'Anchor Value', 'ANZSCO Description', 'Core Competency Description',\n",
       "       'Proficiency Level_desc', 'Anchor Value_desc'],\n",
       "      dtype='object')"
      ]
     },
     "execution_count": 360,
     "metadata": {},
     "output_type": "execute_result"
    }
   ],
   "source": [
    "cc_merged_df.drop(columns=[ \"Sub-Profile Code_y\" , \"Occupation Type_y\"], inplace=True)\n",
    "cc_merged_df.columns"
   ]
  },
  {
   "cell_type": "code",
   "execution_count": 361,
   "metadata": {},
   "outputs": [
    {
     "data": {
      "text/html": [
       "<div>\n",
       "<style scoped>\n",
       "    .dataframe tbody tr th:only-of-type {\n",
       "        vertical-align: middle;\n",
       "    }\n",
       "\n",
       "    .dataframe tbody tr th {\n",
       "        vertical-align: top;\n",
       "    }\n",
       "\n",
       "    .dataframe thead th {\n",
       "        text-align: right;\n",
       "    }\n",
       "</style>\n",
       "<table border=\"1\" class=\"dataframe\">\n",
       "  <thead>\n",
       "    <tr style=\"text-align: right;\">\n",
       "      <th></th>\n",
       "      <th>Occupation Type_x</th>\n",
       "      <th>ANZSCO Code</th>\n",
       "      <th>Sub-Profile Code_x</th>\n",
       "      <th>ANZSCO Title</th>\n",
       "      <th>Core Competency</th>\n",
       "      <th>Score</th>\n",
       "      <th>Proficiency Level</th>\n",
       "      <th>Anchor Value</th>\n",
       "      <th>ANZSCO Description</th>\n",
       "      <th>Core Competency Description</th>\n",
       "      <th>Proficiency Level_desc</th>\n",
       "      <th>Anchor Value_desc</th>\n",
       "    </tr>\n",
       "  </thead>\n",
       "  <tbody>\n",
       "    <tr>\n",
       "      <th>0</th>\n",
       "      <td>anzsco 6</td>\n",
       "      <td>422111</td>\n",
       "      <td>NaN</td>\n",
       "      <td>aboriginal torres strait islander education wo...</td>\n",
       "      <td>digital engagement</td>\n",
       "      <td>5</td>\n",
       "      <td>intermediate</td>\n",
       "      <td>build maintain effective online profile career...</td>\n",
       "      <td>assists aboriginal torres strait islander stud...</td>\n",
       "      <td>identifying using technology including hardwar...</td>\n",
       "      <td>intermediate</td>\n",
       "      <td>build maintain effective online profile career...</td>\n",
       "    </tr>\n",
       "    <tr>\n",
       "      <th>1</th>\n",
       "      <td>anzsco 6</td>\n",
       "      <td>422111</td>\n",
       "      <td>NaN</td>\n",
       "      <td>aboriginal torres strait islander education wo...</td>\n",
       "      <td>initiative innovation</td>\n",
       "      <td>8</td>\n",
       "      <td>high</td>\n",
       "      <td>negotiate price sales terms prepare contract h...</td>\n",
       "      <td>assists aboriginal torres strait islander stud...</td>\n",
       "      <td>taking responsibilities challenges able start ...</td>\n",
       "      <td>high</td>\n",
       "      <td>negotiate price sales terms prepare contract h...</td>\n",
       "    </tr>\n",
       "    <tr>\n",
       "      <th>2</th>\n",
       "      <td>anzsco 6</td>\n",
       "      <td>422111</td>\n",
       "      <td>NaN</td>\n",
       "      <td>aboriginal torres strait islander education wo...</td>\n",
       "      <td>learning</td>\n",
       "      <td>5</td>\n",
       "      <td>intermediate</td>\n",
       "      <td>learn new filing system groups documents type ...</td>\n",
       "      <td>assists aboriginal torres strait islander stud...</td>\n",
       "      <td>understanding implications new information cur...</td>\n",
       "      <td>intermediate</td>\n",
       "      <td>learn new filing system groups documents type ...</td>\n",
       "    </tr>\n",
       "    <tr>\n",
       "      <th>3</th>\n",
       "      <td>anzsco 6</td>\n",
       "      <td>422111</td>\n",
       "      <td>NaN</td>\n",
       "      <td>aboriginal torres strait islander education wo...</td>\n",
       "      <td>numeracy</td>\n",
       "      <td>4</td>\n",
       "      <td>intermediate</td>\n",
       "      <td>use blood pressure machine accurately record r...</td>\n",
       "      <td>assists aboriginal torres strait islander stud...</td>\n",
       "      <td>using mathematics solve problems interpreting ...</td>\n",
       "      <td>intermediate</td>\n",
       "      <td>use blood pressure machine accurately record r...</td>\n",
       "    </tr>\n",
       "    <tr>\n",
       "      <th>4</th>\n",
       "      <td>anzsco 6</td>\n",
       "      <td>422111</td>\n",
       "      <td>NaN</td>\n",
       "      <td>aboriginal torres strait islander education wo...</td>\n",
       "      <td>oral communication</td>\n",
       "      <td>7</td>\n",
       "      <td>intermediate</td>\n",
       "      <td>participate work meeting ask appropriate follo...</td>\n",
       "      <td>assists aboriginal torres strait islander stud...</td>\n",
       "      <td>ability communicate information ideas speaking...</td>\n",
       "      <td>intermediate</td>\n",
       "      <td>participate work meeting ask appropriate follo...</td>\n",
       "    </tr>\n",
       "  </tbody>\n",
       "</table>\n",
       "</div>"
      ],
      "text/plain": [
       "  Occupation Type_x  ANZSCO Code  Sub-Profile Code_x  \\\n",
       "0          anzsco 6       422111                 NaN   \n",
       "1          anzsco 6       422111                 NaN   \n",
       "2          anzsco 6       422111                 NaN   \n",
       "3          anzsco 6       422111                 NaN   \n",
       "4          anzsco 6       422111                 NaN   \n",
       "\n",
       "                                        ANZSCO Title        Core Competency  \\\n",
       "0  aboriginal torres strait islander education wo...     digital engagement   \n",
       "1  aboriginal torres strait islander education wo...  initiative innovation   \n",
       "2  aboriginal torres strait islander education wo...               learning   \n",
       "3  aboriginal torres strait islander education wo...               numeracy   \n",
       "4  aboriginal torres strait islander education wo...     oral communication   \n",
       "\n",
       "   Score Proficiency Level                                       Anchor Value  \\\n",
       "0      5      intermediate  build maintain effective online profile career...   \n",
       "1      8              high  negotiate price sales terms prepare contract h...   \n",
       "2      5      intermediate  learn new filing system groups documents type ...   \n",
       "3      4      intermediate  use blood pressure machine accurately record r...   \n",
       "4      7      intermediate  participate work meeting ask appropriate follo...   \n",
       "\n",
       "                                  ANZSCO Description  \\\n",
       "0  assists aboriginal torres strait islander stud...   \n",
       "1  assists aboriginal torres strait islander stud...   \n",
       "2  assists aboriginal torres strait islander stud...   \n",
       "3  assists aboriginal torres strait islander stud...   \n",
       "4  assists aboriginal torres strait islander stud...   \n",
       "\n",
       "                         Core Competency Description Proficiency Level_desc  \\\n",
       "0  identifying using technology including hardwar...           intermediate   \n",
       "1  taking responsibilities challenges able start ...                   high   \n",
       "2  understanding implications new information cur...           intermediate   \n",
       "3  using mathematics solve problems interpreting ...           intermediate   \n",
       "4  ability communicate information ideas speaking...           intermediate   \n",
       "\n",
       "                                   Anchor Value_desc  \n",
       "0  build maintain effective online profile career...  \n",
       "1  negotiate price sales terms prepare contract h...  \n",
       "2  learn new filing system groups documents type ...  \n",
       "3  use blood pressure machine accurately record r...  \n",
       "4  participate work meeting ask appropriate follo...  "
      ]
     },
     "execution_count": 361,
     "metadata": {},
     "output_type": "execute_result"
    }
   ],
   "source": [
    "cc_merged_df.head()"
   ]
  },
  {
   "cell_type": "code",
   "execution_count": 362,
   "metadata": {},
   "outputs": [
    {
     "name": "stdout",
     "output_type": "stream",
     "text": [
      "10\n",
      "['digital engagement' 'initiative innovation' 'learning' 'numeracy'\n",
      " 'oral communication' 'planning organising' 'problem solving' 'reading'\n",
      " 'teamwork' 'writing']\n"
     ]
    }
   ],
   "source": [
    "print(cc_merged_df['Core Competency'].nunique())\n",
    "print(cc_merged_df['Core Competency'].unique())"
   ]
  },
  {
   "cell_type": "code",
   "execution_count": 363,
   "metadata": {},
   "outputs": [
    {
     "name": "stdout",
     "output_type": "stream",
     "text": [
      "There are 2 types of Occupations listed in Core Competency Data\n",
      "These occupations are: ['anzsco 6' 'anzsco 4']\n",
      "There are 1101 different occupations listed\n"
     ]
    }
   ],
   "source": [
    "print(\"There are\",cc_merged_df['Occupation Type_x'].nunique(), \"types of Occupations listed in Core Competency Data\")\n",
    "print('These occupations are:', cc_merged_df['Occupation Type_x'].unique())\n",
    "print(\"There are\",cc_merged_df['ANZSCO Code'].nunique(), \"different occupations listed\")"
   ]
  },
  {
   "cell_type": "code",
   "execution_count": 364,
   "metadata": {},
   "outputs": [
    {
     "name": "stdout",
     "output_type": "stream",
     "text": [
      "✅ All ANZSCO Codes have exactly 10 core competencies.\n"
     ]
    }
   ],
   "source": [
    "cc_counts = cc_merged_df.groupby(\"ANZSCO Code\")[\"Core Competency\"].nunique().sort_values(ascending=False)\n",
    "\n",
    "\n",
    "if (cc_counts == 10).all():\n",
    "    print(\"✅ All ANZSCO Codes have exactly 10 core competencies.\")\n",
    "else:\n",
    "    print(\"❌ Some ANZSCO Codes have more or less than 10 core competencies.\")\n"
   ]
  },
  {
   "cell_type": "markdown",
   "metadata": {},
   "source": [
    "## NLP Pipeline"
   ]
  },
  {
   "cell_type": "markdown",
   "metadata": {},
   "source": [
    "### Tech Tools "
   ]
  },
  {
   "cell_type": "code",
   "execution_count": 365,
   "metadata": {},
   "outputs": [
    {
     "name": "stdout",
     "output_type": "stream",
     "text": [
      "<class 'pandas.core.frame.DataFrame'>\n",
      "Index: 12911 entries, 2017 to 210\n",
      "Data columns (total 11 columns):\n",
      " #   Column                                Non-Null Count  Dtype \n",
      "---  ------                                --------------  ----- \n",
      " 0   Technology Tool Category              12911 non-null  object\n",
      " 1   Technology Tool Category Description  12911 non-null  object\n",
      " 2   Technology Tool                       12911 non-null  object\n",
      " 3   Technology Tool Description           12911 non-null  object\n",
      " 4   Technology Tool Extended Description  12911 non-null  object\n",
      " 5   Occupation Type_x                     12911 non-null  object\n",
      " 6   ANZSCO Code                           12911 non-null  int64 \n",
      " 7   Sub-Profile Code_x                    7543 non-null   object\n",
      " 8   ANZSCO Title_x                        12911 non-null  object\n",
      " 9   Emerging/Trending Flag                556 non-null    object\n",
      " 10  ANZSCO Description                    12906 non-null  object\n",
      "dtypes: int64(1), object(10)\n",
      "memory usage: 1.2+ MB\n"
     ]
    }
   ],
   "source": [
    "tt_merged_df.info()"
   ]
  },
  {
   "cell_type": "markdown",
   "metadata": {},
   "source": [
    "\"\"\"Technology Tool Category → Category of technology tools\n",
    "Technology Tool Category Description → Describes tool category\n",
    "Technology Tool → Actual tool name\n",
    "Technology Tool Description → Short description\n",
    "Technology Tool Extended Description → More details on tool\n",
    "ANZSCO Title_x → Occupation title\n",
    "ANZSCO Description → Description of the occupation\"\"\""
   ]
  },
  {
   "cell_type": "code",
   "execution_count": 366,
   "metadata": {},
   "outputs": [
    {
     "name": "stdout",
     "output_type": "stream",
     "text": [
      "<class 'pandas.core.frame.DataFrame'>\n",
      "Index: 12911 entries, 2017 to 210\n",
      "Data columns (total 11 columns):\n",
      " #   Column                                Non-Null Count  Dtype \n",
      "---  ------                                --------------  ----- \n",
      " 0   Technology Tool Category              12911 non-null  object\n",
      " 1   Technology Tool Category Description  12911 non-null  object\n",
      " 2   Technology Tool                       12911 non-null  object\n",
      " 3   Technology Tool Description           12911 non-null  object\n",
      " 4   Technology Tool Extended Description  12911 non-null  object\n",
      " 5   Occupation Type_x                     12911 non-null  object\n",
      " 6   ANZSCO Code                           12911 non-null  int64 \n",
      " 7   Sub-Profile Code_x                    7543 non-null   object\n",
      " 8   ANZSCO Title_x                        12911 non-null  object\n",
      " 9   Emerging/Trending Flag                556 non-null    object\n",
      " 10  ANZSCO Description                    12906 non-null  object\n",
      "dtypes: int64(1), object(10)\n",
      "memory usage: 1.2+ MB\n"
     ]
    }
   ],
   "source": [
    "tt_merged_df.info()"
   ]
  },
  {
   "cell_type": "code",
   "execution_count": 367,
   "metadata": {},
   "outputs": [
    {
     "name": "stdout",
     "output_type": "stream",
     "text": [
      "                             Technology Tool Category  \\\n",
      "2017                data analysis reporting platforms   \n",
      "447                        communication technologies   \n",
      "8663               logistics fleet management systems   \n",
      "9153      payroll human resource management platforms   \n",
      "3497  financial management service delivery platforms   \n",
      "\n",
      "                   Technology Tool Category Description  \\\n",
      "2017  software data analysis produce electronic reports   \n",
      "447      data voice andor video communication platforms   \n",
      "8663  systems logistics vehicle despatch fleet manag...   \n",
      "9153  systems undertake human resource management pe...   \n",
      "3497  systems undertake financial management reporti...   \n",
      "\n",
      "                                  Technology Tool  \\\n",
      "2017           statistical data analysis software   \n",
      "447              audiovideo conferencing software   \n",
      "8663  procurement supply chain management systems   \n",
      "9153                     human resources software   \n",
      "3497      accounting financial management systems   \n",
      "\n",
      "                            Technology Tool Description  \\\n",
      "2017  software used support process analysing modell...   \n",
      "447   software collaboration using video audio confe...   \n",
      "8663  software used help manage productiontocustomer...   \n",
      "9153  software systems used manage employee human re...   \n",
      "3497  software managing accounts inventory financial...   \n",
      "\n",
      "                   Technology Tool Extended Description Occupation Type_x  \\\n",
      "2017  statistical data analysis software encompasses...          anzsco 4   \n",
      "447   audiovideo conferencing software enables peopl...          anzsco 4   \n",
      "8663  procurement supply chain management encompasse...          anzsco 4   \n",
      "9153  human resources software encompasses software ...          anzsco 4   \n",
      "3497  accounting financial management systems encomp...          anzsco 4   \n",
      "\n",
      "      ANZSCO Code Sub-Profile Code_x                       ANZSCO Title_x  \\\n",
      "2017         1111                NaN  chief executives managing directors   \n",
      "447          1111                NaN  chief executives managing directors   \n",
      "8663         1111                NaN  chief executives managing directors   \n",
      "9153         1111                NaN  chief executives managing directors   \n",
      "3497         1111                NaN  chief executives managing directors   \n",
      "\n",
      "     Emerging/Trending Flag  \\\n",
      "2017                    NaN   \n",
      "447                     NaN   \n",
      "8663                    NaN   \n",
      "9153                    NaN   \n",
      "3497                    NaN   \n",
      "\n",
      "                                     ANZSCO Description  \\\n",
      "2017  chief executives managing directors determine ...   \n",
      "447   chief executives managing directors determine ...   \n",
      "8663  chief executives managing directors determine ...   \n",
      "9153  chief executives managing directors determine ...   \n",
      "3497  chief executives managing directors determine ...   \n",
      "\n",
      "                        Technology Tool Category_tokens  \\\n",
      "2017             [data, analysis, reporting, platforms]   \n",
      "447                       [communication, technologies]   \n",
      "8663            [logistics, fleet, management, systems]   \n",
      "9153  [payroll, human, resource, management, platforms]   \n",
      "3497  [financial, management, service, delivery, pla...   \n",
      "\n",
      "            Technology Tool Category Description_tokens  \\\n",
      "2017  [software, data, analysis, produce, electronic...   \n",
      "447   [data, voice, andor, video, communication, pla...   \n",
      "8663  [systems, logistics, vehicle, despatch, fleet,...   \n",
      "9153  [systems, undertake, human, resource, manageme...   \n",
      "3497  [systems, undertake, financial, management, re...   \n",
      "\n",
      "                                 Technology Tool_tokens  \\\n",
      "2017            [statistical, data, analysis, software]   \n",
      "447                [audiovideo, conferencing, software]   \n",
      "8663  [procurement, supply, chain, management, systems]   \n",
      "9153                       [human, resources, software]   \n",
      "3497       [accounting, financial, management, systems]   \n",
      "\n",
      "                     Technology Tool Description_tokens  \\\n",
      "2017  [software, used, support, process, analysing, ...   \n",
      "447   [software, collaboration, using, video, audio,...   \n",
      "8663  [software, used, help, manage, productiontocus...   \n",
      "9153  [software, systems, used, manage, employee, hu...   \n",
      "3497  [software, managing, accounts, inventory, fina...   \n",
      "\n",
      "            Technology Tool Extended Description_tokens  \\\n",
      "2017  [statistical, data, analysis, software, encomp...   \n",
      "447   [audiovideo, conferencing, software, enables, ...   \n",
      "8663  [procurement, supply, chain, management, encom...   \n",
      "9153  [human, resources, software, encompasses, soft...   \n",
      "3497  [accounting, financial, management, systems, e...   \n",
      "\n",
      "                         ANZSCO Title_x_tokens  \\\n",
      "2017  [chief, executives, managing, directors]   \n",
      "447   [chief, executives, managing, directors]   \n",
      "8663  [chief, executives, managing, directors]   \n",
      "9153  [chief, executives, managing, directors]   \n",
      "3497  [chief, executives, managing, directors]   \n",
      "\n",
      "                              ANZSCO Description_tokens  \n",
      "2017  [chief, executives, managing, directors, deter...  \n",
      "447   [chief, executives, managing, directors, deter...  \n",
      "8663  [chief, executives, managing, directors, deter...  \n",
      "9153  [chief, executives, managing, directors, deter...  \n",
      "3497  [chief, executives, managing, directors, deter...  \n"
     ]
    }
   ],
   "source": [
    "text_columns = [\n",
    "    \"Technology Tool Category\",\n",
    "    \"Technology Tool Category Description\",\n",
    "    \"Technology Tool\",\n",
    "    \"Technology Tool Description\",\n",
    "    \"Technology Tool Extended Description\",\n",
    "    \"ANZSCO Title_x\",\n",
    "    \"ANZSCO Description\"\n",
    "]\n",
    "\n",
    "tt_merged_df[text_columns] = tt_merged_df[text_columns].astype(str)\n",
    "\n",
    "\n",
    "def tokenize(text):\n",
    "    tokens = word_tokenize(text)  # Tokenize\n",
    "    return tokens\n",
    "\n",
    "# Apply tokenization to selected columns\n",
    "for col in text_columns:\n",
    "    tt_merged_df[col + \"_tokens\"] = tt_merged_df[col].apply(tokenize)\n",
    "\n",
    "# Display first few rows of tokenized DataFrame\n",
    "print(tt_merged_df.head())\n"
   ]
  },
  {
   "cell_type": "code",
   "execution_count": 368,
   "metadata": {},
   "outputs": [
    {
     "name": "stdout",
     "output_type": "stream",
     "text": [
      "<class 'pandas.core.frame.DataFrame'>\n",
      "Index: 12911 entries, 2017 to 210\n",
      "Data columns (total 18 columns):\n",
      " #   Column                                       Non-Null Count  Dtype \n",
      "---  ------                                       --------------  ----- \n",
      " 0   Technology Tool Category                     12911 non-null  object\n",
      " 1   Technology Tool Category Description         12911 non-null  object\n",
      " 2   Technology Tool                              12911 non-null  object\n",
      " 3   Technology Tool Description                  12911 non-null  object\n",
      " 4   Technology Tool Extended Description         12911 non-null  object\n",
      " 5   Occupation Type_x                            12911 non-null  object\n",
      " 6   ANZSCO Code                                  12911 non-null  int64 \n",
      " 7   Sub-Profile Code_x                           7543 non-null   object\n",
      " 8   ANZSCO Title_x                               12911 non-null  object\n",
      " 9   Emerging/Trending Flag                       556 non-null    object\n",
      " 10  ANZSCO Description                           12911 non-null  object\n",
      " 11  Technology Tool Category_tokens              12911 non-null  object\n",
      " 12  Technology Tool Category Description_tokens  12911 non-null  object\n",
      " 13  Technology Tool_tokens                       12911 non-null  object\n",
      " 14  Technology Tool Description_tokens           12911 non-null  object\n",
      " 15  Technology Tool Extended Description_tokens  12911 non-null  object\n",
      " 16  ANZSCO Title_x_tokens                        12911 non-null  object\n",
      " 17  ANZSCO Description_tokens                    12911 non-null  object\n",
      "dtypes: int64(1), object(17)\n",
      "memory usage: 1.9+ MB\n"
     ]
    }
   ],
   "source": [
    "tt_merged_df.info()"
   ]
  },
  {
   "cell_type": "code",
   "execution_count": 369,
   "metadata": {},
   "outputs": [
    {
     "data": {
      "text/html": [
       "<div>\n",
       "<style scoped>\n",
       "    .dataframe tbody tr th:only-of-type {\n",
       "        vertical-align: middle;\n",
       "    }\n",
       "\n",
       "    .dataframe tbody tr th {\n",
       "        vertical-align: top;\n",
       "    }\n",
       "\n",
       "    .dataframe thead th {\n",
       "        text-align: right;\n",
       "    }\n",
       "</style>\n",
       "<table border=\"1\" class=\"dataframe\">\n",
       "  <thead>\n",
       "    <tr style=\"text-align: right;\">\n",
       "      <th></th>\n",
       "      <th>Technology Tool Category</th>\n",
       "      <th>Technology Tool Category Description</th>\n",
       "      <th>Technology Tool</th>\n",
       "      <th>Technology Tool Description</th>\n",
       "      <th>Technology Tool Extended Description</th>\n",
       "      <th>Occupation Type_x</th>\n",
       "      <th>ANZSCO Code</th>\n",
       "      <th>Sub-Profile Code_x</th>\n",
       "      <th>ANZSCO Title_x</th>\n",
       "      <th>Emerging/Trending Flag</th>\n",
       "      <th>ANZSCO Description</th>\n",
       "      <th>Technology Tool Category_tokens</th>\n",
       "      <th>Technology Tool Category Description_tokens</th>\n",
       "      <th>Technology Tool_tokens</th>\n",
       "      <th>Technology Tool Description_tokens</th>\n",
       "      <th>Technology Tool Extended Description_tokens</th>\n",
       "      <th>ANZSCO Title_x_tokens</th>\n",
       "      <th>ANZSCO Description_tokens</th>\n",
       "    </tr>\n",
       "  </thead>\n",
       "  <tbody>\n",
       "    <tr>\n",
       "      <th>2017</th>\n",
       "      <td>data analysis reporting platforms</td>\n",
       "      <td>software data analysis produce electronic reports</td>\n",
       "      <td>statistical data analysis software</td>\n",
       "      <td>software used support process analysing modell...</td>\n",
       "      <td>statistical data analysis software encompasses...</td>\n",
       "      <td>anzsco 4</td>\n",
       "      <td>1111</td>\n",
       "      <td>NaN</td>\n",
       "      <td>chief executives managing directors</td>\n",
       "      <td>NaN</td>\n",
       "      <td>chief executives managing directors determine ...</td>\n",
       "      <td>[data, analysis, reporting, platforms]</td>\n",
       "      <td>[software, data, analysis, produce, electronic...</td>\n",
       "      <td>[statistical, data, analysis, software]</td>\n",
       "      <td>[software, used, support, process, analysing, ...</td>\n",
       "      <td>[statistical, data, analysis, software, encomp...</td>\n",
       "      <td>[chief, executives, managing, directors]</td>\n",
       "      <td>[chief, executives, managing, directors, deter...</td>\n",
       "    </tr>\n",
       "    <tr>\n",
       "      <th>447</th>\n",
       "      <td>communication technologies</td>\n",
       "      <td>data voice andor video communication platforms</td>\n",
       "      <td>audiovideo conferencing software</td>\n",
       "      <td>software collaboration using video audio confe...</td>\n",
       "      <td>audiovideo conferencing software enables peopl...</td>\n",
       "      <td>anzsco 4</td>\n",
       "      <td>1111</td>\n",
       "      <td>NaN</td>\n",
       "      <td>chief executives managing directors</td>\n",
       "      <td>NaN</td>\n",
       "      <td>chief executives managing directors determine ...</td>\n",
       "      <td>[communication, technologies]</td>\n",
       "      <td>[data, voice, andor, video, communication, pla...</td>\n",
       "      <td>[audiovideo, conferencing, software]</td>\n",
       "      <td>[software, collaboration, using, video, audio,...</td>\n",
       "      <td>[audiovideo, conferencing, software, enables, ...</td>\n",
       "      <td>[chief, executives, managing, directors]</td>\n",
       "      <td>[chief, executives, managing, directors, deter...</td>\n",
       "    </tr>\n",
       "    <tr>\n",
       "      <th>8663</th>\n",
       "      <td>logistics fleet management systems</td>\n",
       "      <td>systems logistics vehicle despatch fleet manag...</td>\n",
       "      <td>procurement supply chain management systems</td>\n",
       "      <td>software used help manage productiontocustomer...</td>\n",
       "      <td>procurement supply chain management encompasse...</td>\n",
       "      <td>anzsco 4</td>\n",
       "      <td>1111</td>\n",
       "      <td>NaN</td>\n",
       "      <td>chief executives managing directors</td>\n",
       "      <td>NaN</td>\n",
       "      <td>chief executives managing directors determine ...</td>\n",
       "      <td>[logistics, fleet, management, systems]</td>\n",
       "      <td>[systems, logistics, vehicle, despatch, fleet,...</td>\n",
       "      <td>[procurement, supply, chain, management, systems]</td>\n",
       "      <td>[software, used, help, manage, productiontocus...</td>\n",
       "      <td>[procurement, supply, chain, management, encom...</td>\n",
       "      <td>[chief, executives, managing, directors]</td>\n",
       "      <td>[chief, executives, managing, directors, deter...</td>\n",
       "    </tr>\n",
       "    <tr>\n",
       "      <th>9153</th>\n",
       "      <td>payroll human resource management platforms</td>\n",
       "      <td>systems undertake human resource management pe...</td>\n",
       "      <td>human resources software</td>\n",
       "      <td>software systems used manage employee human re...</td>\n",
       "      <td>human resources software encompasses software ...</td>\n",
       "      <td>anzsco 4</td>\n",
       "      <td>1111</td>\n",
       "      <td>NaN</td>\n",
       "      <td>chief executives managing directors</td>\n",
       "      <td>NaN</td>\n",
       "      <td>chief executives managing directors determine ...</td>\n",
       "      <td>[payroll, human, resource, management, platforms]</td>\n",
       "      <td>[systems, undertake, human, resource, manageme...</td>\n",
       "      <td>[human, resources, software]</td>\n",
       "      <td>[software, systems, used, manage, employee, hu...</td>\n",
       "      <td>[human, resources, software, encompasses, soft...</td>\n",
       "      <td>[chief, executives, managing, directors]</td>\n",
       "      <td>[chief, executives, managing, directors, deter...</td>\n",
       "    </tr>\n",
       "    <tr>\n",
       "      <th>3497</th>\n",
       "      <td>financial management service delivery platforms</td>\n",
       "      <td>systems undertake financial management reporti...</td>\n",
       "      <td>accounting financial management systems</td>\n",
       "      <td>software managing accounts inventory financial...</td>\n",
       "      <td>accounting financial management systems encomp...</td>\n",
       "      <td>anzsco 4</td>\n",
       "      <td>1111</td>\n",
       "      <td>NaN</td>\n",
       "      <td>chief executives managing directors</td>\n",
       "      <td>NaN</td>\n",
       "      <td>chief executives managing directors determine ...</td>\n",
       "      <td>[financial, management, service, delivery, pla...</td>\n",
       "      <td>[systems, undertake, financial, management, re...</td>\n",
       "      <td>[accounting, financial, management, systems]</td>\n",
       "      <td>[software, managing, accounts, inventory, fina...</td>\n",
       "      <td>[accounting, financial, management, systems, e...</td>\n",
       "      <td>[chief, executives, managing, directors]</td>\n",
       "      <td>[chief, executives, managing, directors, deter...</td>\n",
       "    </tr>\n",
       "    <tr>\n",
       "      <th>...</th>\n",
       "      <td>...</td>\n",
       "      <td>...</td>\n",
       "      <td>...</td>\n",
       "      <td>...</td>\n",
       "      <td>...</td>\n",
       "      <td>...</td>\n",
       "      <td>...</td>\n",
       "      <td>...</td>\n",
       "      <td>...</td>\n",
       "      <td>...</td>\n",
       "      <td>...</td>\n",
       "      <td>...</td>\n",
       "      <td>...</td>\n",
       "      <td>...</td>\n",
       "      <td>...</td>\n",
       "      <td>...</td>\n",
       "      <td>...</td>\n",
       "      <td>...</td>\n",
       "    </tr>\n",
       "    <tr>\n",
       "      <th>5333</th>\n",
       "      <td>graphic design imagery technologies</td>\n",
       "      <td>software graphic design photographic editing</td>\n",
       "      <td>graphics photo imaging software</td>\n",
       "      <td>software used produce edit manipulate digital ...</td>\n",
       "      <td>graphics photo imaging software encompasses so...</td>\n",
       "      <td>anzsco 4</td>\n",
       "      <td>1331</td>\n",
       "      <td>NaN</td>\n",
       "      <td>construction managers</td>\n",
       "      <td>NaN</td>\n",
       "      <td>construction managers plan organise direct con...</td>\n",
       "      <td>[graphic, design, imagery, technologies]</td>\n",
       "      <td>[software, graphic, design, photographic, edit...</td>\n",
       "      <td>[graphics, photo, imaging, software]</td>\n",
       "      <td>[software, used, produce, edit, manipulate, di...</td>\n",
       "      <td>[graphics, photo, imaging, software, encompass...</td>\n",
       "      <td>[construction, managers]</td>\n",
       "      <td>[construction, managers, plan, organise, direc...</td>\n",
       "    </tr>\n",
       "    <tr>\n",
       "      <th>711</th>\n",
       "      <td>customer management engagement platforms</td>\n",
       "      <td>software provides customer management qualitat...</td>\n",
       "      <td>customer relationship management crm software</td>\n",
       "      <td>software used track record customer data inter...</td>\n",
       "      <td>customer relationship management crm software ...</td>\n",
       "      <td>anzsco 4</td>\n",
       "      <td>1331</td>\n",
       "      <td>NaN</td>\n",
       "      <td>construction managers</td>\n",
       "      <td>trending</td>\n",
       "      <td>construction managers plan organise direct con...</td>\n",
       "      <td>[customer, management, engagement, platforms]</td>\n",
       "      <td>[software, provides, customer, management, qua...</td>\n",
       "      <td>[customer, relationship, management, crm, soft...</td>\n",
       "      <td>[software, used, track, record, customer, data...</td>\n",
       "      <td>[customer, relationship, management, crm, soft...</td>\n",
       "      <td>[construction, managers]</td>\n",
       "      <td>[construction, managers, plan, organise, direc...</td>\n",
       "    </tr>\n",
       "    <tr>\n",
       "      <th>11599</th>\n",
       "      <td>project process risk management systems</td>\n",
       "      <td>systems manage projects risks regulatory compl...</td>\n",
       "      <td>regulatory compliance software</td>\n",
       "      <td>software used record monitor manage regulatory...</td>\n",
       "      <td>regulatory compliance software encompasses sof...</td>\n",
       "      <td>anzsco 4</td>\n",
       "      <td>1331</td>\n",
       "      <td>NaN</td>\n",
       "      <td>construction managers</td>\n",
       "      <td>NaN</td>\n",
       "      <td>construction managers plan organise direct con...</td>\n",
       "      <td>[project, process, risk, management, systems]</td>\n",
       "      <td>[systems, manage, projects, risks, regulatory,...</td>\n",
       "      <td>[regulatory, compliance, software]</td>\n",
       "      <td>[software, used, record, monitor, manage, regu...</td>\n",
       "      <td>[regulatory, compliance, software, encompasses...</td>\n",
       "      <td>[construction, managers]</td>\n",
       "      <td>[construction, managers, plan, organise, direc...</td>\n",
       "    </tr>\n",
       "    <tr>\n",
       "      <th>993</th>\n",
       "      <td>data analysis reporting platforms</td>\n",
       "      <td>software data analysis produce electronic reports</td>\n",
       "      <td>business intelligence decision support software</td>\n",
       "      <td>software gathering storage analysis reporting ...</td>\n",
       "      <td>business intelligence decision support softwar...</td>\n",
       "      <td>anzsco 4</td>\n",
       "      <td>1331</td>\n",
       "      <td>NaN</td>\n",
       "      <td>construction managers</td>\n",
       "      <td>NaN</td>\n",
       "      <td>construction managers plan organise direct con...</td>\n",
       "      <td>[data, analysis, reporting, platforms]</td>\n",
       "      <td>[software, data, analysis, produce, electronic...</td>\n",
       "      <td>[business, intelligence, decision, support, so...</td>\n",
       "      <td>[software, gathering, storage, analysis, repor...</td>\n",
       "      <td>[business, intelligence, decision, support, so...</td>\n",
       "      <td>[construction, managers]</td>\n",
       "      <td>[construction, managers, plan, organise, direc...</td>\n",
       "    </tr>\n",
       "    <tr>\n",
       "      <th>11560</th>\n",
       "      <td>project process risk management systems</td>\n",
       "      <td>systems manage projects risks regulatory compl...</td>\n",
       "      <td>quantitative schedule risk analysis software</td>\n",
       "      <td>software used assess risk ensuring project bud...</td>\n",
       "      <td>quantitative schedule risk analysis software e...</td>\n",
       "      <td>anzsco 4</td>\n",
       "      <td>1331</td>\n",
       "      <td>NaN</td>\n",
       "      <td>construction managers</td>\n",
       "      <td>NaN</td>\n",
       "      <td>construction managers plan organise direct con...</td>\n",
       "      <td>[project, process, risk, management, systems]</td>\n",
       "      <td>[systems, manage, projects, risks, regulatory,...</td>\n",
       "      <td>[quantitative, schedule, risk, analysis, softw...</td>\n",
       "      <td>[software, used, assess, risk, ensuring, proje...</td>\n",
       "      <td>[quantitative, schedule, risk, analysis, softw...</td>\n",
       "      <td>[construction, managers]</td>\n",
       "      <td>[construction, managers, plan, organise, direc...</td>\n",
       "    </tr>\n",
       "  </tbody>\n",
       "</table>\n",
       "<p>100 rows × 18 columns</p>\n",
       "</div>"
      ],
      "text/plain": [
       "                              Technology Tool Category  \\\n",
       "2017                 data analysis reporting platforms   \n",
       "447                         communication technologies   \n",
       "8663                logistics fleet management systems   \n",
       "9153       payroll human resource management platforms   \n",
       "3497   financial management service delivery platforms   \n",
       "...                                                ...   \n",
       "5333               graphic design imagery technologies   \n",
       "711           customer management engagement platforms   \n",
       "11599          project process risk management systems   \n",
       "993                  data analysis reporting platforms   \n",
       "11560          project process risk management systems   \n",
       "\n",
       "                    Technology Tool Category Description  \\\n",
       "2017   software data analysis produce electronic reports   \n",
       "447       data voice andor video communication platforms   \n",
       "8663   systems logistics vehicle despatch fleet manag...   \n",
       "9153   systems undertake human resource management pe...   \n",
       "3497   systems undertake financial management reporti...   \n",
       "...                                                  ...   \n",
       "5333        software graphic design photographic editing   \n",
       "711    software provides customer management qualitat...   \n",
       "11599  systems manage projects risks regulatory compl...   \n",
       "993    software data analysis produce electronic reports   \n",
       "11560  systems manage projects risks regulatory compl...   \n",
       "\n",
       "                                       Technology Tool  \\\n",
       "2017                statistical data analysis software   \n",
       "447                   audiovideo conferencing software   \n",
       "8663       procurement supply chain management systems   \n",
       "9153                          human resources software   \n",
       "3497           accounting financial management systems   \n",
       "...                                                ...   \n",
       "5333                   graphics photo imaging software   \n",
       "711      customer relationship management crm software   \n",
       "11599                   regulatory compliance software   \n",
       "993    business intelligence decision support software   \n",
       "11560     quantitative schedule risk analysis software   \n",
       "\n",
       "                             Technology Tool Description  \\\n",
       "2017   software used support process analysing modell...   \n",
       "447    software collaboration using video audio confe...   \n",
       "8663   software used help manage productiontocustomer...   \n",
       "9153   software systems used manage employee human re...   \n",
       "3497   software managing accounts inventory financial...   \n",
       "...                                                  ...   \n",
       "5333   software used produce edit manipulate digital ...   \n",
       "711    software used track record customer data inter...   \n",
       "11599  software used record monitor manage regulatory...   \n",
       "993    software gathering storage analysis reporting ...   \n",
       "11560  software used assess risk ensuring project bud...   \n",
       "\n",
       "                    Technology Tool Extended Description Occupation Type_x  \\\n",
       "2017   statistical data analysis software encompasses...          anzsco 4   \n",
       "447    audiovideo conferencing software enables peopl...          anzsco 4   \n",
       "8663   procurement supply chain management encompasse...          anzsco 4   \n",
       "9153   human resources software encompasses software ...          anzsco 4   \n",
       "3497   accounting financial management systems encomp...          anzsco 4   \n",
       "...                                                  ...               ...   \n",
       "5333   graphics photo imaging software encompasses so...          anzsco 4   \n",
       "711    customer relationship management crm software ...          anzsco 4   \n",
       "11599  regulatory compliance software encompasses sof...          anzsco 4   \n",
       "993    business intelligence decision support softwar...          anzsco 4   \n",
       "11560  quantitative schedule risk analysis software e...          anzsco 4   \n",
       "\n",
       "       ANZSCO Code Sub-Profile Code_x                       ANZSCO Title_x  \\\n",
       "2017          1111                NaN  chief executives managing directors   \n",
       "447           1111                NaN  chief executives managing directors   \n",
       "8663          1111                NaN  chief executives managing directors   \n",
       "9153          1111                NaN  chief executives managing directors   \n",
       "3497          1111                NaN  chief executives managing directors   \n",
       "...            ...                ...                                  ...   \n",
       "5333          1331                NaN                construction managers   \n",
       "711           1331                NaN                construction managers   \n",
       "11599         1331                NaN                construction managers   \n",
       "993           1331                NaN                construction managers   \n",
       "11560         1331                NaN                construction managers   \n",
       "\n",
       "      Emerging/Trending Flag  \\\n",
       "2017                     NaN   \n",
       "447                      NaN   \n",
       "8663                     NaN   \n",
       "9153                     NaN   \n",
       "3497                     NaN   \n",
       "...                      ...   \n",
       "5333                     NaN   \n",
       "711                 trending   \n",
       "11599                    NaN   \n",
       "993                      NaN   \n",
       "11560                    NaN   \n",
       "\n",
       "                                      ANZSCO Description  \\\n",
       "2017   chief executives managing directors determine ...   \n",
       "447    chief executives managing directors determine ...   \n",
       "8663   chief executives managing directors determine ...   \n",
       "9153   chief executives managing directors determine ...   \n",
       "3497   chief executives managing directors determine ...   \n",
       "...                                                  ...   \n",
       "5333   construction managers plan organise direct con...   \n",
       "711    construction managers plan organise direct con...   \n",
       "11599  construction managers plan organise direct con...   \n",
       "993    construction managers plan organise direct con...   \n",
       "11560  construction managers plan organise direct con...   \n",
       "\n",
       "                         Technology Tool Category_tokens  \\\n",
       "2017              [data, analysis, reporting, platforms]   \n",
       "447                        [communication, technologies]   \n",
       "8663             [logistics, fleet, management, systems]   \n",
       "9153   [payroll, human, resource, management, platforms]   \n",
       "3497   [financial, management, service, delivery, pla...   \n",
       "...                                                  ...   \n",
       "5333            [graphic, design, imagery, technologies]   \n",
       "711        [customer, management, engagement, platforms]   \n",
       "11599      [project, process, risk, management, systems]   \n",
       "993               [data, analysis, reporting, platforms]   \n",
       "11560      [project, process, risk, management, systems]   \n",
       "\n",
       "             Technology Tool Category Description_tokens  \\\n",
       "2017   [software, data, analysis, produce, electronic...   \n",
       "447    [data, voice, andor, video, communication, pla...   \n",
       "8663   [systems, logistics, vehicle, despatch, fleet,...   \n",
       "9153   [systems, undertake, human, resource, manageme...   \n",
       "3497   [systems, undertake, financial, management, re...   \n",
       "...                                                  ...   \n",
       "5333   [software, graphic, design, photographic, edit...   \n",
       "711    [software, provides, customer, management, qua...   \n",
       "11599  [systems, manage, projects, risks, regulatory,...   \n",
       "993    [software, data, analysis, produce, electronic...   \n",
       "11560  [systems, manage, projects, risks, regulatory,...   \n",
       "\n",
       "                                  Technology Tool_tokens  \\\n",
       "2017             [statistical, data, analysis, software]   \n",
       "447                 [audiovideo, conferencing, software]   \n",
       "8663   [procurement, supply, chain, management, systems]   \n",
       "9153                        [human, resources, software]   \n",
       "3497        [accounting, financial, management, systems]   \n",
       "...                                                  ...   \n",
       "5333                [graphics, photo, imaging, software]   \n",
       "711    [customer, relationship, management, crm, soft...   \n",
       "11599                 [regulatory, compliance, software]   \n",
       "993    [business, intelligence, decision, support, so...   \n",
       "11560  [quantitative, schedule, risk, analysis, softw...   \n",
       "\n",
       "                      Technology Tool Description_tokens  \\\n",
       "2017   [software, used, support, process, analysing, ...   \n",
       "447    [software, collaboration, using, video, audio,...   \n",
       "8663   [software, used, help, manage, productiontocus...   \n",
       "9153   [software, systems, used, manage, employee, hu...   \n",
       "3497   [software, managing, accounts, inventory, fina...   \n",
       "...                                                  ...   \n",
       "5333   [software, used, produce, edit, manipulate, di...   \n",
       "711    [software, used, track, record, customer, data...   \n",
       "11599  [software, used, record, monitor, manage, regu...   \n",
       "993    [software, gathering, storage, analysis, repor...   \n",
       "11560  [software, used, assess, risk, ensuring, proje...   \n",
       "\n",
       "             Technology Tool Extended Description_tokens  \\\n",
       "2017   [statistical, data, analysis, software, encomp...   \n",
       "447    [audiovideo, conferencing, software, enables, ...   \n",
       "8663   [procurement, supply, chain, management, encom...   \n",
       "9153   [human, resources, software, encompasses, soft...   \n",
       "3497   [accounting, financial, management, systems, e...   \n",
       "...                                                  ...   \n",
       "5333   [graphics, photo, imaging, software, encompass...   \n",
       "711    [customer, relationship, management, crm, soft...   \n",
       "11599  [regulatory, compliance, software, encompasses...   \n",
       "993    [business, intelligence, decision, support, so...   \n",
       "11560  [quantitative, schedule, risk, analysis, softw...   \n",
       "\n",
       "                          ANZSCO Title_x_tokens  \\\n",
       "2017   [chief, executives, managing, directors]   \n",
       "447    [chief, executives, managing, directors]   \n",
       "8663   [chief, executives, managing, directors]   \n",
       "9153   [chief, executives, managing, directors]   \n",
       "3497   [chief, executives, managing, directors]   \n",
       "...                                         ...   \n",
       "5333                   [construction, managers]   \n",
       "711                    [construction, managers]   \n",
       "11599                  [construction, managers]   \n",
       "993                    [construction, managers]   \n",
       "11560                  [construction, managers]   \n",
       "\n",
       "                               ANZSCO Description_tokens  \n",
       "2017   [chief, executives, managing, directors, deter...  \n",
       "447    [chief, executives, managing, directors, deter...  \n",
       "8663   [chief, executives, managing, directors, deter...  \n",
       "9153   [chief, executives, managing, directors, deter...  \n",
       "3497   [chief, executives, managing, directors, deter...  \n",
       "...                                                  ...  \n",
       "5333   [construction, managers, plan, organise, direc...  \n",
       "711    [construction, managers, plan, organise, direc...  \n",
       "11599  [construction, managers, plan, organise, direc...  \n",
       "993    [construction, managers, plan, organise, direc...  \n",
       "11560  [construction, managers, plan, organise, direc...  \n",
       "\n",
       "[100 rows x 18 columns]"
      ]
     },
     "execution_count": 369,
     "metadata": {},
     "output_type": "execute_result"
    }
   ],
   "source": [
    "tt_merged_df.head(100)"
   ]
  },
  {
   "cell_type": "code",
   "execution_count": 377,
   "metadata": {},
   "outputs": [
    {
     "name": "stdout",
     "output_type": "stream",
     "text": [
      "[('software', 7957), ('management', 3991), ('systems', 2389), ('project', 1085), ('medical', 864), ('imaging', 802), ('electronic', 785), ('analysis', 754), ('accounting', 754), ('data', 744), ('business', 730), ('technologies', 724), ('financial', 707), ('intelligence', 674), ('decision', 674), ('support', 674), ('patient', 674), ('health', 674), ('records', 674), ('devices', 612), ('statistical', 594), ('graphics', 560), ('photo', 560), ('measurement', 548), ('gps', 507), ('navigation', 507), ('monitoring', 502), ('examination', 437), ('automation', 432), ('modelling', 411), ('inventory', 388), ('editing', 381), ('technical', 379), ('design', 379), ('2d', 379), ('3d', 379), ('industrial', 379), ('engineering', 376), ('control', 376), ('instruments', 361), ('science', 360), ('platforms', 330), ('creation', 289), ('document', 276), ('code', 276), ('versioning', 276), ('human', 254), ('resources', 254), ('scientific', 251), ('social', 249), ('media', 249), ('mapping', 247), ('customer', 244), ('procurement', 237), ('supply', 237), ('chain', 237), ('payroll', 224), ('time', 224), ('application', 223), ('video', 220), ('sound', 204), ('relationship', 189), ('crm', 189), ('flow', 180), ('chart', 180), ('diagram', 180), ('services', 179), ('point', 176), ('sale', 176), ('pos', 176), ('eftpos', 176), ('treatment', 171), ('audiovideo', 163), ('conferencing', 163), ('network', 162), ('geographic', 145), ('information', 145), ('gis', 145), ('development', 139), ('programming', 139), ('languages', 139), ('apparatus', 128), ('radio', 127), ('frequency', 127), ('transmitters', 127), ('receivers', 127), ('student', 122), ('learning', 122), ('enterprise', 119), ('diagnostic', 114), ('audio', 112), ('hardware', 112), ('electrical', 111), ('music', 92), ('content', 91), ('workflow', 91), ('elearning', 90), ('computer', 88), ('aided', 88), ('manufacturing', 88)]\n"
     ]
    }
   ],
   "source": [
    "from nltk.tokenize import word_tokenize\n",
    "from collections import Counter\n",
    "\n",
    "# Function to combine all rows, tokenize them, and count the frequency of each word\n",
    "def tokenize_and_count(column_data):\n",
    "    # Combine all rows in the column into a single string\n",
    "    combined_text = ' '.join(column_data)\n",
    "    # Tokenize the combined string\n",
    "    tokens = word_tokenize(combined_text)\n",
    "    # Count the frequency of each word\n",
    "    word_counts = Counter(tokens)\n",
    "    return word_counts\n",
    "\n",
    "# Apply the function to a specific column (e.g., 'Technology Tool')\n",
    "word_counts_tt = tokenize_and_count(tt_merged_df['Technology Tool'])\n",
    "\n",
    "# Display the most common words and their counts\n",
    "print(word_counts_tt.most_common(100))  # Display top 10 most common words\n"
   ]
  },
  {
   "cell_type": "code",
   "execution_count": 379,
   "metadata": {},
   "outputs": [
    {
     "data": {
      "image/png": "[encoded data removed]",
      "text/plain": [
       "<Figure size 1000x500 with 1 Axes>"
      ]
     },
     "metadata": {},
     "output_type": "display_data"
    }
   ],
   "source": [
    "wordcloud = WordCloud(width=800, height=400, max_words=100, background_color='white').generate_from_frequencies(word_counts_tt)\n",
    "\n",
    "# Plot the word cloud\n",
    "plt.figure(figsize=(10, 5))\n",
    "plt.imshow(wordcloud, interpolation='bilinear')\n",
    "plt.axis('off')\n",
    "plt.show()"
   ]
  },
  {
   "cell_type": "code",
   "execution_count": 382,
   "metadata": {},
   "outputs": [
    {
     "data": {
      "image/png": "[encoded data removed]",
      "text/plain": [
       "<Figure size 1000x600 with 1 Axes>"
      ]
     },
     "metadata": {},
     "output_type": "display_data"
    }
   ],
   "source": [
    "top_10_words = word_counts_tt.most_common(10)\n",
    "\n",
    "# Unzip the list of tuples into words and their frequencies\n",
    "words, frequencies = zip(*top_10_words)\n",
    "\n",
    "# Plot a bar chart for the top 10 words and their frequencies\n",
    "plt.figure(figsize=(10, 6))\n",
    "plt.bar(words, frequencies)\n",
    "plt.title('Top 10 Most Common Words')\n",
    "plt.xlabel('Words')\n",
    "plt.ylabel('Frequency')\n",
    "plt.xticks(rotation=45, ha='right')  # Rotate labels for better readability\n",
    "plt.tight_layout()\n",
    "plt.show()"
   ]
  },
  {
   "cell_type": "code",
   "execution_count": null,
   "metadata": {},
   "outputs": [
    {
     "name": "stderr",
     "output_type": "stream",
     "text": [
      "[nltk_data] Downloading package punkt_tab to C:\\Users\\Devika\n",
      "[nltk_data]     Arora\\AppData\\Roaming\\nltk_data...\n",
      "[nltk_data]   Package punkt_tab is already up-to-date!\n",
      "[nltk_data] Downloading package stopwords to C:\\Users\\Devika\n",
      "[nltk_data]     Arora\\AppData\\Roaming\\nltk_data...\n",
      "[nltk_data]   Package stopwords is already up-to-date!\n"
     ]
    }
   ],
   "source": [
    "\"\"\"# We create a TextPreprocessor class that encapsulates all the preprocessing steps. The class constructor allows for custom punctuation marks and stopwords to be added.\n",
    "# Each preprocessing step is implemented as a separate method so we can define in which order they need to be called.\n",
    "\n",
    "import nltk\n",
    "from nltk.tokenize import word_tokenize\n",
    "from nltk.corpus import stopwords\n",
    "from nltk.stem import PorterStemmer\n",
    "import re\n",
    "import string\n",
    "\n",
    "# Download necessary NLTK data\n",
    "nltk.download('punkt_tab')\n",
    "nltk.download('stopwords')\n",
    "\n",
    "class TextPreprocessor:\n",
    "    def __init__(self, custom_punctuation=None, custom_stopwords=None):\n",
    "        self.punctuation = string.punctuation\n",
    "        if custom_punctuation:\n",
    "            self.punctuation += custom_punctuation\n",
    "\n",
    "        self.stop_words = set(stopwords.words('english'))\n",
    "        if custom_stopwords:\n",
    "            self.stop_words.update(custom_stopwords)\n",
    "\n",
    "        self.stemmer = PorterStemmer()\n",
    "\n",
    "    def remove_punctuation(self, text):\n",
    "        return ''.join([char for char in text if char not in self.punctuation])\n",
    "\n",
    "    def add_space_after_parenthesis(self, text):\n",
    "        return re.sub(r'\\)', ') ', text)\n",
    "\n",
    "    def to_lowercase(self, text):\n",
    "        return text.lower()\n",
    "\n",
    "    def remove_stopwords(self, text):\n",
    "        words = word_tokenize(text)\n",
    "        return ' '.join([word for word in words if word not in self.stop_words])\n",
    "\n",
    "    def remove_extra_whitespace(self, text): # This is to remove our CNN) problem - The space is added before punctuation removal, so it won't affect the final preprocessed text if you're removing all punctuation\n",
    "        return re.sub(r'\\s+', ' ', text).strip()\n",
    "\n",
    "    def stem_words(self, text):\n",
    "        words = word_tokenize(text)\n",
    "        return ' '.join([self.stemmer.stem(word) for word in words])\n",
    "\n",
    "    #IMPT: Order matters here - how you call these methods is how the text will be processed step-by-step\n",
    "    def preprocess(self, text):\n",
    "        text = self.add_space_after_parenthesis(text)\n",
    "        text = self.remove_punctuation(text)\n",
    "        text = self.to_lowercase(text)\n",
    "        text = self.remove_stopwords(text)\n",
    "        text = self.remove_extra_whitespace(text)\n",
    "        text = self.stem_words(text)\n",
    "        return text\"\"\""
   ]
  }
 ],
 "metadata": {
  "kernelspec": {
   "display_name": ".venv",
   "language": "python",
   "name": "python3"
  },
  "language_info": {
   "codemirror_mode": {
    "name": "ipython",
    "version": 3
   },
   "file_extension": ".py",
   "mimetype": "text/x-python",
   "name": "python",
   "nbconvert_exporter": "python",
   "pygments_lexer": "ipython3",
   "version": "3.12.9"
  }
 },
 "nbformat": 4,
 "nbformat_minor": 2
}
