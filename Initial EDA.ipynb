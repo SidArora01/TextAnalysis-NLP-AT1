{
  "cells": [
    {
      "cell_type": "markdown",
      "metadata": {
        "id": "4tG3OG5dTknr"
      },
      "source": [
        "# Assignment 1 Text Analysis\n"
      ]
    },
    {
      "cell_type": "markdown",
      "metadata": {
        "id": "pWgW_rlQTknu"
      },
      "source": [
        "## Setting up the project"
      ]
    },
    {
      "cell_type": "markdown",
      "metadata": {
        "id": "G9CM5swhTknv"
      },
      "source": [
        "### Importing Libraries"
      ]
    },
    {
      "cell_type": "code",
      "execution_count": 405,
      "metadata": {
        "id": "VuwpR5j1Tknv"
      },
      "outputs": [],
      "source": [
        "import pandas as pd\n",
        "import numpy as np\n",
        "import matplotlib.pyplot as plt\n",
        "import seaborn as sns\n",
        "import nltk\n",
        "import re\n",
        "import string\n",
        "\n"
      ]
    },
    {
      "cell_type": "code",
      "execution_count": 406,
      "metadata": {
        "id": "g7y5zze0Tknx",
        "outputId": "cbaf91c8-0481-4317-decc-24fd6315bb23",
        "colab": {
          "base_uri": "https://localhost:8080/"
        }
      },
      "outputs": [
        {
          "output_type": "stream",
          "name": "stderr",
          "text": [
            "[nltk_data] Downloading package punkt_tab to /root/nltk_data...\n",
            "[nltk_data]   Package punkt_tab is already up-to-date!\n"
          ]
        }
      ],
      "source": [
        "nltk.download('punkt_tab')\n",
        "\n",
        "\n",
        "from nltk.corpus import stopwords\n",
        "from nltk.tokenize import word_tokenize\n",
        "from nltk.stem import WordNetLemmatizer"
      ]
    },
    {
      "cell_type": "markdown",
      "metadata": {
        "id": "JTLb-JMZTknz"
      },
      "source": [
        "### Accessing the data"
      ]
    },
    {
      "cell_type": "code",
      "execution_count": 407,
      "metadata": {
        "id": "gKJj6WjoTknz"
      },
      "outputs": [],
      "source": [
        "\n",
        "file_path = \"Australian Skills Classification - December 2023.xlsx\"\n",
        "sheets = [\"Occupation descriptions\", \"Core competency descriptions\", \"Specialist tasks hierarchy\", \"Tech tools heirarchy\", \"Core competencies\", \"Specialist tasks data\", \"Technology tools\"]\n",
        "\n",
        "occupation_df = pd.read_excel(file_path, sheet_name=sheets[0], engine = \"openpyxl\")\n",
        "cc_desc_df = pd.read_excel(file_path, sheet_name=sheets[1], engine = \"openpyxl\")\n",
        "cc_df = pd.read_excel(file_path, sheet_name=sheets[4], engine = \"openpyxl\")\n",
        "st_hier_df = pd.read_excel(file_path, sheet_name=sheets[2], engine = \"openpyxl\")\n",
        "st_df = pd.read_excel(file_path, sheet_name=sheets[5], engine = \"openpyxl\")\n",
        "tt_hier_df = pd.read_excel(file_path, sheet_name=sheets[3], engine = \"openpyxl\")\n",
        "tt_df = pd.read_excel(file_path, sheet_name=sheets[6], engine = \"openpyxl\")\n"
      ]
    },
    {
      "cell_type": "code",
      "execution_count": 408,
      "metadata": {
        "id": "fis0gNYqTkn0",
        "outputId": "5b0ac873-4c95-4f57-db51-7a6d92cfaa78",
        "colab": {
          "base_uri": "https://localhost:8080/"
        }
      },
      "outputs": [
        {
          "output_type": "stream",
          "name": "stdout",
          "text": [
            "occupation_df columns: ['Occupation Type', 'ANZSCO Code', 'Sub-Profile Code', 'ANZSCO Title', 'ANZSCO Description']\n",
            "cc_desc_df columns: ['Core Competency', 'Core Competency Description', 'Score', 'Proficiency Level', 'Anchor Value']\n",
            "cc_df columns: ['Occupation Type', 'ANZSCO Code', 'Sub-Profile Code', 'ANZSCO Title', 'Core Competency', 'Score', 'Proficiency Level', 'Anchor Value']\n",
            "st_hier_df columns: ['Specialist Task', 'Specialist Cluster', 'Cluster Family', 'Skill Statement']\n",
            "st_df columns: ['Occupation Type', 'ANZSCO Code', 'Sub-Profile Code', 'ANZSCO Title', 'Specialist Task', '% of time spent on task', 'Emerging/\\nTrending Flag', 'Specialist Cluster', ' % of time spent on cluster', 'Cluster Family', '% of time spent on family', 'Skills Statement']\n",
            "tt_hier_df columns: ['Technology Tool Category', 'Technology Tool Category Description', 'Technology Tool', 'Technology Tool Description', 'Technology Tool Extended Description']\n",
            "tt_df columns: ['Occupation Type', 'ANZSCO Code', 'Sub-Profile Code', 'ANZSCO Title', 'Technology Tool', 'Emerging/Trending Flag']\n"
          ]
        }
      ],
      "source": [
        "df_list = [\n",
        "    (\"occupation_df\", occupation_df),\n",
        "    (\"cc_desc_df\", cc_desc_df),\n",
        "    (\"cc_df\", cc_df),\n",
        "    (\"st_hier_df\", st_hier_df),\n",
        "    (\"st_df\", st_df),\n",
        "    (\"tt_hier_df\", tt_hier_df),\n",
        "    (\"tt_df\", tt_df),\n",
        "]\n",
        "\n",
        "for name, df in df_list:\n",
        "    print(f\"{name} columns: {df.columns.tolist()}\")\n"
      ]
    },
    {
      "cell_type": "markdown",
      "metadata": {
        "id": "j8-_jyK9Tkn0"
      },
      "source": [
        "### Basic Data Pre-processing for NLP project"
      ]
    },
    {
      "cell_type": "code",
      "execution_count": 409,
      "metadata": {
        "id": "vcITuIs1Tkn1",
        "outputId": "589287b2-9d16-40e7-ab40-52c50d95226a",
        "colab": {
          "base_uri": "https://localhost:8080/",
          "height": 35
        }
      },
      "outputs": [
        {
          "output_type": "execute_result",
          "data": {
            "text/plain": [
              "'for name, df in df_list:\\n    df[:] = df.applymap(lambda x: x.lower() if isinstance(x, str) else x)\\n\\n'"
            ],
            "application/vnd.google.colaboratory.intrinsic+json": {
              "type": "string"
            }
          },
          "metadata": {},
          "execution_count": 409
        }
      ],
      "source": [
        "\"\"\"for name, df in df_list:\n",
        "    df[:] = df.applymap(lambda x: x.lower() if isinstance(x, str) else x)\n",
        "\n",
        "\"\"\""
      ]
    },
    {
      "cell_type": "code",
      "execution_count": 410,
      "metadata": {
        "id": "8YwDG4iCTkn1",
        "outputId": "3f5ae1de-ad98-49ea-cb4d-d90fb5720a22",
        "colab": {
          "base_uri": "https://localhost:8080/",
          "height": 70
        }
      },
      "outputs": [
        {
          "output_type": "execute_result",
          "data": {
            "text/plain": [
              "'stop_words = set(stopwords.words(\"english\"))\\n\\ndef remove_stopwords(text):\\n    if isinstance(text, str):  \\n        return \" \".join(word for word in text.split() if word.lower() not in stop_words)\\n    return text  \\n\\n\\nfor name, df in df_list:\\n    df[:] = df.applymap(remove_stopwords)'"
            ],
            "application/vnd.google.colaboratory.intrinsic+json": {
              "type": "string"
            }
          },
          "metadata": {},
          "execution_count": 410
        }
      ],
      "source": [
        "\"\"\"stop_words = set(stopwords.words(\"english\"))\n",
        "\n",
        "def remove_stopwords(text):\n",
        "    if isinstance(text, str):\n",
        "        return \" \".join(word for word in text.split() if word.lower() not in stop_words)\n",
        "    return text\n",
        "\n",
        "\n",
        "for name, df in df_list:\n",
        "    df[:] = df.applymap(remove_stopwords)\"\"\""
      ]
    },
    {
      "cell_type": "code",
      "execution_count": 411,
      "metadata": {
        "id": "RvbTy8oaTkn2",
        "outputId": "90a0597a-a59a-4f1e-fe5e-27e19f5d6acf",
        "colab": {
          "base_uri": "https://localhost:8080/",
          "height": 53
        }
      },
      "outputs": [
        {
          "output_type": "execute_result",
          "data": {
            "text/plain": [
              "\"\\nimport re\\n\\n# Iterate through each DataFrame in df_list\\nfor name, df in df_list:\\n    df.update(df.applymap(lambda x: re.sub(r'[^A-Za-z0-9\\\\s]', '', x) if isinstance(x, str) else x))\\n\""
            ],
            "application/vnd.google.colaboratory.intrinsic+json": {
              "type": "string"
            }
          },
          "metadata": {},
          "execution_count": 411
        }
      ],
      "source": [
        "\"\"\"\n",
        "import re\n",
        "\n",
        "# Iterate through each DataFrame in df_list\n",
        "for name, df in df_list:\n",
        "    df.update(df.applymap(lambda x: re.sub(r'[^A-Za-z0-9\\s]', '', x) if isinstance(x, str) else x))\n",
        "\"\"\""
      ]
    },
    {
      "cell_type": "code",
      "execution_count": 412,
      "metadata": {
        "id": "t4io8zxJTkn3",
        "outputId": "ae007524-867a-4ab9-9d2f-e39424e0baa8",
        "colab": {
          "base_uri": "https://localhost:8080/",
          "height": 35
        }
      },
      "outputs": [
        {
          "output_type": "execute_result",
          "data": {
            "text/plain": [
              "'for name, df in df_list:\\n    df.update(df.applymap(lambda x: x.strip() if isinstance(x, str) else x))'"
            ],
            "application/vnd.google.colaboratory.intrinsic+json": {
              "type": "string"
            }
          },
          "metadata": {},
          "execution_count": 412
        }
      ],
      "source": [
        "\"\"\"for name, df in df_list:\n",
        "    df.update(df.applymap(lambda x: x.strip() if isinstance(x, str) else x))\"\"\""
      ]
    },
    {
      "cell_type": "markdown",
      "metadata": {
        "id": "VllnR6aiTkn3"
      },
      "source": [
        "## Initial Exploratory Data Analysis"
      ]
    },
    {
      "cell_type": "markdown",
      "metadata": {
        "id": "jVpbz3nZTkn3"
      },
      "source": [
        "### EDA - Occupation List Dataframe"
      ]
    },
    {
      "cell_type": "code",
      "execution_count": 413,
      "metadata": {
        "id": "GNKPnC_QTkn4",
        "outputId": "2dbc8278-74d9-476f-a81b-fc919ef49df6",
        "colab": {
          "base_uri": "https://localhost:8080/"
        }
      },
      "outputs": [
        {
          "output_type": "stream",
          "name": "stdout",
          "text": [
            "<class 'pandas.core.frame.DataFrame'>\n",
            "RangeIndex: 1650 entries, 0 to 1649\n",
            "Data columns (total 5 columns):\n",
            " #   Column              Non-Null Count  Dtype \n",
            "---  ------              --------------  ----- \n",
            " 0   Occupation Type     1650 non-null   object\n",
            " 1   ANZSCO Code         1650 non-null   int64 \n",
            " 2   Sub-Profile Code    472 non-null    object\n",
            " 3   ANZSCO Title        1650 non-null   object\n",
            " 4   ANZSCO Description  1650 non-null   object\n",
            "dtypes: int64(1), object(4)\n",
            "memory usage: 64.6+ KB\n"
          ]
        }
      ],
      "source": [
        "occupation_df.info()"
      ]
    },
    {
      "cell_type": "code",
      "execution_count": 414,
      "metadata": {
        "id": "q7PgbaO4Tkn4",
        "outputId": "110b3d9d-967d-4b13-b0be-8a2bcfbf5b31",
        "colab": {
          "base_uri": "https://localhost:8080/"
        }
      },
      "outputs": [
        {
          "output_type": "stream",
          "name": "stdout",
          "text": [
            "There are 5 types of Occupations listed in ACS\n",
            "These occupations are: ['ANZSCO 4' 'ANZSCO 6' 'Specialisation' 'NEC Category Occupation'\n",
            " 'NEC Category']\n"
          ]
        }
      ],
      "source": [
        "print(\"There are\",occupation_df['Occupation Type'].nunique(), \"types of Occupations listed in ACS\")\n",
        "print('These occupations are:', occupation_df['Occupation Type'].unique())"
      ]
    },
    {
      "cell_type": "code",
      "execution_count": 415,
      "metadata": {
        "id": "6mRiSyZQTkn5",
        "outputId": "0d2f2890-b33c-4690-c788-dd6ee46d3023",
        "colab": {
          "base_uri": "https://localhost:8080/"
        }
      },
      "outputs": [
        {
          "output_type": "stream",
          "name": "stdout",
          "text": [
            "There are 1178 different occupations listed\n"
          ]
        }
      ],
      "source": [
        "print(\"There are\",occupation_df['ANZSCO Code'].nunique(), \"different occupations listed\")"
      ]
    },
    {
      "cell_type": "code",
      "execution_count": 416,
      "metadata": {
        "id": "paR0WCFGTkn5",
        "outputId": "e3fbdcab-7fe8-48b4-9285-2d34c58f13f9",
        "colab": {
          "base_uri": "https://localhost:8080/",
          "height": 411
        }
      },
      "outputs": [
        {
          "output_type": "display_data",
          "data": {
            "text/plain": [
              "<Figure size 1200x600 with 1 Axes>"
            ],
            "image/png": "[encoded data removed]"
          },
          "metadata": {}
        }
      ],
      "source": [
        "import matplotlib.pyplot as plt\n",
        "\n",
        "\n",
        "occupation_counts = occupation_df.groupby('Occupation Type')['ANZSCO Code'].nunique()\n",
        "\n",
        "\n",
        "occupation_counts = occupation_counts.sort_values()\n",
        "\n",
        "\n",
        "plt.figure(figsize=(12, 6))\n",
        "ax = occupation_counts.plot(kind='barh', color='skyblue')\n",
        "\n",
        "\n",
        "for index, value in enumerate(occupation_counts):\n",
        "    ax.text(value + 0.5, index, str(value), va='center', fontsize=10)\n",
        "\n",
        "plt.xlabel(\"Number of Unique ANZSCO Codes\")\n",
        "plt.ylabel(\"Occupation Type\")\n",
        "plt.title(\"Unique ANZSCO Codes per Occupation Type\")\n",
        "plt.show()\n"
      ]
    },
    {
      "cell_type": "markdown",
      "metadata": {
        "id": "JtU9g7fITkn6"
      },
      "source": [
        "### EDA - Core Competency Dataframes\n",
        "1. Core Competency Description\n",
        "2. Core Competency Data"
      ]
    },
    {
      "cell_type": "code",
      "execution_count": 417,
      "metadata": {
        "id": "Pw5HdhCOTkn6",
        "outputId": "86cfd3ee-187c-44ca-c52c-0bcc392edfd0",
        "colab": {
          "base_uri": "https://localhost:8080/"
        }
      },
      "outputs": [
        {
          "output_type": "stream",
          "name": "stdout",
          "text": [
            "<class 'pandas.core.frame.DataFrame'>\n",
            "RangeIndex: 100 entries, 0 to 99\n",
            "Data columns (total 5 columns):\n",
            " #   Column                       Non-Null Count  Dtype \n",
            "---  ------                       --------------  ----- \n",
            " 0   Core Competency              100 non-null    object\n",
            " 1   Core Competency Description  100 non-null    object\n",
            " 2   Score                        100 non-null    int64 \n",
            " 3   Proficiency Level            100 non-null    object\n",
            " 4   Anchor Value                 100 non-null    object\n",
            "dtypes: int64(1), object(4)\n",
            "memory usage: 4.0+ KB\n"
          ]
        }
      ],
      "source": [
        "cc_desc_df.info()"
      ]
    },
    {
      "cell_type": "code",
      "execution_count": 418,
      "metadata": {
        "id": "xtC_c4EfTkn6",
        "outputId": "af9b8930-9ab5-4025-8e06-f182168d121e",
        "colab": {
          "base_uri": "https://localhost:8080/"
        }
      },
      "outputs": [
        {
          "output_type": "stream",
          "name": "stdout",
          "text": [
            "10\n",
            "['Digital engagement' 'Initiative and innovation' 'Learning' 'Numeracy'\n",
            " 'Oral communication' 'Planning and organising' 'Problem solving'\n",
            " 'Reading' 'Teamwork' 'Writing']\n"
          ]
        }
      ],
      "source": [
        "print(cc_desc_df['Core Competency'].nunique())\n",
        "print(cc_desc_df['Core Competency'].unique())"
      ]
    },
    {
      "cell_type": "code",
      "execution_count": 419,
      "metadata": {
        "id": "N_u6Yr0WTkn7",
        "outputId": "cdcca4f1-4a02-4375-f5c5-959276564879",
        "colab": {
          "base_uri": "https://localhost:8080/"
        }
      },
      "outputs": [
        {
          "output_type": "stream",
          "name": "stdout",
          "text": [
            "<class 'pandas.core.frame.DataFrame'>\n",
            "RangeIndex: 11030 entries, 0 to 11029\n",
            "Data columns (total 8 columns):\n",
            " #   Column             Non-Null Count  Dtype  \n",
            "---  ------             --------------  -----  \n",
            " 0   Occupation Type    11030 non-null  object \n",
            " 1   ANZSCO Code        11030 non-null  int64  \n",
            " 2   Sub-Profile Code   0 non-null      float64\n",
            " 3   ANZSCO Title       11030 non-null  object \n",
            " 4   Core Competency    11030 non-null  object \n",
            " 5   Score              11030 non-null  int64  \n",
            " 6   Proficiency Level  11030 non-null  object \n",
            " 7   Anchor Value       11030 non-null  object \n",
            "dtypes: float64(1), int64(2), object(5)\n",
            "memory usage: 689.5+ KB\n"
          ]
        }
      ],
      "source": [
        "cc_df.info()"
      ]
    },
    {
      "cell_type": "code",
      "execution_count": 420,
      "metadata": {
        "id": "pMYAYlN2Tkn7",
        "outputId": "8f120e16-547c-4b28-9db2-a6329a2c263c",
        "colab": {
          "base_uri": "https://localhost:8080/"
        }
      },
      "outputs": [
        {
          "output_type": "stream",
          "name": "stdout",
          "text": [
            "There are 2 types of Occupations listed in Core Competency Data\n",
            "These occupations are: ['ANZSCO 6' 'ANZSCO 4']\n",
            "There are 1101 different occupations listed\n"
          ]
        }
      ],
      "source": [
        "print(\"There are\",cc_df['Occupation Type'].nunique(), \"types of Occupations listed in Core Competency Data\")\n",
        "print('These occupations are:', cc_df['Occupation Type'].unique())\n",
        "print(\"There are\",cc_df['ANZSCO Code'].nunique(), \"different occupations listed\")"
      ]
    },
    {
      "cell_type": "code",
      "execution_count": 421,
      "metadata": {
        "id": "scemgGtxTkn7",
        "outputId": "81ba6cb4-b101-4c37-b73d-1eeb897400ab",
        "colab": {
          "base_uri": "https://localhost:8080/"
        }
      },
      "outputs": [
        {
          "output_type": "stream",
          "name": "stdout",
          "text": [
            "✅ All ANZSCO Codes have exactly 10 core competencies.\n"
          ]
        }
      ],
      "source": [
        "cc_counts = cc_df.groupby(\"ANZSCO Code\")[\"Core Competency\"].nunique().sort_values(ascending=False)\n",
        "\n",
        "\n",
        "if (cc_counts == 10).all():\n",
        "    print(\"✅ All ANZSCO Codes have exactly 10 core competencies.\")\n",
        "else:\n",
        "    print(\"❌ Some ANZSCO Codes have more or less than 10 core competencies.\")\n"
      ]
    },
    {
      "cell_type": "markdown",
      "metadata": {
        "id": "9TeHrBgdTkn8"
      },
      "source": [
        "### EDA - Specialist Task Dataframes\n",
        "1. Specialist Task Hierarchy\n",
        "2. Specialist Task Data"
      ]
    },
    {
      "cell_type": "code",
      "execution_count": 422,
      "metadata": {
        "id": "G9aLYkiPTkn8",
        "outputId": "442b0a16-9218-461a-8d1b-f8bb946f37f8",
        "colab": {
          "base_uri": "https://localhost:8080/"
        }
      },
      "outputs": [
        {
          "output_type": "stream",
          "name": "stdout",
          "text": [
            "The number of Specialist Task in ASC data are: 1686\n",
            "The number of Specialist Clusters in ASC data are: 272\n",
            "The number of Cluster Families in ASC data are: 31\n"
          ]
        }
      ],
      "source": [
        "print(\"The number of Specialist Task in ASC data are:\", st_hier_df['Specialist Task'].nunique())\n",
        "print(\"The number of Specialist Clusters in ASC data are:\", st_hier_df['Specialist Cluster'].nunique())\n",
        "print(\"The number of Cluster Families in ASC data are:\", st_hier_df['Cluster Family'].nunique())\n",
        "\n"
      ]
    },
    {
      "cell_type": "code",
      "execution_count": 423,
      "metadata": {
        "id": "odBbxSEBTkn9",
        "outputId": "7539ca56-88c0-485e-a8c6-cb08ba7b1c1a",
        "colab": {
          "base_uri": "https://localhost:8080/"
        }
      },
      "outputs": [
        {
          "output_type": "stream",
          "name": "stdout",
          "text": [
            "<class 'pandas.core.frame.DataFrame'>\n",
            "RangeIndex: 30450 entries, 0 to 30449\n",
            "Data columns (total 12 columns):\n",
            " #   Column                       Non-Null Count  Dtype  \n",
            "---  ------                       --------------  -----  \n",
            " 0   Occupation Type              30450 non-null  object \n",
            " 1   ANZSCO Code                  30450 non-null  int64  \n",
            " 2   Sub-Profile Code             6516 non-null   object \n",
            " 3   ANZSCO Title                 30450 non-null  object \n",
            " 4   Specialist Task              30450 non-null  object \n",
            " 5   % of time spent on task      23934 non-null  float64\n",
            " 6   Emerging/\n",
            "Trending Flag      1402 non-null   object \n",
            " 7   Specialist Cluster           30450 non-null  object \n",
            " 8    % of time spent on cluster  23934 non-null  float64\n",
            " 9   Cluster Family               30450 non-null  object \n",
            " 10  % of time spent on family    23934 non-null  float64\n",
            " 11  Skills Statement             30450 non-null  object \n",
            "dtypes: float64(3), int64(1), object(8)\n",
            "memory usage: 2.8+ MB\n"
          ]
        }
      ],
      "source": [
        "st_df.info()"
      ]
    },
    {
      "cell_type": "code",
      "execution_count": 424,
      "metadata": {
        "id": "-Vz-I1V_Tkn9",
        "outputId": "ec96c688-22ad-48d4-b7c3-17954a9a8ce4",
        "colab": {
          "base_uri": "https://localhost:8080/"
        }
      },
      "outputs": [
        {
          "output_type": "stream",
          "name": "stdout",
          "text": [
            "There are 4 types of Occupations listed in Specialist Task Data\n",
            "These occupations are: ['ANZSCO 4' 'ANZSCO 6' 'Specialisation' 'NEC Category Occupation']\n",
            "There are 1177 different occupations listed\n"
          ]
        }
      ],
      "source": [
        "print(\"There are\",st_df['Occupation Type'].nunique(), \"types of Occupations listed in Specialist Task Data\")\n",
        "print('These occupations are:', st_df['Occupation Type'].unique())\n",
        "print(\"There are\",st_df['ANZSCO Code'].nunique(), \"different occupations listed\")"
      ]
    },
    {
      "cell_type": "code",
      "execution_count": 425,
      "metadata": {
        "id": "MLv51LExTkn-",
        "outputId": "75360a58-f6b6-433f-ce28-4d8912804b2d",
        "colab": {
          "base_uri": "https://localhost:8080/",
          "height": 449
        }
      },
      "outputs": [
        {
          "output_type": "display_data",
          "data": {
            "text/plain": [
              "<Figure size 800x500 with 1 Axes>"
            ],
            "image/png": "[encoded data removed]"
          },
          "metadata": {}
        }
      ],
      "source": [
        "import matplotlib.pyplot as plt\n",
        "import seaborn as sns\n",
        "\n",
        "# Count unique specialist tasks for each ANZSCO Code\n",
        "st_counts = st_df.groupby(\"ANZSCO Code\")[\"Specialist Task\"].nunique()\n",
        "\n",
        "# Plot boxplot\n",
        "plt.figure(figsize=(8, 5))\n",
        "sns.boxplot(y=st_counts, color='lightblue')\n",
        "\n",
        "# Labels and title\n",
        "plt.ylabel(\"Number of Unique Specialist Tasks\")\n",
        "plt.title(\"Distribution of Unique Specialist Tasks per ANZSCO Code\")\n",
        "\n",
        "# Show plot\n",
        "plt.show()\n"
      ]
    },
    {
      "cell_type": "code",
      "execution_count": 426,
      "metadata": {
        "id": "cwaIhrwfTkn-",
        "outputId": "53e26c71-f0d2-4936-8d0c-c27806366016",
        "colab": {
          "base_uri": "https://localhost:8080/"
        }
      },
      "outputs": [
        {
          "output_type": "stream",
          "name": "stdout",
          "text": [
            "   ANZSCO Code                                       ANZSCO Title  \\\n",
            "0       262113                              Systems Administrator   \n",
            "1       313113                                  Web Administrator   \n",
            "2       249212                    Dance Teacher (Private Tuition)   \n",
            "3         2412                            Primary School Teachers   \n",
            "4       241213                             Primary School Teacher   \n",
            "5       263111              Computer Network and Systems Engineer   \n",
            "6       322313                               Welder (First Class)   \n",
            "7         2413  Middle School Teachers / Intermediate School T...   \n",
            "8       241311  Middle School Teacher / Intermediate School Te...   \n",
            "9       262111                             Database Administrator   \n",
            "\n",
            "   Specialist Task  \n",
            "0               45  \n",
            "1               45  \n",
            "2               44  \n",
            "3               43  \n",
            "4               43  \n",
            "5               41  \n",
            "6               41  \n",
            "7               40  \n",
            "8               40  \n",
            "9               40  \n"
          ]
        }
      ],
      "source": [
        "# Count unique specialist tasks for each ANZSCO Code\n",
        "st_counts = st_df.groupby([\"ANZSCO Code\", \"ANZSCO Title\"])[\"Specialist Task\"].nunique()\n",
        "\n",
        "# Get top 10 ANZSCO Codes with the highest number of specialist tasks\n",
        "top_10 = st_counts.nlargest(10).reset_index()\n",
        "\n",
        "# Display the result\n",
        "print(top_10)\n"
      ]
    },
    {
      "cell_type": "code",
      "execution_count": 427,
      "metadata": {
        "id": "JUJFt3ZxTkn-",
        "outputId": "fbde52a5-315f-47aa-f4be-8d5730d946a7",
        "colab": {
          "base_uri": "https://localhost:8080/"
        }
      },
      "outputs": [
        {
          "output_type": "stream",
          "name": "stdout",
          "text": [
            "     ANZSCO Code  Specialist Task  \\\n",
            "56        233999              104   \n",
            "55        233999              104   \n",
            "50        233999              104   \n",
            "51        233999              104   \n",
            "52        233999              104   \n",
            "53        233999              104   \n",
            "54        233999              104   \n",
            "57        233999              104   \n",
            "146       399999               99   \n",
            "144       399999               99   \n",
            "\n",
            "                                          ANZSCO Title  \n",
            "56                                     Safety Engineer  \n",
            "55                             Product Design Engineer  \n",
            "50                                   Acoustic Engineer  \n",
            "51                                Calibration Engineer  \n",
            "52                                  Corrosion Engineer  \n",
            "53                                Fire Safety Engineer  \n",
            "54                               Mechatronics Engineer  \n",
            "57   Test and Activation Engineer (Naval Shipbuilding)  \n",
            "146                                   Pearl Technician  \n",
            "144                                        Kayak Maker  \n"
          ]
        }
      ],
      "source": [
        "import numpy as np\n",
        "\n",
        "# Get counts of unique specialist tasks per ANZSCO Code\n",
        "st_counts = st_df.groupby(\"ANZSCO Code\")[\"Specialist Task\"].nunique()\n",
        "\n",
        "# Calculate IQR (Interquartile Range) to detect outliers\n",
        "Q1 = np.percentile(st_counts, 25)  # First quartile (25th percentile)\n",
        "Q3 = np.percentile(st_counts, 75)  # Third quartile (75th percentile)\n",
        "IQR = Q3 - Q1  # Interquartile range\n",
        "\n",
        "# Define outliers as values greater than Q3 + 1.5 * IQR\n",
        "outlier_threshold = Q3 + 1.5 * IQR\n",
        "outliers = st_counts[st_counts > outlier_threshold].reset_index()\n",
        "\n",
        "# Merge with ANZSCO Title to show meaningful names\n",
        "top_outliers = outliers.merge(st_df[[\"ANZSCO Code\", \"ANZSCO Title\"]].drop_duplicates(), on=\"ANZSCO Code\")\n",
        "\n",
        "# Sort by number of specialist tasks and display top 10\n",
        "top_outliers = top_outliers.sort_values(by=\"Specialist Task\", ascending=False).head(10)\n",
        "print(top_outliers)\n"
      ]
    },
    {
      "cell_type": "markdown",
      "metadata": {
        "id": "NEku7_ilTkn_"
      },
      "source": [
        "### EDA - Technology Tools Dataframes\n",
        "1. Technology Tools Hierarchy\n",
        "2. Technology Tools Data"
      ]
    },
    {
      "cell_type": "code",
      "execution_count": 428,
      "metadata": {
        "id": "Y9tR3KNlTkn_",
        "outputId": "84a53be1-d860-4fdf-d88d-1cecab2d213d",
        "colab": {
          "base_uri": "https://localhost:8080/"
        }
      },
      "outputs": [
        {
          "output_type": "stream",
          "name": "stdout",
          "text": [
            "<class 'pandas.core.frame.DataFrame'>\n",
            "RangeIndex: 94 entries, 0 to 93\n",
            "Data columns (total 5 columns):\n",
            " #   Column                                Non-Null Count  Dtype \n",
            "---  ------                                --------------  ----- \n",
            " 0   Technology Tool Category              94 non-null     object\n",
            " 1   Technology Tool Category Description  94 non-null     object\n",
            " 2   Technology Tool                       94 non-null     object\n",
            " 3   Technology Tool Description           94 non-null     object\n",
            " 4   Technology Tool Extended Description  94 non-null     object\n",
            "dtypes: object(5)\n",
            "memory usage: 3.8+ KB\n"
          ]
        }
      ],
      "source": [
        "tt_hier_df.info()"
      ]
    },
    {
      "cell_type": "code",
      "execution_count": 429,
      "metadata": {
        "id": "2oTLndyfTkoA",
        "outputId": "e3e64e25-980a-45e9-fea4-6e0b37494e9f",
        "colab": {
          "base_uri": "https://localhost:8080/"
        }
      },
      "outputs": [
        {
          "output_type": "stream",
          "name": "stdout",
          "text": [
            "The number of Tech Tool Category in ASC data are: 27\n",
            "The number of Tech Tool in ASC data are: 94\n"
          ]
        }
      ],
      "source": [
        "print(\"The number of Tech Tool Category in ASC data are:\", tt_hier_df['Technology Tool Category'].nunique())\n",
        "print(\"The number of Tech Tool in ASC data are:\", tt_hier_df['Technology Tool'].nunique())\n",
        "#print(\"The number of Cluster Families in ASC data are:\", st_hier_df['Cluster Family'].nunique())\n",
        "\n"
      ]
    },
    {
      "cell_type": "code",
      "execution_count": 430,
      "metadata": {
        "id": "85_XnsCjTkoA",
        "outputId": "d0fead25-5831-41a7-e2f4-fef43fac5f81",
        "colab": {
          "base_uri": "https://localhost:8080/"
        }
      },
      "outputs": [
        {
          "output_type": "stream",
          "name": "stdout",
          "text": [
            "<class 'pandas.core.frame.DataFrame'>\n",
            "RangeIndex: 5761 entries, 0 to 5760\n",
            "Data columns (total 6 columns):\n",
            " #   Column                  Non-Null Count  Dtype \n",
            "---  ------                  --------------  ----- \n",
            " 0   Occupation Type         5761 non-null   object\n",
            " 1   ANZSCO Code             5761 non-null   int64 \n",
            " 2   Sub-Profile Code        1300 non-null   object\n",
            " 3   ANZSCO Title            5761 non-null   object\n",
            " 4   Technology Tool         5761 non-null   object\n",
            " 5   Emerging/Trending Flag  441 non-null    object\n",
            "dtypes: int64(1), object(5)\n",
            "memory usage: 270.2+ KB\n"
          ]
        }
      ],
      "source": [
        "tt_df.info()"
      ]
    },
    {
      "cell_type": "code",
      "execution_count": 431,
      "metadata": {
        "id": "5H6ypKj1TkoB",
        "outputId": "3ad20468-a5c5-4206-fb68-37a3970cc14c",
        "colab": {
          "base_uri": "https://localhost:8080/"
        }
      },
      "outputs": [
        {
          "output_type": "stream",
          "name": "stdout",
          "text": [
            "There are 4 types of Occupations listed in Specialist Task Data\n",
            "These occupations are: ['ANZSCO 4' 'ANZSCO 6' 'NEC Category Occupation' 'Specialisation']\n",
            "There are 1042 different occupations listed\n"
          ]
        }
      ],
      "source": [
        "print(\"There are\",tt_df['Occupation Type'].nunique(), \"types of Occupations listed in Specialist Task Data\")\n",
        "print('These occupations are:', tt_df['Occupation Type'].unique())\n",
        "print(\"There are\",tt_df['ANZSCO Code'].nunique(), \"different occupations listed\")"
      ]
    },
    {
      "cell_type": "code",
      "execution_count": 432,
      "metadata": {
        "id": "rjuu1fgUTkoB",
        "outputId": "9001a154-524c-4571-b224-07b9a71889c2",
        "colab": {
          "base_uri": "https://localhost:8080/",
          "height": 449
        }
      },
      "outputs": [
        {
          "output_type": "display_data",
          "data": {
            "text/plain": [
              "<Figure size 800x500 with 1 Axes>"
            ],
            "image/png": "[encoded data removed]"
          },
          "metadata": {}
        }
      ],
      "source": [
        "import matplotlib.pyplot as plt\n",
        "import seaborn as sns\n",
        "\n",
        "# Count unique specialist tasks for each ANZSCO Code\n",
        "tt_counts = tt_df.groupby(\"ANZSCO Code\")[\"Technology Tool\"].nunique()\n",
        "\n",
        "# Plot boxplot\n",
        "plt.figure(figsize=(8, 5))\n",
        "sns.boxplot(y=tt_counts, color='lightblue')\n",
        "\n",
        "# Labels and title\n",
        "plt.ylabel(\"Number of Unique Technoogy Tools\")\n",
        "plt.title(\"Distribution of Unique Technology Tools per ANZSCO Code\")\n",
        "\n",
        "# Show plot\n",
        "plt.show()\n"
      ]
    },
    {
      "cell_type": "code",
      "execution_count": 433,
      "metadata": {
        "id": "Ks7GiYgiTkoC",
        "outputId": "85754ba8-110e-4071-aeb6-8fb20bb107ce",
        "colab": {
          "base_uri": "https://localhost:8080/"
        }
      },
      "outputs": [
        {
          "output_type": "stream",
          "name": "stdout",
          "text": [
            "   ANZSCO Code                                       ANZSCO Title  \\\n",
            "0       262111                             Database Administrator   \n",
            "1         2611                  ICT Business and Systems Analysts   \n",
            "2       262113                              Systems Administrator   \n",
            "3       263111              Computer Network and Systems Engineer   \n",
            "4       263212                               ICT Support Engineer   \n",
            "5         2621  Database and Systems Administrators, and ICT S...   \n",
            "6       135199                                    Network Manager   \n",
            "7       261111                               ICT Business Analyst   \n",
            "8       263112                              Network Administrator   \n",
            "9       261313                                  Software Engineer   \n",
            "\n",
            "   Technology Tool  \n",
            "0               25  \n",
            "1               24  \n",
            "2               23  \n",
            "3               23  \n",
            "4               23  \n",
            "5               21  \n",
            "6               20  \n",
            "7               20  \n",
            "8               20  \n",
            "9               19  \n"
          ]
        }
      ],
      "source": [
        "# Count unique specialist tasks for each ANZSCO Code\n",
        "tt_counts = tt_df.groupby([\"ANZSCO Code\", \"ANZSCO Title\"])[\"Technology Tool\"].nunique()\n",
        "\n",
        "# Get top 10 ANZSCO Codes with the highest number of specialist tasks\n",
        "top_10 = tt_counts.nlargest(10).reset_index()\n",
        "\n",
        "# Display the result\n",
        "print(top_10)\n"
      ]
    },
    {
      "cell_type": "code",
      "execution_count": 434,
      "metadata": {
        "id": "VGNzszilTkoL",
        "outputId": "a61a5caa-35a5-4928-b149-7a89def5bb79",
        "colab": {
          "base_uri": "https://localhost:8080/"
        }
      },
      "outputs": [
        {
          "output_type": "stream",
          "name": "stdout",
          "text": [
            "    ANZSCO Code  Technology Tool  \\\n",
            "26       233999               25   \n",
            "29       233999               25   \n",
            "23       233999               25   \n",
            "42       262111               25   \n",
            "24       233999               25   \n",
            "27       233999               25   \n",
            "28       233999               25   \n",
            "25       233999               25   \n",
            "30       233999               25   \n",
            "2          2611               24   \n",
            "\n",
            "                                         ANZSCO Title  \n",
            "26                               Fire Safety Engineer  \n",
            "29                                    Safety Engineer  \n",
            "23                                  Acoustic Engineer  \n",
            "42                             Database Administrator  \n",
            "24                               Calibration Engineer  \n",
            "27                              Mechatronics Engineer  \n",
            "28                            Product Design Engineer  \n",
            "25                                 Corrosion Engineer  \n",
            "30  Test and Activation Engineer (Naval Shipbuilding)  \n",
            "2                   ICT Business and Systems Analysts  \n"
          ]
        }
      ],
      "source": [
        "import numpy as np\n",
        "\n",
        "# Get counts of unique specialist tasks per ANZSCO Code\n",
        "tt_counts = tt_df.groupby(\"ANZSCO Code\")[\"Technology Tool\"].nunique()\n",
        "\n",
        "# Calculate IQR (Interquartile Range) to detect outliers\n",
        "Q1 = np.percentile(tt_counts, 25)  # First quartile (25th percentile)\n",
        "Q3 = np.percentile(tt_counts, 75)  # Third quartile (75th percentile)\n",
        "IQR = Q3 - Q1  # Interquartile range\n",
        "\n",
        "# Define outliers as values greater than Q3 + 1.5 * IQR\n",
        "outlier_threshold = Q3 + 1.5 * IQR\n",
        "outliers = tt_counts[tt_counts > outlier_threshold].reset_index()\n",
        "\n",
        "# Merge with ANZSCO Title to show meaningful names\n",
        "top_outliers = outliers.merge(tt_df[[\"ANZSCO Code\", \"ANZSCO Title\"]].drop_duplicates(), on=\"ANZSCO Code\")\n",
        "\n",
        "# Sort by number of specialist tasks and display top 10\n",
        "top_outliers = top_outliers.sort_values(by=\"Technology Tool\", ascending=False).head(10)\n",
        "print(top_outliers)\n"
      ]
    },
    {
      "cell_type": "markdown",
      "metadata": {
        "id": "o2lCxq53TkoM"
      },
      "source": [
        "## Merging Relevent Dataframes\n",
        "1. This helps segmentise the project into 3 different approaches to answer multiple ASC related question"
      ]
    },
    {
      "cell_type": "code",
      "execution_count": 435,
      "metadata": {
        "id": "oYEczQg9TkoM",
        "outputId": "c2aca1b1-4757-4df3-92f2-c56799fc1b1b",
        "colab": {
          "base_uri": "https://localhost:8080/"
        }
      },
      "outputs": [
        {
          "output_type": "stream",
          "name": "stdout",
          "text": [
            "\n",
            "Final Merged Dataset Sample:\n",
            "                            Technology Tool Category  \\\n",
            "0  Broadcasting and audio-visual production techn...   \n",
            "1  Broadcasting and audio-visual production techn...   \n",
            "2  Broadcasting and audio-visual production techn...   \n",
            "3  Broadcasting and audio-visual production techn...   \n",
            "4  Broadcasting and audio-visual production techn...   \n",
            "\n",
            "                Technology Tool Category Description  \\\n",
            "0  Systems for audio, video, multimedia and news ...   \n",
            "1  Systems for audio, video, multimedia and news ...   \n",
            "2  Systems for audio, video, multimedia and news ...   \n",
            "3  Systems for audio, video, multimedia and news ...   \n",
            "4  Systems for audio, video, multimedia and news ...   \n",
            "\n",
            "                           Technology Tool  \\\n",
            "0  Collaborative news production platforms   \n",
            "1  Collaborative news production platforms   \n",
            "2  Collaborative news production platforms   \n",
            "3  Collaborative news production platforms   \n",
            "4  Collaborative news production platforms   \n",
            "\n",
            "                         Technology Tool Description  \\\n",
            "0  Software used to create and manage news conten...   \n",
            "1  Software used to create and manage news conten...   \n",
            "2  Software used to create and manage news conten...   \n",
            "3  Software used to create and manage news conten...   \n",
            "4  Software used to create and manage news conten...   \n",
            "\n",
            "                Technology Tool Extended Description Occupation Type_x  \\\n",
            "0  Collaborative news production platforms encomp...          ANZSCO 4   \n",
            "1  Collaborative news production platforms encomp...          ANZSCO 4   \n",
            "2  Collaborative news production platforms encomp...          ANZSCO 6   \n",
            "3  Collaborative news production platforms encomp...          ANZSCO 6   \n",
            "4  Collaborative news production platforms encomp...          ANZSCO 6   \n",
            "\n",
            "   ANZSCO Code Sub-Profile Code_x  \\\n",
            "0         2123                NaN   \n",
            "1         2124                NaN   \n",
            "2       212113                NaN   \n",
            "3       212312                NaN   \n",
            "4       212315                NaN   \n",
            "\n",
            "                                ANZSCO Title_x Emerging/Trending Flag  \\\n",
            "0  Film, Television, Radio and Stage Directors                    NaN   \n",
            "1                Journalists and Other Writers                    NaN   \n",
            "2                              Radio Presenter                    NaN   \n",
            "3  Director (Film, Television, Radio or Stage)                    NaN   \n",
            "4       Program Director (Television or Radio)                    NaN   \n",
            "\n",
            "  Occupation Type_y Sub-Profile Code_y  \\\n",
            "0          ANZSCO 4                NaN   \n",
            "1          ANZSCO 4                NaN   \n",
            "2          ANZSCO 6                NaN   \n",
            "3          ANZSCO 6                NaN   \n",
            "4          ANZSCO 6                NaN   \n",
            "\n",
            "                                ANZSCO Title_y  \\\n",
            "0  Film, Television, Radio and Stage Directors   \n",
            "1                Journalists and Other Writers   \n",
            "2                              Radio Presenter   \n",
            "3  Director (Film, Television, Radio or Stage)   \n",
            "4       Program Director (Television or Radio)   \n",
            "\n",
            "                                  ANZSCO Description  \n",
            "0  Film, Television, Radio and Stage Directors di...  \n",
            "1  Journalists and Other Writers research and com...  \n",
            "2  Prepares and presents news, sports or other in...  \n",
            "3  Interprets and approves selection of scripts, ...  \n",
            "4  Compiles and directs programs for television o...  \n",
            "\n",
            "Final Merged Dataset Sample:\n",
            "  Occupation Type_x  ANZSCO Code Sub-Profile Code_x  \\\n",
            "0          ANZSCO 4         1111                NaN   \n",
            "1          ANZSCO 4         1111                NaN   \n",
            "2          ANZSCO 4         1111                NaN   \n",
            "3          ANZSCO 4         1111                NaN   \n",
            "4          ANZSCO 4         1111                NaN   \n",
            "\n",
            "                            ANZSCO Title_x  \\\n",
            "0  Chief Executives and Managing Directors   \n",
            "1  Chief Executives and Managing Directors   \n",
            "2  Chief Executives and Managing Directors   \n",
            "3  Chief Executives and Managing Directors   \n",
            "4  Chief Executives and Managing Directors   \n",
            "\n",
            "                                     Specialist Task  % of time spent on task  \\\n",
            "0  Direct or manage financial activities or opera...                   0.1302   \n",
            "1     Direct department or organisational activities                   0.1117   \n",
            "2  Direct sales, marketing or customer service ac...                   0.0808   \n",
            "3  Communicate with others to arrange, coordinate...                   0.0665   \n",
            "4  Analyse data to assess operational or project ...                   0.0651   \n",
            "\n",
            "  Emerging/\\nTrending Flag                               Specialist Cluster_x  \\\n",
            "0                      NaN  Manage, monitor and undertake financial activi...   \n",
            "1                 Trending               Manage services, staff or activities   \n",
            "2                      NaN               Manage services, staff or activities   \n",
            "3                      NaN             Communicate or collaborate with others   \n",
            "4                      NaN           Use data to inform operational decisions   \n",
            "\n",
            "    % of time spent on cluster                              Cluster Family_x  \\\n",
            "0                       0.1644  Business operations and financial activities   \n",
            "1                       0.2128  Business operations and financial activities   \n",
            "2                       0.2128  Business operations and financial activities   \n",
            "3                       0.0750               Communication and collaboration   \n",
            "4                       0.1009                Data, analytics, and databases   \n",
            "\n",
            "   % of time spent on family  \\\n",
            "0                     0.5322   \n",
            "1                     0.5322   \n",
            "2                     0.5322   \n",
            "3                     0.0890   \n",
            "4                     0.1370   \n",
            "\n",
            "                                    Skills Statement  \\\n",
            "0  Direct and oversee the financial operations of...   \n",
            "1  Direct and oversee the activities of a work un...   \n",
            "2  Direct and oversee the sales, marketing, or cu...   \n",
            "3  Coordinate with others in order to plan, organ...   \n",
            "4  Analyse qualitative and quantitative data aris...   \n",
            "\n",
            "                                Specialist Cluster_y  \\\n",
            "0  Manage, monitor and undertake financial activi...   \n",
            "1               Manage services, staff or activities   \n",
            "2               Manage services, staff or activities   \n",
            "3             Communicate or collaborate with others   \n",
            "4           Use data to inform operational decisions   \n",
            "\n",
            "                               Cluster Family_y  \\\n",
            "0  Business operations and financial activities   \n",
            "1  Business operations and financial activities   \n",
            "2  Business operations and financial activities   \n",
            "3               Communication and collaboration   \n",
            "4                Data, analytics, and databases   \n",
            "\n",
            "                                     Skill Statement Occupation Type_y  \\\n",
            "0  Direct and oversee the financial operations of...          ANZSCO 4   \n",
            "1  Direct and oversee the activities of a work un...          ANZSCO 4   \n",
            "2  Direct and oversee the sales, marketing, or cu...          ANZSCO 4   \n",
            "3  Coordinate with others in order to plan, organ...          ANZSCO 4   \n",
            "4  Analyse qualitative and quantitative data aris...          ANZSCO 4   \n",
            "\n",
            "  Sub-Profile Code_y                           ANZSCO Title_y  \\\n",
            "0                NaN  Chief Executives and Managing Directors   \n",
            "1                NaN  Chief Executives and Managing Directors   \n",
            "2                NaN  Chief Executives and Managing Directors   \n",
            "3                NaN  Chief Executives and Managing Directors   \n",
            "4                NaN  Chief Executives and Managing Directors   \n",
            "\n",
            "                                  ANZSCO Description  \n",
            "0  Chief Executives and Managing Directors determ...  \n",
            "1  Chief Executives and Managing Directors determ...  \n",
            "2  Chief Executives and Managing Directors determ...  \n",
            "3  Chief Executives and Managing Directors determ...  \n",
            "4  Chief Executives and Managing Directors determ...  \n"
          ]
        }
      ],
      "source": [
        "def merge_all_dataframes(df1, df2, df3, col_1, col_2):\n",
        "    merged_df = df3.merge(df1, on=col_1, how=\"left\")\n",
        "    merged_df = merged_df.merge(df2, on=col_2, how=\"left\")\n",
        "    print(\"\\nFinal Merged Dataset Sample:\")\n",
        "    print(merged_df.head())\n",
        "    return merged_df\n",
        "\n",
        "\n",
        "#c_merged_df = merge_all_dataframes(cc_desc_df, occupation_df, cc_df, \"Core Competency\", \"ANZSCO Code\")\n",
        "tt_merged_df = merge_all_dataframes(tt_df, occupation_df, tt_hier_df, \"Technology Tool\", \"ANZSCO Code\")\n",
        "st_merged_df = merge_all_dataframes(st_hier_df, occupation_df, st_df, \"Specialist Task\", \"ANZSCO Code\")\n",
        "\n"
      ]
    },
    {
      "cell_type": "code",
      "execution_count": 436,
      "metadata": {
        "id": "vSSbCg50TkoN",
        "outputId": "2df8c32b-2752-4c66-e9ef-9808b43c928b",
        "colab": {
          "base_uri": "https://localhost:8080/"
        }
      },
      "outputs": [
        {
          "output_type": "stream",
          "name": "stdout",
          "text": [
            "<class 'pandas.core.frame.DataFrame'>\n",
            "RangeIndex: 12910 entries, 0 to 12909\n",
            "Data columns (total 14 columns):\n",
            " #   Column                                Non-Null Count  Dtype \n",
            "---  ------                                --------------  ----- \n",
            " 0   Technology Tool Category              12910 non-null  object\n",
            " 1   Technology Tool Category Description  12910 non-null  object\n",
            " 2   Technology Tool                       12910 non-null  object\n",
            " 3   Technology Tool Description           12910 non-null  object\n",
            " 4   Technology Tool Extended Description  12910 non-null  object\n",
            " 5   Occupation Type_x                     12910 non-null  object\n",
            " 6   ANZSCO Code                           12910 non-null  int64 \n",
            " 7   Sub-Profile Code_x                    7543 non-null   object\n",
            " 8   ANZSCO Title_x                        12910 non-null  object\n",
            " 9   Emerging/Trending Flag                556 non-null    object\n",
            " 10  Occupation Type_y                     12905 non-null  object\n",
            " 11  Sub-Profile Code_y                    7150 non-null   object\n",
            " 12  ANZSCO Title_y                        12905 non-null  object\n",
            " 13  ANZSCO Description                    12905 non-null  object\n",
            "dtypes: int64(1), object(13)\n",
            "memory usage: 1.4+ MB\n"
          ]
        }
      ],
      "source": [
        "tt_merged_df.info()"
      ]
    },
    {
      "cell_type": "code",
      "execution_count": 437,
      "metadata": {
        "id": "2uYE6QkFTkoN",
        "outputId": "e86dea61-4f18-4632-e884-d9653c9d3eea",
        "colab": {
          "base_uri": "https://localhost:8080/"
        }
      },
      "outputs": [
        {
          "output_type": "stream",
          "name": "stdout",
          "text": [
            "<class 'pandas.core.frame.DataFrame'>\n",
            "RangeIndex: 67772 entries, 0 to 67771\n",
            "Data columns (total 19 columns):\n",
            " #   Column                       Non-Null Count  Dtype  \n",
            "---  ------                       --------------  -----  \n",
            " 0   Occupation Type_x            67772 non-null  object \n",
            " 1   ANZSCO Code                  67772 non-null  int64  \n",
            " 2   Sub-Profile Code_x           39773 non-null  object \n",
            " 3   ANZSCO Title_x               67772 non-null  object \n",
            " 4   Specialist Task              67772 non-null  object \n",
            " 5   % of time spent on task      27999 non-null  float64\n",
            " 6   Emerging/\n",
            "Trending Flag      1700 non-null   object \n",
            " 7   Specialist Cluster_x         67772 non-null  object \n",
            " 8    % of time spent on cluster  27999 non-null  float64\n",
            " 9   Cluster Family_x             67772 non-null  object \n",
            " 10  % of time spent on family    27999 non-null  float64\n",
            " 11  Skills Statement             67772 non-null  object \n",
            " 12  Specialist Cluster_y         67772 non-null  object \n",
            " 13  Cluster Family_y             67772 non-null  object \n",
            " 14  Skill Statement              67772 non-null  object \n",
            " 15  Occupation Type_y            67772 non-null  object \n",
            " 16  Sub-Profile Code_y           37322 non-null  object \n",
            " 17  ANZSCO Title_y               67772 non-null  object \n",
            " 18  ANZSCO Description           67772 non-null  object \n",
            "dtypes: float64(3), int64(1), object(15)\n",
            "memory usage: 9.8+ MB\n"
          ]
        }
      ],
      "source": [
        "st_merged_df.info()"
      ]
    },
    {
      "cell_type": "code",
      "execution_count": 438,
      "metadata": {
        "id": "Wy8H1yw3TkoO",
        "outputId": "f036ee21-d923-45c1-f419-395ec71f473b",
        "colab": {
          "base_uri": "https://localhost:8080/"
        }
      },
      "outputs": [
        {
          "output_type": "stream",
          "name": "stdout",
          "text": [
            "\n",
            "Step 1: Core Competencies merged with Occupation Data\n",
            "  Occupation Type_x  ANZSCO Code  Sub-Profile Code_x  \\\n",
            "0          ANZSCO 6       422111                 NaN   \n",
            "1          ANZSCO 6       422111                 NaN   \n",
            "2          ANZSCO 6       422111                 NaN   \n",
            "3          ANZSCO 6       422111                 NaN   \n",
            "4          ANZSCO 6       422111                 NaN   \n",
            "\n",
            "                                        ANZSCO Title  \\\n",
            "0  Aboriginal and Torres Strait Islander Educatio...   \n",
            "1  Aboriginal and Torres Strait Islander Educatio...   \n",
            "2  Aboriginal and Torres Strait Islander Educatio...   \n",
            "3  Aboriginal and Torres Strait Islander Educatio...   \n",
            "4  Aboriginal and Torres Strait Islander Educatio...   \n",
            "\n",
            "             Core Competency  Score Proficiency Level  \\\n",
            "0         Digital engagement      5      Intermediate   \n",
            "1  Initiative and innovation      8              High   \n",
            "2                   Learning      5      Intermediate   \n",
            "3                   Numeracy      4      Intermediate   \n",
            "4         Oral communication      7      Intermediate   \n",
            "\n",
            "                                        Anchor Value Occupation Type_y  \\\n",
            "0  Build and maintain an effective online profile...          ANZSCO 6   \n",
            "1  Negotiate a price and sales terms then prepare...          ANZSCO 6   \n",
            "2  Learn a new filing system that groups document...          ANZSCO 6   \n",
            "3  Use a blood pressure machine and accurately re...          ANZSCO 6   \n",
            "4  Participate in a work meeting and ask appropri...          ANZSCO 6   \n",
            "\n",
            "  Sub-Profile Code_y                                 ANZSCO Description  \n",
            "0                NaN  Assists Aboriginal and Torres Strait Islander ...  \n",
            "1                NaN  Assists Aboriginal and Torres Strait Islander ...  \n",
            "2                NaN  Assists Aboriginal and Torres Strait Islander ...  \n",
            "3                NaN  Assists Aboriginal and Torres Strait Islander ...  \n",
            "4                NaN  Assists Aboriginal and Torres Strait Islander ...  \n",
            "\n",
            "Step 2: Final Merged Dataset with Descriptions\n",
            "  Occupation Type_x  ANZSCO Code  Sub-Profile Code_x  \\\n",
            "0          ANZSCO 6       422111                 NaN   \n",
            "1          ANZSCO 6       422111                 NaN   \n",
            "2          ANZSCO 6       422111                 NaN   \n",
            "3          ANZSCO 6       422111                 NaN   \n",
            "4          ANZSCO 6       422111                 NaN   \n",
            "\n",
            "                                        ANZSCO Title  \\\n",
            "0  Aboriginal and Torres Strait Islander Educatio...   \n",
            "1  Aboriginal and Torres Strait Islander Educatio...   \n",
            "2  Aboriginal and Torres Strait Islander Educatio...   \n",
            "3  Aboriginal and Torres Strait Islander Educatio...   \n",
            "4  Aboriginal and Torres Strait Islander Educatio...   \n",
            "\n",
            "             Core Competency  Score Proficiency Level  \\\n",
            "0         Digital engagement      5      Intermediate   \n",
            "1  Initiative and innovation      8              High   \n",
            "2                   Learning      5      Intermediate   \n",
            "3                   Numeracy      4      Intermediate   \n",
            "4         Oral communication      7      Intermediate   \n",
            "\n",
            "                                        Anchor Value Occupation Type_y  \\\n",
            "0  Build and maintain an effective online profile...          ANZSCO 6   \n",
            "1  Negotiate a price and sales terms then prepare...          ANZSCO 6   \n",
            "2  Learn a new filing system that groups document...          ANZSCO 6   \n",
            "3  Use a blood pressure machine and accurately re...          ANZSCO 6   \n",
            "4  Participate in a work meeting and ask appropri...          ANZSCO 6   \n",
            "\n",
            "  Sub-Profile Code_y                                 ANZSCO Description  \\\n",
            "0                NaN  Assists Aboriginal and Torres Strait Islander ...   \n",
            "1                NaN  Assists Aboriginal and Torres Strait Islander ...   \n",
            "2                NaN  Assists Aboriginal and Torres Strait Islander ...   \n",
            "3                NaN  Assists Aboriginal and Torres Strait Islander ...   \n",
            "4                NaN  Assists Aboriginal and Torres Strait Islander ...   \n",
            "\n",
            "                         Core Competency Description Proficiency Level_desc  \\\n",
            "0  Identifying and using technology (including ha...           Intermediate   \n",
            "1  Taking on responsibilities and challenges, bei...                   High   \n",
            "2  Understanding the implications of new informat...           Intermediate   \n",
            "3  Using mathematics to solve problems and interp...           Intermediate   \n",
            "4  The ability to communicate information and ide...           Intermediate   \n",
            "\n",
            "                                   Anchor Value_desc  \n",
            "0  Build and maintain an effective online profile...  \n",
            "1  Negotiate a price and sales terms then prepare...  \n",
            "2  Learn a new filing system that groups document...  \n",
            "3  Use a blood pressure machine and accurately re...  \n",
            "4  Participate in a work meeting and ask appropri...  \n"
          ]
        }
      ],
      "source": [
        "def merge_cc_df(df1, df2, df3):\n",
        "    merged_df = pd.merge(df1, df3, on=[\"ANZSCO Code\", \"ANZSCO Title\"], how=\"left\")\n",
        "\n",
        "    print(\"\\nStep 1: Core Competencies merged with Occupation Data\")\n",
        "    print(merged_df.head())\n",
        "    merged_df = pd.merge(merged_df, df2, on=[\"Core Competency\", \"Score\"], how=\"left\", suffixes=(\"\", \"_desc\"))\n",
        "\n",
        "    print(\"\\nStep 2: Final Merged Dataset with Descriptions\")\n",
        "    print(merged_df.head())\n",
        "\n",
        "    return merged_df\n",
        "\n",
        "\n",
        "cc_merged_df = merge_cc_df(cc_df, cc_desc_df, occupation_df)"
      ]
    },
    {
      "cell_type": "code",
      "execution_count": 439,
      "metadata": {
        "id": "nuEvTj08TkoO",
        "outputId": "f25126f6-8b6a-4164-f0f0-77ca52d7ad1c",
        "colab": {
          "base_uri": "https://localhost:8080/"
        }
      },
      "outputs": [
        {
          "output_type": "stream",
          "name": "stdout",
          "text": [
            "<class 'pandas.core.frame.DataFrame'>\n",
            "RangeIndex: 11030 entries, 0 to 11029\n",
            "Data columns (total 14 columns):\n",
            " #   Column                       Non-Null Count  Dtype  \n",
            "---  ------                       --------------  -----  \n",
            " 0   Occupation Type_x            11030 non-null  object \n",
            " 1   ANZSCO Code                  11030 non-null  int64  \n",
            " 2   Sub-Profile Code_x           0 non-null      float64\n",
            " 3   ANZSCO Title                 11030 non-null  object \n",
            " 4   Core Competency              11030 non-null  object \n",
            " 5   Score                        11030 non-null  int64  \n",
            " 6   Proficiency Level            11030 non-null  object \n",
            " 7   Anchor Value                 11030 non-null  object \n",
            " 8   Occupation Type_y            11030 non-null  object \n",
            " 9   Sub-Profile Code_y           0 non-null      object \n",
            " 10  ANZSCO Description           11030 non-null  object \n",
            " 11  Core Competency Description  11030 non-null  object \n",
            " 12  Proficiency Level_desc       11030 non-null  object \n",
            " 13  Anchor Value_desc            11030 non-null  object \n",
            "dtypes: float64(1), int64(2), object(11)\n",
            "memory usage: 1.2+ MB\n"
          ]
        }
      ],
      "source": [
        "cc_merged_df.info()"
      ]
    },
    {
      "cell_type": "markdown",
      "metadata": {
        "id": "50nPMW4BTkoP"
      },
      "source": [
        "### Tech Tools Merged Analysis"
      ]
    },
    {
      "cell_type": "code",
      "execution_count": 440,
      "metadata": {
        "id": "gKMlWiqlTkoP",
        "outputId": "d57b88ae-e2e8-4ed1-fe43-20453e6ddf70",
        "colab": {
          "base_uri": "https://localhost:8080/"
        }
      },
      "outputs": [
        {
          "output_type": "stream",
          "name": "stdout",
          "text": [
            "<class 'pandas.core.frame.DataFrame'>\n",
            "RangeIndex: 12910 entries, 0 to 12909\n",
            "Data columns (total 14 columns):\n",
            " #   Column                                Non-Null Count  Dtype \n",
            "---  ------                                --------------  ----- \n",
            " 0   Technology Tool Category              12910 non-null  object\n",
            " 1   Technology Tool Category Description  12910 non-null  object\n",
            " 2   Technology Tool                       12910 non-null  object\n",
            " 3   Technology Tool Description           12910 non-null  object\n",
            " 4   Technology Tool Extended Description  12910 non-null  object\n",
            " 5   Occupation Type_x                     12910 non-null  object\n",
            " 6   ANZSCO Code                           12910 non-null  int64 \n",
            " 7   Sub-Profile Code_x                    7543 non-null   object\n",
            " 8   ANZSCO Title_x                        12910 non-null  object\n",
            " 9   Emerging/Trending Flag                556 non-null    object\n",
            " 10  Occupation Type_y                     12905 non-null  object\n",
            " 11  Sub-Profile Code_y                    7150 non-null   object\n",
            " 12  ANZSCO Title_y                        12905 non-null  object\n",
            " 13  ANZSCO Description                    12905 non-null  object\n",
            "dtypes: int64(1), object(13)\n",
            "memory usage: 1.4+ MB\n"
          ]
        }
      ],
      "source": [
        "tt_merged_df.info()"
      ]
    },
    {
      "cell_type": "code",
      "execution_count": 441,
      "metadata": {
        "id": "tzvN6FOWTkoQ",
        "outputId": "2bba8c75-b0e0-49e4-a6a8-bc720fa2b5d6",
        "colab": {
          "base_uri": "https://localhost:8080/"
        }
      },
      "outputs": [
        {
          "output_type": "execute_result",
          "data": {
            "text/plain": [
              "Index(['Technology Tool Category', 'Technology Tool Category Description',\n",
              "       'Technology Tool', 'Technology Tool Description',\n",
              "       'Technology Tool Extended Description', 'Occupation Type_x',\n",
              "       'ANZSCO Code', 'Sub-Profile Code_x', 'ANZSCO Title_x',\n",
              "       'Emerging/Trending Flag', 'ANZSCO Description'],\n",
              "      dtype='object')"
            ]
          },
          "metadata": {},
          "execution_count": 441
        }
      ],
      "source": [
        "tt_merged_df.drop(columns=[ \"Sub-Profile Code_y\", \"Occupation Type_y\" , \"ANZSCO Title_y\" ], inplace=True)\n",
        "tt_merged_df.columns"
      ]
    },
    {
      "cell_type": "code",
      "execution_count": 442,
      "metadata": {
        "id": "0M_CdFn2TkoQ",
        "outputId": "ac90dd2a-6b22-4706-857a-fa2937458a85",
        "colab": {
          "base_uri": "https://localhost:8080/"
        }
      },
      "outputs": [
        {
          "output_type": "stream",
          "name": "stdout",
          "text": [
            "There are 4 types of Occupations listed in Specialist Task Data\n",
            "These occupations are: ['ANZSCO 4' 'ANZSCO 6' 'NEC Category Occupation' 'Specialisation']\n",
            "There are 1042 different occupations listed\n"
          ]
        }
      ],
      "source": [
        "print(\"There are\",tt_merged_df['Occupation Type_x'].nunique(), \"types of Occupations listed in Specialist Task Data\")\n",
        "print('These occupations are:', tt_merged_df['Occupation Type_x'].unique())\n",
        "print(\"There are\",tt_merged_df['ANZSCO Code'].nunique(), \"different occupations listed\")"
      ]
    },
    {
      "cell_type": "code",
      "execution_count": 443,
      "metadata": {
        "id": "_QpQUPXcTkoR",
        "outputId": "ed2112fe-4c67-4d28-bddc-b58fd4f5a279",
        "colab": {
          "base_uri": "https://localhost:8080/"
        }
      },
      "outputs": [
        {
          "output_type": "stream",
          "name": "stdout",
          "text": [
            "The number of Tech Tool Category in ASC data are: 27\n",
            "The number of Tech Tool in ASC data are: 94\n"
          ]
        }
      ],
      "source": [
        "print(\"The number of Tech Tool Category in ASC data are:\", tt_merged_df['Technology Tool Category'].nunique())\n",
        "print(\"The number of Tech Tool in ASC data are:\", tt_merged_df['Technology Tool'].nunique())\n",
        "#print(\"The number of Cluster Families in ASC data are:\", st_hier_df['Cluster Family'].nunique())\n",
        "\n"
      ]
    },
    {
      "cell_type": "code",
      "execution_count": 444,
      "metadata": {
        "id": "t8CFKCNqTkoR",
        "outputId": "5452d5fe-5654-40f0-b934-19582fb6e817",
        "colab": {
          "base_uri": "https://localhost:8080/"
        }
      },
      "outputs": [
        {
          "output_type": "stream",
          "name": "stdout",
          "text": [
            "<class 'pandas.core.frame.DataFrame'>\n",
            "RangeIndex: 12910 entries, 0 to 12909\n",
            "Data columns (total 11 columns):\n",
            " #   Column                                Non-Null Count  Dtype \n",
            "---  ------                                --------------  ----- \n",
            " 0   Technology Tool Category              12910 non-null  object\n",
            " 1   Technology Tool Category Description  12910 non-null  object\n",
            " 2   Technology Tool                       12910 non-null  object\n",
            " 3   Technology Tool Description           12910 non-null  object\n",
            " 4   Technology Tool Extended Description  12910 non-null  object\n",
            " 5   Occupation Type_x                     12910 non-null  object\n",
            " 6   ANZSCO Code                           12910 non-null  int64 \n",
            " 7   Sub-Profile Code_x                    7543 non-null   object\n",
            " 8   ANZSCO Title_x                        12910 non-null  object\n",
            " 9   Emerging/Trending Flag                556 non-null    object\n",
            " 10  ANZSCO Description                    12905 non-null  object\n",
            "dtypes: int64(1), object(10)\n",
            "memory usage: 1.1+ MB\n"
          ]
        }
      ],
      "source": [
        "tt_merged_df.info()"
      ]
    },
    {
      "cell_type": "code",
      "execution_count": 445,
      "metadata": {
        "id": "f4n6BCPJTkoS",
        "outputId": "702ead72-8ecc-4672-a9c3-d9eed80507ca",
        "colab": {
          "base_uri": "https://localhost:8080/",
          "height": 712
        }
      },
      "outputs": [
        {
          "output_type": "execute_result",
          "data": {
            "text/plain": [
              "                            Technology Tool Category  \\\n",
              "0  Broadcasting and audio-visual production techn...   \n",
              "1  Broadcasting and audio-visual production techn...   \n",
              "2  Broadcasting and audio-visual production techn...   \n",
              "3  Broadcasting and audio-visual production techn...   \n",
              "4  Broadcasting and audio-visual production techn...   \n",
              "\n",
              "                Technology Tool Category Description  \\\n",
              "0  Systems for audio, video, multimedia and news ...   \n",
              "1  Systems for audio, video, multimedia and news ...   \n",
              "2  Systems for audio, video, multimedia and news ...   \n",
              "3  Systems for audio, video, multimedia and news ...   \n",
              "4  Systems for audio, video, multimedia and news ...   \n",
              "\n",
              "                           Technology Tool  \\\n",
              "0  Collaborative news production platforms   \n",
              "1  Collaborative news production platforms   \n",
              "2  Collaborative news production platforms   \n",
              "3  Collaborative news production platforms   \n",
              "4  Collaborative news production platforms   \n",
              "\n",
              "                         Technology Tool Description  \\\n",
              "0  Software used to create and manage news conten...   \n",
              "1  Software used to create and manage news conten...   \n",
              "2  Software used to create and manage news conten...   \n",
              "3  Software used to create and manage news conten...   \n",
              "4  Software used to create and manage news conten...   \n",
              "\n",
              "                Technology Tool Extended Description Occupation Type_x  \\\n",
              "0  Collaborative news production platforms encomp...          ANZSCO 4   \n",
              "1  Collaborative news production platforms encomp...          ANZSCO 4   \n",
              "2  Collaborative news production platforms encomp...          ANZSCO 6   \n",
              "3  Collaborative news production platforms encomp...          ANZSCO 6   \n",
              "4  Collaborative news production platforms encomp...          ANZSCO 6   \n",
              "\n",
              "   ANZSCO Code Sub-Profile Code_x  \\\n",
              "0         2123                NaN   \n",
              "1         2124                NaN   \n",
              "2       212113                NaN   \n",
              "3       212312                NaN   \n",
              "4       212315                NaN   \n",
              "\n",
              "                                ANZSCO Title_x Emerging/Trending Flag  \\\n",
              "0  Film, Television, Radio and Stage Directors                    NaN   \n",
              "1                Journalists and Other Writers                    NaN   \n",
              "2                              Radio Presenter                    NaN   \n",
              "3  Director (Film, Television, Radio or Stage)                    NaN   \n",
              "4       Program Director (Television or Radio)                    NaN   \n",
              "\n",
              "                                  ANZSCO Description  \n",
              "0  Film, Television, Radio and Stage Directors di...  \n",
              "1  Journalists and Other Writers research and com...  \n",
              "2  Prepares and presents news, sports or other in...  \n",
              "3  Interprets and approves selection of scripts, ...  \n",
              "4  Compiles and directs programs for television o...  "
            ],
            "text/html": [
              "\n",
              "  <div id=\"df-f14876a5-c41c-4925-ad77-b5c91265ceb1\" class=\"colab-df-container\">\n",
              "    <div>\n",
              "<style scoped>\n",
              "    .dataframe tbody tr th:only-of-type {\n",
              "        vertical-align: middle;\n",
              "    }\n",
              "\n",
              "    .dataframe tbody tr th {\n",
              "        vertical-align: top;\n",
              "    }\n",
              "\n",
              "    .dataframe thead th {\n",
              "        text-align: right;\n",
              "    }\n",
              "</style>\n",
              "<table border=\"1\" class=\"dataframe\">\n",
              "  <thead>\n",
              "    <tr style=\"text-align: right;\">\n",
              "      <th></th>\n",
              "      <th>Technology Tool Category</th>\n",
              "      <th>Technology Tool Category Description</th>\n",
              "      <th>Technology Tool</th>\n",
              "      <th>Technology Tool Description</th>\n",
              "      <th>Technology Tool Extended Description</th>\n",
              "      <th>Occupation Type_x</th>\n",
              "      <th>ANZSCO Code</th>\n",
              "      <th>Sub-Profile Code_x</th>\n",
              "      <th>ANZSCO Title_x</th>\n",
              "      <th>Emerging/Trending Flag</th>\n",
              "      <th>ANZSCO Description</th>\n",
              "    </tr>\n",
              "  </thead>\n",
              "  <tbody>\n",
              "    <tr>\n",
              "      <th>0</th>\n",
              "      <td>Broadcasting and audio-visual production techn...</td>\n",
              "      <td>Systems for audio, video, multimedia and news ...</td>\n",
              "      <td>Collaborative news production platforms</td>\n",
              "      <td>Software used to create and manage news conten...</td>\n",
              "      <td>Collaborative news production platforms encomp...</td>\n",
              "      <td>ANZSCO 4</td>\n",
              "      <td>2123</td>\n",
              "      <td>NaN</td>\n",
              "      <td>Film, Television, Radio and Stage Directors</td>\n",
              "      <td>NaN</td>\n",
              "      <td>Film, Television, Radio and Stage Directors di...</td>\n",
              "    </tr>\n",
              "    <tr>\n",
              "      <th>1</th>\n",
              "      <td>Broadcasting and audio-visual production techn...</td>\n",
              "      <td>Systems for audio, video, multimedia and news ...</td>\n",
              "      <td>Collaborative news production platforms</td>\n",
              "      <td>Software used to create and manage news conten...</td>\n",
              "      <td>Collaborative news production platforms encomp...</td>\n",
              "      <td>ANZSCO 4</td>\n",
              "      <td>2124</td>\n",
              "      <td>NaN</td>\n",
              "      <td>Journalists and Other Writers</td>\n",
              "      <td>NaN</td>\n",
              "      <td>Journalists and Other Writers research and com...</td>\n",
              "    </tr>\n",
              "    <tr>\n",
              "      <th>2</th>\n",
              "      <td>Broadcasting and audio-visual production techn...</td>\n",
              "      <td>Systems for audio, video, multimedia and news ...</td>\n",
              "      <td>Collaborative news production platforms</td>\n",
              "      <td>Software used to create and manage news conten...</td>\n",
              "      <td>Collaborative news production platforms encomp...</td>\n",
              "      <td>ANZSCO 6</td>\n",
              "      <td>212113</td>\n",
              "      <td>NaN</td>\n",
              "      <td>Radio Presenter</td>\n",
              "      <td>NaN</td>\n",
              "      <td>Prepares and presents news, sports or other in...</td>\n",
              "    </tr>\n",
              "    <tr>\n",
              "      <th>3</th>\n",
              "      <td>Broadcasting and audio-visual production techn...</td>\n",
              "      <td>Systems for audio, video, multimedia and news ...</td>\n",
              "      <td>Collaborative news production platforms</td>\n",
              "      <td>Software used to create and manage news conten...</td>\n",
              "      <td>Collaborative news production platforms encomp...</td>\n",
              "      <td>ANZSCO 6</td>\n",
              "      <td>212312</td>\n",
              "      <td>NaN</td>\n",
              "      <td>Director (Film, Television, Radio or Stage)</td>\n",
              "      <td>NaN</td>\n",
              "      <td>Interprets and approves selection of scripts, ...</td>\n",
              "    </tr>\n",
              "    <tr>\n",
              "      <th>4</th>\n",
              "      <td>Broadcasting and audio-visual production techn...</td>\n",
              "      <td>Systems for audio, video, multimedia and news ...</td>\n",
              "      <td>Collaborative news production platforms</td>\n",
              "      <td>Software used to create and manage news conten...</td>\n",
              "      <td>Collaborative news production platforms encomp...</td>\n",
              "      <td>ANZSCO 6</td>\n",
              "      <td>212315</td>\n",
              "      <td>NaN</td>\n",
              "      <td>Program Director (Television or Radio)</td>\n",
              "      <td>NaN</td>\n",
              "      <td>Compiles and directs programs for television o...</td>\n",
              "    </tr>\n",
              "  </tbody>\n",
              "</table>\n",
              "</div>\n",
              "    <div class=\"colab-df-buttons\">\n",
              "\n",
              "  <div class=\"colab-df-container\">\n",
              "    <button class=\"colab-df-convert\" onclick=\"convertToInteractive('df-f14876a5-c41c-4925-ad77-b5c91265ceb1')\"\n",
              "            title=\"Convert this dataframe to an interactive table.\"\n",
              "            style=\"display:none;\">\n",
              "\n",
              "  <svg xmlns=\"http://www.w3.org/2000/svg\" height=\"24px\" viewBox=\"0 -960 960 960\">\n",
              "    <path d=\"M120-120v-720h720v720H120Zm60-500h600v-160H180v160Zm220 220h160v-160H400v160Zm0 220h160v-160H400v160ZM180-400h160v-160H180v160Zm440 0h160v-160H620v160ZM180-180h160v-160H180v160Zm440 0h160v-160H620v160Z\"/>\n",
              "  </svg>\n",
              "    </button>\n",
              "\n",
              "  <style>\n",
              "    .colab-df-container {\n",
              "      display:flex;\n",
              "      gap: 12px;\n",
              "    }\n",
              "\n",
              "    .colab-df-convert {\n",
              "      background-color: #E8F0FE;\n",
              "      border: none;\n",
              "      border-radius: 50%;\n",
              "      cursor: pointer;\n",
              "      display: none;\n",
              "      fill: #1967D2;\n",
              "      height: 32px;\n",
              "      padding: 0 0 0 0;\n",
              "      width: 32px;\n",
              "    }\n",
              "\n",
              "    .colab-df-convert:hover {\n",
              "      background-color: #E2EBFA;\n",
              "      box-shadow: 0px 1px 2px rgba(60, 64, 67, 0.3), 0px 1px 3px 1px rgba(60, 64, 67, 0.15);\n",
              "      fill: #174EA6;\n",
              "    }\n",
              "\n",
              "    .colab-df-buttons div {\n",
              "      margin-bottom: 4px;\n",
              "    }\n",
              "\n",
              "    [theme=dark] .colab-df-convert {\n",
              "      background-color: #3B4455;\n",
              "      fill: #D2E3FC;\n",
              "    }\n",
              "\n",
              "    [theme=dark] .colab-df-convert:hover {\n",
              "      background-color: #434B5C;\n",
              "      box-shadow: 0px 1px 3px 1px rgba(0, 0, 0, 0.15);\n",
              "      filter: drop-shadow(0px 1px 2px rgba(0, 0, 0, 0.3));\n",
              "      fill: #FFFFFF;\n",
              "    }\n",
              "  </style>\n",
              "\n",
              "    <script>\n",
              "      const buttonEl =\n",
              "        document.querySelector('#df-f14876a5-c41c-4925-ad77-b5c91265ceb1 button.colab-df-convert');\n",
              "      buttonEl.style.display =\n",
              "        google.colab.kernel.accessAllowed ? 'block' : 'none';\n",
              "\n",
              "      async function convertToInteractive(key) {\n",
              "        const element = document.querySelector('#df-f14876a5-c41c-4925-ad77-b5c91265ceb1');\n",
              "        const dataTable =\n",
              "          await google.colab.kernel.invokeFunction('convertToInteractive',\n",
              "                                                    [key], {});\n",
              "        if (!dataTable) return;\n",
              "\n",
              "        const docLinkHtml = 'Like what you see? Visit the ' +\n",
              "          '<a target=\"_blank\" href=https://colab.research.google.com/notebooks/data_table.ipynb>data table notebook</a>'\n",
              "          + ' to learn more about interactive tables.';\n",
              "        element.innerHTML = '';\n",
              "        dataTable['output_type'] = 'display_data';\n",
              "        await google.colab.output.renderOutput(dataTable, element);\n",
              "        const docLink = document.createElement('div');\n",
              "        docLink.innerHTML = docLinkHtml;\n",
              "        element.appendChild(docLink);\n",
              "      }\n",
              "    </script>\n",
              "  </div>\n",
              "\n",
              "\n",
              "<div id=\"df-d7deeb84-3ef8-43a3-b83c-bba190c1c9a6\">\n",
              "  <button class=\"colab-df-quickchart\" onclick=\"quickchart('df-d7deeb84-3ef8-43a3-b83c-bba190c1c9a6')\"\n",
              "            title=\"Suggest charts\"\n",
              "            style=\"display:none;\">\n",
              "\n",
              "<svg xmlns=\"http://www.w3.org/2000/svg\" height=\"24px\"viewBox=\"0 0 24 24\"\n",
              "     width=\"24px\">\n",
              "    <g>\n",
              "        <path d=\"M19 3H5c-1.1 0-2 .9-2 2v14c0 1.1.9 2 2 2h14c1.1 0 2-.9 2-2V5c0-1.1-.9-2-2-2zM9 17H7v-7h2v7zm4 0h-2V7h2v10zm4 0h-2v-4h2v4z\"/>\n",
              "    </g>\n",
              "</svg>\n",
              "  </button>\n",
              "\n",
              "<style>\n",
              "  .colab-df-quickchart {\n",
              "      --bg-color: #E8F0FE;\n",
              "      --fill-color: #1967D2;\n",
              "      --hover-bg-color: #E2EBFA;\n",
              "      --hover-fill-color: #174EA6;\n",
              "      --disabled-fill-color: #AAA;\n",
              "      --disabled-bg-color: #DDD;\n",
              "  }\n",
              "\n",
              "  [theme=dark] .colab-df-quickchart {\n",
              "      --bg-color: #3B4455;\n",
              "      --fill-color: #D2E3FC;\n",
              "      --hover-bg-color: #434B5C;\n",
              "      --hover-fill-color: #FFFFFF;\n",
              "      --disabled-bg-color: #3B4455;\n",
              "      --disabled-fill-color: #666;\n",
              "  }\n",
              "\n",
              "  .colab-df-quickchart {\n",
              "    background-color: var(--bg-color);\n",
              "    border: none;\n",
              "    border-radius: 50%;\n",
              "    cursor: pointer;\n",
              "    display: none;\n",
              "    fill: var(--fill-color);\n",
              "    height: 32px;\n",
              "    padding: 0;\n",
              "    width: 32px;\n",
              "  }\n",
              "\n",
              "  .colab-df-quickchart:hover {\n",
              "    background-color: var(--hover-bg-color);\n",
              "    box-shadow: 0 1px 2px rgba(60, 64, 67, 0.3), 0 1px 3px 1px rgba(60, 64, 67, 0.15);\n",
              "    fill: var(--button-hover-fill-color);\n",
              "  }\n",
              "\n",
              "  .colab-df-quickchart-complete:disabled,\n",
              "  .colab-df-quickchart-complete:disabled:hover {\n",
              "    background-color: var(--disabled-bg-color);\n",
              "    fill: var(--disabled-fill-color);\n",
              "    box-shadow: none;\n",
              "  }\n",
              "\n",
              "  .colab-df-spinner {\n",
              "    border: 2px solid var(--fill-color);\n",
              "    border-color: transparent;\n",
              "    border-bottom-color: var(--fill-color);\n",
              "    animation:\n",
              "      spin 1s steps(1) infinite;\n",
              "  }\n",
              "\n",
              "  @keyframes spin {\n",
              "    0% {\n",
              "      border-color: transparent;\n",
              "      border-bottom-color: var(--fill-color);\n",
              "      border-left-color: var(--fill-color);\n",
              "    }\n",
              "    20% {\n",
              "      border-color: transparent;\n",
              "      border-left-color: var(--fill-color);\n",
              "      border-top-color: var(--fill-color);\n",
              "    }\n",
              "    30% {\n",
              "      border-color: transparent;\n",
              "      border-left-color: var(--fill-color);\n",
              "      border-top-color: var(--fill-color);\n",
              "      border-right-color: var(--fill-color);\n",
              "    }\n",
              "    40% {\n",
              "      border-color: transparent;\n",
              "      border-right-color: var(--fill-color);\n",
              "      border-top-color: var(--fill-color);\n",
              "    }\n",
              "    60% {\n",
              "      border-color: transparent;\n",
              "      border-right-color: var(--fill-color);\n",
              "    }\n",
              "    80% {\n",
              "      border-color: transparent;\n",
              "      border-right-color: var(--fill-color);\n",
              "      border-bottom-color: var(--fill-color);\n",
              "    }\n",
              "    90% {\n",
              "      border-color: transparent;\n",
              "      border-bottom-color: var(--fill-color);\n",
              "    }\n",
              "  }\n",
              "</style>\n",
              "\n",
              "  <script>\n",
              "    async function quickchart(key) {\n",
              "      const quickchartButtonEl =\n",
              "        document.querySelector('#' + key + ' button');\n",
              "      quickchartButtonEl.disabled = true;  // To prevent multiple clicks.\n",
              "      quickchartButtonEl.classList.add('colab-df-spinner');\n",
              "      try {\n",
              "        const charts = await google.colab.kernel.invokeFunction(\n",
              "            'suggestCharts', [key], {});\n",
              "      } catch (error) {\n",
              "        console.error('Error during call to suggestCharts:', error);\n",
              "      }\n",
              "      quickchartButtonEl.classList.remove('colab-df-spinner');\n",
              "      quickchartButtonEl.classList.add('colab-df-quickchart-complete');\n",
              "    }\n",
              "    (() => {\n",
              "      let quickchartButtonEl =\n",
              "        document.querySelector('#df-d7deeb84-3ef8-43a3-b83c-bba190c1c9a6 button');\n",
              "      quickchartButtonEl.style.display =\n",
              "        google.colab.kernel.accessAllowed ? 'block' : 'none';\n",
              "    })();\n",
              "  </script>\n",
              "</div>\n",
              "\n",
              "    </div>\n",
              "  </div>\n"
            ],
            "application/vnd.google.colaboratory.intrinsic+json": {
              "type": "dataframe",
              "variable_name": "tt_merged_df",
              "summary": "{\n  \"name\": \"tt_merged_df\",\n  \"rows\": 12910,\n  \"fields\": [\n    {\n      \"column\": \"Technology Tool Category\",\n      \"properties\": {\n        \"dtype\": \"category\",\n        \"num_unique_values\": 27,\n        \"samples\": [\n          \"Graphic design and imagery technologies\",\n          \"IT systems and database administration tools\",\n          \"Graphical modelling and technical design technologies\"\n        ],\n        \"semantic_type\": \"\",\n        \"description\": \"\"\n      }\n    },\n    {\n      \"column\": \"Technology Tool Category Description\",\n      \"properties\": {\n        \"dtype\": \"category\",\n        \"num_unique_values\": 26,\n        \"samples\": [\n          \"Software for graphic design and photographic editing\",\n          \"Hardware and software for medical imaging and diagnosis\",\n          \"Systems for audio, video, multimedia and news content production\"\n        ],\n        \"semantic_type\": \"\",\n        \"description\": \"\"\n      }\n    },\n    {\n      \"column\": \"Technology Tool\",\n      \"properties\": {\n        \"dtype\": \"category\",\n        \"num_unique_values\": 94,\n        \"samples\": [\n          \"Data processing platforms\",\n          \"Aviation and marine communication systems\",\n          \"Software development and programming languages\"\n        ],\n        \"semantic_type\": \"\",\n        \"description\": \"\"\n      }\n    },\n    {\n      \"column\": \"Technology Tool Description\",\n      \"properties\": {\n        \"dtype\": \"category\",\n        \"num_unique_values\": 94,\n        \"samples\": [\n          \"Infrastructure used to process and analyse large and complex data sets contained in data warehouses and lakes.\",\n          \"Radio and communications apparatus that enables communication between vehicle crews, or between vehicle and land crews.\",\n          \"Software development and programming languages (commonly known as \\u2018coding\\u2019) used to create systems, applications, and web platforms.\"\n        ],\n        \"semantic_type\": \"\",\n        \"description\": \"\"\n      }\n    },\n    {\n      \"column\": \"Technology Tool Extended Description\",\n      \"properties\": {\n        \"dtype\": \"category\",\n        \"num_unique_values\": 94,\n        \"samples\": [\n          \"Data processing platforms encompass the software and tool sets that enable the processing of data contained within data warehouses. This technology tool may have interlinkages with Statistical and data analysis, Data management systems, and data warehousing services. Due to the size of data stored within the central repository Data processing platforms may be housed on Cloud computing infrastructure.\",\n          \"Aviation and marine communication systems encompass technologies that enable voice and data communications between air and sea craft. Systems used, may rely on digital or analogue frequencies to transmit or receive voice or data required for system telemetry, text messaging services, and or navigation. Aviation and marine communication systems may have interlinkages with technology tools featured under the Geographical guidance and navigation technologies category of tools.\",\n          \"Software development and programming languages encompasses a broad suite of languages and utilities that support and enable the development of applications, web platforms, scripts, and larger scale systems. This technology tool may interlink with Application server software, Configuration management software, File storage technologies, Cloud computing infrastructure services, Database management software, enterprise application integration software, application and load testing, Computer-aided software engineering, Document management and code versioning, Project management software, Content workflow software, and help desk and incident management software.\"\n        ],\n        \"semantic_type\": \"\",\n        \"description\": \"\"\n      }\n    },\n    {\n      \"column\": \"Occupation Type_x\",\n      \"properties\": {\n        \"dtype\": \"category\",\n        \"num_unique_values\": 4,\n        \"samples\": [\n          \"ANZSCO 6\",\n          \"Specialisation\",\n          \"ANZSCO 4\"\n        ],\n        \"semantic_type\": \"\",\n        \"description\": \"\"\n      }\n    },\n    {\n      \"column\": \"ANZSCO Code\",\n      \"properties\": {\n        \"dtype\": \"number\",\n        \"std\": 186320,\n        \"min\": 1111,\n        \"max\": 899999,\n        \"num_unique_values\": 1042,\n        \"samples\": [\n          251212,\n          394113,\n          312199\n        ],\n        \"semantic_type\": \"\",\n        \"description\": \"\"\n      }\n    },\n    {\n      \"column\": \"Sub-Profile Code_x\",\n      \"properties\": {\n        \"dtype\": \"category\",\n        \"num_unique_values\": 20,\n        \"samples\": [\n          \"N01\",\n          \"N13\",\n          \"S04\"\n        ],\n        \"semantic_type\": \"\",\n        \"description\": \"\"\n      }\n    },\n    {\n      \"column\": \"ANZSCO Title_x\",\n      \"properties\": {\n        \"dtype\": \"category\",\n        \"num_unique_values\": 1317,\n        \"samples\": [\n          \"Electrical Engineer\",\n          \"Quilter\",\n          \"Metallurgist\"\n        ],\n        \"semantic_type\": \"\",\n        \"description\": \"\"\n      }\n    },\n    {\n      \"column\": \"Emerging/Trending Flag\",\n      \"properties\": {\n        \"dtype\": \"category\",\n        \"num_unique_values\": 2,\n        \"samples\": [\n          \"Trending\",\n          \"Emerging\"\n        ],\n        \"semantic_type\": \"\",\n        \"description\": \"\"\n      }\n    },\n    {\n      \"column\": \"ANZSCO Description\",\n      \"properties\": {\n        \"dtype\": \"category\",\n        \"num_unique_values\": 1499,\n        \"samples\": [\n          \"Compete in surfing events.\",\n          \"Set up and operate equipment that mixes or blends ingredients used in the manufacturing of margarine products in a factory.\"\n        ],\n        \"semantic_type\": \"\",\n        \"description\": \"\"\n      }\n    }\n  ]\n}"
            }
          },
          "metadata": {},
          "execution_count": 445
        }
      ],
      "source": [
        "tt_merged_df.head()"
      ]
    },
    {
      "cell_type": "code",
      "execution_count": 446,
      "metadata": {
        "id": "oYx-dwzETkoS",
        "outputId": "3905bd9c-6377-4e7f-fc22-8a0e5a56b913",
        "colab": {
          "base_uri": "https://localhost:8080/",
          "height": 712
        }
      },
      "outputs": [
        {
          "output_type": "execute_result",
          "data": {
            "text/plain": [
              "                              Technology Tool Category  \\\n",
              "10475    Project, process, and risk management systems   \n",
              "2017             Data analysis and reporting platforms   \n",
              "9153   Payroll and human resource management platforms   \n",
              "447                         Communication technologies   \n",
              "5152           Graphic design and imagery technologies   \n",
              "\n",
              "                    Technology Tool Category Description  \\\n",
              "10475  Systems to manage projects, risks, regulatory ...   \n",
              "2017   Software for data analysis and produce electro...   \n",
              "9153   Systems to undertake human resource management...   \n",
              "447     Data, voice and/or video communication platforms   \n",
              "5152   Software for graphic design and photographic e...   \n",
              "\n",
              "                              Technology Tool  \\\n",
              "10475             Project management software   \n",
              "2017   Statistical and data analysis software   \n",
              "9153                 Human resources software   \n",
              "447         Audio/video conferencing software   \n",
              "5152          Flow chart and diagram software   \n",
              "\n",
              "                             Technology Tool Description  \\\n",
              "10475  Software for planning, documenting, and managi...   \n",
              "2017   Software used to support the process of analys...   \n",
              "9153   Software and systems used to manage employee a...   \n",
              "447    Software for collaboration using video or audi...   \n",
              "5152   Software used to create 2D and 3D diagrams and...   \n",
              "\n",
              "                    Technology Tool Extended Description Occupation Type_x  \\\n",
              "10475  Project management software incorporates softw...          ANZSCO 4   \n",
              "2017   Statistical and data analysis software encompa...          ANZSCO 4   \n",
              "9153   Human resources software encompasses software ...          ANZSCO 4   \n",
              "447    Audio/video conferencing software enables peop...          ANZSCO 4   \n",
              "5152   Flow chart and diagram software incorporates s...          ANZSCO 4   \n",
              "\n",
              "       ANZSCO Code Sub-Profile Code_x  \\\n",
              "10475         1111                NaN   \n",
              "2017          1111                NaN   \n",
              "9153          1111                NaN   \n",
              "447           1111                NaN   \n",
              "5152          1111                NaN   \n",
              "\n",
              "                                ANZSCO Title_x Emerging/Trending Flag  \\\n",
              "10475  Chief Executives and Managing Directors                    NaN   \n",
              "2017   Chief Executives and Managing Directors                    NaN   \n",
              "9153   Chief Executives and Managing Directors                    NaN   \n",
              "447    Chief Executives and Managing Directors                    NaN   \n",
              "5152   Chief Executives and Managing Directors                    NaN   \n",
              "\n",
              "                                      ANZSCO Description  \n",
              "10475  Chief Executives and Managing Directors determ...  \n",
              "2017   Chief Executives and Managing Directors determ...  \n",
              "9153   Chief Executives and Managing Directors determ...  \n",
              "447    Chief Executives and Managing Directors determ...  \n",
              "5152   Chief Executives and Managing Directors determ...  "
            ],
            "text/html": [
              "\n",
              "  <div id=\"df-3b19a738-5678-471e-886f-5e29fcc84712\" class=\"colab-df-container\">\n",
              "    <div>\n",
              "<style scoped>\n",
              "    .dataframe tbody tr th:only-of-type {\n",
              "        vertical-align: middle;\n",
              "    }\n",
              "\n",
              "    .dataframe tbody tr th {\n",
              "        vertical-align: top;\n",
              "    }\n",
              "\n",
              "    .dataframe thead th {\n",
              "        text-align: right;\n",
              "    }\n",
              "</style>\n",
              "<table border=\"1\" class=\"dataframe\">\n",
              "  <thead>\n",
              "    <tr style=\"text-align: right;\">\n",
              "      <th></th>\n",
              "      <th>Technology Tool Category</th>\n",
              "      <th>Technology Tool Category Description</th>\n",
              "      <th>Technology Tool</th>\n",
              "      <th>Technology Tool Description</th>\n",
              "      <th>Technology Tool Extended Description</th>\n",
              "      <th>Occupation Type_x</th>\n",
              "      <th>ANZSCO Code</th>\n",
              "      <th>Sub-Profile Code_x</th>\n",
              "      <th>ANZSCO Title_x</th>\n",
              "      <th>Emerging/Trending Flag</th>\n",
              "      <th>ANZSCO Description</th>\n",
              "    </tr>\n",
              "  </thead>\n",
              "  <tbody>\n",
              "    <tr>\n",
              "      <th>10475</th>\n",
              "      <td>Project, process, and risk management systems</td>\n",
              "      <td>Systems to manage projects, risks, regulatory ...</td>\n",
              "      <td>Project management software</td>\n",
              "      <td>Software for planning, documenting, and managi...</td>\n",
              "      <td>Project management software incorporates softw...</td>\n",
              "      <td>ANZSCO 4</td>\n",
              "      <td>1111</td>\n",
              "      <td>NaN</td>\n",
              "      <td>Chief Executives and Managing Directors</td>\n",
              "      <td>NaN</td>\n",
              "      <td>Chief Executives and Managing Directors determ...</td>\n",
              "    </tr>\n",
              "    <tr>\n",
              "      <th>2017</th>\n",
              "      <td>Data analysis and reporting platforms</td>\n",
              "      <td>Software for data analysis and produce electro...</td>\n",
              "      <td>Statistical and data analysis software</td>\n",
              "      <td>Software used to support the process of analys...</td>\n",
              "      <td>Statistical and data analysis software encompa...</td>\n",
              "      <td>ANZSCO 4</td>\n",
              "      <td>1111</td>\n",
              "      <td>NaN</td>\n",
              "      <td>Chief Executives and Managing Directors</td>\n",
              "      <td>NaN</td>\n",
              "      <td>Chief Executives and Managing Directors determ...</td>\n",
              "    </tr>\n",
              "    <tr>\n",
              "      <th>9153</th>\n",
              "      <td>Payroll and human resource management platforms</td>\n",
              "      <td>Systems to undertake human resource management...</td>\n",
              "      <td>Human resources software</td>\n",
              "      <td>Software and systems used to manage employee a...</td>\n",
              "      <td>Human resources software encompasses software ...</td>\n",
              "      <td>ANZSCO 4</td>\n",
              "      <td>1111</td>\n",
              "      <td>NaN</td>\n",
              "      <td>Chief Executives and Managing Directors</td>\n",
              "      <td>NaN</td>\n",
              "      <td>Chief Executives and Managing Directors determ...</td>\n",
              "    </tr>\n",
              "    <tr>\n",
              "      <th>447</th>\n",
              "      <td>Communication technologies</td>\n",
              "      <td>Data, voice and/or video communication platforms</td>\n",
              "      <td>Audio/video conferencing software</td>\n",
              "      <td>Software for collaboration using video or audi...</td>\n",
              "      <td>Audio/video conferencing software enables peop...</td>\n",
              "      <td>ANZSCO 4</td>\n",
              "      <td>1111</td>\n",
              "      <td>NaN</td>\n",
              "      <td>Chief Executives and Managing Directors</td>\n",
              "      <td>NaN</td>\n",
              "      <td>Chief Executives and Managing Directors determ...</td>\n",
              "    </tr>\n",
              "    <tr>\n",
              "      <th>5152</th>\n",
              "      <td>Graphic design and imagery technologies</td>\n",
              "      <td>Software for graphic design and photographic e...</td>\n",
              "      <td>Flow chart and diagram software</td>\n",
              "      <td>Software used to create 2D and 3D diagrams and...</td>\n",
              "      <td>Flow chart and diagram software incorporates s...</td>\n",
              "      <td>ANZSCO 4</td>\n",
              "      <td>1111</td>\n",
              "      <td>NaN</td>\n",
              "      <td>Chief Executives and Managing Directors</td>\n",
              "      <td>NaN</td>\n",
              "      <td>Chief Executives and Managing Directors determ...</td>\n",
              "    </tr>\n",
              "  </tbody>\n",
              "</table>\n",
              "</div>\n",
              "    <div class=\"colab-df-buttons\">\n",
              "\n",
              "  <div class=\"colab-df-container\">\n",
              "    <button class=\"colab-df-convert\" onclick=\"convertToInteractive('df-3b19a738-5678-471e-886f-5e29fcc84712')\"\n",
              "            title=\"Convert this dataframe to an interactive table.\"\n",
              "            style=\"display:none;\">\n",
              "\n",
              "  <svg xmlns=\"http://www.w3.org/2000/svg\" height=\"24px\" viewBox=\"0 -960 960 960\">\n",
              "    <path d=\"M120-120v-720h720v720H120Zm60-500h600v-160H180v160Zm220 220h160v-160H400v160Zm0 220h160v-160H400v160ZM180-400h160v-160H180v160Zm440 0h160v-160H620v160ZM180-180h160v-160H180v160Zm440 0h160v-160H620v160Z\"/>\n",
              "  </svg>\n",
              "    </button>\n",
              "\n",
              "  <style>\n",
              "    .colab-df-container {\n",
              "      display:flex;\n",
              "      gap: 12px;\n",
              "    }\n",
              "\n",
              "    .colab-df-convert {\n",
              "      background-color: #E8F0FE;\n",
              "      border: none;\n",
              "      border-radius: 50%;\n",
              "      cursor: pointer;\n",
              "      display: none;\n",
              "      fill: #1967D2;\n",
              "      height: 32px;\n",
              "      padding: 0 0 0 0;\n",
              "      width: 32px;\n",
              "    }\n",
              "\n",
              "    .colab-df-convert:hover {\n",
              "      background-color: #E2EBFA;\n",
              "      box-shadow: 0px 1px 2px rgba(60, 64, 67, 0.3), 0px 1px 3px 1px rgba(60, 64, 67, 0.15);\n",
              "      fill: #174EA6;\n",
              "    }\n",
              "\n",
              "    .colab-df-buttons div {\n",
              "      margin-bottom: 4px;\n",
              "    }\n",
              "\n",
              "    [theme=dark] .colab-df-convert {\n",
              "      background-color: #3B4455;\n",
              "      fill: #D2E3FC;\n",
              "    }\n",
              "\n",
              "    [theme=dark] .colab-df-convert:hover {\n",
              "      background-color: #434B5C;\n",
              "      box-shadow: 0px 1px 3px 1px rgba(0, 0, 0, 0.15);\n",
              "      filter: drop-shadow(0px 1px 2px rgba(0, 0, 0, 0.3));\n",
              "      fill: #FFFFFF;\n",
              "    }\n",
              "  </style>\n",
              "\n",
              "    <script>\n",
              "      const buttonEl =\n",
              "        document.querySelector('#df-3b19a738-5678-471e-886f-5e29fcc84712 button.colab-df-convert');\n",
              "      buttonEl.style.display =\n",
              "        google.colab.kernel.accessAllowed ? 'block' : 'none';\n",
              "\n",
              "      async function convertToInteractive(key) {\n",
              "        const element = document.querySelector('#df-3b19a738-5678-471e-886f-5e29fcc84712');\n",
              "        const dataTable =\n",
              "          await google.colab.kernel.invokeFunction('convertToInteractive',\n",
              "                                                    [key], {});\n",
              "        if (!dataTable) return;\n",
              "\n",
              "        const docLinkHtml = 'Like what you see? Visit the ' +\n",
              "          '<a target=\"_blank\" href=https://colab.research.google.com/notebooks/data_table.ipynb>data table notebook</a>'\n",
              "          + ' to learn more about interactive tables.';\n",
              "        element.innerHTML = '';\n",
              "        dataTable['output_type'] = 'display_data';\n",
              "        await google.colab.output.renderOutput(dataTable, element);\n",
              "        const docLink = document.createElement('div');\n",
              "        docLink.innerHTML = docLinkHtml;\n",
              "        element.appendChild(docLink);\n",
              "      }\n",
              "    </script>\n",
              "  </div>\n",
              "\n",
              "\n",
              "<div id=\"df-7b12288d-72f1-4721-bada-a4a9246e3d1c\">\n",
              "  <button class=\"colab-df-quickchart\" onclick=\"quickchart('df-7b12288d-72f1-4721-bada-a4a9246e3d1c')\"\n",
              "            title=\"Suggest charts\"\n",
              "            style=\"display:none;\">\n",
              "\n",
              "<svg xmlns=\"http://www.w3.org/2000/svg\" height=\"24px\"viewBox=\"0 0 24 24\"\n",
              "     width=\"24px\">\n",
              "    <g>\n",
              "        <path d=\"M19 3H5c-1.1 0-2 .9-2 2v14c0 1.1.9 2 2 2h14c1.1 0 2-.9 2-2V5c0-1.1-.9-2-2-2zM9 17H7v-7h2v7zm4 0h-2V7h2v10zm4 0h-2v-4h2v4z\"/>\n",
              "    </g>\n",
              "</svg>\n",
              "  </button>\n",
              "\n",
              "<style>\n",
              "  .colab-df-quickchart {\n",
              "      --bg-color: #E8F0FE;\n",
              "      --fill-color: #1967D2;\n",
              "      --hover-bg-color: #E2EBFA;\n",
              "      --hover-fill-color: #174EA6;\n",
              "      --disabled-fill-color: #AAA;\n",
              "      --disabled-bg-color: #DDD;\n",
              "  }\n",
              "\n",
              "  [theme=dark] .colab-df-quickchart {\n",
              "      --bg-color: #3B4455;\n",
              "      --fill-color: #D2E3FC;\n",
              "      --hover-bg-color: #434B5C;\n",
              "      --hover-fill-color: #FFFFFF;\n",
              "      --disabled-bg-color: #3B4455;\n",
              "      --disabled-fill-color: #666;\n",
              "  }\n",
              "\n",
              "  .colab-df-quickchart {\n",
              "    background-color: var(--bg-color);\n",
              "    border: none;\n",
              "    border-radius: 50%;\n",
              "    cursor: pointer;\n",
              "    display: none;\n",
              "    fill: var(--fill-color);\n",
              "    height: 32px;\n",
              "    padding: 0;\n",
              "    width: 32px;\n",
              "  }\n",
              "\n",
              "  .colab-df-quickchart:hover {\n",
              "    background-color: var(--hover-bg-color);\n",
              "    box-shadow: 0 1px 2px rgba(60, 64, 67, 0.3), 0 1px 3px 1px rgba(60, 64, 67, 0.15);\n",
              "    fill: var(--button-hover-fill-color);\n",
              "  }\n",
              "\n",
              "  .colab-df-quickchart-complete:disabled,\n",
              "  .colab-df-quickchart-complete:disabled:hover {\n",
              "    background-color: var(--disabled-bg-color);\n",
              "    fill: var(--disabled-fill-color);\n",
              "    box-shadow: none;\n",
              "  }\n",
              "\n",
              "  .colab-df-spinner {\n",
              "    border: 2px solid var(--fill-color);\n",
              "    border-color: transparent;\n",
              "    border-bottom-color: var(--fill-color);\n",
              "    animation:\n",
              "      spin 1s steps(1) infinite;\n",
              "  }\n",
              "\n",
              "  @keyframes spin {\n",
              "    0% {\n",
              "      border-color: transparent;\n",
              "      border-bottom-color: var(--fill-color);\n",
              "      border-left-color: var(--fill-color);\n",
              "    }\n",
              "    20% {\n",
              "      border-color: transparent;\n",
              "      border-left-color: var(--fill-color);\n",
              "      border-top-color: var(--fill-color);\n",
              "    }\n",
              "    30% {\n",
              "      border-color: transparent;\n",
              "      border-left-color: var(--fill-color);\n",
              "      border-top-color: var(--fill-color);\n",
              "      border-right-color: var(--fill-color);\n",
              "    }\n",
              "    40% {\n",
              "      border-color: transparent;\n",
              "      border-right-color: var(--fill-color);\n",
              "      border-top-color: var(--fill-color);\n",
              "    }\n",
              "    60% {\n",
              "      border-color: transparent;\n",
              "      border-right-color: var(--fill-color);\n",
              "    }\n",
              "    80% {\n",
              "      border-color: transparent;\n",
              "      border-right-color: var(--fill-color);\n",
              "      border-bottom-color: var(--fill-color);\n",
              "    }\n",
              "    90% {\n",
              "      border-color: transparent;\n",
              "      border-bottom-color: var(--fill-color);\n",
              "    }\n",
              "  }\n",
              "</style>\n",
              "\n",
              "  <script>\n",
              "    async function quickchart(key) {\n",
              "      const quickchartButtonEl =\n",
              "        document.querySelector('#' + key + ' button');\n",
              "      quickchartButtonEl.disabled = true;  // To prevent multiple clicks.\n",
              "      quickchartButtonEl.classList.add('colab-df-spinner');\n",
              "      try {\n",
              "        const charts = await google.colab.kernel.invokeFunction(\n",
              "            'suggestCharts', [key], {});\n",
              "      } catch (error) {\n",
              "        console.error('Error during call to suggestCharts:', error);\n",
              "      }\n",
              "      quickchartButtonEl.classList.remove('colab-df-spinner');\n",
              "      quickchartButtonEl.classList.add('colab-df-quickchart-complete');\n",
              "    }\n",
              "    (() => {\n",
              "      let quickchartButtonEl =\n",
              "        document.querySelector('#df-7b12288d-72f1-4721-bada-a4a9246e3d1c button');\n",
              "      quickchartButtonEl.style.display =\n",
              "        google.colab.kernel.accessAllowed ? 'block' : 'none';\n",
              "    })();\n",
              "  </script>\n",
              "</div>\n",
              "\n",
              "    </div>\n",
              "  </div>\n"
            ],
            "application/vnd.google.colaboratory.intrinsic+json": {
              "type": "dataframe",
              "variable_name": "tt_merged_df",
              "summary": "{\n  \"name\": \"tt_merged_df\",\n  \"rows\": 12910,\n  \"fields\": [\n    {\n      \"column\": \"Technology Tool Category\",\n      \"properties\": {\n        \"dtype\": \"category\",\n        \"num_unique_values\": 27,\n        \"samples\": [\n          \"IT Infrastructure and management technologies\",\n          \"IT systems development technologies\",\n          \"Customer management and engagement platforms\"\n        ],\n        \"semantic_type\": \"\",\n        \"description\": \"\"\n      }\n    },\n    {\n      \"column\": \"Technology Tool Category Description\",\n      \"properties\": {\n        \"dtype\": \"category\",\n        \"num_unique_values\": 26,\n        \"samples\": [\n          \"Software, hardware, and other tools for the development and maintenance of complex backend IT infrastructure\",\n          \"Systems for managing health records and medical practices\",\n          \"Systems to manage projects, risks, regulatory compliance, and customer support\"\n        ],\n        \"semantic_type\": \"\",\n        \"description\": \"\"\n      }\n    },\n    {\n      \"column\": \"Technology Tool\",\n      \"properties\": {\n        \"dtype\": \"category\",\n        \"num_unique_values\": 94,\n        \"samples\": [\n          \"Bookings and reservations software\",\n          \"Inventory management software\",\n          \"Database management software\"\n        ],\n        \"semantic_type\": \"\",\n        \"description\": \"\"\n      }\n    },\n    {\n      \"column\": \"Technology Tool Description\",\n      \"properties\": {\n        \"dtype\": \"category\",\n        \"num_unique_values\": 94,\n        \"samples\": [\n          \"Software for managing reservations and ticket bookings for clients.\",\n          \"Systems or software used to manage, monitor, and track stock levels. May have linkages to procurement, warehouse, and facilities management systems\",\n          \"Database platforms, tools and utilities used to create, edit, maintain, and administer database systems and maintain the integrity of associated data.\"\n        ],\n        \"semantic_type\": \"\",\n        \"description\": \"\"\n      }\n    },\n    {\n      \"column\": \"Technology Tool Extended Description\",\n      \"properties\": {\n        \"dtype\": \"category\",\n        \"num_unique_values\": 94,\n        \"samples\": [\n          \"Bookings and reservations software enables the creation of reservations and ticket bookings. This technology tool can be applied to tourism, hospitality, entertainment, travel, and accommodation services.\",\n          \"Inventory management software encompasses software and systems that aid in the management of inventory and stock levels. Inventory management software also encompasses warehouse management software and may have linkages with procurement, supply chain, despatch, and facilities management.\",\n          \"Database management software encompass a suite of toolsets, utilities, and applications used by Database Administrators and IT support professionals to manage, administer, and maintain databases and database platforms.\"\n        ],\n        \"semantic_type\": \"\",\n        \"description\": \"\"\n      }\n    },\n    {\n      \"column\": \"Occupation Type_x\",\n      \"properties\": {\n        \"dtype\": \"category\",\n        \"num_unique_values\": 4,\n        \"samples\": [\n          \"ANZSCO 6\",\n          \"Specialisation\",\n          \"ANZSCO 4\"\n        ],\n        \"semantic_type\": \"\",\n        \"description\": \"\"\n      }\n    },\n    {\n      \"column\": \"ANZSCO Code\",\n      \"properties\": {\n        \"dtype\": \"number\",\n        \"std\": 186320,\n        \"min\": 1111,\n        \"max\": 899999,\n        \"num_unique_values\": 1042,\n        \"samples\": [\n          252711,\n          512299,\n          234711\n        ],\n        \"semantic_type\": \"\",\n        \"description\": \"\"\n      }\n    },\n    {\n      \"column\": \"Sub-Profile Code_x\",\n      \"properties\": {\n        \"dtype\": \"category\",\n        \"num_unique_values\": 20,\n        \"samples\": [\n          \"N04\",\n          \"N13\",\n          \"N09\"\n        ],\n        \"semantic_type\": \"\",\n        \"description\": \"\"\n      }\n    },\n    {\n      \"column\": \"ANZSCO Title_x\",\n      \"properties\": {\n        \"dtype\": \"category\",\n        \"num_unique_values\": 1317,\n        \"samples\": [\n          \"Sheep Farmer\",\n          \"Aged or Disabled Carer\",\n          \"Marine Biologist\"\n        ],\n        \"semantic_type\": \"\",\n        \"description\": \"\"\n      }\n    },\n    {\n      \"column\": \"Emerging/Trending Flag\",\n      \"properties\": {\n        \"dtype\": \"category\",\n        \"num_unique_values\": 2,\n        \"samples\": [\n          \"Trending\",\n          \"Emerging\"\n        ],\n        \"semantic_type\": \"\",\n        \"description\": \"\"\n      }\n    },\n    {\n      \"column\": \"ANZSCO Description\",\n      \"properties\": {\n        \"dtype\": \"category\",\n        \"num_unique_values\": 1499,\n        \"samples\": [\n          \"Prepares and serves espresso coffee and other hot beverages to patrons in a cafe, coffee shop, restaurant or dining establishment.\",\n          \"Operates machines and performs routine tasks to make and package milk, milk powder, yoghurt, butter, cheese and other dairy products.\"\n        ],\n        \"semantic_type\": \"\",\n        \"description\": \"\"\n      }\n    }\n  ]\n}"
            }
          },
          "metadata": {},
          "execution_count": 446
        }
      ],
      "source": [
        "tt_merged_df.sort_values(by=\"ANZSCO Code\", inplace=True)\n",
        "tt_merged_df.head()"
      ]
    },
    {
      "cell_type": "markdown",
      "metadata": {
        "id": "10yxoGOMTkoS"
      },
      "source": [
        "### Specialised Task Merged Analysis"
      ]
    },
    {
      "cell_type": "code",
      "execution_count": 447,
      "metadata": {
        "id": "0_vy4toNTkoT",
        "outputId": "91f47991-dd26-408f-dd01-1061f595db57",
        "colab": {
          "base_uri": "https://localhost:8080/"
        }
      },
      "outputs": [
        {
          "output_type": "stream",
          "name": "stdout",
          "text": [
            "<class 'pandas.core.frame.DataFrame'>\n",
            "RangeIndex: 67772 entries, 0 to 67771\n",
            "Data columns (total 19 columns):\n",
            " #   Column                       Non-Null Count  Dtype  \n",
            "---  ------                       --------------  -----  \n",
            " 0   Occupation Type_x            67772 non-null  object \n",
            " 1   ANZSCO Code                  67772 non-null  int64  \n",
            " 2   Sub-Profile Code_x           39773 non-null  object \n",
            " 3   ANZSCO Title_x               67772 non-null  object \n",
            " 4   Specialist Task              67772 non-null  object \n",
            " 5   % of time spent on task      27999 non-null  float64\n",
            " 6   Emerging/\n",
            "Trending Flag      1700 non-null   object \n",
            " 7   Specialist Cluster_x         67772 non-null  object \n",
            " 8    % of time spent on cluster  27999 non-null  float64\n",
            " 9   Cluster Family_x             67772 non-null  object \n",
            " 10  % of time spent on family    27999 non-null  float64\n",
            " 11  Skills Statement             67772 non-null  object \n",
            " 12  Specialist Cluster_y         67772 non-null  object \n",
            " 13  Cluster Family_y             67772 non-null  object \n",
            " 14  Skill Statement              67772 non-null  object \n",
            " 15  Occupation Type_y            67772 non-null  object \n",
            " 16  Sub-Profile Code_y           37322 non-null  object \n",
            " 17  ANZSCO Title_y               67772 non-null  object \n",
            " 18  ANZSCO Description           67772 non-null  object \n",
            "dtypes: float64(3), int64(1), object(15)\n",
            "memory usage: 9.8+ MB\n"
          ]
        }
      ],
      "source": [
        "st_merged_df.info()"
      ]
    },
    {
      "cell_type": "code",
      "execution_count": 448,
      "metadata": {
        "id": "zY-7WIdmTkoT",
        "outputId": "344b5f66-da0e-488f-a360-bd4ce357f459",
        "colab": {
          "base_uri": "https://localhost:8080/"
        }
      },
      "outputs": [
        {
          "output_type": "execute_result",
          "data": {
            "text/plain": [
              "Index(['Occupation Type_x', 'ANZSCO Code', 'Sub-Profile Code_x',\n",
              "       'ANZSCO Title_x', 'Specialist Task', '% of time spent on task',\n",
              "       'Emerging/\\nTrending Flag', 'Specialist Cluster_x',\n",
              "       ' % of time spent on cluster', 'Cluster Family_x',\n",
              "       '% of time spent on family', 'Skills Statement', 'ANZSCO Description'],\n",
              "      dtype='object')"
            ]
          },
          "metadata": {},
          "execution_count": 448
        }
      ],
      "source": [
        "st_merged_df.drop(columns=[ \"Sub-Profile Code_y\", \"Specialist Cluster_y\", \"Cluster Family_y\" , \"ANZSCO Title_y\", \"Occupation Type_y\", \"Skill Statement\" ], inplace=True)\n",
        "st_merged_df.columns"
      ]
    },
    {
      "cell_type": "code",
      "execution_count": 449,
      "metadata": {
        "id": "Jqka8h7cTkoU",
        "outputId": "2af68f50-4b46-4b12-dacf-a345aabfaeff",
        "colab": {
          "base_uri": "https://localhost:8080/"
        }
      },
      "outputs": [
        {
          "output_type": "stream",
          "name": "stdout",
          "text": [
            "The number of Specialist Task in ASC data are: 1686\n",
            "The number of Specialist Clusters in ASC data are: 272\n",
            "The number of Cluster Families in ASC data are: 31\n"
          ]
        }
      ],
      "source": [
        "print(\"The number of Specialist Task in ASC data are:\", st_merged_df['Specialist Task'].nunique())\n",
        "print(\"The number of Specialist Clusters in ASC data are:\", st_merged_df['Specialist Cluster_x'].nunique())\n",
        "print(\"The number of Cluster Families in ASC data are:\", st_merged_df['Cluster Family_x'].nunique())\n",
        "\n"
      ]
    },
    {
      "cell_type": "code",
      "execution_count": 450,
      "metadata": {
        "id": "oDZNukT3TkoU",
        "outputId": "5c6a9460-596f-4172-87ad-926c2572c239",
        "colab": {
          "base_uri": "https://localhost:8080/"
        }
      },
      "outputs": [
        {
          "output_type": "stream",
          "name": "stdout",
          "text": [
            "There are 4 types of Occupations listed in Specialist Task Data\n",
            "These occupations are: ['ANZSCO 4' 'ANZSCO 6' 'Specialisation' 'NEC Category Occupation']\n",
            "There are 1177 different occupations listed\n"
          ]
        }
      ],
      "source": [
        "print(\"There are\",st_merged_df['Occupation Type_x'].nunique(), \"types of Occupations listed in Specialist Task Data\")\n",
        "print('These occupations are:', st_merged_df['Occupation Type_x'].unique())\n",
        "print(\"There are\",st_merged_df['ANZSCO Code'].nunique(), \"different occupations listed\")"
      ]
    },
    {
      "cell_type": "code",
      "execution_count": 451,
      "metadata": {
        "id": "FEHmeGG-TkoV",
        "outputId": "ad6591a4-6865-4271-f714-8eebb35e8653",
        "colab": {
          "base_uri": "https://localhost:8080/"
        }
      },
      "outputs": [
        {
          "output_type": "stream",
          "name": "stdout",
          "text": [
            "<class 'pandas.core.frame.DataFrame'>\n",
            "RangeIndex: 67772 entries, 0 to 67771\n",
            "Data columns (total 13 columns):\n",
            " #   Column                       Non-Null Count  Dtype  \n",
            "---  ------                       --------------  -----  \n",
            " 0   Occupation Type_x            67772 non-null  object \n",
            " 1   ANZSCO Code                  67772 non-null  int64  \n",
            " 2   Sub-Profile Code_x           39773 non-null  object \n",
            " 3   ANZSCO Title_x               67772 non-null  object \n",
            " 4   Specialist Task              67772 non-null  object \n",
            " 5   % of time spent on task      27999 non-null  float64\n",
            " 6   Emerging/\n",
            "Trending Flag      1700 non-null   object \n",
            " 7   Specialist Cluster_x         67772 non-null  object \n",
            " 8    % of time spent on cluster  27999 non-null  float64\n",
            " 9   Cluster Family_x             67772 non-null  object \n",
            " 10  % of time spent on family    27999 non-null  float64\n",
            " 11  Skills Statement             67772 non-null  object \n",
            " 12  ANZSCO Description           67772 non-null  object \n",
            "dtypes: float64(3), int64(1), object(9)\n",
            "memory usage: 6.7+ MB\n"
          ]
        }
      ],
      "source": [
        "st_merged_df.info()"
      ]
    },
    {
      "cell_type": "code",
      "execution_count": 452,
      "metadata": {
        "id": "D2YtM4f3TkoV",
        "outputId": "bbc7ec7e-954e-4188-e52b-dabe64d41fcf",
        "colab": {
          "base_uri": "https://localhost:8080/",
          "height": 730
        }
      },
      "outputs": [
        {
          "output_type": "execute_result",
          "data": {
            "text/plain": [
              "  Occupation Type_x  ANZSCO Code Sub-Profile Code_x  \\\n",
              "0          ANZSCO 4         1111                NaN   \n",
              "1          ANZSCO 4         1111                NaN   \n",
              "2          ANZSCO 4         1111                NaN   \n",
              "3          ANZSCO 4         1111                NaN   \n",
              "4          ANZSCO 4         1111                NaN   \n",
              "\n",
              "                            ANZSCO Title_x  \\\n",
              "0  Chief Executives and Managing Directors   \n",
              "1  Chief Executives and Managing Directors   \n",
              "2  Chief Executives and Managing Directors   \n",
              "3  Chief Executives and Managing Directors   \n",
              "4  Chief Executives and Managing Directors   \n",
              "\n",
              "                                     Specialist Task  % of time spent on task  \\\n",
              "0  Direct or manage financial activities or opera...                   0.1302   \n",
              "1     Direct department or organisational activities                   0.1117   \n",
              "2  Direct sales, marketing or customer service ac...                   0.0808   \n",
              "3  Communicate with others to arrange, coordinate...                   0.0665   \n",
              "4  Analyse data to assess operational or project ...                   0.0651   \n",
              "\n",
              "  Emerging/\\nTrending Flag                               Specialist Cluster_x  \\\n",
              "0                      NaN  Manage, monitor and undertake financial activi...   \n",
              "1                 Trending               Manage services, staff or activities   \n",
              "2                      NaN               Manage services, staff or activities   \n",
              "3                      NaN             Communicate or collaborate with others   \n",
              "4                      NaN           Use data to inform operational decisions   \n",
              "\n",
              "    % of time spent on cluster                              Cluster Family_x  \\\n",
              "0                       0.1644  Business operations and financial activities   \n",
              "1                       0.2128  Business operations and financial activities   \n",
              "2                       0.2128  Business operations and financial activities   \n",
              "3                       0.0750               Communication and collaboration   \n",
              "4                       0.1009                Data, analytics, and databases   \n",
              "\n",
              "   % of time spent on family  \\\n",
              "0                     0.5322   \n",
              "1                     0.5322   \n",
              "2                     0.5322   \n",
              "3                     0.0890   \n",
              "4                     0.1370   \n",
              "\n",
              "                                    Skills Statement  \\\n",
              "0  Direct and oversee the financial operations of...   \n",
              "1  Direct and oversee the activities of a work un...   \n",
              "2  Direct and oversee the sales, marketing, or cu...   \n",
              "3  Coordinate with others in order to plan, organ...   \n",
              "4  Analyse qualitative and quantitative data aris...   \n",
              "\n",
              "                                  ANZSCO Description  \n",
              "0  Chief Executives and Managing Directors determ...  \n",
              "1  Chief Executives and Managing Directors determ...  \n",
              "2  Chief Executives and Managing Directors determ...  \n",
              "3  Chief Executives and Managing Directors determ...  \n",
              "4  Chief Executives and Managing Directors determ...  "
            ],
            "text/html": [
              "\n",
              "  <div id=\"df-cf26531b-9579-42c4-8efc-378508f6d531\" class=\"colab-df-container\">\n",
              "    <div>\n",
              "<style scoped>\n",
              "    .dataframe tbody tr th:only-of-type {\n",
              "        vertical-align: middle;\n",
              "    }\n",
              "\n",
              "    .dataframe tbody tr th {\n",
              "        vertical-align: top;\n",
              "    }\n",
              "\n",
              "    .dataframe thead th {\n",
              "        text-align: right;\n",
              "    }\n",
              "</style>\n",
              "<table border=\"1\" class=\"dataframe\">\n",
              "  <thead>\n",
              "    <tr style=\"text-align: right;\">\n",
              "      <th></th>\n",
              "      <th>Occupation Type_x</th>\n",
              "      <th>ANZSCO Code</th>\n",
              "      <th>Sub-Profile Code_x</th>\n",
              "      <th>ANZSCO Title_x</th>\n",
              "      <th>Specialist Task</th>\n",
              "      <th>% of time spent on task</th>\n",
              "      <th>Emerging/\\nTrending Flag</th>\n",
              "      <th>Specialist Cluster_x</th>\n",
              "      <th>% of time spent on cluster</th>\n",
              "      <th>Cluster Family_x</th>\n",
              "      <th>% of time spent on family</th>\n",
              "      <th>Skills Statement</th>\n",
              "      <th>ANZSCO Description</th>\n",
              "    </tr>\n",
              "  </thead>\n",
              "  <tbody>\n",
              "    <tr>\n",
              "      <th>0</th>\n",
              "      <td>ANZSCO 4</td>\n",
              "      <td>1111</td>\n",
              "      <td>NaN</td>\n",
              "      <td>Chief Executives and Managing Directors</td>\n",
              "      <td>Direct or manage financial activities or opera...</td>\n",
              "      <td>0.1302</td>\n",
              "      <td>NaN</td>\n",
              "      <td>Manage, monitor and undertake financial activi...</td>\n",
              "      <td>0.1644</td>\n",
              "      <td>Business operations and financial activities</td>\n",
              "      <td>0.5322</td>\n",
              "      <td>Direct and oversee the financial operations of...</td>\n",
              "      <td>Chief Executives and Managing Directors determ...</td>\n",
              "    </tr>\n",
              "    <tr>\n",
              "      <th>1</th>\n",
              "      <td>ANZSCO 4</td>\n",
              "      <td>1111</td>\n",
              "      <td>NaN</td>\n",
              "      <td>Chief Executives and Managing Directors</td>\n",
              "      <td>Direct department or organisational activities</td>\n",
              "      <td>0.1117</td>\n",
              "      <td>Trending</td>\n",
              "      <td>Manage services, staff or activities</td>\n",
              "      <td>0.2128</td>\n",
              "      <td>Business operations and financial activities</td>\n",
              "      <td>0.5322</td>\n",
              "      <td>Direct and oversee the activities of a work un...</td>\n",
              "      <td>Chief Executives and Managing Directors determ...</td>\n",
              "    </tr>\n",
              "    <tr>\n",
              "      <th>2</th>\n",
              "      <td>ANZSCO 4</td>\n",
              "      <td>1111</td>\n",
              "      <td>NaN</td>\n",
              "      <td>Chief Executives and Managing Directors</td>\n",
              "      <td>Direct sales, marketing or customer service ac...</td>\n",
              "      <td>0.0808</td>\n",
              "      <td>NaN</td>\n",
              "      <td>Manage services, staff or activities</td>\n",
              "      <td>0.2128</td>\n",
              "      <td>Business operations and financial activities</td>\n",
              "      <td>0.5322</td>\n",
              "      <td>Direct and oversee the sales, marketing, or cu...</td>\n",
              "      <td>Chief Executives and Managing Directors determ...</td>\n",
              "    </tr>\n",
              "    <tr>\n",
              "      <th>3</th>\n",
              "      <td>ANZSCO 4</td>\n",
              "      <td>1111</td>\n",
              "      <td>NaN</td>\n",
              "      <td>Chief Executives and Managing Directors</td>\n",
              "      <td>Communicate with others to arrange, coordinate...</td>\n",
              "      <td>0.0665</td>\n",
              "      <td>NaN</td>\n",
              "      <td>Communicate or collaborate with others</td>\n",
              "      <td>0.0750</td>\n",
              "      <td>Communication and collaboration</td>\n",
              "      <td>0.0890</td>\n",
              "      <td>Coordinate with others in order to plan, organ...</td>\n",
              "      <td>Chief Executives and Managing Directors determ...</td>\n",
              "    </tr>\n",
              "    <tr>\n",
              "      <th>4</th>\n",
              "      <td>ANZSCO 4</td>\n",
              "      <td>1111</td>\n",
              "      <td>NaN</td>\n",
              "      <td>Chief Executives and Managing Directors</td>\n",
              "      <td>Analyse data to assess operational or project ...</td>\n",
              "      <td>0.0651</td>\n",
              "      <td>NaN</td>\n",
              "      <td>Use data to inform operational decisions</td>\n",
              "      <td>0.1009</td>\n",
              "      <td>Data, analytics, and databases</td>\n",
              "      <td>0.1370</td>\n",
              "      <td>Analyse qualitative and quantitative data aris...</td>\n",
              "      <td>Chief Executives and Managing Directors determ...</td>\n",
              "    </tr>\n",
              "  </tbody>\n",
              "</table>\n",
              "</div>\n",
              "    <div class=\"colab-df-buttons\">\n",
              "\n",
              "  <div class=\"colab-df-container\">\n",
              "    <button class=\"colab-df-convert\" onclick=\"convertToInteractive('df-cf26531b-9579-42c4-8efc-378508f6d531')\"\n",
              "            title=\"Convert this dataframe to an interactive table.\"\n",
              "            style=\"display:none;\">\n",
              "\n",
              "  <svg xmlns=\"http://www.w3.org/2000/svg\" height=\"24px\" viewBox=\"0 -960 960 960\">\n",
              "    <path d=\"M120-120v-720h720v720H120Zm60-500h600v-160H180v160Zm220 220h160v-160H400v160Zm0 220h160v-160H400v160ZM180-400h160v-160H180v160Zm440 0h160v-160H620v160ZM180-180h160v-160H180v160Zm440 0h160v-160H620v160Z\"/>\n",
              "  </svg>\n",
              "    </button>\n",
              "\n",
              "  <style>\n",
              "    .colab-df-container {\n",
              "      display:flex;\n",
              "      gap: 12px;\n",
              "    }\n",
              "\n",
              "    .colab-df-convert {\n",
              "      background-color: #E8F0FE;\n",
              "      border: none;\n",
              "      border-radius: 50%;\n",
              "      cursor: pointer;\n",
              "      display: none;\n",
              "      fill: #1967D2;\n",
              "      height: 32px;\n",
              "      padding: 0 0 0 0;\n",
              "      width: 32px;\n",
              "    }\n",
              "\n",
              "    .colab-df-convert:hover {\n",
              "      background-color: #E2EBFA;\n",
              "      box-shadow: 0px 1px 2px rgba(60, 64, 67, 0.3), 0px 1px 3px 1px rgba(60, 64, 67, 0.15);\n",
              "      fill: #174EA6;\n",
              "    }\n",
              "\n",
              "    .colab-df-buttons div {\n",
              "      margin-bottom: 4px;\n",
              "    }\n",
              "\n",
              "    [theme=dark] .colab-df-convert {\n",
              "      background-color: #3B4455;\n",
              "      fill: #D2E3FC;\n",
              "    }\n",
              "\n",
              "    [theme=dark] .colab-df-convert:hover {\n",
              "      background-color: #434B5C;\n",
              "      box-shadow: 0px 1px 3px 1px rgba(0, 0, 0, 0.15);\n",
              "      filter: drop-shadow(0px 1px 2px rgba(0, 0, 0, 0.3));\n",
              "      fill: #FFFFFF;\n",
              "    }\n",
              "  </style>\n",
              "\n",
              "    <script>\n",
              "      const buttonEl =\n",
              "        document.querySelector('#df-cf26531b-9579-42c4-8efc-378508f6d531 button.colab-df-convert');\n",
              "      buttonEl.style.display =\n",
              "        google.colab.kernel.accessAllowed ? 'block' : 'none';\n",
              "\n",
              "      async function convertToInteractive(key) {\n",
              "        const element = document.querySelector('#df-cf26531b-9579-42c4-8efc-378508f6d531');\n",
              "        const dataTable =\n",
              "          await google.colab.kernel.invokeFunction('convertToInteractive',\n",
              "                                                    [key], {});\n",
              "        if (!dataTable) return;\n",
              "\n",
              "        const docLinkHtml = 'Like what you see? Visit the ' +\n",
              "          '<a target=\"_blank\" href=https://colab.research.google.com/notebooks/data_table.ipynb>data table notebook</a>'\n",
              "          + ' to learn more about interactive tables.';\n",
              "        element.innerHTML = '';\n",
              "        dataTable['output_type'] = 'display_data';\n",
              "        await google.colab.output.renderOutput(dataTable, element);\n",
              "        const docLink = document.createElement('div');\n",
              "        docLink.innerHTML = docLinkHtml;\n",
              "        element.appendChild(docLink);\n",
              "      }\n",
              "    </script>\n",
              "  </div>\n",
              "\n",
              "\n",
              "<div id=\"df-4793d343-7686-4ad1-a640-efeddb8b6014\">\n",
              "  <button class=\"colab-df-quickchart\" onclick=\"quickchart('df-4793d343-7686-4ad1-a640-efeddb8b6014')\"\n",
              "            title=\"Suggest charts\"\n",
              "            style=\"display:none;\">\n",
              "\n",
              "<svg xmlns=\"http://www.w3.org/2000/svg\" height=\"24px\"viewBox=\"0 0 24 24\"\n",
              "     width=\"24px\">\n",
              "    <g>\n",
              "        <path d=\"M19 3H5c-1.1 0-2 .9-2 2v14c0 1.1.9 2 2 2h14c1.1 0 2-.9 2-2V5c0-1.1-.9-2-2-2zM9 17H7v-7h2v7zm4 0h-2V7h2v10zm4 0h-2v-4h2v4z\"/>\n",
              "    </g>\n",
              "</svg>\n",
              "  </button>\n",
              "\n",
              "<style>\n",
              "  .colab-df-quickchart {\n",
              "      --bg-color: #E8F0FE;\n",
              "      --fill-color: #1967D2;\n",
              "      --hover-bg-color: #E2EBFA;\n",
              "      --hover-fill-color: #174EA6;\n",
              "      --disabled-fill-color: #AAA;\n",
              "      --disabled-bg-color: #DDD;\n",
              "  }\n",
              "\n",
              "  [theme=dark] .colab-df-quickchart {\n",
              "      --bg-color: #3B4455;\n",
              "      --fill-color: #D2E3FC;\n",
              "      --hover-bg-color: #434B5C;\n",
              "      --hover-fill-color: #FFFFFF;\n",
              "      --disabled-bg-color: #3B4455;\n",
              "      --disabled-fill-color: #666;\n",
              "  }\n",
              "\n",
              "  .colab-df-quickchart {\n",
              "    background-color: var(--bg-color);\n",
              "    border: none;\n",
              "    border-radius: 50%;\n",
              "    cursor: pointer;\n",
              "    display: none;\n",
              "    fill: var(--fill-color);\n",
              "    height: 32px;\n",
              "    padding: 0;\n",
              "    width: 32px;\n",
              "  }\n",
              "\n",
              "  .colab-df-quickchart:hover {\n",
              "    background-color: var(--hover-bg-color);\n",
              "    box-shadow: 0 1px 2px rgba(60, 64, 67, 0.3), 0 1px 3px 1px rgba(60, 64, 67, 0.15);\n",
              "    fill: var(--button-hover-fill-color);\n",
              "  }\n",
              "\n",
              "  .colab-df-quickchart-complete:disabled,\n",
              "  .colab-df-quickchart-complete:disabled:hover {\n",
              "    background-color: var(--disabled-bg-color);\n",
              "    fill: var(--disabled-fill-color);\n",
              "    box-shadow: none;\n",
              "  }\n",
              "\n",
              "  .colab-df-spinner {\n",
              "    border: 2px solid var(--fill-color);\n",
              "    border-color: transparent;\n",
              "    border-bottom-color: var(--fill-color);\n",
              "    animation:\n",
              "      spin 1s steps(1) infinite;\n",
              "  }\n",
              "\n",
              "  @keyframes spin {\n",
              "    0% {\n",
              "      border-color: transparent;\n",
              "      border-bottom-color: var(--fill-color);\n",
              "      border-left-color: var(--fill-color);\n",
              "    }\n",
              "    20% {\n",
              "      border-color: transparent;\n",
              "      border-left-color: var(--fill-color);\n",
              "      border-top-color: var(--fill-color);\n",
              "    }\n",
              "    30% {\n",
              "      border-color: transparent;\n",
              "      border-left-color: var(--fill-color);\n",
              "      border-top-color: var(--fill-color);\n",
              "      border-right-color: var(--fill-color);\n",
              "    }\n",
              "    40% {\n",
              "      border-color: transparent;\n",
              "      border-right-color: var(--fill-color);\n",
              "      border-top-color: var(--fill-color);\n",
              "    }\n",
              "    60% {\n",
              "      border-color: transparent;\n",
              "      border-right-color: var(--fill-color);\n",
              "    }\n",
              "    80% {\n",
              "      border-color: transparent;\n",
              "      border-right-color: var(--fill-color);\n",
              "      border-bottom-color: var(--fill-color);\n",
              "    }\n",
              "    90% {\n",
              "      border-color: transparent;\n",
              "      border-bottom-color: var(--fill-color);\n",
              "    }\n",
              "  }\n",
              "</style>\n",
              "\n",
              "  <script>\n",
              "    async function quickchart(key) {\n",
              "      const quickchartButtonEl =\n",
              "        document.querySelector('#' + key + ' button');\n",
              "      quickchartButtonEl.disabled = true;  // To prevent multiple clicks.\n",
              "      quickchartButtonEl.classList.add('colab-df-spinner');\n",
              "      try {\n",
              "        const charts = await google.colab.kernel.invokeFunction(\n",
              "            'suggestCharts', [key], {});\n",
              "      } catch (error) {\n",
              "        console.error('Error during call to suggestCharts:', error);\n",
              "      }\n",
              "      quickchartButtonEl.classList.remove('colab-df-spinner');\n",
              "      quickchartButtonEl.classList.add('colab-df-quickchart-complete');\n",
              "    }\n",
              "    (() => {\n",
              "      let quickchartButtonEl =\n",
              "        document.querySelector('#df-4793d343-7686-4ad1-a640-efeddb8b6014 button');\n",
              "      quickchartButtonEl.style.display =\n",
              "        google.colab.kernel.accessAllowed ? 'block' : 'none';\n",
              "    })();\n",
              "  </script>\n",
              "</div>\n",
              "\n",
              "    </div>\n",
              "  </div>\n"
            ],
            "application/vnd.google.colaboratory.intrinsic+json": {
              "type": "dataframe",
              "variable_name": "st_merged_df",
              "summary": "{\n  \"name\": \"st_merged_df\",\n  \"rows\": 67772,\n  \"fields\": [\n    {\n      \"column\": \"Occupation Type_x\",\n      \"properties\": {\n        \"dtype\": \"category\",\n        \"num_unique_values\": 4,\n        \"samples\": [\n          \"ANZSCO 6\",\n          \"NEC Category Occupation\",\n          \"ANZSCO 4\"\n        ],\n        \"semantic_type\": \"\",\n        \"description\": \"\"\n      }\n    },\n    {\n      \"column\": \"ANZSCO Code\",\n      \"properties\": {\n        \"dtype\": \"number\",\n        \"std\": 242596,\n        \"min\": 1111,\n        \"max\": 899999,\n        \"num_unique_values\": 1177,\n        \"samples\": [\n          2621,\n          342411,\n          2511\n        ],\n        \"semantic_type\": \"\",\n        \"description\": \"\"\n      }\n    },\n    {\n      \"column\": \"Sub-Profile Code_x\",\n      \"properties\": {\n        \"dtype\": \"category\",\n        \"num_unique_values\": 23,\n        \"samples\": [\n          \"N08\",\n          \"S04\",\n          \"S01\"\n        ],\n        \"semantic_type\": \"\",\n        \"description\": \"\"\n      }\n    },\n    {\n      \"column\": \"ANZSCO Title_x\",\n      \"properties\": {\n        \"dtype\": \"category\",\n        \"num_unique_values\": 1575,\n        \"samples\": [\n          \"Survey Interviewer\",\n          \"Multimedia Specialist\",\n          \"Herbalist (Western)\"\n        ],\n        \"semantic_type\": \"\",\n        \"description\": \"\"\n      }\n    },\n    {\n      \"column\": \"Specialist Task\",\n      \"properties\": {\n        \"dtype\": \"category\",\n        \"num_unique_values\": 1686,\n        \"samples\": [\n          \"Supervise trainees\",\n          \"Evaluate construction projects to determine compliance with technical specifications and standards\",\n          \"Develop guidelines for system implementation\"\n        ],\n        \"semantic_type\": \"\",\n        \"description\": \"\"\n      }\n    },\n    {\n      \"column\": \"% of time spent on task\",\n      \"properties\": {\n        \"dtype\": \"number\",\n        \"std\": 0.038067575545325326,\n        \"min\": 0.00010692899914456799,\n        \"max\": 0.7750999999999998,\n        \"num_unique_values\": 18362,\n        \"samples\": [\n          0.04401320396118835,\n          0.010201020102010202,\n          0.08427339084273391\n        ],\n        \"semantic_type\": \"\",\n        \"description\": \"\"\n      }\n    },\n    {\n      \"column\": \"Emerging/\\nTrending Flag\",\n      \"properties\": {\n        \"dtype\": \"category\",\n        \"num_unique_values\": 2,\n        \"samples\": [\n          \"Emerging\",\n          \"Trending\"\n        ],\n        \"semantic_type\": \"\",\n        \"description\": \"\"\n      }\n    },\n    {\n      \"column\": \"Specialist Cluster_x\",\n      \"properties\": {\n        \"dtype\": \"category\",\n        \"num_unique_values\": 272,\n        \"samples\": [\n          \"Produce and sell agricultural products\",\n          \"Research or write in area of expertise\"\n        ],\n        \"semantic_type\": \"\",\n        \"description\": \"\"\n      }\n    },\n    {\n      \"column\": \" % of time spent on cluster\",\n      \"properties\": {\n        \"dtype\": \"number\",\n        \"std\": 0.10113812827890829,\n        \"min\": 0.00010692899914456802,\n        \"max\": 0.9342065793420659,\n        \"num_unique_values\": 13669,\n        \"samples\": [\n          0.08620862086208622,\n          0.2826357231661832\n        ],\n        \"semantic_type\": \"\",\n        \"description\": \"\"\n      }\n    },\n    {\n      \"column\": \"Cluster Family_x\",\n      \"properties\": {\n        \"dtype\": \"category\",\n        \"num_unique_values\": 31,\n        \"samples\": [\n          \"Vehicle operation\",\n          \"Science and mathematics\"\n        ],\n        \"semantic_type\": \"\",\n        \"description\": \"\"\n      }\n    },\n    {\n      \"column\": \"% of time spent on family\",\n      \"properties\": {\n        \"dtype\": \"number\",\n        \"std\": 0.26096076582267025,\n        \"min\": 0.00040004000400040005,\n        \"max\": 1.0,\n        \"num_unique_values\": 7636,\n        \"samples\": [\n          0.09541908381676337,\n          0.013299999999999996\n        ],\n        \"semantic_type\": \"\",\n        \"description\": \"\"\n      }\n    },\n    {\n      \"column\": \"Skills Statement\",\n      \"properties\": {\n        \"dtype\": \"category\",\n        \"num_unique_values\": 1687,\n        \"samples\": [\n          \"Provide close instruction, guidance, or direction to trainees and other junior staff to complete work activities, and oversee activities to ensure or review performance, effectiveness, or safety. Assist staff to develop skills or correct skill deficiencies.\",\n          \"Inspect construction sites, plans, work, progress, or equipment in order to verify if projects comply with technical specifications, standards and safety codes. Review findings against research or technical knowledge to determine if project adheres to relevant parameters. Identify any compliance issues or deviations and provide recommendations to rectify actions.\"\n        ],\n        \"semantic_type\": \"\",\n        \"description\": \"\"\n      }\n    },\n    {\n      \"column\": \"ANZSCO Description\",\n      \"properties\": {\n        \"dtype\": \"category\",\n        \"num_unique_values\": 1649,\n        \"samples\": [\n          \"Plans, organises and conducts activities to help pre-primary school students to develop a wide variety of skills including speech, reading, writing, motor skills and social interaction. Registration or licensing is required.\",\n          \"Evaluate animal welfare for the purpose of investigations of mistreatment, or control and care of abandoned, dangerous, or unattended animals.\"\n        ],\n        \"semantic_type\": \"\",\n        \"description\": \"\"\n      }\n    }\n  ]\n}"
            }
          },
          "metadata": {},
          "execution_count": 452
        }
      ],
      "source": [
        "st_merged_df.head()"
      ]
    },
    {
      "cell_type": "markdown",
      "metadata": {
        "id": "pUFQddLbTkoV"
      },
      "source": [
        "### Core Competencies Merged Analysis"
      ]
    },
    {
      "cell_type": "code",
      "execution_count": 453,
      "metadata": {
        "id": "WSsWn_E2TkoW",
        "outputId": "fde7e9ee-4457-4f8f-d7c2-d9f626dfaf76",
        "colab": {
          "base_uri": "https://localhost:8080/"
        }
      },
      "outputs": [
        {
          "output_type": "stream",
          "name": "stdout",
          "text": [
            "<class 'pandas.core.frame.DataFrame'>\n",
            "RangeIndex: 11030 entries, 0 to 11029\n",
            "Data columns (total 14 columns):\n",
            " #   Column                       Non-Null Count  Dtype  \n",
            "---  ------                       --------------  -----  \n",
            " 0   Occupation Type_x            11030 non-null  object \n",
            " 1   ANZSCO Code                  11030 non-null  int64  \n",
            " 2   Sub-Profile Code_x           0 non-null      float64\n",
            " 3   ANZSCO Title                 11030 non-null  object \n",
            " 4   Core Competency              11030 non-null  object \n",
            " 5   Score                        11030 non-null  int64  \n",
            " 6   Proficiency Level            11030 non-null  object \n",
            " 7   Anchor Value                 11030 non-null  object \n",
            " 8   Occupation Type_y            11030 non-null  object \n",
            " 9   Sub-Profile Code_y           0 non-null      object \n",
            " 10  ANZSCO Description           11030 non-null  object \n",
            " 11  Core Competency Description  11030 non-null  object \n",
            " 12  Proficiency Level_desc       11030 non-null  object \n",
            " 13  Anchor Value_desc            11030 non-null  object \n",
            "dtypes: float64(1), int64(2), object(11)\n",
            "memory usage: 1.2+ MB\n"
          ]
        }
      ],
      "source": [
        "cc_merged_df.info()"
      ]
    },
    {
      "cell_type": "code",
      "execution_count": 454,
      "metadata": {
        "id": "GM9qqWZcTkoW",
        "outputId": "96e90c9b-6dc2-45ef-9ff7-e026749f85c4",
        "colab": {
          "base_uri": "https://localhost:8080/"
        }
      },
      "outputs": [
        {
          "output_type": "execute_result",
          "data": {
            "text/plain": [
              "Index(['Occupation Type_x', 'ANZSCO Code', 'Sub-Profile Code_x',\n",
              "       'ANZSCO Title', 'Core Competency', 'Score', 'Proficiency Level',\n",
              "       'Anchor Value', 'ANZSCO Description', 'Core Competency Description',\n",
              "       'Proficiency Level_desc', 'Anchor Value_desc'],\n",
              "      dtype='object')"
            ]
          },
          "metadata": {},
          "execution_count": 454
        }
      ],
      "source": [
        "cc_merged_df.drop(columns=[ \"Sub-Profile Code_y\" , \"Occupation Type_y\"], inplace=True)\n",
        "cc_merged_df.columns"
      ]
    },
    {
      "cell_type": "code",
      "execution_count": 455,
      "metadata": {
        "id": "0iyXsooaTkoX",
        "outputId": "b7b949a4-bd52-4a5f-8d2f-50f1670294fb",
        "colab": {
          "base_uri": "https://localhost:8080/",
          "height": 643
        }
      },
      "outputs": [
        {
          "output_type": "execute_result",
          "data": {
            "text/plain": [
              "  Occupation Type_x  ANZSCO Code  Sub-Profile Code_x  \\\n",
              "0          ANZSCO 6       422111                 NaN   \n",
              "1          ANZSCO 6       422111                 NaN   \n",
              "2          ANZSCO 6       422111                 NaN   \n",
              "3          ANZSCO 6       422111                 NaN   \n",
              "4          ANZSCO 6       422111                 NaN   \n",
              "\n",
              "                                        ANZSCO Title  \\\n",
              "0  Aboriginal and Torres Strait Islander Educatio...   \n",
              "1  Aboriginal and Torres Strait Islander Educatio...   \n",
              "2  Aboriginal and Torres Strait Islander Educatio...   \n",
              "3  Aboriginal and Torres Strait Islander Educatio...   \n",
              "4  Aboriginal and Torres Strait Islander Educatio...   \n",
              "\n",
              "             Core Competency  Score Proficiency Level  \\\n",
              "0         Digital engagement      5      Intermediate   \n",
              "1  Initiative and innovation      8              High   \n",
              "2                   Learning      5      Intermediate   \n",
              "3                   Numeracy      4      Intermediate   \n",
              "4         Oral communication      7      Intermediate   \n",
              "\n",
              "                                        Anchor Value  \\\n",
              "0  Build and maintain an effective online profile...   \n",
              "1  Negotiate a price and sales terms then prepare...   \n",
              "2  Learn a new filing system that groups document...   \n",
              "3  Use a blood pressure machine and accurately re...   \n",
              "4  Participate in a work meeting and ask appropri...   \n",
              "\n",
              "                                  ANZSCO Description  \\\n",
              "0  Assists Aboriginal and Torres Strait Islander ...   \n",
              "1  Assists Aboriginal and Torres Strait Islander ...   \n",
              "2  Assists Aboriginal and Torres Strait Islander ...   \n",
              "3  Assists Aboriginal and Torres Strait Islander ...   \n",
              "4  Assists Aboriginal and Torres Strait Islander ...   \n",
              "\n",
              "                         Core Competency Description Proficiency Level_desc  \\\n",
              "0  Identifying and using technology (including ha...           Intermediate   \n",
              "1  Taking on responsibilities and challenges, bei...                   High   \n",
              "2  Understanding the implications of new informat...           Intermediate   \n",
              "3  Using mathematics to solve problems and interp...           Intermediate   \n",
              "4  The ability to communicate information and ide...           Intermediate   \n",
              "\n",
              "                                   Anchor Value_desc  \n",
              "0  Build and maintain an effective online profile...  \n",
              "1  Negotiate a price and sales terms then prepare...  \n",
              "2  Learn a new filing system that groups document...  \n",
              "3  Use a blood pressure machine and accurately re...  \n",
              "4  Participate in a work meeting and ask appropri...  "
            ],
            "text/html": [
              "\n",
              "  <div id=\"df-90dfb4d1-2775-4451-af82-cba5a2218d87\" class=\"colab-df-container\">\n",
              "    <div>\n",
              "<style scoped>\n",
              "    .dataframe tbody tr th:only-of-type {\n",
              "        vertical-align: middle;\n",
              "    }\n",
              "\n",
              "    .dataframe tbody tr th {\n",
              "        vertical-align: top;\n",
              "    }\n",
              "\n",
              "    .dataframe thead th {\n",
              "        text-align: right;\n",
              "    }\n",
              "</style>\n",
              "<table border=\"1\" class=\"dataframe\">\n",
              "  <thead>\n",
              "    <tr style=\"text-align: right;\">\n",
              "      <th></th>\n",
              "      <th>Occupation Type_x</th>\n",
              "      <th>ANZSCO Code</th>\n",
              "      <th>Sub-Profile Code_x</th>\n",
              "      <th>ANZSCO Title</th>\n",
              "      <th>Core Competency</th>\n",
              "      <th>Score</th>\n",
              "      <th>Proficiency Level</th>\n",
              "      <th>Anchor Value</th>\n",
              "      <th>ANZSCO Description</th>\n",
              "      <th>Core Competency Description</th>\n",
              "      <th>Proficiency Level_desc</th>\n",
              "      <th>Anchor Value_desc</th>\n",
              "    </tr>\n",
              "  </thead>\n",
              "  <tbody>\n",
              "    <tr>\n",
              "      <th>0</th>\n",
              "      <td>ANZSCO 6</td>\n",
              "      <td>422111</td>\n",
              "      <td>NaN</td>\n",
              "      <td>Aboriginal and Torres Strait Islander Educatio...</td>\n",
              "      <td>Digital engagement</td>\n",
              "      <td>5</td>\n",
              "      <td>Intermediate</td>\n",
              "      <td>Build and maintain an effective online profile...</td>\n",
              "      <td>Assists Aboriginal and Torres Strait Islander ...</td>\n",
              "      <td>Identifying and using technology (including ha...</td>\n",
              "      <td>Intermediate</td>\n",
              "      <td>Build and maintain an effective online profile...</td>\n",
              "    </tr>\n",
              "    <tr>\n",
              "      <th>1</th>\n",
              "      <td>ANZSCO 6</td>\n",
              "      <td>422111</td>\n",
              "      <td>NaN</td>\n",
              "      <td>Aboriginal and Torres Strait Islander Educatio...</td>\n",
              "      <td>Initiative and innovation</td>\n",
              "      <td>8</td>\n",
              "      <td>High</td>\n",
              "      <td>Negotiate a price and sales terms then prepare...</td>\n",
              "      <td>Assists Aboriginal and Torres Strait Islander ...</td>\n",
              "      <td>Taking on responsibilities and challenges, bei...</td>\n",
              "      <td>High</td>\n",
              "      <td>Negotiate a price and sales terms then prepare...</td>\n",
              "    </tr>\n",
              "    <tr>\n",
              "      <th>2</th>\n",
              "      <td>ANZSCO 6</td>\n",
              "      <td>422111</td>\n",
              "      <td>NaN</td>\n",
              "      <td>Aboriginal and Torres Strait Islander Educatio...</td>\n",
              "      <td>Learning</td>\n",
              "      <td>5</td>\n",
              "      <td>Intermediate</td>\n",
              "      <td>Learn a new filing system that groups document...</td>\n",
              "      <td>Assists Aboriginal and Torres Strait Islander ...</td>\n",
              "      <td>Understanding the implications of new informat...</td>\n",
              "      <td>Intermediate</td>\n",
              "      <td>Learn a new filing system that groups document...</td>\n",
              "    </tr>\n",
              "    <tr>\n",
              "      <th>3</th>\n",
              "      <td>ANZSCO 6</td>\n",
              "      <td>422111</td>\n",
              "      <td>NaN</td>\n",
              "      <td>Aboriginal and Torres Strait Islander Educatio...</td>\n",
              "      <td>Numeracy</td>\n",
              "      <td>4</td>\n",
              "      <td>Intermediate</td>\n",
              "      <td>Use a blood pressure machine and accurately re...</td>\n",
              "      <td>Assists Aboriginal and Torres Strait Islander ...</td>\n",
              "      <td>Using mathematics to solve problems and interp...</td>\n",
              "      <td>Intermediate</td>\n",
              "      <td>Use a blood pressure machine and accurately re...</td>\n",
              "    </tr>\n",
              "    <tr>\n",
              "      <th>4</th>\n",
              "      <td>ANZSCO 6</td>\n",
              "      <td>422111</td>\n",
              "      <td>NaN</td>\n",
              "      <td>Aboriginal and Torres Strait Islander Educatio...</td>\n",
              "      <td>Oral communication</td>\n",
              "      <td>7</td>\n",
              "      <td>Intermediate</td>\n",
              "      <td>Participate in a work meeting and ask appropri...</td>\n",
              "      <td>Assists Aboriginal and Torres Strait Islander ...</td>\n",
              "      <td>The ability to communicate information and ide...</td>\n",
              "      <td>Intermediate</td>\n",
              "      <td>Participate in a work meeting and ask appropri...</td>\n",
              "    </tr>\n",
              "  </tbody>\n",
              "</table>\n",
              "</div>\n",
              "    <div class=\"colab-df-buttons\">\n",
              "\n",
              "  <div class=\"colab-df-container\">\n",
              "    <button class=\"colab-df-convert\" onclick=\"convertToInteractive('df-90dfb4d1-2775-4451-af82-cba5a2218d87')\"\n",
              "            title=\"Convert this dataframe to an interactive table.\"\n",
              "            style=\"display:none;\">\n",
              "\n",
              "  <svg xmlns=\"http://www.w3.org/2000/svg\" height=\"24px\" viewBox=\"0 -960 960 960\">\n",
              "    <path d=\"M120-120v-720h720v720H120Zm60-500h600v-160H180v160Zm220 220h160v-160H400v160Zm0 220h160v-160H400v160ZM180-400h160v-160H180v160Zm440 0h160v-160H620v160ZM180-180h160v-160H180v160Zm440 0h160v-160H620v160Z\"/>\n",
              "  </svg>\n",
              "    </button>\n",
              "\n",
              "  <style>\n",
              "    .colab-df-container {\n",
              "      display:flex;\n",
              "      gap: 12px;\n",
              "    }\n",
              "\n",
              "    .colab-df-convert {\n",
              "      background-color: #E8F0FE;\n",
              "      border: none;\n",
              "      border-radius: 50%;\n",
              "      cursor: pointer;\n",
              "      display: none;\n",
              "      fill: #1967D2;\n",
              "      height: 32px;\n",
              "      padding: 0 0 0 0;\n",
              "      width: 32px;\n",
              "    }\n",
              "\n",
              "    .colab-df-convert:hover {\n",
              "      background-color: #E2EBFA;\n",
              "      box-shadow: 0px 1px 2px rgba(60, 64, 67, 0.3), 0px 1px 3px 1px rgba(60, 64, 67, 0.15);\n",
              "      fill: #174EA6;\n",
              "    }\n",
              "\n",
              "    .colab-df-buttons div {\n",
              "      margin-bottom: 4px;\n",
              "    }\n",
              "\n",
              "    [theme=dark] .colab-df-convert {\n",
              "      background-color: #3B4455;\n",
              "      fill: #D2E3FC;\n",
              "    }\n",
              "\n",
              "    [theme=dark] .colab-df-convert:hover {\n",
              "      background-color: #434B5C;\n",
              "      box-shadow: 0px 1px 3px 1px rgba(0, 0, 0, 0.15);\n",
              "      filter: drop-shadow(0px 1px 2px rgba(0, 0, 0, 0.3));\n",
              "      fill: #FFFFFF;\n",
              "    }\n",
              "  </style>\n",
              "\n",
              "    <script>\n",
              "      const buttonEl =\n",
              "        document.querySelector('#df-90dfb4d1-2775-4451-af82-cba5a2218d87 button.colab-df-convert');\n",
              "      buttonEl.style.display =\n",
              "        google.colab.kernel.accessAllowed ? 'block' : 'none';\n",
              "\n",
              "      async function convertToInteractive(key) {\n",
              "        const element = document.querySelector('#df-90dfb4d1-2775-4451-af82-cba5a2218d87');\n",
              "        const dataTable =\n",
              "          await google.colab.kernel.invokeFunction('convertToInteractive',\n",
              "                                                    [key], {});\n",
              "        if (!dataTable) return;\n",
              "\n",
              "        const docLinkHtml = 'Like what you see? Visit the ' +\n",
              "          '<a target=\"_blank\" href=https://colab.research.google.com/notebooks/data_table.ipynb>data table notebook</a>'\n",
              "          + ' to learn more about interactive tables.';\n",
              "        element.innerHTML = '';\n",
              "        dataTable['output_type'] = 'display_data';\n",
              "        await google.colab.output.renderOutput(dataTable, element);\n",
              "        const docLink = document.createElement('div');\n",
              "        docLink.innerHTML = docLinkHtml;\n",
              "        element.appendChild(docLink);\n",
              "      }\n",
              "    </script>\n",
              "  </div>\n",
              "\n",
              "\n",
              "<div id=\"df-86a5f7a5-b4c5-4270-a148-f4e07f093978\">\n",
              "  <button class=\"colab-df-quickchart\" onclick=\"quickchart('df-86a5f7a5-b4c5-4270-a148-f4e07f093978')\"\n",
              "            title=\"Suggest charts\"\n",
              "            style=\"display:none;\">\n",
              "\n",
              "<svg xmlns=\"http://www.w3.org/2000/svg\" height=\"24px\"viewBox=\"0 0 24 24\"\n",
              "     width=\"24px\">\n",
              "    <g>\n",
              "        <path d=\"M19 3H5c-1.1 0-2 .9-2 2v14c0 1.1.9 2 2 2h14c1.1 0 2-.9 2-2V5c0-1.1-.9-2-2-2zM9 17H7v-7h2v7zm4 0h-2V7h2v10zm4 0h-2v-4h2v4z\"/>\n",
              "    </g>\n",
              "</svg>\n",
              "  </button>\n",
              "\n",
              "<style>\n",
              "  .colab-df-quickchart {\n",
              "      --bg-color: #E8F0FE;\n",
              "      --fill-color: #1967D2;\n",
              "      --hover-bg-color: #E2EBFA;\n",
              "      --hover-fill-color: #174EA6;\n",
              "      --disabled-fill-color: #AAA;\n",
              "      --disabled-bg-color: #DDD;\n",
              "  }\n",
              "\n",
              "  [theme=dark] .colab-df-quickchart {\n",
              "      --bg-color: #3B4455;\n",
              "      --fill-color: #D2E3FC;\n",
              "      --hover-bg-color: #434B5C;\n",
              "      --hover-fill-color: #FFFFFF;\n",
              "      --disabled-bg-color: #3B4455;\n",
              "      --disabled-fill-color: #666;\n",
              "  }\n",
              "\n",
              "  .colab-df-quickchart {\n",
              "    background-color: var(--bg-color);\n",
              "    border: none;\n",
              "    border-radius: 50%;\n",
              "    cursor: pointer;\n",
              "    display: none;\n",
              "    fill: var(--fill-color);\n",
              "    height: 32px;\n",
              "    padding: 0;\n",
              "    width: 32px;\n",
              "  }\n",
              "\n",
              "  .colab-df-quickchart:hover {\n",
              "    background-color: var(--hover-bg-color);\n",
              "    box-shadow: 0 1px 2px rgba(60, 64, 67, 0.3), 0 1px 3px 1px rgba(60, 64, 67, 0.15);\n",
              "    fill: var(--button-hover-fill-color);\n",
              "  }\n",
              "\n",
              "  .colab-df-quickchart-complete:disabled,\n",
              "  .colab-df-quickchart-complete:disabled:hover {\n",
              "    background-color: var(--disabled-bg-color);\n",
              "    fill: var(--disabled-fill-color);\n",
              "    box-shadow: none;\n",
              "  }\n",
              "\n",
              "  .colab-df-spinner {\n",
              "    border: 2px solid var(--fill-color);\n",
              "    border-color: transparent;\n",
              "    border-bottom-color: var(--fill-color);\n",
              "    animation:\n",
              "      spin 1s steps(1) infinite;\n",
              "  }\n",
              "\n",
              "  @keyframes spin {\n",
              "    0% {\n",
              "      border-color: transparent;\n",
              "      border-bottom-color: var(--fill-color);\n",
              "      border-left-color: var(--fill-color);\n",
              "    }\n",
              "    20% {\n",
              "      border-color: transparent;\n",
              "      border-left-color: var(--fill-color);\n",
              "      border-top-color: var(--fill-color);\n",
              "    }\n",
              "    30% {\n",
              "      border-color: transparent;\n",
              "      border-left-color: var(--fill-color);\n",
              "      border-top-color: var(--fill-color);\n",
              "      border-right-color: var(--fill-color);\n",
              "    }\n",
              "    40% {\n",
              "      border-color: transparent;\n",
              "      border-right-color: var(--fill-color);\n",
              "      border-top-color: var(--fill-color);\n",
              "    }\n",
              "    60% {\n",
              "      border-color: transparent;\n",
              "      border-right-color: var(--fill-color);\n",
              "    }\n",
              "    80% {\n",
              "      border-color: transparent;\n",
              "      border-right-color: var(--fill-color);\n",
              "      border-bottom-color: var(--fill-color);\n",
              "    }\n",
              "    90% {\n",
              "      border-color: transparent;\n",
              "      border-bottom-color: var(--fill-color);\n",
              "    }\n",
              "  }\n",
              "</style>\n",
              "\n",
              "  <script>\n",
              "    async function quickchart(key) {\n",
              "      const quickchartButtonEl =\n",
              "        document.querySelector('#' + key + ' button');\n",
              "      quickchartButtonEl.disabled = true;  // To prevent multiple clicks.\n",
              "      quickchartButtonEl.classList.add('colab-df-spinner');\n",
              "      try {\n",
              "        const charts = await google.colab.kernel.invokeFunction(\n",
              "            'suggestCharts', [key], {});\n",
              "      } catch (error) {\n",
              "        console.error('Error during call to suggestCharts:', error);\n",
              "      }\n",
              "      quickchartButtonEl.classList.remove('colab-df-spinner');\n",
              "      quickchartButtonEl.classList.add('colab-df-quickchart-complete');\n",
              "    }\n",
              "    (() => {\n",
              "      let quickchartButtonEl =\n",
              "        document.querySelector('#df-86a5f7a5-b4c5-4270-a148-f4e07f093978 button');\n",
              "      quickchartButtonEl.style.display =\n",
              "        google.colab.kernel.accessAllowed ? 'block' : 'none';\n",
              "    })();\n",
              "  </script>\n",
              "</div>\n",
              "\n",
              "    </div>\n",
              "  </div>\n"
            ],
            "application/vnd.google.colaboratory.intrinsic+json": {
              "type": "dataframe",
              "variable_name": "cc_merged_df",
              "summary": "{\n  \"name\": \"cc_merged_df\",\n  \"rows\": 11030,\n  \"fields\": [\n    {\n      \"column\": \"Occupation Type_x\",\n      \"properties\": {\n        \"dtype\": \"category\",\n        \"num_unique_values\": 2,\n        \"samples\": [\n          \"ANZSCO 4\",\n          \"ANZSCO 6\"\n        ],\n        \"semantic_type\": \"\",\n        \"description\": \"\"\n      }\n    },\n    {\n      \"column\": \"ANZSCO Code\",\n      \"properties\": {\n        \"dtype\": \"number\",\n        \"std\": 266621,\n        \"min\": 1111,\n        \"max\": 899923,\n        \"num_unique_values\": 1101,\n        \"samples\": [\n          323311,\n          8116\n        ],\n        \"semantic_type\": \"\",\n        \"description\": \"\"\n      }\n    },\n    {\n      \"column\": \"Sub-Profile Code_x\",\n      \"properties\": {\n        \"dtype\": \"number\",\n        \"std\": null,\n        \"min\": null,\n        \"max\": null,\n        \"num_unique_values\": 0,\n        \"samples\": [],\n        \"semantic_type\": \"\",\n        \"description\": \"\"\n      }\n    },\n    {\n      \"column\": \"ANZSCO Title\",\n      \"properties\": {\n        \"dtype\": \"category\",\n        \"num_unique_values\": 1101,\n        \"samples\": [],\n        \"semantic_type\": \"\",\n        \"description\": \"\"\n      }\n    },\n    {\n      \"column\": \"Core Competency\",\n      \"properties\": {\n        \"dtype\": \"category\",\n        \"num_unique_values\": 10,\n        \"samples\": [],\n        \"semantic_type\": \"\",\n        \"description\": \"\"\n      }\n    },\n    {\n      \"column\": \"Score\",\n      \"properties\": {\n        \"dtype\": \"number\",\n        \"std\": 1,\n        \"min\": 1,\n        \"max\": 10,\n        \"num_unique_values\": 10,\n        \"samples\": [],\n        \"semantic_type\": \"\",\n        \"description\": \"\"\n      }\n    },\n    {\n      \"column\": \"Proficiency Level\",\n      \"properties\": {\n        \"dtype\": \"category\",\n        \"num_unique_values\": 3,\n        \"samples\": [],\n        \"semantic_type\": \"\",\n        \"description\": \"\"\n      }\n    },\n    {\n      \"column\": \"Anchor Value\",\n      \"properties\": {\n        \"dtype\": \"category\",\n        \"num_unique_values\": 78,\n        \"samples\": [],\n        \"semantic_type\": \"\",\n        \"description\": \"\"\n      }\n    },\n    {\n      \"column\": \"ANZSCO Description\",\n      \"properties\": {\n        \"dtype\": \"category\",\n        \"num_unique_values\": 1101,\n        \"samples\": [],\n        \"semantic_type\": \"\",\n        \"description\": \"\"\n      }\n    },\n    {\n      \"column\": \"Core Competency Description\",\n      \"properties\": {\n        \"dtype\": \"category\",\n        \"num_unique_values\": 10,\n        \"samples\": [],\n        \"semantic_type\": \"\",\n        \"description\": \"\"\n      }\n    },\n    {\n      \"column\": \"Proficiency Level_desc\",\n      \"properties\": {\n        \"dtype\": \"category\",\n        \"num_unique_values\": 3,\n        \"samples\": [],\n        \"semantic_type\": \"\",\n        \"description\": \"\"\n      }\n    },\n    {\n      \"column\": \"Anchor Value_desc\",\n      \"properties\": {\n        \"dtype\": \"category\",\n        \"num_unique_values\": 78,\n        \"samples\": [],\n        \"semantic_type\": \"\",\n        \"description\": \"\"\n      }\n    }\n  ]\n}"
            }
          },
          "metadata": {},
          "execution_count": 455
        }
      ],
      "source": [
        "cc_merged_df.head()"
      ]
    },
    {
      "cell_type": "code",
      "execution_count": 456,
      "metadata": {
        "id": "W7PJhhejTkoX",
        "outputId": "355700ca-6e1c-4b3e-9460-f61ffcbf01df",
        "colab": {
          "base_uri": "https://localhost:8080/"
        }
      },
      "outputs": [
        {
          "output_type": "stream",
          "name": "stdout",
          "text": [
            "10\n",
            "['Digital engagement' 'Initiative and innovation' 'Learning' 'Numeracy'\n",
            " 'Oral communication' 'Planning and organising' 'Problem solving'\n",
            " 'Reading' 'Teamwork' 'Writing']\n"
          ]
        }
      ],
      "source": [
        "print(cc_merged_df['Core Competency'].nunique())\n",
        "print(cc_merged_df['Core Competency'].unique())"
      ]
    },
    {
      "cell_type": "code",
      "execution_count": 457,
      "metadata": {
        "id": "PyFXrmvVTkoY",
        "outputId": "d1199093-49bf-4d2e-bb77-d2a7731f124a",
        "colab": {
          "base_uri": "https://localhost:8080/"
        }
      },
      "outputs": [
        {
          "output_type": "stream",
          "name": "stdout",
          "text": [
            "There are 2 types of Occupations listed in Core Competency Data\n",
            "These occupations are: ['ANZSCO 6' 'ANZSCO 4']\n",
            "There are 1101 different occupations listed\n"
          ]
        }
      ],
      "source": [
        "print(\"There are\",cc_merged_df['Occupation Type_x'].nunique(), \"types of Occupations listed in Core Competency Data\")\n",
        "print('These occupations are:', cc_merged_df['Occupation Type_x'].unique())\n",
        "print(\"There are\",cc_merged_df['ANZSCO Code'].nunique(), \"different occupations listed\")"
      ]
    },
    {
      "cell_type": "code",
      "execution_count": 458,
      "metadata": {
        "id": "_0p7On7TTkoY",
        "outputId": "305dbf72-9738-4e7c-99ae-3e67f9a02101",
        "colab": {
          "base_uri": "https://localhost:8080/"
        }
      },
      "outputs": [
        {
          "output_type": "stream",
          "name": "stdout",
          "text": [
            "✅ All ANZSCO Codes have exactly 10 core competencies.\n"
          ]
        }
      ],
      "source": [
        "cc_counts = cc_merged_df.groupby(\"ANZSCO Code\")[\"Core Competency\"].nunique().sort_values(ascending=False)\n",
        "\n",
        "\n",
        "if (cc_counts == 10).all():\n",
        "    print(\"✅ All ANZSCO Codes have exactly 10 core competencies.\")\n",
        "else:\n",
        "    print(\"❌ Some ANZSCO Codes have more or less than 10 core competencies.\")\n"
      ]
    },
    {
      "cell_type": "markdown",
      "metadata": {
        "id": "DbZSSJxCTkoZ"
      },
      "source": [
        "## NLP Pipeline"
      ]
    },
    {
      "cell_type": "markdown",
      "metadata": {
        "id": "LlbWG6zBTkoZ"
      },
      "source": [
        "### Tech Tools"
      ]
    },
    {
      "cell_type": "markdown",
      "metadata": {
        "id": "qOUN8lVITkoa"
      },
      "source": [
        "\"\"\"Technology Tool Category → Category of technology tools\n",
        "Technology Tool Category Description → Describes tool category\n",
        "Technology Tool → Actual tool name\n",
        "Technology Tool Description → Short description\n",
        "Technology Tool Extended Description → More details on tool\n",
        "ANZSCO Title_x → Occupation title\n",
        "ANZSCO Description → Description of the occupation\"\"\""
      ]
    },
    {
      "cell_type": "code",
      "execution_count": 459,
      "metadata": {
        "id": "aejJcbEPTkoa",
        "outputId": "7a693aec-9c1c-42a8-b11c-3039ec7ce87c",
        "colab": {
          "base_uri": "https://localhost:8080/"
        }
      },
      "outputs": [
        {
          "output_type": "stream",
          "name": "stdout",
          "text": [
            "<class 'pandas.core.frame.DataFrame'>\n",
            "Index: 12910 entries, 10475 to 8650\n",
            "Data columns (total 11 columns):\n",
            " #   Column                                Non-Null Count  Dtype \n",
            "---  ------                                --------------  ----- \n",
            " 0   Technology Tool Category              12910 non-null  object\n",
            " 1   Technology Tool Category Description  12910 non-null  object\n",
            " 2   Technology Tool                       12910 non-null  object\n",
            " 3   Technology Tool Description           12910 non-null  object\n",
            " 4   Technology Tool Extended Description  12910 non-null  object\n",
            " 5   Occupation Type_x                     12910 non-null  object\n",
            " 6   ANZSCO Code                           12910 non-null  int64 \n",
            " 7   Sub-Profile Code_x                    7543 non-null   object\n",
            " 8   ANZSCO Title_x                        12910 non-null  object\n",
            " 9   Emerging/Trending Flag                556 non-null    object\n",
            " 10  ANZSCO Description                    12905 non-null  object\n",
            "dtypes: int64(1), object(10)\n",
            "memory usage: 1.2+ MB\n"
          ]
        }
      ],
      "source": [
        "tt_merged_df.info()"
      ]
    },
    {
      "cell_type": "markdown",
      "source": [
        "#### TT Desc"
      ],
      "metadata": {
        "id": "H-8QR7IvZPyv"
      }
    },
    {
      "cell_type": "code",
      "source": [
        "!python3 -m spacy download en_core_web_sm\n",
        "!pip install pyldavis"
      ],
      "metadata": {
        "collapsed": true,
        "id": "Z6F4ZUA2h6qk",
        "outputId": "daf70e11-f199-4a6b-edf2-cf0416933c1b",
        "colab": {
          "base_uri": "https://localhost:8080/"
        }
      },
      "execution_count": 460,
      "outputs": [
        {
          "output_type": "stream",
          "name": "stdout",
          "text": [
            "Collecting en-core-web-sm==3.7.1\n",
            "  Downloading https://github.com/explosion/spacy-models/releases/download/en_core_web_sm-3.7.1/en_core_web_sm-3.7.1-py3-none-any.whl (12.8 MB)\n",
            "\u001b[2K     \u001b[90m━━━━━━━━━━━━━━━━━━━━━━━━━━━━━━━━━━━━━━━━\u001b[0m \u001b[32m12.8/12.8 MB\u001b[0m \u001b[31m82.3 MB/s\u001b[0m eta \u001b[36m0:00:00\u001b[0m\n",
            "\u001b[?25hRequirement already satisfied: spacy<3.8.0,>=3.7.2 in /usr/local/lib/python3.11/dist-packages (from en-core-web-sm==3.7.1) (3.7.5)\n",
            "Requirement already satisfied: spacy-legacy<3.1.0,>=3.0.11 in /usr/local/lib/python3.11/dist-packages (from spacy<3.8.0,>=3.7.2->en-core-web-sm==3.7.1) (3.0.12)\n",
            "Requirement already satisfied: spacy-loggers<2.0.0,>=1.0.0 in /usr/local/lib/python3.11/dist-packages (from spacy<3.8.0,>=3.7.2->en-core-web-sm==3.7.1) (1.0.5)\n",
            "Requirement already satisfied: murmurhash<1.1.0,>=0.28.0 in /usr/local/lib/python3.11/dist-packages (from spacy<3.8.0,>=3.7.2->en-core-web-sm==3.7.1) (1.0.12)\n",
            "Requirement already satisfied: cymem<2.1.0,>=2.0.2 in /usr/local/lib/python3.11/dist-packages (from spacy<3.8.0,>=3.7.2->en-core-web-sm==3.7.1) (2.0.11)\n",
            "Requirement already satisfied: preshed<3.1.0,>=3.0.2 in /usr/local/lib/python3.11/dist-packages (from spacy<3.8.0,>=3.7.2->en-core-web-sm==3.7.1) (3.0.9)\n",
            "Requirement already satisfied: thinc<8.3.0,>=8.2.2 in /usr/local/lib/python3.11/dist-packages (from spacy<3.8.0,>=3.7.2->en-core-web-sm==3.7.1) (8.2.5)\n",
            "Requirement already satisfied: wasabi<1.2.0,>=0.9.1 in /usr/local/lib/python3.11/dist-packages (from spacy<3.8.0,>=3.7.2->en-core-web-sm==3.7.1) (1.1.3)\n",
            "Requirement already satisfied: srsly<3.0.0,>=2.4.3 in /usr/local/lib/python3.11/dist-packages (from spacy<3.8.0,>=3.7.2->en-core-web-sm==3.7.1) (2.5.1)\n",
            "Requirement already satisfied: catalogue<2.1.0,>=2.0.6 in /usr/local/lib/python3.11/dist-packages (from spacy<3.8.0,>=3.7.2->en-core-web-sm==3.7.1) (2.0.10)\n",
            "Requirement already satisfied: weasel<0.5.0,>=0.1.0 in /usr/local/lib/python3.11/dist-packages (from spacy<3.8.0,>=3.7.2->en-core-web-sm==3.7.1) (0.4.1)\n",
            "Requirement already satisfied: typer<1.0.0,>=0.3.0 in /usr/local/lib/python3.11/dist-packages (from spacy<3.8.0,>=3.7.2->en-core-web-sm==3.7.1) (0.15.2)\n",
            "Requirement already satisfied: tqdm<5.0.0,>=4.38.0 in /usr/local/lib/python3.11/dist-packages (from spacy<3.8.0,>=3.7.2->en-core-web-sm==3.7.1) (4.67.1)\n",
            "Requirement already satisfied: requests<3.0.0,>=2.13.0 in /usr/local/lib/python3.11/dist-packages (from spacy<3.8.0,>=3.7.2->en-core-web-sm==3.7.1) (2.32.3)\n",
            "Requirement already satisfied: pydantic!=1.8,!=1.8.1,<3.0.0,>=1.7.4 in /usr/local/lib/python3.11/dist-packages (from spacy<3.8.0,>=3.7.2->en-core-web-sm==3.7.1) (2.10.6)\n",
            "Requirement already satisfied: jinja2 in /usr/local/lib/python3.11/dist-packages (from spacy<3.8.0,>=3.7.2->en-core-web-sm==3.7.1) (3.1.5)\n",
            "Requirement already satisfied: setuptools in /usr/local/lib/python3.11/dist-packages (from spacy<3.8.0,>=3.7.2->en-core-web-sm==3.7.1) (75.1.0)\n",
            "Requirement already satisfied: packaging>=20.0 in /usr/local/lib/python3.11/dist-packages (from spacy<3.8.0,>=3.7.2->en-core-web-sm==3.7.1) (24.2)\n",
            "Requirement already satisfied: langcodes<4.0.0,>=3.2.0 in /usr/local/lib/python3.11/dist-packages (from spacy<3.8.0,>=3.7.2->en-core-web-sm==3.7.1) (3.5.0)\n",
            "Requirement already satisfied: numpy>=1.19.0 in /usr/local/lib/python3.11/dist-packages (from spacy<3.8.0,>=3.7.2->en-core-web-sm==3.7.1) (1.26.4)\n",
            "Requirement already satisfied: language-data>=1.2 in /usr/local/lib/python3.11/dist-packages (from langcodes<4.0.0,>=3.2.0->spacy<3.8.0,>=3.7.2->en-core-web-sm==3.7.1) (1.3.0)\n",
            "Requirement already satisfied: annotated-types>=0.6.0 in /usr/local/lib/python3.11/dist-packages (from pydantic!=1.8,!=1.8.1,<3.0.0,>=1.7.4->spacy<3.8.0,>=3.7.2->en-core-web-sm==3.7.1) (0.7.0)\n",
            "Requirement already satisfied: pydantic-core==2.27.2 in /usr/local/lib/python3.11/dist-packages (from pydantic!=1.8,!=1.8.1,<3.0.0,>=1.7.4->spacy<3.8.0,>=3.7.2->en-core-web-sm==3.7.1) (2.27.2)\n",
            "Requirement already satisfied: typing-extensions>=4.12.2 in /usr/local/lib/python3.11/dist-packages (from pydantic!=1.8,!=1.8.1,<3.0.0,>=1.7.4->spacy<3.8.0,>=3.7.2->en-core-web-sm==3.7.1) (4.12.2)\n",
            "Requirement already satisfied: charset-normalizer<4,>=2 in /usr/local/lib/python3.11/dist-packages (from requests<3.0.0,>=2.13.0->spacy<3.8.0,>=3.7.2->en-core-web-sm==3.7.1) (3.4.1)\n",
            "Requirement already satisfied: idna<4,>=2.5 in /usr/local/lib/python3.11/dist-packages (from requests<3.0.0,>=2.13.0->spacy<3.8.0,>=3.7.2->en-core-web-sm==3.7.1) (3.10)\n",
            "Requirement already satisfied: urllib3<3,>=1.21.1 in /usr/local/lib/python3.11/dist-packages (from requests<3.0.0,>=2.13.0->spacy<3.8.0,>=3.7.2->en-core-web-sm==3.7.1) (2.3.0)\n",
            "Requirement already satisfied: certifi>=2017.4.17 in /usr/local/lib/python3.11/dist-packages (from requests<3.0.0,>=2.13.0->spacy<3.8.0,>=3.7.2->en-core-web-sm==3.7.1) (2025.1.31)\n",
            "Requirement already satisfied: blis<0.8.0,>=0.7.8 in /usr/local/lib/python3.11/dist-packages (from thinc<8.3.0,>=8.2.2->spacy<3.8.0,>=3.7.2->en-core-web-sm==3.7.1) (0.7.11)\n",
            "Requirement already satisfied: confection<1.0.0,>=0.0.1 in /usr/local/lib/python3.11/dist-packages (from thinc<8.3.0,>=8.2.2->spacy<3.8.0,>=3.7.2->en-core-web-sm==3.7.1) (0.1.5)\n",
            "Requirement already satisfied: click>=8.0.0 in /usr/local/lib/python3.11/dist-packages (from typer<1.0.0,>=0.3.0->spacy<3.8.0,>=3.7.2->en-core-web-sm==3.7.1) (8.1.8)\n",
            "Requirement already satisfied: shellingham>=1.3.0 in /usr/local/lib/python3.11/dist-packages (from typer<1.0.0,>=0.3.0->spacy<3.8.0,>=3.7.2->en-core-web-sm==3.7.1) (1.5.4)\n",
            "Requirement already satisfied: rich>=10.11.0 in /usr/local/lib/python3.11/dist-packages (from typer<1.0.0,>=0.3.0->spacy<3.8.0,>=3.7.2->en-core-web-sm==3.7.1) (13.9.4)\n",
            "Requirement already satisfied: cloudpathlib<1.0.0,>=0.7.0 in /usr/local/lib/python3.11/dist-packages (from weasel<0.5.0,>=0.1.0->spacy<3.8.0,>=3.7.2->en-core-web-sm==3.7.1) (0.20.0)\n",
            "Requirement already satisfied: smart-open<8.0.0,>=5.2.1 in /usr/local/lib/python3.11/dist-packages (from weasel<0.5.0,>=0.1.0->spacy<3.8.0,>=3.7.2->en-core-web-sm==3.7.1) (7.1.0)\n",
            "Requirement already satisfied: MarkupSafe>=2.0 in /usr/local/lib/python3.11/dist-packages (from jinja2->spacy<3.8.0,>=3.7.2->en-core-web-sm==3.7.1) (3.0.2)\n",
            "Requirement already satisfied: marisa-trie>=1.1.0 in /usr/local/lib/python3.11/dist-packages (from language-data>=1.2->langcodes<4.0.0,>=3.2.0->spacy<3.8.0,>=3.7.2->en-core-web-sm==3.7.1) (1.2.1)\n",
            "Requirement already satisfied: markdown-it-py>=2.2.0 in /usr/local/lib/python3.11/dist-packages (from rich>=10.11.0->typer<1.0.0,>=0.3.0->spacy<3.8.0,>=3.7.2->en-core-web-sm==3.7.1) (3.0.0)\n",
            "Requirement already satisfied: pygments<3.0.0,>=2.13.0 in /usr/local/lib/python3.11/dist-packages (from rich>=10.11.0->typer<1.0.0,>=0.3.0->spacy<3.8.0,>=3.7.2->en-core-web-sm==3.7.1) (2.18.0)\n",
            "Requirement already satisfied: wrapt in /usr/local/lib/python3.11/dist-packages (from smart-open<8.0.0,>=5.2.1->weasel<0.5.0,>=0.1.0->spacy<3.8.0,>=3.7.2->en-core-web-sm==3.7.1) (1.17.2)\n",
            "Requirement already satisfied: mdurl~=0.1 in /usr/local/lib/python3.11/dist-packages (from markdown-it-py>=2.2.0->rich>=10.11.0->typer<1.0.0,>=0.3.0->spacy<3.8.0,>=3.7.2->en-core-web-sm==3.7.1) (0.1.2)\n",
            "\u001b[38;5;2m✔ Download and installation successful\u001b[0m\n",
            "You can now load the package via spacy.load('en_core_web_sm')\n",
            "\u001b[38;5;3m⚠ Restart to reload dependencies\u001b[0m\n",
            "If you are in a Jupyter or Colab notebook, you may need to restart Python in\n",
            "order to load all the package's dependencies. You can do this by selecting the\n",
            "'Restart kernel' or 'Restart runtime' option.\n",
            "Requirement already satisfied: pyldavis in /usr/local/lib/python3.11/dist-packages (3.4.1)\n",
            "Requirement already satisfied: numpy>=1.24.2 in /usr/local/lib/python3.11/dist-packages (from pyldavis) (1.26.4)\n",
            "Requirement already satisfied: scipy in /usr/local/lib/python3.11/dist-packages (from pyldavis) (1.13.1)\n",
            "Requirement already satisfied: pandas>=2.0.0 in /usr/local/lib/python3.11/dist-packages (from pyldavis) (2.2.2)\n",
            "Requirement already satisfied: joblib>=1.2.0 in /usr/local/lib/python3.11/dist-packages (from pyldavis) (1.4.2)\n",
            "Requirement already satisfied: jinja2 in /usr/local/lib/python3.11/dist-packages (from pyldavis) (3.1.5)\n",
            "Requirement already satisfied: numexpr in /usr/local/lib/python3.11/dist-packages (from pyldavis) (2.10.2)\n",
            "Requirement already satisfied: funcy in /usr/local/lib/python3.11/dist-packages (from pyldavis) (2.0)\n",
            "Requirement already satisfied: scikit-learn>=1.0.0 in /usr/local/lib/python3.11/dist-packages (from pyldavis) (1.6.1)\n",
            "Requirement already satisfied: gensim in /usr/local/lib/python3.11/dist-packages (from pyldavis) (4.3.3)\n",
            "Requirement already satisfied: setuptools in /usr/local/lib/python3.11/dist-packages (from pyldavis) (75.1.0)\n",
            "Requirement already satisfied: python-dateutil>=2.8.2 in /usr/local/lib/python3.11/dist-packages (from pandas>=2.0.0->pyldavis) (2.8.2)\n",
            "Requirement already satisfied: pytz>=2020.1 in /usr/local/lib/python3.11/dist-packages (from pandas>=2.0.0->pyldavis) (2025.1)\n",
            "Requirement already satisfied: tzdata>=2022.7 in /usr/local/lib/python3.11/dist-packages (from pandas>=2.0.0->pyldavis) (2025.1)\n",
            "Requirement already satisfied: threadpoolctl>=3.1.0 in /usr/local/lib/python3.11/dist-packages (from scikit-learn>=1.0.0->pyldavis) (3.5.0)\n",
            "Requirement already satisfied: smart-open>=1.8.1 in /usr/local/lib/python3.11/dist-packages (from gensim->pyldavis) (7.1.0)\n",
            "Requirement already satisfied: MarkupSafe>=2.0 in /usr/local/lib/python3.11/dist-packages (from jinja2->pyldavis) (3.0.2)\n",
            "Requirement already satisfied: six>=1.5 in /usr/local/lib/python3.11/dist-packages (from python-dateutil>=2.8.2->pandas>=2.0.0->pyldavis) (1.17.0)\n",
            "Requirement already satisfied: wrapt in /usr/local/lib/python3.11/dist-packages (from smart-open>=1.8.1->gensim->pyldavis) (1.17.2)\n"
          ]
        }
      ]
    },
    {
      "cell_type": "code",
      "source": [
        "\"\"\"\n",
        "cc_merged_df.to_excel(\"cc_merged_df.xlsx\", index=False, header=False)\n",
        "\"\"\""
      ],
      "metadata": {
        "id": "eoFVJfX4cgx-",
        "outputId": "effdef8d-a9b5-485a-bd28-31e58054c449",
        "colab": {
          "base_uri": "https://localhost:8080/",
          "height": 35
        }
      },
      "execution_count": 461,
      "outputs": [
        {
          "output_type": "execute_result",
          "data": {
            "text/plain": [
              "'\\ncc_merged_df.to_excel(\"cc_merged_df.xlsx\", index=False, header=False)\\n'"
            ],
            "application/vnd.google.colaboratory.intrinsic+json": {
              "type": "string"
            }
          },
          "metadata": {},
          "execution_count": 461
        }
      ]
    },
    {
      "cell_type": "code",
      "source": [
        "tt_data = tt_merged_df.copy()"
      ],
      "metadata": {
        "id": "K5nLE8nriCoS"
      },
      "execution_count": 462,
      "outputs": []
    },
    {
      "cell_type": "code",
      "source": [
        "tt_data['Technology Tool Extended Description'][0]"
      ],
      "metadata": {
        "id": "zNZNT7RziSD1",
        "outputId": "d6a845e2-9d61-4491-ea54-6fcd0fcd2c12",
        "colab": {
          "base_uri": "https://localhost:8080/",
          "height": 70
        }
      },
      "execution_count": 463,
      "outputs": [
        {
          "output_type": "execute_result",
          "data": {
            "text/plain": [
              "'Collaborative news production platforms encompasses software and systems used by journalists and newsrooms to track the creation of new stories and produce news bulletins. This technology tool is used by newspapers, radio stations, and TV stations, and online news platforms.'"
            ],
            "application/vnd.google.colaboratory.intrinsic+json": {
              "type": "string"
            }
          },
          "metadata": {},
          "execution_count": 463
        }
      ]
    },
    {
      "cell_type": "code",
      "source": [
        "ext_desc_text = tt_data['Technology Tool Extended Description'].to_string()\n",
        "\n",
        "#create word tokens\n",
        "tokenized_words=word_tokenize(ext_desc_text)\n",
        "\n",
        "from wordcloud import WordCloud\n",
        "wordcloud = WordCloud(max_words=100).generate(ext_desc_text)\n",
        "\n",
        "import matplotlib.pyplot as plt\n",
        "plt.imshow(wordcloud)\n",
        "plt.axis(\"off\")\n",
        "plt.show()"
      ],
      "metadata": {
        "id": "gmAdrvtasNsE",
        "outputId": "22355123-8194-4053-ebd2-0d24d5878d71",
        "colab": {
          "base_uri": "https://localhost:8080/",
          "height": 285
        }
      },
      "execution_count": 464,
      "outputs": [
        {
          "output_type": "display_data",
          "data": {
            "text/plain": [
              "<Figure size 640x480 with 1 Axes>"
            ],
            "image/png": "[encoded data removed]"
          },
          "metadata": {}
        }
      ]
    },
    {
      "cell_type": "code",
      "source": [
        "\n",
        "\n",
        "# Example text from 'Technology Tool Extended Description'\n",
        "ext_desc_text = tt_data['Technology Tool Extended Description'].to_string()\n",
        "\n",
        "# Tokenize the text\n",
        "tokens = word_tokenize(ext_desc_text)  # Convert to lowercase\n",
        "\n",
        "\n",
        "# Count word frequencies\n",
        "word_counts = Counter(tokens)\n",
        "\n",
        "# Get the most common words (top 20)\n",
        "top_words = word_counts.most_common(20)\n",
        "words, counts = zip(*top_words)\n",
        "\n",
        "# Create a bar plot\n",
        "plt.figure(figsize=(10, 6))\n",
        "plt.bar(words, counts, color='skyblue')\n",
        "plt.xticks(rotation=45, ha=\"right\")\n",
        "plt.xlabel('Words')\n",
        "plt.ylabel('Frequency')\n",
        "plt.title('Top 20 Words Frequency')\n",
        "plt.tight_layout()\n",
        "plt.show()\n"
      ],
      "metadata": {
        "id": "8f2attn_svGu",
        "outputId": "74c06c57-74d9-4a86-db05-24e5c679e9a7",
        "colab": {
          "base_uri": "https://localhost:8080/",
          "height": 515
        }
      },
      "execution_count": 465,
      "outputs": [
        {
          "output_type": "display_data",
          "data": {
            "text/plain": [
              "<Figure size 1000x600 with 1 Axes>"
            ],
            "image/png": "[encoded data removed]"
          },
          "metadata": {}
        }
      ]
    },
    {
      "cell_type": "code",
      "source": [
        "import matplotlib.pyplot as plt\n",
        "from nltk.tokenize import word_tokenize\n",
        "from collections import Counter\n",
        "from nltk.corpus import stopwords\n",
        "import nltk\n",
        "\n",
        "# Download NLTK stopwords\n",
        "nltk.download('stopwords')\n",
        "nltk.download('punkt')\n",
        "\n",
        "# Example text from 'Technology Tool Extended Description'\n",
        "ext_desc_text = tt_data['Technology Tool Extended Description'].to_string()\n",
        "\n",
        "# Tokenize the text\n",
        "tokens = word_tokenize(ext_desc_text.lower())  # Convert to lowercase\n",
        "\n",
        "# Remove stopwords\n",
        "stop_words = set(stopwords.words(\"english\"))\n",
        "filtered_tokens = [word for word in tokens if word.isalpha() and word not in stop_words]\n",
        "\n",
        "# Count word frequencies\n",
        "word_counts = Counter(filtered_tokens)\n",
        "\n",
        "# Get the most common words (top 20)\n",
        "top_words = word_counts.most_common(20)\n",
        "words, counts = zip(*top_words)\n",
        "\n",
        "# Create a bar plot\n",
        "plt.figure(figsize=(10, 6))\n",
        "plt.bar(words, counts, color='skyblue')\n",
        "plt.xticks(rotation=45, ha=\"right\")\n",
        "plt.xlabel('Words')\n",
        "plt.ylabel('Frequency')\n",
        "plt.title('Top 20 Words Frequency')\n",
        "plt.tight_layout()\n",
        "plt.show()\n"
      ],
      "metadata": {
        "id": "ERd5x-j9vAgi",
        "outputId": "ee36ffc2-d7c6-4f0e-a2b8-515ae75bc4ae",
        "colab": {
          "base_uri": "https://localhost:8080/",
          "height": 584
        }
      },
      "execution_count": 466,
      "outputs": [
        {
          "output_type": "stream",
          "name": "stderr",
          "text": [
            "[nltk_data] Downloading package stopwords to /root/nltk_data...\n",
            "[nltk_data]   Package stopwords is already up-to-date!\n",
            "[nltk_data] Downloading package punkt to /root/nltk_data...\n",
            "[nltk_data]   Package punkt is already up-to-date!\n"
          ]
        },
        {
          "output_type": "display_data",
          "data": {
            "text/plain": [
              "<Figure size 1000x600 with 1 Axes>"
            ],
            "image/png": "[encoded data removed]"
          },
          "metadata": {}
        }
      ]
    },
    {
      "cell_type": "code",
      "source": [
        "filtered_tokens_length = len(filtered_tokens)\n",
        "print(f\"Number of filtered tokens: {filtered_tokens_length}\")\n"
      ],
      "metadata": {
        "id": "5JsoK_Cq0cTM",
        "outputId": "90e81be8-fd8d-4e75-8e75-12014f924918",
        "colab": {
          "base_uri": "https://localhost:8080/"
        }
      },
      "execution_count": 467,
      "outputs": [
        {
          "output_type": "stream",
          "name": "stdout",
          "text": [
            "Number of filtered tokens: 63395\n"
          ]
        }
      ]
    },
    {
      "cell_type": "code",
      "source": [
        "ccc"
      ],
      "metadata": {
        "id": "2tL3w8KB1j84",
        "outputId": "5bbae2f1-2dd5-45d9-be72-c27090218fcb",
        "colab": {
          "base_uri": "https://localhost:8080/",
          "height": 141
        }
      },
      "execution_count": 468,
      "outputs": [
        {
          "output_type": "error",
          "ename": "NameError",
          "evalue": "name 'ccc' is not defined",
          "traceback": [
            "\u001b[0;31m---------------------------------------------------------------------------\u001b[0m",
            "\u001b[0;31mNameError\u001b[0m                                 Traceback (most recent call last)",
            "\u001b[0;32m<ipython-input-468-c8559c3c9cfb>\u001b[0m in \u001b[0;36m<cell line: 0>\u001b[0;34m()\u001b[0m\n\u001b[0;32m----> 1\u001b[0;31m \u001b[0mccc\u001b[0m\u001b[0;34m\u001b[0m\u001b[0;34m\u001b[0m\u001b[0m\n\u001b[0m",
            "\u001b[0;31mNameError\u001b[0m: name 'ccc' is not defined"
          ]
        }
      ]
    },
    {
      "cell_type": "code",
      "source": [
        "from nltk import ngrams\n",
        "from collections import Counter\n",
        "import re\n",
        "\n",
        "def get_top_ngrams(text, n, top_k):\n",
        "\n",
        "    # Generate n-grams\n",
        "    n_grams = list(ngrams(text, n))\n",
        "\n",
        "    # Count the frequency of each n-gram\n",
        "    n_gram_freq = Counter(n_grams)\n",
        "\n",
        "    # Get the top k most frequent n-grams\n",
        "    top_n_grams = n_gram_freq.most_common(top_k)\n",
        "\n",
        "    return top_n_grams\n",
        "\n",
        "\n",
        "# Get top 10 bigrams\n",
        "top_bigrams = get_top_ngrams(tokenized_words, 2, 10)\n",
        "\n",
        "# Get top 10 trigrams\n",
        "top_trigrams = get_top_ngrams(tokenized_words, 3, 10)\n",
        "\n",
        "# Print results\n",
        "print(\"Top 10 Bigrams:\")\n",
        "for bigram, count in top_bigrams:\n",
        "    print(f\"{bigram}: {count}\")\n",
        "\n",
        "print(\"\\nTop 10 Trigrams:\")\n",
        "for trigram, count in top_trigrams:\n",
        "    print(f\"{trigram}: {count}\")"
      ],
      "metadata": {
        "id": "Ub7HzcianbYm"
      },
      "execution_count": null,
      "outputs": []
    },
    {
      "cell_type": "code",
      "source": [
        "import nltk\n",
        "from nltk.corpus import stopwords\n",
        "\n",
        "# Download NLTK stopwords\n",
        "nltk.download('stopwords')\n",
        "\n",
        "def preprocess_text_column(column):\n",
        "    stop_words = set(stopwords.words(\"english\"))\n",
        "    return column.dropna().str.strip().str.lower().apply(\n",
        "        lambda text: \" \".join([word for word in text.split() if word not in stop_words])\n",
        "    )\n"
      ],
      "metadata": {
        "id": "SR3ZNXOmjQEO"
      },
      "execution_count": null,
      "outputs": []
    },
    {
      "cell_type": "code",
      "source": [
        "tt_data['Technology Tool Extended Description'] = preprocess_text_column(tt_data['Technology Tool Extended Description'])\n"
      ],
      "metadata": {
        "id": "1Za61UNzqLWs"
      },
      "execution_count": null,
      "outputs": []
    },
    {
      "cell_type": "code",
      "source": [
        "# converting series to string\n",
        "ext_desc = tt_data['Technology Tool Extended Description'].to_string()\n",
        "\n",
        "#create word tokens\n",
        "tokenized_words=word_tokenize(ext_desc)\n",
        "\n",
        "from wordcloud import WordCloud\n",
        "wordcloud = WordCloud(max_words=100).generate(ext_desc)\n",
        "\n",
        "import matplotlib.pyplot as plt\n",
        "plt.imshow(wordcloud)\n",
        "plt.axis(\"off\")\n",
        "plt.show()"
      ],
      "metadata": {
        "id": "YDDJPMTDlAAE"
      },
      "execution_count": null,
      "outputs": []
    }
  ],
  "metadata": {
    "kernelspec": {
      "display_name": ".venv",
      "language": "python",
      "name": "python3"
    },
    "language_info": {
      "codemirror_mode": {
        "name": "ipython",
        "version": 3
      },
      "file_extension": ".py",
      "mimetype": "text/x-python",
      "name": "python",
      "nbconvert_exporter": "python",
      "pygments_lexer": "ipython3",
      "version": "3.12.9"
    },
    "colab": {
      "provenance": []
    }
  },
  "nbformat": 4,
  "nbformat_minor": 0
}